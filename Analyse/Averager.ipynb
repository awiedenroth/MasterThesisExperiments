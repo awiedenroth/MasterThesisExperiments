{
 "cells": [
  {
   "cell_type": "code",
   "execution_count": 2,
   "metadata": {},
   "outputs": [
    {
     "name": "stderr",
     "output_type": "stream",
     "text": [
      "wandb: Currently logged in as: awiedenroth (use `wandb login --relogin` to force relogin)\n"
     ]
    },
    {
     "data": {
      "text/plain": [
       "True"
      ]
     },
     "execution_count": 2,
     "metadata": {},
     "output_type": "execute_result"
    }
   ],
   "source": [
    "!pip install wandb -qqq\n",
    "import wandb\n",
    "wandb.login()"
   ]
  },
  {
   "cell_type": "code",
   "execution_count": 3,
   "metadata": {},
   "outputs": [],
   "source": [
    "import pandas as pd\n",
    "import numpy as np\n",
    "import nltk\n",
    "from pathlib import Path\n",
    "import dtale"
   ]
  },
  {
   "cell_type": "code",
   "execution_count": 24,
   "metadata": {},
   "outputs": [
    {
     "data": {
      "text/html": [
       "<div>\n",
       "<style scoped>\n",
       "    .dataframe tbody tr th:only-of-type {\n",
       "        vertical-align: middle;\n",
       "    }\n",
       "\n",
       "    .dataframe tbody tr th {\n",
       "        vertical-align: top;\n",
       "    }\n",
       "\n",
       "    .dataframe thead th {\n",
       "        text-align: right;\n",
       "    }\n",
       "</style>\n",
       "<table border=\"1\" class=\"dataframe\">\n",
       "  <thead>\n",
       "    <tr style=\"text-align: right;\">\n",
       "      <th></th>\n",
       "      <th>Name</th>\n",
       "      <th>ft_model</th>\n",
       "      <th>keyboard_aug</th>\n",
       "      <th>lowercase</th>\n",
       "      <th>random_seed</th>\n",
       "      <th>remove_num_punc</th>\n",
       "      <th>remove_stopwords</th>\n",
       "      <th>average.fasttext validation accuracy</th>\n",
       "      <th>average.fasttext validation balanced acc</th>\n",
       "      <th>average.fasttext validation balanced adjusted accuracy</th>\n",
       "    </tr>\n",
       "  </thead>\n",
       "  <tbody>\n",
       "    <tr>\n",
       "      <th>0</th>\n",
       "      <td>smart-sweep-48</td>\n",
       "      <td>xgboost</td>\n",
       "      <td>False</td>\n",
       "      <td>False</td>\n",
       "      <td>30</td>\n",
       "      <td>False</td>\n",
       "      <td>False</td>\n",
       "      <td>0.749</td>\n",
       "      <td>0.689</td>\n",
       "      <td>0.661</td>\n",
       "    </tr>\n",
       "    <tr>\n",
       "      <th>1</th>\n",
       "      <td>sweet-sweep-47</td>\n",
       "      <td>xgboost</td>\n",
       "      <td>False</td>\n",
       "      <td>False</td>\n",
       "      <td>30</td>\n",
       "      <td>False</td>\n",
       "      <td>True</td>\n",
       "      <td>0.752</td>\n",
       "      <td>0.690</td>\n",
       "      <td>0.662</td>\n",
       "    </tr>\n",
       "    <tr>\n",
       "      <th>2</th>\n",
       "      <td>soft-sweep-46</td>\n",
       "      <td>xgboost</td>\n",
       "      <td>False</td>\n",
       "      <td>False</td>\n",
       "      <td>30</td>\n",
       "      <td>True</td>\n",
       "      <td>False</td>\n",
       "      <td>0.749</td>\n",
       "      <td>0.689</td>\n",
       "      <td>0.660</td>\n",
       "    </tr>\n",
       "    <tr>\n",
       "      <th>3</th>\n",
       "      <td>dandy-sweep-45</td>\n",
       "      <td>xgboost</td>\n",
       "      <td>False</td>\n",
       "      <td>False</td>\n",
       "      <td>30</td>\n",
       "      <td>True</td>\n",
       "      <td>True</td>\n",
       "      <td>0.750</td>\n",
       "      <td>0.692</td>\n",
       "      <td>0.664</td>\n",
       "    </tr>\n",
       "    <tr>\n",
       "      <th>4</th>\n",
       "      <td>deep-sweep-44</td>\n",
       "      <td>xgboost</td>\n",
       "      <td>False</td>\n",
       "      <td>False</td>\n",
       "      <td>20</td>\n",
       "      <td>False</td>\n",
       "      <td>False</td>\n",
       "      <td>0.744</td>\n",
       "      <td>0.687</td>\n",
       "      <td>0.659</td>\n",
       "    </tr>\n",
       "  </tbody>\n",
       "</table>\n",
       "</div>"
      ],
      "text/plain": [
       "             Name ft_model  keyboard_aug  lowercase  random_seed  \\\n",
       "0  smart-sweep-48  xgboost         False      False           30   \n",
       "1  sweet-sweep-47  xgboost         False      False           30   \n",
       "2   soft-sweep-46  xgboost         False      False           30   \n",
       "3  dandy-sweep-45  xgboost         False      False           30   \n",
       "4   deep-sweep-44  xgboost         False      False           20   \n",
       "\n",
       "   remove_num_punc  remove_stopwords  average.fasttext validation accuracy  \\\n",
       "0            False             False                                 0.749   \n",
       "1            False              True                                 0.752   \n",
       "2             True             False                                 0.749   \n",
       "3             True              True                                 0.750   \n",
       "4            False             False                                 0.744   \n",
       "\n",
       "   average.fasttext validation balanced acc  \\\n",
       "0                                     0.689   \n",
       "1                                     0.690   \n",
       "2                                     0.689   \n",
       "3                                     0.692   \n",
       "4                                     0.687   \n",
       "\n",
       "   average.fasttext validation balanced adjusted accuracy  \n",
       "0                                              0.661       \n",
       "1                                              0.662       \n",
       "2                                              0.660       \n",
       "3                                              0.664       \n",
       "4                                              0.659       "
      ]
     },
     "execution_count": 24,
     "metadata": {},
     "output_type": "execute_result"
    }
   ],
   "source": [
    "df = pd.read_csv(\"./oesch_16_ohne.csv\",  sep = \",\")\n",
    "df.head()"
   ]
  },
  {
   "cell_type": "code",
   "execution_count": 25,
   "metadata": {},
   "outputs": [],
   "source": [
    "a = df.groupby([\"ft_model\",\"keyboard_aug\", \"remove_num_punc\", \"remove_stopwords\", \"lowercase\"], \n",
    "              as_index= False)[[\"average.fasttext validation accuracy\", \"average.fasttext validation balanced acc\", \"average.fasttext validation balanced adjusted accuracy\"\n",
    "                               ]].mean().to_dict(orient= \"index\")"
   ]
  },
  {
   "cell_type": "code",
   "execution_count": 26,
   "metadata": {},
   "outputs": [
    {
     "name": "stdout",
     "output_type": "stream",
     "text": [
      "{0: {'average.fasttext validation accuracy': 0.747629991395689,\n",
      "     'average.fasttext validation balanced acc': 0.7144539842711469,\n",
      "     'average.fasttext validation balanced adjusted accuracy': 0.6884952555685239,\n",
      "     'ft_model': 'nn',\n",
      "     'keyboard_aug': False,\n",
      "     'lowercase': False,\n",
      "     'remove_num_punc': False,\n",
      "     'remove_stopwords': False},\n",
      " 1: {'average.fasttext validation accuracy': 0.7537964304530024,\n",
      "     'average.fasttext validation balanced acc': 0.7187341360706517,\n",
      "     'average.fasttext validation balanced adjusted accuracy': 0.6931645120770745,\n",
      "     'ft_model': 'nn',\n",
      "     'keyboard_aug': False,\n",
      "     'lowercase': True,\n",
      "     'remove_num_punc': False,\n",
      "     'remove_stopwords': False},\n",
      " 2: {'average.fasttext validation accuracy': 0.7538899422475543,\n",
      "     'average.fasttext validation balanced acc': 0.7202101510637103,\n",
      "     'average.fasttext validation balanced adjusted accuracy': 0.6947747102513203,\n",
      "     'ft_model': 'nn',\n",
      "     'keyboard_aug': False,\n",
      "     'lowercase': False,\n",
      "     'remove_num_punc': False,\n",
      "     'remove_stopwords': True},\n",
      " 3: {'average.fasttext validation accuracy': 0.7571817767982992,\n",
      "     'average.fasttext validation balanced acc': 0.7219712315172032,\n",
      "     'average.fasttext validation balanced adjusted accuracy': 0.6966958889278582,\n",
      "     'ft_model': 'nn',\n",
      "     'keyboard_aug': False,\n",
      "     'lowercase': True,\n",
      "     'remove_num_punc': False,\n",
      "     'remove_stopwords': True},\n",
      " 4: {'average.fasttext validation accuracy': 0.7509221001745704,\n",
      "     'average.fasttext validation balanced acc': 0.7178253035062636,\n",
      "     'average.fasttext validation balanced adjusted accuracy': 0.6921730583704694,\n",
      "     'ft_model': 'nn',\n",
      "     'keyboard_aug': False,\n",
      "     'lowercase': False,\n",
      "     'remove_num_punc': True,\n",
      "     'remove_stopwords': False},\n",
      " 5: {'average.fasttext validation accuracy': 0.7547699080755024,\n",
      "     'average.fasttext validation balanced acc': 0.7197473205724568,\n",
      "     'average.fasttext validation balanced adjusted accuracy': 0.694269804260862,\n",
      "     'ft_model': 'nn',\n",
      "     'keyboard_aug': False,\n",
      "     'lowercase': True,\n",
      "     'remove_num_punc': True,\n",
      "     'remove_stopwords': False},\n",
      " 6: {'average.fasttext validation accuracy': 0.7549562380287321,\n",
      "     'average.fasttext validation balanced acc': 0.7227105510306883,\n",
      "     'average.fasttext validation balanced adjusted accuracy': 0.6975024193062054,\n",
      "     'ft_model': 'nn',\n",
      "     'keyboard_aug': False,\n",
      "     'lowercase': False,\n",
      "     'remove_num_punc': True,\n",
      "     'remove_stopwords': True},\n",
      " 7: {'average.fasttext validation accuracy': 0.7585727748241794,\n",
      "     'average.fasttext validation balanced acc': 0.7247754636056024,\n",
      "     'average.fasttext validation balanced adjusted accuracy': 0.6997550512061118,\n",
      "     'ft_model': 'nn',\n",
      "     'keyboard_aug': False,\n",
      "     'lowercase': True,\n",
      "     'remove_num_punc': True,\n",
      "     'remove_stopwords': True},\n",
      " 8: {'average.fasttext validation accuracy': 0.7606366480417369,\n",
      "     'average.fasttext validation balanced acc': 0.7256885754767707,\n",
      "     'average.fasttext validation balanced adjusted accuracy': 0.7007511732473862,\n",
      "     'ft_model': 'nn',\n",
      "     'keyboard_aug': True,\n",
      "     'lowercase': False,\n",
      "     'remove_num_punc': False,\n",
      "     'remove_stopwords': False},\n",
      " 9: {'average.fasttext validation accuracy': 0.761261839799794,\n",
      "     'average.fasttext validation balanced acc': 0.7266254035880535,\n",
      "     'average.fasttext validation balanced adjusted accuracy': 0.7017731675506038,\n",
      "     'ft_model': 'nn',\n",
      "     'keyboard_aug': True,\n",
      "     'lowercase': True,\n",
      "     'remove_num_punc': False,\n",
      "     'remove_stopwords': False},\n",
      " 10: {'average.fasttext validation accuracy': 0.7633725415044285,\n",
      "      'average.fasttext validation balanced acc': 0.728394613339089,\n",
      "      'average.fasttext validation balanced adjusted accuracy': 0.7037032145517333,\n",
      "      'ft_model': 'nn',\n",
      "      'keyboard_aug': True,\n",
      "      'lowercase': False,\n",
      "      'remove_num_punc': False,\n",
      "      'remove_stopwords': True},\n",
      " 11: {'average.fasttext validation accuracy': 0.7661548924396593,\n",
      "      'average.fasttext validation balanced acc': 0.733065525796112,\n",
      "      'average.fasttext validation balanced adjusted accuracy': 0.7087987554139404,\n",
      "      'ft_model': 'nn',\n",
      "      'keyboard_aug': True,\n",
      "      'lowercase': True,\n",
      "      'remove_num_punc': False,\n",
      "      'remove_stopwords': True},\n",
      " 12: {'average.fasttext validation accuracy': 0.759569948983888,\n",
      "      'average.fasttext validation balanced acc': 0.724778114396487,\n",
      "      'average.fasttext validation balanced adjusted accuracy': 0.6997579429779858,\n",
      "      'ft_model': 'nn',\n",
      "      'keyboard_aug': True,\n",
      "      'lowercase': False,\n",
      "      'remove_num_punc': True,\n",
      "      'remove_stopwords': False},\n",
      " 13: {'average.fasttext validation accuracy': 0.7598252553789848,\n",
      "      'average.fasttext validation balanced acc': 0.7265019209521878,\n",
      "      'average.fasttext validation balanced adjusted accuracy': 0.7016384592205687,\n",
      "      'ft_model': 'nn',\n",
      "      'keyboard_aug': True,\n",
      "      'lowercase': True,\n",
      "      'remove_num_punc': True,\n",
      "      'remove_stopwords': False},\n",
      " 14: {'average.fasttext validation accuracy': 0.7620973645385595,\n",
      "      'average.fasttext validation balanced acc': 0.7288914879344274,\n",
      "      'average.fasttext validation balanced adjusted accuracy': 0.7042452595648298,\n",
      "      'ft_model': 'nn',\n",
      "      'keyboard_aug': True,\n",
      "      'lowercase': False,\n",
      "      'remove_num_punc': True,\n",
      "      'remove_stopwords': True},\n",
      " 15: {'average.fasttext validation accuracy': 0.7643927508276044,\n",
      "      'average.fasttext validation balanced acc': 0.730277189873437,\n",
      "      'average.fasttext validation balanced adjusted accuracy': 0.7057569344073858,\n",
      "      'ft_model': 'nn',\n",
      "      'keyboard_aug': True,\n",
      "      'lowercase': True,\n",
      "      'remove_num_punc': True,\n",
      "      'remove_stopwords': True},\n",
      " 16: {'average.fasttext validation accuracy': 0.7469999999999999,\n",
      "      'average.fasttext validation balanced acc': 0.6886666666666666,\n",
      "      'average.fasttext validation balanced adjusted accuracy': 0.6606666666666667,\n",
      "      'ft_model': 'xgboost',\n",
      "      'keyboard_aug': False,\n",
      "      'lowercase': False,\n",
      "      'remove_num_punc': False,\n",
      "      'remove_stopwords': False},\n",
      " 17: {'average.fasttext validation accuracy': 0.7543333333333333,\n",
      "      'average.fasttext validation balanced acc': 0.6943333333333332,\n",
      "      'average.fasttext validation balanced adjusted accuracy': 0.6670000000000001,\n",
      "      'ft_model': 'xgboost',\n",
      "      'keyboard_aug': False,\n",
      "      'lowercase': True,\n",
      "      'remove_num_punc': False,\n",
      "      'remove_stopwords': False},\n",
      " 18: {'average.fasttext validation accuracy': 0.7513333333333333,\n",
      "      'average.fasttext validation balanced acc': 0.6923333333333334,\n",
      "      'average.fasttext validation balanced adjusted accuracy': 0.6643333333333333,\n",
      "      'ft_model': 'xgboost',\n",
      "      'keyboard_aug': False,\n",
      "      'lowercase': False,\n",
      "      'remove_num_punc': False,\n",
      "      'remove_stopwords': True},\n",
      " 19: {'average.fasttext validation accuracy': 0.7573333333333334,\n",
      "      'average.fasttext validation balanced acc': 0.697,\n",
      "      'average.fasttext validation balanced adjusted accuracy': 0.6693333333333333,\n",
      "      'ft_model': 'xgboost',\n",
      "      'keyboard_aug': False,\n",
      "      'lowercase': True,\n",
      "      'remove_num_punc': False,\n",
      "      'remove_stopwords': True},\n",
      " 20: {'average.fasttext validation accuracy': 0.7486666666666667,\n",
      "      'average.fasttext validation balanced acc': 0.6919999999999998,\n",
      "      'average.fasttext validation balanced adjusted accuracy': 0.6636666666666667,\n",
      "      'ft_model': 'xgboost',\n",
      "      'keyboard_aug': False,\n",
      "      'lowercase': False,\n",
      "      'remove_num_punc': True,\n",
      "      'remove_stopwords': False},\n",
      " 21: {'average.fasttext validation accuracy': 0.7546666666666667,\n",
      "      'average.fasttext validation balanced acc': 0.694,\n",
      "      'average.fasttext validation balanced adjusted accuracy': 0.666,\n",
      "      'ft_model': 'xgboost',\n",
      "      'keyboard_aug': False,\n",
      "      'lowercase': True,\n",
      "      'remove_num_punc': True,\n",
      "      'remove_stopwords': False},\n",
      " 22: {'average.fasttext validation accuracy': 0.7513333333333333,\n",
      "      'average.fasttext validation balanced acc': 0.694,\n",
      "      'average.fasttext validation balanced adjusted accuracy': 0.666,\n",
      "      'ft_model': 'xgboost',\n",
      "      'keyboard_aug': False,\n",
      "      'lowercase': False,\n",
      "      'remove_num_punc': True,\n",
      "      'remove_stopwords': True},\n",
      " 23: {'average.fasttext validation accuracy': 0.7573333333333334,\n",
      "      'average.fasttext validation balanced acc': 0.6976666666666667,\n",
      "      'average.fasttext validation balanced adjusted accuracy': 0.6706666666666666,\n",
      "      'ft_model': 'xgboost',\n",
      "      'keyboard_aug': False,\n",
      "      'lowercase': True,\n",
      "      'remove_num_punc': True,\n",
      "      'remove_stopwords': True},\n",
      " 24: {'average.fasttext validation accuracy': 0.7536666666666667,\n",
      "      'average.fasttext validation balanced acc': 0.6933333333333334,\n",
      "      'average.fasttext validation balanced adjusted accuracy': 0.6653333333333333,\n",
      "      'ft_model': 'xgboost',\n",
      "      'keyboard_aug': True,\n",
      "      'lowercase': False,\n",
      "      'remove_num_punc': False,\n",
      "      'remove_stopwords': False},\n",
      " 25: {'average.fasttext validation accuracy': 0.7586666666666666,\n",
      "      'average.fasttext validation balanced acc': 0.6999999999999998,\n",
      "      'average.fasttext validation balanced adjusted accuracy': 0.6726666666666667,\n",
      "      'ft_model': 'xgboost',\n",
      "      'keyboard_aug': True,\n",
      "      'lowercase': True,\n",
      "      'remove_num_punc': False,\n",
      "      'remove_stopwords': False},\n",
      " 26: {'average.fasttext validation accuracy': 0.7553333333333333,\n",
      "      'average.fasttext validation balanced acc': 0.695,\n",
      "      'average.fasttext validation balanced adjusted accuracy': 0.6676666666666667,\n",
      "      'ft_model': 'xgboost',\n",
      "      'keyboard_aug': True,\n",
      "      'lowercase': False,\n",
      "      'remove_num_punc': False,\n",
      "      'remove_stopwords': True},\n",
      " 27: {'average.fasttext validation accuracy': 0.762,\n",
      "      'average.fasttext validation balanced acc': 0.7053333333333333,\n",
      "      'average.fasttext validation balanced adjusted accuracy': 0.6786666666666666,\n",
      "      'ft_model': 'xgboost',\n",
      "      'keyboard_aug': True,\n",
      "      'lowercase': True,\n",
      "      'remove_num_punc': False,\n",
      "      'remove_stopwords': True},\n",
      " 28: {'average.fasttext validation accuracy': 0.7553333333333333,\n",
      "      'average.fasttext validation balanced acc': 0.6943333333333334,\n",
      "      'average.fasttext validation balanced adjusted accuracy': 0.6666666666666666,\n",
      "      'ft_model': 'xgboost',\n",
      "      'keyboard_aug': True,\n",
      "      'lowercase': False,\n",
      "      'remove_num_punc': True,\n",
      "      'remove_stopwords': False},\n",
      " 29: {'average.fasttext validation accuracy': 0.7596666666666666,\n",
      "      'average.fasttext validation balanced acc': 0.701,\n",
      "      'average.fasttext validation balanced adjusted accuracy': 0.6736666666666666,\n",
      "      'ft_model': 'xgboost',\n",
      "      'keyboard_aug': True,\n",
      "      'lowercase': True,\n",
      "      'remove_num_punc': True,\n",
      "      'remove_stopwords': False},\n",
      " 30: {'average.fasttext validation accuracy': 0.7596666666666666,\n",
      "      'average.fasttext validation balanced acc': 0.6993333333333333,\n",
      "      'average.fasttext validation balanced adjusted accuracy': 0.6723333333333334,\n",
      "      'ft_model': 'xgboost',\n",
      "      'keyboard_aug': True,\n",
      "      'lowercase': False,\n",
      "      'remove_num_punc': True,\n",
      "      'remove_stopwords': True},\n",
      " 31: {'average.fasttext validation accuracy': 0.7643333333333334,\n",
      "      'average.fasttext validation balanced acc': 0.7073333333333333,\n",
      "      'average.fasttext validation balanced adjusted accuracy': 0.6806666666666668,\n",
      "      'ft_model': 'xgboost',\n",
      "      'keyboard_aug': True,\n",
      "      'lowercase': True,\n",
      "      'remove_num_punc': True,\n",
      "      'remove_stopwords': True}}\n"
     ]
    }
   ],
   "source": [
    "import pprint\n",
    "pprint.pprint(a)"
   ]
  },
  {
   "cell_type": "code",
   "execution_count": 27,
   "metadata": {},
   "outputs": [
    {
     "name": "stderr",
     "output_type": "stream",
     "text": [
      "wandb: wandb version 0.12.14 is available!  To upgrade, please run:\n",
      "wandb:  $ pip install wandb --upgrade\n"
     ]
    },
    {
     "data": {
      "text/html": [
       "\n",
       "                    Syncing run <strong><a href=\"https://wandb.ai/awiedenroth/Oesch16_ohne_averages/runs/3uaxivx5\" target=\"_blank\">lunar-breeze-1</a></strong> to <a href=\"https://wandb.ai/awiedenroth/Oesch16_ohne_averages\" target=\"_blank\">Weights & Biases</a> (<a href=\"https://docs.wandb.com/integrations/jupyter.html\" target=\"_blank\">docs</a>).<br/>\n",
       "\n",
       "                "
      ],
      "text/plain": [
       "<IPython.core.display.HTML object>"
      ]
     },
     "metadata": {},
     "output_type": "display_data"
    },
    {
     "data": {
      "text/html": [
       "<br/>Waiting for W&B process to finish, PID 23188... <strong style=\"color:green\">(success).</strong>"
      ],
      "text/plain": [
       "<IPython.core.display.HTML object>"
      ]
     },
     "metadata": {},
     "output_type": "display_data"
    },
    {
     "data": {
      "application/vnd.jupyter.widget-view+json": {
       "model_id": "4e2a167fa5d64b859b67445e7e3753e3",
       "version_major": 2,
       "version_minor": 0
      },
      "text/plain": [
       "VBox(children=(Label(value=' 0.00MB of 0.00MB uploaded (0.00MB deduped)\\r'), FloatProgress(value=1.0, max=1.0)…"
      ]
     },
     "metadata": {},
     "output_type": "display_data"
    },
    {
     "data": {
      "text/html": [
       "<style>\n",
       "    table.wandb td:nth-child(1) { padding: 0 10px; text-align: right }\n",
       "    .wandb-row { display: flex; flex-direction: row; flex-wrap: wrap; width: 100% }\n",
       "    .wandb-col { display: flex; flex-direction: column; flex-basis: 100%; flex: 1; padding: 10px; }\n",
       "    </style>\n",
       "<div class=\"wandb-row\"><div class=\"wandb-col\">\n",
       "<h3>Run history:</h3><br/><table class=\"wandb\"><tr><td>average.fasttext validation accuracy</td><td>▁</td></tr><tr><td>average.fasttext validation balanced acc</td><td>▁</td></tr><tr><td>average.fasttext validation balanced adjusted accuracy</td><td>▁</td></tr></table><br/></div><div class=\"wandb-col\">\n",
       "<h3>Run summary:</h3><br/><table class=\"wandb\"><tr><td>average.fasttext validation accuracy</td><td>0.74763</td></tr><tr><td>average.fasttext validation balanced acc</td><td>0.71445</td></tr><tr><td>average.fasttext validation balanced adjusted accuracy</td><td>0.6885</td></tr></table>\n",
       "</div></div>\n",
       "Synced 4 W&B file(s), 0 media file(s), 0 artifact file(s) and 0 other file(s)\n",
       "<br/>Synced <strong style=\"color:#cdcd00\">lunar-breeze-1</strong>: <a href=\"https://wandb.ai/awiedenroth/Oesch16_ohne_averages/runs/3uaxivx5\" target=\"_blank\">https://wandb.ai/awiedenroth/Oesch16_ohne_averages/runs/3uaxivx5</a><br/>\n",
       "Find logs at: <code>.\\wandb\\run-20220416_110107-3uaxivx5\\logs</code><br/>\n"
      ],
      "text/plain": [
       "<IPython.core.display.HTML object>"
      ]
     },
     "metadata": {},
     "output_type": "display_data"
    },
    {
     "name": "stderr",
     "output_type": "stream",
     "text": [
      "wandb: wandb version 0.12.14 is available!  To upgrade, please run:\n",
      "wandb:  $ pip install wandb --upgrade\n"
     ]
    },
    {
     "data": {
      "text/html": [
       "\n",
       "                    Syncing run <strong><a href=\"https://wandb.ai/awiedenroth/Oesch16_ohne_averages/runs/3iaxvnge\" target=\"_blank\">lemon-flower-2</a></strong> to <a href=\"https://wandb.ai/awiedenroth/Oesch16_ohne_averages\" target=\"_blank\">Weights & Biases</a> (<a href=\"https://docs.wandb.com/integrations/jupyter.html\" target=\"_blank\">docs</a>).<br/>\n",
       "\n",
       "                "
      ],
      "text/plain": [
       "<IPython.core.display.HTML object>"
      ]
     },
     "metadata": {},
     "output_type": "display_data"
    },
    {
     "data": {
      "text/html": [
       "<br/>Waiting for W&B process to finish, PID 2572... <strong style=\"color:green\">(success).</strong>"
      ],
      "text/plain": [
       "<IPython.core.display.HTML object>"
      ]
     },
     "metadata": {},
     "output_type": "display_data"
    },
    {
     "data": {
      "application/vnd.jupyter.widget-view+json": {
       "model_id": "3a0a25d91fea4d0ab4bc8508e0a0991a",
       "version_major": 2,
       "version_minor": 0
      },
      "text/plain": [
       "VBox(children=(Label(value=' 0.00MB of 0.00MB uploaded (0.00MB deduped)\\r'), FloatProgress(value=1.0, max=1.0)…"
      ]
     },
     "metadata": {},
     "output_type": "display_data"
    },
    {
     "data": {
      "text/html": [
       "<style>\n",
       "    table.wandb td:nth-child(1) { padding: 0 10px; text-align: right }\n",
       "    .wandb-row { display: flex; flex-direction: row; flex-wrap: wrap; width: 100% }\n",
       "    .wandb-col { display: flex; flex-direction: column; flex-basis: 100%; flex: 1; padding: 10px; }\n",
       "    </style>\n",
       "<div class=\"wandb-row\"><div class=\"wandb-col\">\n",
       "<h3>Run history:</h3><br/><table class=\"wandb\"><tr><td>average.fasttext validation accuracy</td><td>▁</td></tr><tr><td>average.fasttext validation balanced acc</td><td>▁</td></tr><tr><td>average.fasttext validation balanced adjusted accuracy</td><td>▁</td></tr></table><br/></div><div class=\"wandb-col\">\n",
       "<h3>Run summary:</h3><br/><table class=\"wandb\"><tr><td>average.fasttext validation accuracy</td><td>0.7538</td></tr><tr><td>average.fasttext validation balanced acc</td><td>0.71873</td></tr><tr><td>average.fasttext validation balanced adjusted accuracy</td><td>0.69316</td></tr></table>\n",
       "</div></div>\n",
       "Synced 4 W&B file(s), 0 media file(s), 0 artifact file(s) and 0 other file(s)\n",
       "<br/>Synced <strong style=\"color:#cdcd00\">lemon-flower-2</strong>: <a href=\"https://wandb.ai/awiedenroth/Oesch16_ohne_averages/runs/3iaxvnge\" target=\"_blank\">https://wandb.ai/awiedenroth/Oesch16_ohne_averages/runs/3iaxvnge</a><br/>\n",
       "Find logs at: <code>.\\wandb\\run-20220416_110122-3iaxvnge\\logs</code><br/>\n"
      ],
      "text/plain": [
       "<IPython.core.display.HTML object>"
      ]
     },
     "metadata": {},
     "output_type": "display_data"
    },
    {
     "name": "stderr",
     "output_type": "stream",
     "text": [
      "wandb: wandb version 0.12.14 is available!  To upgrade, please run:\n",
      "wandb:  $ pip install wandb --upgrade\n"
     ]
    },
    {
     "data": {
      "text/html": [
       "\n",
       "                    Syncing run <strong><a href=\"https://wandb.ai/awiedenroth/Oesch16_ohne_averages/runs/382dbk3d\" target=\"_blank\">fanciful-dream-3</a></strong> to <a href=\"https://wandb.ai/awiedenroth/Oesch16_ohne_averages\" target=\"_blank\">Weights & Biases</a> (<a href=\"https://docs.wandb.com/integrations/jupyter.html\" target=\"_blank\">docs</a>).<br/>\n",
       "\n",
       "                "
      ],
      "text/plain": [
       "<IPython.core.display.HTML object>"
      ]
     },
     "metadata": {},
     "output_type": "display_data"
    },
    {
     "data": {
      "text/html": [
       "<br/>Waiting for W&B process to finish, PID 8812... <strong style=\"color:green\">(success).</strong>"
      ],
      "text/plain": [
       "<IPython.core.display.HTML object>"
      ]
     },
     "metadata": {},
     "output_type": "display_data"
    },
    {
     "data": {
      "application/vnd.jupyter.widget-view+json": {
       "model_id": "c52aba9c6f24487eab53a7c8d7a28113",
       "version_major": 2,
       "version_minor": 0
      },
      "text/plain": [
       "VBox(children=(Label(value=' 0.00MB of 0.00MB uploaded (0.00MB deduped)\\r'), FloatProgress(value=1.0, max=1.0)…"
      ]
     },
     "metadata": {},
     "output_type": "display_data"
    },
    {
     "data": {
      "text/html": [
       "<style>\n",
       "    table.wandb td:nth-child(1) { padding: 0 10px; text-align: right }\n",
       "    .wandb-row { display: flex; flex-direction: row; flex-wrap: wrap; width: 100% }\n",
       "    .wandb-col { display: flex; flex-direction: column; flex-basis: 100%; flex: 1; padding: 10px; }\n",
       "    </style>\n",
       "<div class=\"wandb-row\"><div class=\"wandb-col\">\n",
       "<h3>Run history:</h3><br/><table class=\"wandb\"><tr><td>average.fasttext validation accuracy</td><td>▁</td></tr><tr><td>average.fasttext validation balanced acc</td><td>▁</td></tr><tr><td>average.fasttext validation balanced adjusted accuracy</td><td>▁</td></tr></table><br/></div><div class=\"wandb-col\">\n",
       "<h3>Run summary:</h3><br/><table class=\"wandb\"><tr><td>average.fasttext validation accuracy</td><td>0.75389</td></tr><tr><td>average.fasttext validation balanced acc</td><td>0.72021</td></tr><tr><td>average.fasttext validation balanced adjusted accuracy</td><td>0.69477</td></tr></table>\n",
       "</div></div>\n",
       "Synced 4 W&B file(s), 0 media file(s), 0 artifact file(s) and 0 other file(s)\n",
       "<br/>Synced <strong style=\"color:#cdcd00\">fanciful-dream-3</strong>: <a href=\"https://wandb.ai/awiedenroth/Oesch16_ohne_averages/runs/382dbk3d\" target=\"_blank\">https://wandb.ai/awiedenroth/Oesch16_ohne_averages/runs/382dbk3d</a><br/>\n",
       "Find logs at: <code>.\\wandb\\run-20220416_110137-382dbk3d\\logs</code><br/>\n"
      ],
      "text/plain": [
       "<IPython.core.display.HTML object>"
      ]
     },
     "metadata": {},
     "output_type": "display_data"
    },
    {
     "name": "stderr",
     "output_type": "stream",
     "text": [
      "wandb: wandb version 0.12.14 is available!  To upgrade, please run:\n",
      "wandb:  $ pip install wandb --upgrade\n"
     ]
    },
    {
     "data": {
      "text/html": [
       "\n",
       "                    Syncing run <strong><a href=\"https://wandb.ai/awiedenroth/Oesch16_ohne_averages/runs/252o60f2\" target=\"_blank\">stoic-frost-4</a></strong> to <a href=\"https://wandb.ai/awiedenroth/Oesch16_ohne_averages\" target=\"_blank\">Weights & Biases</a> (<a href=\"https://docs.wandb.com/integrations/jupyter.html\" target=\"_blank\">docs</a>).<br/>\n",
       "\n",
       "                "
      ],
      "text/plain": [
       "<IPython.core.display.HTML object>"
      ]
     },
     "metadata": {},
     "output_type": "display_data"
    },
    {
     "data": {
      "text/html": [
       "<br/>Waiting for W&B process to finish, PID 17148... <strong style=\"color:green\">(success).</strong>"
      ],
      "text/plain": [
       "<IPython.core.display.HTML object>"
      ]
     },
     "metadata": {},
     "output_type": "display_data"
    },
    {
     "data": {
      "application/vnd.jupyter.widget-view+json": {
       "model_id": "e5509e0b54664f19b8140647eba7d561",
       "version_major": 2,
       "version_minor": 0
      },
      "text/plain": [
       "VBox(children=(Label(value=' 0.00MB of 0.00MB uploaded (0.00MB deduped)\\r'), FloatProgress(value=1.0, max=1.0)…"
      ]
     },
     "metadata": {},
     "output_type": "display_data"
    },
    {
     "data": {
      "text/html": [
       "<style>\n",
       "    table.wandb td:nth-child(1) { padding: 0 10px; text-align: right }\n",
       "    .wandb-row { display: flex; flex-direction: row; flex-wrap: wrap; width: 100% }\n",
       "    .wandb-col { display: flex; flex-direction: column; flex-basis: 100%; flex: 1; padding: 10px; }\n",
       "    </style>\n",
       "<div class=\"wandb-row\"><div class=\"wandb-col\">\n",
       "<h3>Run history:</h3><br/><table class=\"wandb\"><tr><td>average.fasttext validation accuracy</td><td>▁</td></tr><tr><td>average.fasttext validation balanced acc</td><td>▁</td></tr><tr><td>average.fasttext validation balanced adjusted accuracy</td><td>▁</td></tr></table><br/></div><div class=\"wandb-col\">\n",
       "<h3>Run summary:</h3><br/><table class=\"wandb\"><tr><td>average.fasttext validation accuracy</td><td>0.75718</td></tr><tr><td>average.fasttext validation balanced acc</td><td>0.72197</td></tr><tr><td>average.fasttext validation balanced adjusted accuracy</td><td>0.6967</td></tr></table>\n",
       "</div></div>\n",
       "Synced 4 W&B file(s), 0 media file(s), 0 artifact file(s) and 0 other file(s)\n",
       "<br/>Synced <strong style=\"color:#cdcd00\">stoic-frost-4</strong>: <a href=\"https://wandb.ai/awiedenroth/Oesch16_ohne_averages/runs/252o60f2\" target=\"_blank\">https://wandb.ai/awiedenroth/Oesch16_ohne_averages/runs/252o60f2</a><br/>\n",
       "Find logs at: <code>.\\wandb\\run-20220416_110152-252o60f2\\logs</code><br/>\n"
      ],
      "text/plain": [
       "<IPython.core.display.HTML object>"
      ]
     },
     "metadata": {},
     "output_type": "display_data"
    },
    {
     "name": "stderr",
     "output_type": "stream",
     "text": [
      "wandb: wandb version 0.12.14 is available!  To upgrade, please run:\n",
      "wandb:  $ pip install wandb --upgrade\n"
     ]
    },
    {
     "data": {
      "text/html": [
       "\n",
       "                    Syncing run <strong><a href=\"https://wandb.ai/awiedenroth/Oesch16_ohne_averages/runs/28lt78e5\" target=\"_blank\">happy-sun-5</a></strong> to <a href=\"https://wandb.ai/awiedenroth/Oesch16_ohne_averages\" target=\"_blank\">Weights & Biases</a> (<a href=\"https://docs.wandb.com/integrations/jupyter.html\" target=\"_blank\">docs</a>).<br/>\n",
       "\n",
       "                "
      ],
      "text/plain": [
       "<IPython.core.display.HTML object>"
      ]
     },
     "metadata": {},
     "output_type": "display_data"
    },
    {
     "data": {
      "text/html": [
       "<br/>Waiting for W&B process to finish, PID 4480... <strong style=\"color:green\">(success).</strong>"
      ],
      "text/plain": [
       "<IPython.core.display.HTML object>"
      ]
     },
     "metadata": {},
     "output_type": "display_data"
    },
    {
     "data": {
      "application/vnd.jupyter.widget-view+json": {
       "model_id": "e9d60292b4fb455b90e9e6c08a20aabb",
       "version_major": 2,
       "version_minor": 0
      },
      "text/plain": [
       "VBox(children=(Label(value=' 0.00MB of 0.00MB uploaded (0.00MB deduped)\\r'), FloatProgress(value=1.0, max=1.0)…"
      ]
     },
     "metadata": {},
     "output_type": "display_data"
    },
    {
     "data": {
      "text/html": [
       "<style>\n",
       "    table.wandb td:nth-child(1) { padding: 0 10px; text-align: right }\n",
       "    .wandb-row { display: flex; flex-direction: row; flex-wrap: wrap; width: 100% }\n",
       "    .wandb-col { display: flex; flex-direction: column; flex-basis: 100%; flex: 1; padding: 10px; }\n",
       "    </style>\n",
       "<div class=\"wandb-row\"><div class=\"wandb-col\">\n",
       "<h3>Run history:</h3><br/><table class=\"wandb\"><tr><td>average.fasttext validation accuracy</td><td>▁</td></tr><tr><td>average.fasttext validation balanced acc</td><td>▁</td></tr><tr><td>average.fasttext validation balanced adjusted accuracy</td><td>▁</td></tr></table><br/></div><div class=\"wandb-col\">\n",
       "<h3>Run summary:</h3><br/><table class=\"wandb\"><tr><td>average.fasttext validation accuracy</td><td>0.75092</td></tr><tr><td>average.fasttext validation balanced acc</td><td>0.71783</td></tr><tr><td>average.fasttext validation balanced adjusted accuracy</td><td>0.69217</td></tr></table>\n",
       "</div></div>\n",
       "Synced 4 W&B file(s), 0 media file(s), 0 artifact file(s) and 0 other file(s)\n",
       "<br/>Synced <strong style=\"color:#cdcd00\">happy-sun-5</strong>: <a href=\"https://wandb.ai/awiedenroth/Oesch16_ohne_averages/runs/28lt78e5\" target=\"_blank\">https://wandb.ai/awiedenroth/Oesch16_ohne_averages/runs/28lt78e5</a><br/>\n",
       "Find logs at: <code>.\\wandb\\run-20220416_110207-28lt78e5\\logs</code><br/>\n"
      ],
      "text/plain": [
       "<IPython.core.display.HTML object>"
      ]
     },
     "metadata": {},
     "output_type": "display_data"
    },
    {
     "name": "stderr",
     "output_type": "stream",
     "text": [
      "wandb: wandb version 0.12.14 is available!  To upgrade, please run:\n",
      "wandb:  $ pip install wandb --upgrade\n"
     ]
    },
    {
     "data": {
      "text/html": [
       "\n",
       "                    Syncing run <strong><a href=\"https://wandb.ai/awiedenroth/Oesch16_ohne_averages/runs/fxqeo4j0\" target=\"_blank\">azure-capybara-6</a></strong> to <a href=\"https://wandb.ai/awiedenroth/Oesch16_ohne_averages\" target=\"_blank\">Weights & Biases</a> (<a href=\"https://docs.wandb.com/integrations/jupyter.html\" target=\"_blank\">docs</a>).<br/>\n",
       "\n",
       "                "
      ],
      "text/plain": [
       "<IPython.core.display.HTML object>"
      ]
     },
     "metadata": {},
     "output_type": "display_data"
    },
    {
     "data": {
      "text/html": [
       "<br/>Waiting for W&B process to finish, PID 10060... <strong style=\"color:green\">(success).</strong>"
      ],
      "text/plain": [
       "<IPython.core.display.HTML object>"
      ]
     },
     "metadata": {},
     "output_type": "display_data"
    },
    {
     "data": {
      "application/vnd.jupyter.widget-view+json": {
       "model_id": "161f4854978a456cacff87f0b08d3f1e",
       "version_major": 2,
       "version_minor": 0
      },
      "text/plain": [
       "VBox(children=(Label(value=' 0.00MB of 0.00MB uploaded (0.00MB deduped)\\r'), FloatProgress(value=1.0, max=1.0)…"
      ]
     },
     "metadata": {},
     "output_type": "display_data"
    },
    {
     "data": {
      "text/html": [
       "<style>\n",
       "    table.wandb td:nth-child(1) { padding: 0 10px; text-align: right }\n",
       "    .wandb-row { display: flex; flex-direction: row; flex-wrap: wrap; width: 100% }\n",
       "    .wandb-col { display: flex; flex-direction: column; flex-basis: 100%; flex: 1; padding: 10px; }\n",
       "    </style>\n",
       "<div class=\"wandb-row\"><div class=\"wandb-col\">\n",
       "<h3>Run history:</h3><br/><table class=\"wandb\"><tr><td>average.fasttext validation accuracy</td><td>▁</td></tr><tr><td>average.fasttext validation balanced acc</td><td>▁</td></tr><tr><td>average.fasttext validation balanced adjusted accuracy</td><td>▁</td></tr></table><br/></div><div class=\"wandb-col\">\n",
       "<h3>Run summary:</h3><br/><table class=\"wandb\"><tr><td>average.fasttext validation accuracy</td><td>0.75477</td></tr><tr><td>average.fasttext validation balanced acc</td><td>0.71975</td></tr><tr><td>average.fasttext validation balanced adjusted accuracy</td><td>0.69427</td></tr></table>\n",
       "</div></div>\n",
       "Synced 4 W&B file(s), 0 media file(s), 0 artifact file(s) and 0 other file(s)\n",
       "<br/>Synced <strong style=\"color:#cdcd00\">azure-capybara-6</strong>: <a href=\"https://wandb.ai/awiedenroth/Oesch16_ohne_averages/runs/fxqeo4j0\" target=\"_blank\">https://wandb.ai/awiedenroth/Oesch16_ohne_averages/runs/fxqeo4j0</a><br/>\n",
       "Find logs at: <code>.\\wandb\\run-20220416_110221-fxqeo4j0\\logs</code><br/>\n"
      ],
      "text/plain": [
       "<IPython.core.display.HTML object>"
      ]
     },
     "metadata": {},
     "output_type": "display_data"
    },
    {
     "name": "stderr",
     "output_type": "stream",
     "text": [
      "wandb: wandb version 0.12.14 is available!  To upgrade, please run:\n",
      "wandb:  $ pip install wandb --upgrade\n"
     ]
    },
    {
     "data": {
      "text/html": [
       "\n",
       "                    Syncing run <strong><a href=\"https://wandb.ai/awiedenroth/Oesch16_ohne_averages/runs/10pzx0hu\" target=\"_blank\">bumbling-spaceship-7</a></strong> to <a href=\"https://wandb.ai/awiedenroth/Oesch16_ohne_averages\" target=\"_blank\">Weights & Biases</a> (<a href=\"https://docs.wandb.com/integrations/jupyter.html\" target=\"_blank\">docs</a>).<br/>\n",
       "\n",
       "                "
      ],
      "text/plain": [
       "<IPython.core.display.HTML object>"
      ]
     },
     "metadata": {},
     "output_type": "display_data"
    },
    {
     "data": {
      "text/html": [
       "<br/>Waiting for W&B process to finish, PID 19260... <strong style=\"color:green\">(success).</strong>"
      ],
      "text/plain": [
       "<IPython.core.display.HTML object>"
      ]
     },
     "metadata": {},
     "output_type": "display_data"
    },
    {
     "data": {
      "application/vnd.jupyter.widget-view+json": {
       "model_id": "9312a71b47ce447b93a506010abd258d",
       "version_major": 2,
       "version_minor": 0
      },
      "text/plain": [
       "VBox(children=(Label(value=' 0.00MB of 0.00MB uploaded (0.00MB deduped)\\r'), FloatProgress(value=1.0, max=1.0)…"
      ]
     },
     "metadata": {},
     "output_type": "display_data"
    },
    {
     "data": {
      "text/html": [
       "<style>\n",
       "    table.wandb td:nth-child(1) { padding: 0 10px; text-align: right }\n",
       "    .wandb-row { display: flex; flex-direction: row; flex-wrap: wrap; width: 100% }\n",
       "    .wandb-col { display: flex; flex-direction: column; flex-basis: 100%; flex: 1; padding: 10px; }\n",
       "    </style>\n",
       "<div class=\"wandb-row\"><div class=\"wandb-col\">\n",
       "<h3>Run history:</h3><br/><table class=\"wandb\"><tr><td>average.fasttext validation accuracy</td><td>▁</td></tr><tr><td>average.fasttext validation balanced acc</td><td>▁</td></tr><tr><td>average.fasttext validation balanced adjusted accuracy</td><td>▁</td></tr></table><br/></div><div class=\"wandb-col\">\n",
       "<h3>Run summary:</h3><br/><table class=\"wandb\"><tr><td>average.fasttext validation accuracy</td><td>0.75496</td></tr><tr><td>average.fasttext validation balanced acc</td><td>0.72271</td></tr><tr><td>average.fasttext validation balanced adjusted accuracy</td><td>0.6975</td></tr></table>\n",
       "</div></div>\n",
       "Synced 4 W&B file(s), 0 media file(s), 0 artifact file(s) and 0 other file(s)\n",
       "<br/>Synced <strong style=\"color:#cdcd00\">bumbling-spaceship-7</strong>: <a href=\"https://wandb.ai/awiedenroth/Oesch16_ohne_averages/runs/10pzx0hu\" target=\"_blank\">https://wandb.ai/awiedenroth/Oesch16_ohne_averages/runs/10pzx0hu</a><br/>\n",
       "Find logs at: <code>.\\wandb\\run-20220416_110236-10pzx0hu\\logs</code><br/>\n"
      ],
      "text/plain": [
       "<IPython.core.display.HTML object>"
      ]
     },
     "metadata": {},
     "output_type": "display_data"
    },
    {
     "name": "stderr",
     "output_type": "stream",
     "text": [
      "wandb: wandb version 0.12.14 is available!  To upgrade, please run:\n",
      "wandb:  $ pip install wandb --upgrade\n"
     ]
    },
    {
     "data": {
      "text/html": [
       "\n",
       "                    Syncing run <strong><a href=\"https://wandb.ai/awiedenroth/Oesch16_ohne_averages/runs/v3caxmag\" target=\"_blank\">olive-forest-8</a></strong> to <a href=\"https://wandb.ai/awiedenroth/Oesch16_ohne_averages\" target=\"_blank\">Weights & Biases</a> (<a href=\"https://docs.wandb.com/integrations/jupyter.html\" target=\"_blank\">docs</a>).<br/>\n",
       "\n",
       "                "
      ],
      "text/plain": [
       "<IPython.core.display.HTML object>"
      ]
     },
     "metadata": {},
     "output_type": "display_data"
    },
    {
     "data": {
      "text/html": [
       "<br/>Waiting for W&B process to finish, PID 16372... <strong style=\"color:green\">(success).</strong>"
      ],
      "text/plain": [
       "<IPython.core.display.HTML object>"
      ]
     },
     "metadata": {},
     "output_type": "display_data"
    },
    {
     "data": {
      "application/vnd.jupyter.widget-view+json": {
       "model_id": "7031f9e87caa4c0c926740c980d5c0e1",
       "version_major": 2,
       "version_minor": 0
      },
      "text/plain": [
       "VBox(children=(Label(value=' 0.00MB of 0.00MB uploaded (0.00MB deduped)\\r'), FloatProgress(value=1.0, max=1.0)…"
      ]
     },
     "metadata": {},
     "output_type": "display_data"
    },
    {
     "data": {
      "text/html": [
       "<style>\n",
       "    table.wandb td:nth-child(1) { padding: 0 10px; text-align: right }\n",
       "    .wandb-row { display: flex; flex-direction: row; flex-wrap: wrap; width: 100% }\n",
       "    .wandb-col { display: flex; flex-direction: column; flex-basis: 100%; flex: 1; padding: 10px; }\n",
       "    </style>\n",
       "<div class=\"wandb-row\"><div class=\"wandb-col\">\n",
       "<h3>Run history:</h3><br/><table class=\"wandb\"><tr><td>average.fasttext validation accuracy</td><td>▁</td></tr><tr><td>average.fasttext validation balanced acc</td><td>▁</td></tr><tr><td>average.fasttext validation balanced adjusted accuracy</td><td>▁</td></tr></table><br/></div><div class=\"wandb-col\">\n",
       "<h3>Run summary:</h3><br/><table class=\"wandb\"><tr><td>average.fasttext validation accuracy</td><td>0.75857</td></tr><tr><td>average.fasttext validation balanced acc</td><td>0.72478</td></tr><tr><td>average.fasttext validation balanced adjusted accuracy</td><td>0.69976</td></tr></table>\n",
       "</div></div>\n",
       "Synced 4 W&B file(s), 0 media file(s), 0 artifact file(s) and 0 other file(s)\n",
       "<br/>Synced <strong style=\"color:#cdcd00\">olive-forest-8</strong>: <a href=\"https://wandb.ai/awiedenroth/Oesch16_ohne_averages/runs/v3caxmag\" target=\"_blank\">https://wandb.ai/awiedenroth/Oesch16_ohne_averages/runs/v3caxmag</a><br/>\n",
       "Find logs at: <code>.\\wandb\\run-20220416_110252-v3caxmag\\logs</code><br/>\n"
      ],
      "text/plain": [
       "<IPython.core.display.HTML object>"
      ]
     },
     "metadata": {},
     "output_type": "display_data"
    },
    {
     "name": "stderr",
     "output_type": "stream",
     "text": [
      "wandb: wandb version 0.12.14 is available!  To upgrade, please run:\n",
      "wandb:  $ pip install wandb --upgrade\n"
     ]
    },
    {
     "data": {
      "text/html": [
       "\n",
       "                    Syncing run <strong><a href=\"https://wandb.ai/awiedenroth/Oesch16_ohne_averages/runs/27m7ueft\" target=\"_blank\">cerulean-sun-9</a></strong> to <a href=\"https://wandb.ai/awiedenroth/Oesch16_ohne_averages\" target=\"_blank\">Weights & Biases</a> (<a href=\"https://docs.wandb.com/integrations/jupyter.html\" target=\"_blank\">docs</a>).<br/>\n",
       "\n",
       "                "
      ],
      "text/plain": [
       "<IPython.core.display.HTML object>"
      ]
     },
     "metadata": {},
     "output_type": "display_data"
    },
    {
     "data": {
      "text/html": [
       "<br/>Waiting for W&B process to finish, PID 19120... <strong style=\"color:green\">(success).</strong>"
      ],
      "text/plain": [
       "<IPython.core.display.HTML object>"
      ]
     },
     "metadata": {},
     "output_type": "display_data"
    },
    {
     "data": {
      "application/vnd.jupyter.widget-view+json": {
       "model_id": "a5ea7c700edc49529461c7e825b10c0c",
       "version_major": 2,
       "version_minor": 0
      },
      "text/plain": [
       "VBox(children=(Label(value=' 0.00MB of 0.00MB uploaded (0.00MB deduped)\\r'), FloatProgress(value=1.0, max=1.0)…"
      ]
     },
     "metadata": {},
     "output_type": "display_data"
    },
    {
     "data": {
      "text/html": [
       "<style>\n",
       "    table.wandb td:nth-child(1) { padding: 0 10px; text-align: right }\n",
       "    .wandb-row { display: flex; flex-direction: row; flex-wrap: wrap; width: 100% }\n",
       "    .wandb-col { display: flex; flex-direction: column; flex-basis: 100%; flex: 1; padding: 10px; }\n",
       "    </style>\n",
       "<div class=\"wandb-row\"><div class=\"wandb-col\">\n",
       "<h3>Run history:</h3><br/><table class=\"wandb\"><tr><td>average.fasttext validation accuracy</td><td>▁</td></tr><tr><td>average.fasttext validation balanced acc</td><td>▁</td></tr><tr><td>average.fasttext validation balanced adjusted accuracy</td><td>▁</td></tr></table><br/></div><div class=\"wandb-col\">\n",
       "<h3>Run summary:</h3><br/><table class=\"wandb\"><tr><td>average.fasttext validation accuracy</td><td>0.76064</td></tr><tr><td>average.fasttext validation balanced acc</td><td>0.72569</td></tr><tr><td>average.fasttext validation balanced adjusted accuracy</td><td>0.70075</td></tr></table>\n",
       "</div></div>\n",
       "Synced 4 W&B file(s), 0 media file(s), 0 artifact file(s) and 0 other file(s)\n",
       "<br/>Synced <strong style=\"color:#cdcd00\">cerulean-sun-9</strong>: <a href=\"https://wandb.ai/awiedenroth/Oesch16_ohne_averages/runs/27m7ueft\" target=\"_blank\">https://wandb.ai/awiedenroth/Oesch16_ohne_averages/runs/27m7ueft</a><br/>\n",
       "Find logs at: <code>.\\wandb\\run-20220416_110307-27m7ueft\\logs</code><br/>\n"
      ],
      "text/plain": [
       "<IPython.core.display.HTML object>"
      ]
     },
     "metadata": {},
     "output_type": "display_data"
    },
    {
     "name": "stderr",
     "output_type": "stream",
     "text": [
      "wandb: wandb version 0.12.14 is available!  To upgrade, please run:\n",
      "wandb:  $ pip install wandb --upgrade\n"
     ]
    },
    {
     "data": {
      "text/html": [
       "\n",
       "                    Syncing run <strong><a href=\"https://wandb.ai/awiedenroth/Oesch16_ohne_averages/runs/2i4quk39\" target=\"_blank\">vague-cloud-10</a></strong> to <a href=\"https://wandb.ai/awiedenroth/Oesch16_ohne_averages\" target=\"_blank\">Weights & Biases</a> (<a href=\"https://docs.wandb.com/integrations/jupyter.html\" target=\"_blank\">docs</a>).<br/>\n",
       "\n",
       "                "
      ],
      "text/plain": [
       "<IPython.core.display.HTML object>"
      ]
     },
     "metadata": {},
     "output_type": "display_data"
    },
    {
     "data": {
      "text/html": [
       "<br/>Waiting for W&B process to finish, PID 18176... <strong style=\"color:green\">(success).</strong>"
      ],
      "text/plain": [
       "<IPython.core.display.HTML object>"
      ]
     },
     "metadata": {},
     "output_type": "display_data"
    },
    {
     "data": {
      "application/vnd.jupyter.widget-view+json": {
       "model_id": "d2f790d0d74e4dbc84b2cb647f6212a5",
       "version_major": 2,
       "version_minor": 0
      },
      "text/plain": [
       "VBox(children=(Label(value=' 0.00MB of 0.00MB uploaded (0.00MB deduped)\\r'), FloatProgress(value=1.0, max=1.0)…"
      ]
     },
     "metadata": {},
     "output_type": "display_data"
    },
    {
     "data": {
      "text/html": [
       "<style>\n",
       "    table.wandb td:nth-child(1) { padding: 0 10px; text-align: right }\n",
       "    .wandb-row { display: flex; flex-direction: row; flex-wrap: wrap; width: 100% }\n",
       "    .wandb-col { display: flex; flex-direction: column; flex-basis: 100%; flex: 1; padding: 10px; }\n",
       "    </style>\n",
       "<div class=\"wandb-row\"><div class=\"wandb-col\">\n",
       "<h3>Run history:</h3><br/><table class=\"wandb\"><tr><td>average.fasttext validation accuracy</td><td>▁</td></tr><tr><td>average.fasttext validation balanced acc</td><td>▁</td></tr><tr><td>average.fasttext validation balanced adjusted accuracy</td><td>▁</td></tr></table><br/></div><div class=\"wandb-col\">\n",
       "<h3>Run summary:</h3><br/><table class=\"wandb\"><tr><td>average.fasttext validation accuracy</td><td>0.76126</td></tr><tr><td>average.fasttext validation balanced acc</td><td>0.72663</td></tr><tr><td>average.fasttext validation balanced adjusted accuracy</td><td>0.70177</td></tr></table>\n",
       "</div></div>\n",
       "Synced 4 W&B file(s), 0 media file(s), 0 artifact file(s) and 0 other file(s)\n",
       "<br/>Synced <strong style=\"color:#cdcd00\">vague-cloud-10</strong>: <a href=\"https://wandb.ai/awiedenroth/Oesch16_ohne_averages/runs/2i4quk39\" target=\"_blank\">https://wandb.ai/awiedenroth/Oesch16_ohne_averages/runs/2i4quk39</a><br/>\n",
       "Find logs at: <code>.\\wandb\\run-20220416_110322-2i4quk39\\logs</code><br/>\n"
      ],
      "text/plain": [
       "<IPython.core.display.HTML object>"
      ]
     },
     "metadata": {},
     "output_type": "display_data"
    },
    {
     "name": "stderr",
     "output_type": "stream",
     "text": [
      "wandb: wandb version 0.12.14 is available!  To upgrade, please run:\n",
      "wandb:  $ pip install wandb --upgrade\n"
     ]
    },
    {
     "data": {
      "text/html": [
       "\n",
       "                    Syncing run <strong><a href=\"https://wandb.ai/awiedenroth/Oesch16_ohne_averages/runs/hze4e1iz\" target=\"_blank\">glorious-plasma-11</a></strong> to <a href=\"https://wandb.ai/awiedenroth/Oesch16_ohne_averages\" target=\"_blank\">Weights & Biases</a> (<a href=\"https://docs.wandb.com/integrations/jupyter.html\" target=\"_blank\">docs</a>).<br/>\n",
       "\n",
       "                "
      ],
      "text/plain": [
       "<IPython.core.display.HTML object>"
      ]
     },
     "metadata": {},
     "output_type": "display_data"
    },
    {
     "data": {
      "text/html": [
       "<br/>Waiting for W&B process to finish, PID 14604... <strong style=\"color:green\">(success).</strong>"
      ],
      "text/plain": [
       "<IPython.core.display.HTML object>"
      ]
     },
     "metadata": {},
     "output_type": "display_data"
    },
    {
     "data": {
      "application/vnd.jupyter.widget-view+json": {
       "model_id": "b0605f17f57c4ef28239e2a2d0a12d26",
       "version_major": 2,
       "version_minor": 0
      },
      "text/plain": [
       "VBox(children=(Label(value=' 0.00MB of 0.00MB uploaded (0.00MB deduped)\\r'), FloatProgress(value=1.0, max=1.0)…"
      ]
     },
     "metadata": {},
     "output_type": "display_data"
    },
    {
     "data": {
      "text/html": [
       "<style>\n",
       "    table.wandb td:nth-child(1) { padding: 0 10px; text-align: right }\n",
       "    .wandb-row { display: flex; flex-direction: row; flex-wrap: wrap; width: 100% }\n",
       "    .wandb-col { display: flex; flex-direction: column; flex-basis: 100%; flex: 1; padding: 10px; }\n",
       "    </style>\n",
       "<div class=\"wandb-row\"><div class=\"wandb-col\">\n",
       "<h3>Run history:</h3><br/><table class=\"wandb\"><tr><td>average.fasttext validation accuracy</td><td>▁</td></tr><tr><td>average.fasttext validation balanced acc</td><td>▁</td></tr><tr><td>average.fasttext validation balanced adjusted accuracy</td><td>▁</td></tr></table><br/></div><div class=\"wandb-col\">\n",
       "<h3>Run summary:</h3><br/><table class=\"wandb\"><tr><td>average.fasttext validation accuracy</td><td>0.76337</td></tr><tr><td>average.fasttext validation balanced acc</td><td>0.72839</td></tr><tr><td>average.fasttext validation balanced adjusted accuracy</td><td>0.7037</td></tr></table>\n",
       "</div></div>\n",
       "Synced 4 W&B file(s), 0 media file(s), 0 artifact file(s) and 0 other file(s)\n",
       "<br/>Synced <strong style=\"color:#cdcd00\">glorious-plasma-11</strong>: <a href=\"https://wandb.ai/awiedenroth/Oesch16_ohne_averages/runs/hze4e1iz\" target=\"_blank\">https://wandb.ai/awiedenroth/Oesch16_ohne_averages/runs/hze4e1iz</a><br/>\n",
       "Find logs at: <code>.\\wandb\\run-20220416_110337-hze4e1iz\\logs</code><br/>\n"
      ],
      "text/plain": [
       "<IPython.core.display.HTML object>"
      ]
     },
     "metadata": {},
     "output_type": "display_data"
    },
    {
     "name": "stderr",
     "output_type": "stream",
     "text": [
      "wandb: wandb version 0.12.14 is available!  To upgrade, please run:\n",
      "wandb:  $ pip install wandb --upgrade\n"
     ]
    },
    {
     "data": {
      "text/html": [
       "\n",
       "                    Syncing run <strong><a href=\"https://wandb.ai/awiedenroth/Oesch16_ohne_averages/runs/29fcbsip\" target=\"_blank\">faithful-universe-12</a></strong> to <a href=\"https://wandb.ai/awiedenroth/Oesch16_ohne_averages\" target=\"_blank\">Weights & Biases</a> (<a href=\"https://docs.wandb.com/integrations/jupyter.html\" target=\"_blank\">docs</a>).<br/>\n",
       "\n",
       "                "
      ],
      "text/plain": [
       "<IPython.core.display.HTML object>"
      ]
     },
     "metadata": {},
     "output_type": "display_data"
    },
    {
     "data": {
      "text/html": [
       "<br/>Waiting for W&B process to finish, PID 8980... <strong style=\"color:green\">(success).</strong>"
      ],
      "text/plain": [
       "<IPython.core.display.HTML object>"
      ]
     },
     "metadata": {},
     "output_type": "display_data"
    },
    {
     "data": {
      "application/vnd.jupyter.widget-view+json": {
       "model_id": "5b68da8cd14d4d5c9cb2a9a3fad950d2",
       "version_major": 2,
       "version_minor": 0
      },
      "text/plain": [
       "VBox(children=(Label(value=' 0.00MB of 0.00MB uploaded (0.00MB deduped)\\r'), FloatProgress(value=1.0, max=1.0)…"
      ]
     },
     "metadata": {},
     "output_type": "display_data"
    },
    {
     "data": {
      "text/html": [
       "<style>\n",
       "    table.wandb td:nth-child(1) { padding: 0 10px; text-align: right }\n",
       "    .wandb-row { display: flex; flex-direction: row; flex-wrap: wrap; width: 100% }\n",
       "    .wandb-col { display: flex; flex-direction: column; flex-basis: 100%; flex: 1; padding: 10px; }\n",
       "    </style>\n",
       "<div class=\"wandb-row\"><div class=\"wandb-col\">\n",
       "<h3>Run history:</h3><br/><table class=\"wandb\"><tr><td>average.fasttext validation accuracy</td><td>▁</td></tr><tr><td>average.fasttext validation balanced acc</td><td>▁</td></tr><tr><td>average.fasttext validation balanced adjusted accuracy</td><td>▁</td></tr></table><br/></div><div class=\"wandb-col\">\n",
       "<h3>Run summary:</h3><br/><table class=\"wandb\"><tr><td>average.fasttext validation accuracy</td><td>0.76615</td></tr><tr><td>average.fasttext validation balanced acc</td><td>0.73307</td></tr><tr><td>average.fasttext validation balanced adjusted accuracy</td><td>0.7088</td></tr></table>\n",
       "</div></div>\n",
       "Synced 4 W&B file(s), 0 media file(s), 0 artifact file(s) and 0 other file(s)\n",
       "<br/>Synced <strong style=\"color:#cdcd00\">faithful-universe-12</strong>: <a href=\"https://wandb.ai/awiedenroth/Oesch16_ohne_averages/runs/29fcbsip\" target=\"_blank\">https://wandb.ai/awiedenroth/Oesch16_ohne_averages/runs/29fcbsip</a><br/>\n",
       "Find logs at: <code>.\\wandb\\run-20220416_110351-29fcbsip\\logs</code><br/>\n"
      ],
      "text/plain": [
       "<IPython.core.display.HTML object>"
      ]
     },
     "metadata": {},
     "output_type": "display_data"
    },
    {
     "name": "stderr",
     "output_type": "stream",
     "text": [
      "wandb: wandb version 0.12.14 is available!  To upgrade, please run:\n",
      "wandb:  $ pip install wandb --upgrade\n"
     ]
    },
    {
     "data": {
      "text/html": [
       "\n",
       "                    Syncing run <strong><a href=\"https://wandb.ai/awiedenroth/Oesch16_ohne_averages/runs/257rckda\" target=\"_blank\">rich-pond-13</a></strong> to <a href=\"https://wandb.ai/awiedenroth/Oesch16_ohne_averages\" target=\"_blank\">Weights & Biases</a> (<a href=\"https://docs.wandb.com/integrations/jupyter.html\" target=\"_blank\">docs</a>).<br/>\n",
       "\n",
       "                "
      ],
      "text/plain": [
       "<IPython.core.display.HTML object>"
      ]
     },
     "metadata": {},
     "output_type": "display_data"
    },
    {
     "data": {
      "text/html": [
       "<br/>Waiting for W&B process to finish, PID 17788... <strong style=\"color:green\">(success).</strong>"
      ],
      "text/plain": [
       "<IPython.core.display.HTML object>"
      ]
     },
     "metadata": {},
     "output_type": "display_data"
    },
    {
     "data": {
      "application/vnd.jupyter.widget-view+json": {
       "model_id": "6a6f2a7769e748d0b7634aa8f3bcee03",
       "version_major": 2,
       "version_minor": 0
      },
      "text/plain": [
       "VBox(children=(Label(value=' 0.00MB of 0.00MB uploaded (0.00MB deduped)\\r'), FloatProgress(value=1.0, max=1.0)…"
      ]
     },
     "metadata": {},
     "output_type": "display_data"
    },
    {
     "data": {
      "text/html": [
       "<style>\n",
       "    table.wandb td:nth-child(1) { padding: 0 10px; text-align: right }\n",
       "    .wandb-row { display: flex; flex-direction: row; flex-wrap: wrap; width: 100% }\n",
       "    .wandb-col { display: flex; flex-direction: column; flex-basis: 100%; flex: 1; padding: 10px; }\n",
       "    </style>\n",
       "<div class=\"wandb-row\"><div class=\"wandb-col\">\n",
       "<h3>Run history:</h3><br/><table class=\"wandb\"><tr><td>average.fasttext validation accuracy</td><td>▁</td></tr><tr><td>average.fasttext validation balanced acc</td><td>▁</td></tr><tr><td>average.fasttext validation balanced adjusted accuracy</td><td>▁</td></tr></table><br/></div><div class=\"wandb-col\">\n",
       "<h3>Run summary:</h3><br/><table class=\"wandb\"><tr><td>average.fasttext validation accuracy</td><td>0.75957</td></tr><tr><td>average.fasttext validation balanced acc</td><td>0.72478</td></tr><tr><td>average.fasttext validation balanced adjusted accuracy</td><td>0.69976</td></tr></table>\n",
       "</div></div>\n",
       "Synced 4 W&B file(s), 0 media file(s), 0 artifact file(s) and 0 other file(s)\n",
       "<br/>Synced <strong style=\"color:#cdcd00\">rich-pond-13</strong>: <a href=\"https://wandb.ai/awiedenroth/Oesch16_ohne_averages/runs/257rckda\" target=\"_blank\">https://wandb.ai/awiedenroth/Oesch16_ohne_averages/runs/257rckda</a><br/>\n",
       "Find logs at: <code>.\\wandb\\run-20220416_110406-257rckda\\logs</code><br/>\n"
      ],
      "text/plain": [
       "<IPython.core.display.HTML object>"
      ]
     },
     "metadata": {},
     "output_type": "display_data"
    },
    {
     "name": "stderr",
     "output_type": "stream",
     "text": [
      "wandb: wandb version 0.12.14 is available!  To upgrade, please run:\n",
      "wandb:  $ pip install wandb --upgrade\n"
     ]
    },
    {
     "data": {
      "text/html": [
       "\n",
       "                    Syncing run <strong><a href=\"https://wandb.ai/awiedenroth/Oesch16_ohne_averages/runs/nodrb3e3\" target=\"_blank\">dry-sea-14</a></strong> to <a href=\"https://wandb.ai/awiedenroth/Oesch16_ohne_averages\" target=\"_blank\">Weights & Biases</a> (<a href=\"https://docs.wandb.com/integrations/jupyter.html\" target=\"_blank\">docs</a>).<br/>\n",
       "\n",
       "                "
      ],
      "text/plain": [
       "<IPython.core.display.HTML object>"
      ]
     },
     "metadata": {},
     "output_type": "display_data"
    },
    {
     "data": {
      "text/html": [
       "<br/>Waiting for W&B process to finish, PID 21444... <strong style=\"color:green\">(success).</strong>"
      ],
      "text/plain": [
       "<IPython.core.display.HTML object>"
      ]
     },
     "metadata": {},
     "output_type": "display_data"
    },
    {
     "data": {
      "application/vnd.jupyter.widget-view+json": {
       "model_id": "31f8e025223e47d58715e3dd8b0ebce4",
       "version_major": 2,
       "version_minor": 0
      },
      "text/plain": [
       "VBox(children=(Label(value=' 0.00MB of 0.00MB uploaded (0.00MB deduped)\\r'), FloatProgress(value=1.0, max=1.0)…"
      ]
     },
     "metadata": {},
     "output_type": "display_data"
    },
    {
     "data": {
      "text/html": [
       "<style>\n",
       "    table.wandb td:nth-child(1) { padding: 0 10px; text-align: right }\n",
       "    .wandb-row { display: flex; flex-direction: row; flex-wrap: wrap; width: 100% }\n",
       "    .wandb-col { display: flex; flex-direction: column; flex-basis: 100%; flex: 1; padding: 10px; }\n",
       "    </style>\n",
       "<div class=\"wandb-row\"><div class=\"wandb-col\">\n",
       "<h3>Run history:</h3><br/><table class=\"wandb\"><tr><td>average.fasttext validation accuracy</td><td>▁</td></tr><tr><td>average.fasttext validation balanced acc</td><td>▁</td></tr><tr><td>average.fasttext validation balanced adjusted accuracy</td><td>▁</td></tr></table><br/></div><div class=\"wandb-col\">\n",
       "<h3>Run summary:</h3><br/><table class=\"wandb\"><tr><td>average.fasttext validation accuracy</td><td>0.75983</td></tr><tr><td>average.fasttext validation balanced acc</td><td>0.7265</td></tr><tr><td>average.fasttext validation balanced adjusted accuracy</td><td>0.70164</td></tr></table>\n",
       "</div></div>\n",
       "Synced 4 W&B file(s), 0 media file(s), 0 artifact file(s) and 0 other file(s)\n",
       "<br/>Synced <strong style=\"color:#cdcd00\">dry-sea-14</strong>: <a href=\"https://wandb.ai/awiedenroth/Oesch16_ohne_averages/runs/nodrb3e3\" target=\"_blank\">https://wandb.ai/awiedenroth/Oesch16_ohne_averages/runs/nodrb3e3</a><br/>\n",
       "Find logs at: <code>.\\wandb\\run-20220416_110421-nodrb3e3\\logs</code><br/>\n"
      ],
      "text/plain": [
       "<IPython.core.display.HTML object>"
      ]
     },
     "metadata": {},
     "output_type": "display_data"
    },
    {
     "name": "stderr",
     "output_type": "stream",
     "text": [
      "wandb: wandb version 0.12.14 is available!  To upgrade, please run:\n",
      "wandb:  $ pip install wandb --upgrade\n"
     ]
    },
    {
     "data": {
      "text/html": [
       "\n",
       "                    Syncing run <strong><a href=\"https://wandb.ai/awiedenroth/Oesch16_ohne_averages/runs/2mpnlj3s\" target=\"_blank\">warm-galaxy-15</a></strong> to <a href=\"https://wandb.ai/awiedenroth/Oesch16_ohne_averages\" target=\"_blank\">Weights & Biases</a> (<a href=\"https://docs.wandb.com/integrations/jupyter.html\" target=\"_blank\">docs</a>).<br/>\n",
       "\n",
       "                "
      ],
      "text/plain": [
       "<IPython.core.display.HTML object>"
      ]
     },
     "metadata": {},
     "output_type": "display_data"
    },
    {
     "data": {
      "text/html": [
       "<br/>Waiting for W&B process to finish, PID 14312... <strong style=\"color:green\">(success).</strong>"
      ],
      "text/plain": [
       "<IPython.core.display.HTML object>"
      ]
     },
     "metadata": {},
     "output_type": "display_data"
    },
    {
     "data": {
      "application/vnd.jupyter.widget-view+json": {
       "model_id": "d0b147b0e75c4ea398a82d791d2550d8",
       "version_major": 2,
       "version_minor": 0
      },
      "text/plain": [
       "VBox(children=(Label(value=' 0.00MB of 0.00MB uploaded (0.00MB deduped)\\r'), FloatProgress(value=1.0, max=1.0)…"
      ]
     },
     "metadata": {},
     "output_type": "display_data"
    },
    {
     "data": {
      "text/html": [
       "<style>\n",
       "    table.wandb td:nth-child(1) { padding: 0 10px; text-align: right }\n",
       "    .wandb-row { display: flex; flex-direction: row; flex-wrap: wrap; width: 100% }\n",
       "    .wandb-col { display: flex; flex-direction: column; flex-basis: 100%; flex: 1; padding: 10px; }\n",
       "    </style>\n",
       "<div class=\"wandb-row\"><div class=\"wandb-col\">\n",
       "<h3>Run history:</h3><br/><table class=\"wandb\"><tr><td>average.fasttext validation accuracy</td><td>▁</td></tr><tr><td>average.fasttext validation balanced acc</td><td>▁</td></tr><tr><td>average.fasttext validation balanced adjusted accuracy</td><td>▁</td></tr></table><br/></div><div class=\"wandb-col\">\n",
       "<h3>Run summary:</h3><br/><table class=\"wandb\"><tr><td>average.fasttext validation accuracy</td><td>0.7621</td></tr><tr><td>average.fasttext validation balanced acc</td><td>0.72889</td></tr><tr><td>average.fasttext validation balanced adjusted accuracy</td><td>0.70425</td></tr></table>\n",
       "</div></div>\n",
       "Synced 4 W&B file(s), 0 media file(s), 0 artifact file(s) and 0 other file(s)\n",
       "<br/>Synced <strong style=\"color:#cdcd00\">warm-galaxy-15</strong>: <a href=\"https://wandb.ai/awiedenroth/Oesch16_ohne_averages/runs/2mpnlj3s\" target=\"_blank\">https://wandb.ai/awiedenroth/Oesch16_ohne_averages/runs/2mpnlj3s</a><br/>\n",
       "Find logs at: <code>.\\wandb\\run-20220416_110436-2mpnlj3s\\logs</code><br/>\n"
      ],
      "text/plain": [
       "<IPython.core.display.HTML object>"
      ]
     },
     "metadata": {},
     "output_type": "display_data"
    },
    {
     "name": "stderr",
     "output_type": "stream",
     "text": [
      "wandb: wandb version 0.12.14 is available!  To upgrade, please run:\n",
      "wandb:  $ pip install wandb --upgrade\n"
     ]
    },
    {
     "data": {
      "text/html": [
       "\n",
       "                    Syncing run <strong><a href=\"https://wandb.ai/awiedenroth/Oesch16_ohne_averages/runs/lhpqj420\" target=\"_blank\">celestial-sound-16</a></strong> to <a href=\"https://wandb.ai/awiedenroth/Oesch16_ohne_averages\" target=\"_blank\">Weights & Biases</a> (<a href=\"https://docs.wandb.com/integrations/jupyter.html\" target=\"_blank\">docs</a>).<br/>\n",
       "\n",
       "                "
      ],
      "text/plain": [
       "<IPython.core.display.HTML object>"
      ]
     },
     "metadata": {},
     "output_type": "display_data"
    },
    {
     "data": {
      "text/html": [
       "<br/>Waiting for W&B process to finish, PID 16460... <strong style=\"color:green\">(success).</strong>"
      ],
      "text/plain": [
       "<IPython.core.display.HTML object>"
      ]
     },
     "metadata": {},
     "output_type": "display_data"
    },
    {
     "data": {
      "application/vnd.jupyter.widget-view+json": {
       "model_id": "0e78c229ab124938bffdcb58202dd703",
       "version_major": 2,
       "version_minor": 0
      },
      "text/plain": [
       "VBox(children=(Label(value=' 0.00MB of 0.00MB uploaded (0.00MB deduped)\\r'), FloatProgress(value=1.0, max=1.0)…"
      ]
     },
     "metadata": {},
     "output_type": "display_data"
    },
    {
     "data": {
      "text/html": [
       "<style>\n",
       "    table.wandb td:nth-child(1) { padding: 0 10px; text-align: right }\n",
       "    .wandb-row { display: flex; flex-direction: row; flex-wrap: wrap; width: 100% }\n",
       "    .wandb-col { display: flex; flex-direction: column; flex-basis: 100%; flex: 1; padding: 10px; }\n",
       "    </style>\n",
       "<div class=\"wandb-row\"><div class=\"wandb-col\">\n",
       "<h3>Run history:</h3><br/><table class=\"wandb\"><tr><td>average.fasttext validation accuracy</td><td>▁</td></tr><tr><td>average.fasttext validation balanced acc</td><td>▁</td></tr><tr><td>average.fasttext validation balanced adjusted accuracy</td><td>▁</td></tr></table><br/></div><div class=\"wandb-col\">\n",
       "<h3>Run summary:</h3><br/><table class=\"wandb\"><tr><td>average.fasttext validation accuracy</td><td>0.76439</td></tr><tr><td>average.fasttext validation balanced acc</td><td>0.73028</td></tr><tr><td>average.fasttext validation balanced adjusted accuracy</td><td>0.70576</td></tr></table>\n",
       "</div></div>\n",
       "Synced 4 W&B file(s), 0 media file(s), 0 artifact file(s) and 0 other file(s)\n",
       "<br/>Synced <strong style=\"color:#cdcd00\">celestial-sound-16</strong>: <a href=\"https://wandb.ai/awiedenroth/Oesch16_ohne_averages/runs/lhpqj420\" target=\"_blank\">https://wandb.ai/awiedenroth/Oesch16_ohne_averages/runs/lhpqj420</a><br/>\n",
       "Find logs at: <code>.\\wandb\\run-20220416_110451-lhpqj420\\logs</code><br/>\n"
      ],
      "text/plain": [
       "<IPython.core.display.HTML object>"
      ]
     },
     "metadata": {},
     "output_type": "display_data"
    },
    {
     "name": "stderr",
     "output_type": "stream",
     "text": [
      "wandb: wandb version 0.12.14 is available!  To upgrade, please run:\n",
      "wandb:  $ pip install wandb --upgrade\n"
     ]
    },
    {
     "data": {
      "text/html": [
       "\n",
       "                    Syncing run <strong><a href=\"https://wandb.ai/awiedenroth/Oesch16_ohne_averages/runs/3nu92anx\" target=\"_blank\">valiant-plant-17</a></strong> to <a href=\"https://wandb.ai/awiedenroth/Oesch16_ohne_averages\" target=\"_blank\">Weights & Biases</a> (<a href=\"https://docs.wandb.com/integrations/jupyter.html\" target=\"_blank\">docs</a>).<br/>\n",
       "\n",
       "                "
      ],
      "text/plain": [
       "<IPython.core.display.HTML object>"
      ]
     },
     "metadata": {},
     "output_type": "display_data"
    },
    {
     "data": {
      "text/html": [
       "<br/>Waiting for W&B process to finish, PID 15284... <strong style=\"color:green\">(success).</strong>"
      ],
      "text/plain": [
       "<IPython.core.display.HTML object>"
      ]
     },
     "metadata": {},
     "output_type": "display_data"
    },
    {
     "data": {
      "application/vnd.jupyter.widget-view+json": {
       "model_id": "faa839d5890f4a91b32e67479b0e36c6",
       "version_major": 2,
       "version_minor": 0
      },
      "text/plain": [
       "VBox(children=(Label(value=' 0.00MB of 0.00MB uploaded (0.00MB deduped)\\r'), FloatProgress(value=1.0, max=1.0)…"
      ]
     },
     "metadata": {},
     "output_type": "display_data"
    },
    {
     "data": {
      "text/html": [
       "<style>\n",
       "    table.wandb td:nth-child(1) { padding: 0 10px; text-align: right }\n",
       "    .wandb-row { display: flex; flex-direction: row; flex-wrap: wrap; width: 100% }\n",
       "    .wandb-col { display: flex; flex-direction: column; flex-basis: 100%; flex: 1; padding: 10px; }\n",
       "    </style>\n",
       "<div class=\"wandb-row\"><div class=\"wandb-col\">\n",
       "<h3>Run history:</h3><br/><table class=\"wandb\"><tr><td>average.fasttext validation accuracy</td><td>▁</td></tr><tr><td>average.fasttext validation balanced acc</td><td>▁</td></tr><tr><td>average.fasttext validation balanced adjusted accuracy</td><td>▁</td></tr></table><br/></div><div class=\"wandb-col\">\n",
       "<h3>Run summary:</h3><br/><table class=\"wandb\"><tr><td>average.fasttext validation accuracy</td><td>0.747</td></tr><tr><td>average.fasttext validation balanced acc</td><td>0.68867</td></tr><tr><td>average.fasttext validation balanced adjusted accuracy</td><td>0.66067</td></tr></table>\n",
       "</div></div>\n",
       "Synced 4 W&B file(s), 0 media file(s), 0 artifact file(s) and 0 other file(s)\n",
       "<br/>Synced <strong style=\"color:#cdcd00\">valiant-plant-17</strong>: <a href=\"https://wandb.ai/awiedenroth/Oesch16_ohne_averages/runs/3nu92anx\" target=\"_blank\">https://wandb.ai/awiedenroth/Oesch16_ohne_averages/runs/3nu92anx</a><br/>\n",
       "Find logs at: <code>.\\wandb\\run-20220416_110506-3nu92anx\\logs</code><br/>\n"
      ],
      "text/plain": [
       "<IPython.core.display.HTML object>"
      ]
     },
     "metadata": {},
     "output_type": "display_data"
    },
    {
     "name": "stderr",
     "output_type": "stream",
     "text": [
      "wandb: wandb version 0.12.14 is available!  To upgrade, please run:\n",
      "wandb:  $ pip install wandb --upgrade\n"
     ]
    },
    {
     "data": {
      "text/html": [
       "\n",
       "                    Syncing run <strong><a href=\"https://wandb.ai/awiedenroth/Oesch16_ohne_averages/runs/ai5etvc8\" target=\"_blank\">grateful-dragon-18</a></strong> to <a href=\"https://wandb.ai/awiedenroth/Oesch16_ohne_averages\" target=\"_blank\">Weights & Biases</a> (<a href=\"https://docs.wandb.com/integrations/jupyter.html\" target=\"_blank\">docs</a>).<br/>\n",
       "\n",
       "                "
      ],
      "text/plain": [
       "<IPython.core.display.HTML object>"
      ]
     },
     "metadata": {},
     "output_type": "display_data"
    },
    {
     "data": {
      "text/html": [
       "<br/>Waiting for W&B process to finish, PID 8592... <strong style=\"color:green\">(success).</strong>"
      ],
      "text/plain": [
       "<IPython.core.display.HTML object>"
      ]
     },
     "metadata": {},
     "output_type": "display_data"
    },
    {
     "data": {
      "application/vnd.jupyter.widget-view+json": {
       "model_id": "876de495896242a59fdf3888581b06f6",
       "version_major": 2,
       "version_minor": 0
      },
      "text/plain": [
       "VBox(children=(Label(value=' 0.00MB of 0.00MB uploaded (0.00MB deduped)\\r'), FloatProgress(value=1.0, max=1.0)…"
      ]
     },
     "metadata": {},
     "output_type": "display_data"
    },
    {
     "data": {
      "text/html": [
       "<style>\n",
       "    table.wandb td:nth-child(1) { padding: 0 10px; text-align: right }\n",
       "    .wandb-row { display: flex; flex-direction: row; flex-wrap: wrap; width: 100% }\n",
       "    .wandb-col { display: flex; flex-direction: column; flex-basis: 100%; flex: 1; padding: 10px; }\n",
       "    </style>\n",
       "<div class=\"wandb-row\"><div class=\"wandb-col\">\n",
       "<h3>Run history:</h3><br/><table class=\"wandb\"><tr><td>average.fasttext validation accuracy</td><td>▁</td></tr><tr><td>average.fasttext validation balanced acc</td><td>▁</td></tr><tr><td>average.fasttext validation balanced adjusted accuracy</td><td>▁</td></tr></table><br/></div><div class=\"wandb-col\">\n",
       "<h3>Run summary:</h3><br/><table class=\"wandb\"><tr><td>average.fasttext validation accuracy</td><td>0.75433</td></tr><tr><td>average.fasttext validation balanced acc</td><td>0.69433</td></tr><tr><td>average.fasttext validation balanced adjusted accuracy</td><td>0.667</td></tr></table>\n",
       "</div></div>\n",
       "Synced 4 W&B file(s), 0 media file(s), 0 artifact file(s) and 0 other file(s)\n",
       "<br/>Synced <strong style=\"color:#cdcd00\">grateful-dragon-18</strong>: <a href=\"https://wandb.ai/awiedenroth/Oesch16_ohne_averages/runs/ai5etvc8\" target=\"_blank\">https://wandb.ai/awiedenroth/Oesch16_ohne_averages/runs/ai5etvc8</a><br/>\n",
       "Find logs at: <code>.\\wandb\\run-20220416_110521-ai5etvc8\\logs</code><br/>\n"
      ],
      "text/plain": [
       "<IPython.core.display.HTML object>"
      ]
     },
     "metadata": {},
     "output_type": "display_data"
    },
    {
     "name": "stderr",
     "output_type": "stream",
     "text": [
      "wandb: wandb version 0.12.14 is available!  To upgrade, please run:\n",
      "wandb:  $ pip install wandb --upgrade\n"
     ]
    },
    {
     "data": {
      "text/html": [
       "\n",
       "                    Syncing run <strong><a href=\"https://wandb.ai/awiedenroth/Oesch16_ohne_averages/runs/11o9emcm\" target=\"_blank\">crisp-salad-19</a></strong> to <a href=\"https://wandb.ai/awiedenroth/Oesch16_ohne_averages\" target=\"_blank\">Weights & Biases</a> (<a href=\"https://docs.wandb.com/integrations/jupyter.html\" target=\"_blank\">docs</a>).<br/>\n",
       "\n",
       "                "
      ],
      "text/plain": [
       "<IPython.core.display.HTML object>"
      ]
     },
     "metadata": {},
     "output_type": "display_data"
    },
    {
     "data": {
      "text/html": [
       "<br/>Waiting for W&B process to finish, PID 14552... <strong style=\"color:green\">(success).</strong>"
      ],
      "text/plain": [
       "<IPython.core.display.HTML object>"
      ]
     },
     "metadata": {},
     "output_type": "display_data"
    },
    {
     "data": {
      "application/vnd.jupyter.widget-view+json": {
       "model_id": "66c89098f8444712888d01172bb91055",
       "version_major": 2,
       "version_minor": 0
      },
      "text/plain": [
       "VBox(children=(Label(value=' 0.00MB of 0.00MB uploaded (0.00MB deduped)\\r'), FloatProgress(value=1.0, max=1.0)…"
      ]
     },
     "metadata": {},
     "output_type": "display_data"
    },
    {
     "data": {
      "text/html": [
       "<style>\n",
       "    table.wandb td:nth-child(1) { padding: 0 10px; text-align: right }\n",
       "    .wandb-row { display: flex; flex-direction: row; flex-wrap: wrap; width: 100% }\n",
       "    .wandb-col { display: flex; flex-direction: column; flex-basis: 100%; flex: 1; padding: 10px; }\n",
       "    </style>\n",
       "<div class=\"wandb-row\"><div class=\"wandb-col\">\n",
       "<h3>Run history:</h3><br/><table class=\"wandb\"><tr><td>average.fasttext validation accuracy</td><td>▁</td></tr><tr><td>average.fasttext validation balanced acc</td><td>▁</td></tr><tr><td>average.fasttext validation balanced adjusted accuracy</td><td>▁</td></tr></table><br/></div><div class=\"wandb-col\">\n",
       "<h3>Run summary:</h3><br/><table class=\"wandb\"><tr><td>average.fasttext validation accuracy</td><td>0.75133</td></tr><tr><td>average.fasttext validation balanced acc</td><td>0.69233</td></tr><tr><td>average.fasttext validation balanced adjusted accuracy</td><td>0.66433</td></tr></table>\n",
       "</div></div>\n",
       "Synced 4 W&B file(s), 0 media file(s), 0 artifact file(s) and 0 other file(s)\n",
       "<br/>Synced <strong style=\"color:#cdcd00\">crisp-salad-19</strong>: <a href=\"https://wandb.ai/awiedenroth/Oesch16_ohne_averages/runs/11o9emcm\" target=\"_blank\">https://wandb.ai/awiedenroth/Oesch16_ohne_averages/runs/11o9emcm</a><br/>\n",
       "Find logs at: <code>.\\wandb\\run-20220416_110536-11o9emcm\\logs</code><br/>\n"
      ],
      "text/plain": [
       "<IPython.core.display.HTML object>"
      ]
     },
     "metadata": {},
     "output_type": "display_data"
    },
    {
     "name": "stderr",
     "output_type": "stream",
     "text": [
      "wandb: wandb version 0.12.14 is available!  To upgrade, please run:\n",
      "wandb:  $ pip install wandb --upgrade\n"
     ]
    },
    {
     "data": {
      "text/html": [
       "\n",
       "                    Syncing run <strong><a href=\"https://wandb.ai/awiedenroth/Oesch16_ohne_averages/runs/1vti1ha5\" target=\"_blank\">sandy-sound-20</a></strong> to <a href=\"https://wandb.ai/awiedenroth/Oesch16_ohne_averages\" target=\"_blank\">Weights & Biases</a> (<a href=\"https://docs.wandb.com/integrations/jupyter.html\" target=\"_blank\">docs</a>).<br/>\n",
       "\n",
       "                "
      ],
      "text/plain": [
       "<IPython.core.display.HTML object>"
      ]
     },
     "metadata": {},
     "output_type": "display_data"
    },
    {
     "data": {
      "text/html": [
       "<br/>Waiting for W&B process to finish, PID 18868... <strong style=\"color:green\">(success).</strong>"
      ],
      "text/plain": [
       "<IPython.core.display.HTML object>"
      ]
     },
     "metadata": {},
     "output_type": "display_data"
    },
    {
     "data": {
      "application/vnd.jupyter.widget-view+json": {
       "model_id": "3cfdfa3d928a47a48538c8d9eacc3c14",
       "version_major": 2,
       "version_minor": 0
      },
      "text/plain": [
       "VBox(children=(Label(value=' 0.00MB of 0.00MB uploaded (0.00MB deduped)\\r'), FloatProgress(value=1.0, max=1.0)…"
      ]
     },
     "metadata": {},
     "output_type": "display_data"
    },
    {
     "data": {
      "text/html": [
       "<style>\n",
       "    table.wandb td:nth-child(1) { padding: 0 10px; text-align: right }\n",
       "    .wandb-row { display: flex; flex-direction: row; flex-wrap: wrap; width: 100% }\n",
       "    .wandb-col { display: flex; flex-direction: column; flex-basis: 100%; flex: 1; padding: 10px; }\n",
       "    </style>\n",
       "<div class=\"wandb-row\"><div class=\"wandb-col\">\n",
       "<h3>Run history:</h3><br/><table class=\"wandb\"><tr><td>average.fasttext validation accuracy</td><td>▁</td></tr><tr><td>average.fasttext validation balanced acc</td><td>▁</td></tr><tr><td>average.fasttext validation balanced adjusted accuracy</td><td>▁</td></tr></table><br/></div><div class=\"wandb-col\">\n",
       "<h3>Run summary:</h3><br/><table class=\"wandb\"><tr><td>average.fasttext validation accuracy</td><td>0.75733</td></tr><tr><td>average.fasttext validation balanced acc</td><td>0.697</td></tr><tr><td>average.fasttext validation balanced adjusted accuracy</td><td>0.66933</td></tr></table>\n",
       "</div></div>\n",
       "Synced 4 W&B file(s), 0 media file(s), 0 artifact file(s) and 0 other file(s)\n",
       "<br/>Synced <strong style=\"color:#cdcd00\">sandy-sound-20</strong>: <a href=\"https://wandb.ai/awiedenroth/Oesch16_ohne_averages/runs/1vti1ha5\" target=\"_blank\">https://wandb.ai/awiedenroth/Oesch16_ohne_averages/runs/1vti1ha5</a><br/>\n",
       "Find logs at: <code>.\\wandb\\run-20220416_110551-1vti1ha5\\logs</code><br/>\n"
      ],
      "text/plain": [
       "<IPython.core.display.HTML object>"
      ]
     },
     "metadata": {},
     "output_type": "display_data"
    },
    {
     "name": "stderr",
     "output_type": "stream",
     "text": [
      "wandb: wandb version 0.12.14 is available!  To upgrade, please run:\n",
      "wandb:  $ pip install wandb --upgrade\n"
     ]
    },
    {
     "data": {
      "text/html": [
       "\n",
       "                    Syncing run <strong><a href=\"https://wandb.ai/awiedenroth/Oesch16_ohne_averages/runs/1pupwvuo\" target=\"_blank\">lemon-water-21</a></strong> to <a href=\"https://wandb.ai/awiedenroth/Oesch16_ohne_averages\" target=\"_blank\">Weights & Biases</a> (<a href=\"https://docs.wandb.com/integrations/jupyter.html\" target=\"_blank\">docs</a>).<br/>\n",
       "\n",
       "                "
      ],
      "text/plain": [
       "<IPython.core.display.HTML object>"
      ]
     },
     "metadata": {},
     "output_type": "display_data"
    },
    {
     "data": {
      "text/html": [
       "<br/>Waiting for W&B process to finish, PID 10212... <strong style=\"color:green\">(success).</strong>"
      ],
      "text/plain": [
       "<IPython.core.display.HTML object>"
      ]
     },
     "metadata": {},
     "output_type": "display_data"
    },
    {
     "data": {
      "application/vnd.jupyter.widget-view+json": {
       "model_id": "8c38d9a00e4f4d5badb8c5ce072246ea",
       "version_major": 2,
       "version_minor": 0
      },
      "text/plain": [
       "VBox(children=(Label(value=' 0.00MB of 0.00MB uploaded (0.00MB deduped)\\r'), FloatProgress(value=1.0, max=1.0)…"
      ]
     },
     "metadata": {},
     "output_type": "display_data"
    },
    {
     "data": {
      "text/html": [
       "<style>\n",
       "    table.wandb td:nth-child(1) { padding: 0 10px; text-align: right }\n",
       "    .wandb-row { display: flex; flex-direction: row; flex-wrap: wrap; width: 100% }\n",
       "    .wandb-col { display: flex; flex-direction: column; flex-basis: 100%; flex: 1; padding: 10px; }\n",
       "    </style>\n",
       "<div class=\"wandb-row\"><div class=\"wandb-col\">\n",
       "<h3>Run history:</h3><br/><table class=\"wandb\"><tr><td>average.fasttext validation accuracy</td><td>▁</td></tr><tr><td>average.fasttext validation balanced acc</td><td>▁</td></tr><tr><td>average.fasttext validation balanced adjusted accuracy</td><td>▁</td></tr></table><br/></div><div class=\"wandb-col\">\n",
       "<h3>Run summary:</h3><br/><table class=\"wandb\"><tr><td>average.fasttext validation accuracy</td><td>0.74867</td></tr><tr><td>average.fasttext validation balanced acc</td><td>0.692</td></tr><tr><td>average.fasttext validation balanced adjusted accuracy</td><td>0.66367</td></tr></table>\n",
       "</div></div>\n",
       "Synced 4 W&B file(s), 0 media file(s), 0 artifact file(s) and 0 other file(s)\n",
       "<br/>Synced <strong style=\"color:#cdcd00\">lemon-water-21</strong>: <a href=\"https://wandb.ai/awiedenroth/Oesch16_ohne_averages/runs/1pupwvuo\" target=\"_blank\">https://wandb.ai/awiedenroth/Oesch16_ohne_averages/runs/1pupwvuo</a><br/>\n",
       "Find logs at: <code>.\\wandb\\run-20220416_110607-1pupwvuo\\logs</code><br/>\n"
      ],
      "text/plain": [
       "<IPython.core.display.HTML object>"
      ]
     },
     "metadata": {},
     "output_type": "display_data"
    },
    {
     "name": "stderr",
     "output_type": "stream",
     "text": [
      "wandb: wandb version 0.12.14 is available!  To upgrade, please run:\n",
      "wandb:  $ pip install wandb --upgrade\n"
     ]
    },
    {
     "data": {
      "text/html": [
       "\n",
       "                    Syncing run <strong><a href=\"https://wandb.ai/awiedenroth/Oesch16_ohne_averages/runs/1fe26idg\" target=\"_blank\">stoic-dew-22</a></strong> to <a href=\"https://wandb.ai/awiedenroth/Oesch16_ohne_averages\" target=\"_blank\">Weights & Biases</a> (<a href=\"https://docs.wandb.com/integrations/jupyter.html\" target=\"_blank\">docs</a>).<br/>\n",
       "\n",
       "                "
      ],
      "text/plain": [
       "<IPython.core.display.HTML object>"
      ]
     },
     "metadata": {},
     "output_type": "display_data"
    },
    {
     "data": {
      "text/html": [
       "<br/>Waiting for W&B process to finish, PID 19808... <strong style=\"color:green\">(success).</strong>"
      ],
      "text/plain": [
       "<IPython.core.display.HTML object>"
      ]
     },
     "metadata": {},
     "output_type": "display_data"
    },
    {
     "data": {
      "application/vnd.jupyter.widget-view+json": {
       "model_id": "3a2abc54470545a6ac6971024f8819a0",
       "version_major": 2,
       "version_minor": 0
      },
      "text/plain": [
       "VBox(children=(Label(value=' 0.00MB of 0.00MB uploaded (0.00MB deduped)\\r'), FloatProgress(value=1.0, max=1.0)…"
      ]
     },
     "metadata": {},
     "output_type": "display_data"
    },
    {
     "data": {
      "text/html": [
       "<style>\n",
       "    table.wandb td:nth-child(1) { padding: 0 10px; text-align: right }\n",
       "    .wandb-row { display: flex; flex-direction: row; flex-wrap: wrap; width: 100% }\n",
       "    .wandb-col { display: flex; flex-direction: column; flex-basis: 100%; flex: 1; padding: 10px; }\n",
       "    </style>\n",
       "<div class=\"wandb-row\"><div class=\"wandb-col\">\n",
       "<h3>Run history:</h3><br/><table class=\"wandb\"><tr><td>average.fasttext validation accuracy</td><td>▁</td></tr><tr><td>average.fasttext validation balanced acc</td><td>▁</td></tr><tr><td>average.fasttext validation balanced adjusted accuracy</td><td>▁</td></tr></table><br/></div><div class=\"wandb-col\">\n",
       "<h3>Run summary:</h3><br/><table class=\"wandb\"><tr><td>average.fasttext validation accuracy</td><td>0.75467</td></tr><tr><td>average.fasttext validation balanced acc</td><td>0.694</td></tr><tr><td>average.fasttext validation balanced adjusted accuracy</td><td>0.666</td></tr></table>\n",
       "</div></div>\n",
       "Synced 4 W&B file(s), 0 media file(s), 0 artifact file(s) and 0 other file(s)\n",
       "<br/>Synced <strong style=\"color:#cdcd00\">stoic-dew-22</strong>: <a href=\"https://wandb.ai/awiedenroth/Oesch16_ohne_averages/runs/1fe26idg\" target=\"_blank\">https://wandb.ai/awiedenroth/Oesch16_ohne_averages/runs/1fe26idg</a><br/>\n",
       "Find logs at: <code>.\\wandb\\run-20220416_110622-1fe26idg\\logs</code><br/>\n"
      ],
      "text/plain": [
       "<IPython.core.display.HTML object>"
      ]
     },
     "metadata": {},
     "output_type": "display_data"
    },
    {
     "name": "stderr",
     "output_type": "stream",
     "text": [
      "wandb: wandb version 0.12.14 is available!  To upgrade, please run:\n",
      "wandb:  $ pip install wandb --upgrade\n"
     ]
    },
    {
     "data": {
      "text/html": [
       "\n",
       "                    Syncing run <strong><a href=\"https://wandb.ai/awiedenroth/Oesch16_ohne_averages/runs/obl6kx7p\" target=\"_blank\">visionary-pyramid-23</a></strong> to <a href=\"https://wandb.ai/awiedenroth/Oesch16_ohne_averages\" target=\"_blank\">Weights & Biases</a> (<a href=\"https://docs.wandb.com/integrations/jupyter.html\" target=\"_blank\">docs</a>).<br/>\n",
       "\n",
       "                "
      ],
      "text/plain": [
       "<IPython.core.display.HTML object>"
      ]
     },
     "metadata": {},
     "output_type": "display_data"
    },
    {
     "data": {
      "text/html": [
       "<br/>Waiting for W&B process to finish, PID 12796... <strong style=\"color:green\">(success).</strong>"
      ],
      "text/plain": [
       "<IPython.core.display.HTML object>"
      ]
     },
     "metadata": {},
     "output_type": "display_data"
    },
    {
     "data": {
      "application/vnd.jupyter.widget-view+json": {
       "model_id": "09cd1bb6e8f5429581403754a66c674c",
       "version_major": 2,
       "version_minor": 0
      },
      "text/plain": [
       "VBox(children=(Label(value=' 0.00MB of 0.00MB uploaded (0.00MB deduped)\\r'), FloatProgress(value=1.0, max=1.0)…"
      ]
     },
     "metadata": {},
     "output_type": "display_data"
    },
    {
     "data": {
      "text/html": [
       "<style>\n",
       "    table.wandb td:nth-child(1) { padding: 0 10px; text-align: right }\n",
       "    .wandb-row { display: flex; flex-direction: row; flex-wrap: wrap; width: 100% }\n",
       "    .wandb-col { display: flex; flex-direction: column; flex-basis: 100%; flex: 1; padding: 10px; }\n",
       "    </style>\n",
       "<div class=\"wandb-row\"><div class=\"wandb-col\">\n",
       "<h3>Run history:</h3><br/><table class=\"wandb\"><tr><td>average.fasttext validation accuracy</td><td>▁</td></tr><tr><td>average.fasttext validation balanced acc</td><td>▁</td></tr><tr><td>average.fasttext validation balanced adjusted accuracy</td><td>▁</td></tr></table><br/></div><div class=\"wandb-col\">\n",
       "<h3>Run summary:</h3><br/><table class=\"wandb\"><tr><td>average.fasttext validation accuracy</td><td>0.75133</td></tr><tr><td>average.fasttext validation balanced acc</td><td>0.694</td></tr><tr><td>average.fasttext validation balanced adjusted accuracy</td><td>0.666</td></tr></table>\n",
       "</div></div>\n",
       "Synced 4 W&B file(s), 0 media file(s), 0 artifact file(s) and 0 other file(s)\n",
       "<br/>Synced <strong style=\"color:#cdcd00\">visionary-pyramid-23</strong>: <a href=\"https://wandb.ai/awiedenroth/Oesch16_ohne_averages/runs/obl6kx7p\" target=\"_blank\">https://wandb.ai/awiedenroth/Oesch16_ohne_averages/runs/obl6kx7p</a><br/>\n",
       "Find logs at: <code>.\\wandb\\run-20220416_110638-obl6kx7p\\logs</code><br/>\n"
      ],
      "text/plain": [
       "<IPython.core.display.HTML object>"
      ]
     },
     "metadata": {},
     "output_type": "display_data"
    },
    {
     "name": "stderr",
     "output_type": "stream",
     "text": [
      "wandb: wandb version 0.12.14 is available!  To upgrade, please run:\n",
      "wandb:  $ pip install wandb --upgrade\n"
     ]
    },
    {
     "data": {
      "text/html": [
       "\n",
       "                    Syncing run <strong><a href=\"https://wandb.ai/awiedenroth/Oesch16_ohne_averages/runs/v5j5nfy3\" target=\"_blank\">upbeat-lion-24</a></strong> to <a href=\"https://wandb.ai/awiedenroth/Oesch16_ohne_averages\" target=\"_blank\">Weights & Biases</a> (<a href=\"https://docs.wandb.com/integrations/jupyter.html\" target=\"_blank\">docs</a>).<br/>\n",
       "\n",
       "                "
      ],
      "text/plain": [
       "<IPython.core.display.HTML object>"
      ]
     },
     "metadata": {},
     "output_type": "display_data"
    },
    {
     "data": {
      "text/html": [
       "<br/>Waiting for W&B process to finish, PID 11724... <strong style=\"color:green\">(success).</strong>"
      ],
      "text/plain": [
       "<IPython.core.display.HTML object>"
      ]
     },
     "metadata": {},
     "output_type": "display_data"
    },
    {
     "data": {
      "application/vnd.jupyter.widget-view+json": {
       "model_id": "afb3ef03faf144bda8a4b5cc9c27df5a",
       "version_major": 2,
       "version_minor": 0
      },
      "text/plain": [
       "VBox(children=(Label(value=' 0.00MB of 0.00MB uploaded (0.00MB deduped)\\r'), FloatProgress(value=1.0, max=1.0)…"
      ]
     },
     "metadata": {},
     "output_type": "display_data"
    },
    {
     "data": {
      "text/html": [
       "<style>\n",
       "    table.wandb td:nth-child(1) { padding: 0 10px; text-align: right }\n",
       "    .wandb-row { display: flex; flex-direction: row; flex-wrap: wrap; width: 100% }\n",
       "    .wandb-col { display: flex; flex-direction: column; flex-basis: 100%; flex: 1; padding: 10px; }\n",
       "    </style>\n",
       "<div class=\"wandb-row\"><div class=\"wandb-col\">\n",
       "<h3>Run history:</h3><br/><table class=\"wandb\"><tr><td>average.fasttext validation accuracy</td><td>▁</td></tr><tr><td>average.fasttext validation balanced acc</td><td>▁</td></tr><tr><td>average.fasttext validation balanced adjusted accuracy</td><td>▁</td></tr></table><br/></div><div class=\"wandb-col\">\n",
       "<h3>Run summary:</h3><br/><table class=\"wandb\"><tr><td>average.fasttext validation accuracy</td><td>0.75733</td></tr><tr><td>average.fasttext validation balanced acc</td><td>0.69767</td></tr><tr><td>average.fasttext validation balanced adjusted accuracy</td><td>0.67067</td></tr></table>\n",
       "</div></div>\n",
       "Synced 4 W&B file(s), 0 media file(s), 0 artifact file(s) and 0 other file(s)\n",
       "<br/>Synced <strong style=\"color:#cdcd00\">upbeat-lion-24</strong>: <a href=\"https://wandb.ai/awiedenroth/Oesch16_ohne_averages/runs/v5j5nfy3\" target=\"_blank\">https://wandb.ai/awiedenroth/Oesch16_ohne_averages/runs/v5j5nfy3</a><br/>\n",
       "Find logs at: <code>.\\wandb\\run-20220416_110653-v5j5nfy3\\logs</code><br/>\n"
      ],
      "text/plain": [
       "<IPython.core.display.HTML object>"
      ]
     },
     "metadata": {},
     "output_type": "display_data"
    },
    {
     "name": "stderr",
     "output_type": "stream",
     "text": [
      "wandb: wandb version 0.12.14 is available!  To upgrade, please run:\n",
      "wandb:  $ pip install wandb --upgrade\n"
     ]
    },
    {
     "data": {
      "text/html": [
       "\n",
       "                    Syncing run <strong><a href=\"https://wandb.ai/awiedenroth/Oesch16_ohne_averages/runs/10f6emzu\" target=\"_blank\">rare-aardvark-25</a></strong> to <a href=\"https://wandb.ai/awiedenroth/Oesch16_ohne_averages\" target=\"_blank\">Weights & Biases</a> (<a href=\"https://docs.wandb.com/integrations/jupyter.html\" target=\"_blank\">docs</a>).<br/>\n",
       "\n",
       "                "
      ],
      "text/plain": [
       "<IPython.core.display.HTML object>"
      ]
     },
     "metadata": {},
     "output_type": "display_data"
    },
    {
     "data": {
      "text/html": [
       "<br/>Waiting for W&B process to finish, PID 132... <strong style=\"color:green\">(success).</strong>"
      ],
      "text/plain": [
       "<IPython.core.display.HTML object>"
      ]
     },
     "metadata": {},
     "output_type": "display_data"
    },
    {
     "data": {
      "application/vnd.jupyter.widget-view+json": {
       "model_id": "70064c1617da43b189ceef8c30711042",
       "version_major": 2,
       "version_minor": 0
      },
      "text/plain": [
       "VBox(children=(Label(value=' 0.00MB of 0.00MB uploaded (0.00MB deduped)\\r'), FloatProgress(value=1.0, max=1.0)…"
      ]
     },
     "metadata": {},
     "output_type": "display_data"
    },
    {
     "data": {
      "text/html": [
       "<style>\n",
       "    table.wandb td:nth-child(1) { padding: 0 10px; text-align: right }\n",
       "    .wandb-row { display: flex; flex-direction: row; flex-wrap: wrap; width: 100% }\n",
       "    .wandb-col { display: flex; flex-direction: column; flex-basis: 100%; flex: 1; padding: 10px; }\n",
       "    </style>\n",
       "<div class=\"wandb-row\"><div class=\"wandb-col\">\n",
       "<h3>Run history:</h3><br/><table class=\"wandb\"><tr><td>average.fasttext validation accuracy</td><td>▁</td></tr><tr><td>average.fasttext validation balanced acc</td><td>▁</td></tr><tr><td>average.fasttext validation balanced adjusted accuracy</td><td>▁</td></tr></table><br/></div><div class=\"wandb-col\">\n",
       "<h3>Run summary:</h3><br/><table class=\"wandb\"><tr><td>average.fasttext validation accuracy</td><td>0.75367</td></tr><tr><td>average.fasttext validation balanced acc</td><td>0.69333</td></tr><tr><td>average.fasttext validation balanced adjusted accuracy</td><td>0.66533</td></tr></table>\n",
       "</div></div>\n",
       "Synced 4 W&B file(s), 0 media file(s), 0 artifact file(s) and 0 other file(s)\n",
       "<br/>Synced <strong style=\"color:#cdcd00\">rare-aardvark-25</strong>: <a href=\"https://wandb.ai/awiedenroth/Oesch16_ohne_averages/runs/10f6emzu\" target=\"_blank\">https://wandb.ai/awiedenroth/Oesch16_ohne_averages/runs/10f6emzu</a><br/>\n",
       "Find logs at: <code>.\\wandb\\run-20220416_110709-10f6emzu\\logs</code><br/>\n"
      ],
      "text/plain": [
       "<IPython.core.display.HTML object>"
      ]
     },
     "metadata": {},
     "output_type": "display_data"
    },
    {
     "name": "stderr",
     "output_type": "stream",
     "text": [
      "wandb: wandb version 0.12.14 is available!  To upgrade, please run:\n",
      "wandb:  $ pip install wandb --upgrade\n"
     ]
    },
    {
     "data": {
      "text/html": [
       "\n",
       "                    Syncing run <strong><a href=\"https://wandb.ai/awiedenroth/Oesch16_ohne_averages/runs/2cqpr1mr\" target=\"_blank\">worthy-disco-26</a></strong> to <a href=\"https://wandb.ai/awiedenroth/Oesch16_ohne_averages\" target=\"_blank\">Weights & Biases</a> (<a href=\"https://docs.wandb.com/integrations/jupyter.html\" target=\"_blank\">docs</a>).<br/>\n",
       "\n",
       "                "
      ],
      "text/plain": [
       "<IPython.core.display.HTML object>"
      ]
     },
     "metadata": {},
     "output_type": "display_data"
    },
    {
     "data": {
      "text/html": [
       "<br/>Waiting for W&B process to finish, PID 20600... <strong style=\"color:green\">(success).</strong>"
      ],
      "text/plain": [
       "<IPython.core.display.HTML object>"
      ]
     },
     "metadata": {},
     "output_type": "display_data"
    },
    {
     "data": {
      "application/vnd.jupyter.widget-view+json": {
       "model_id": "9c98377ca7f9422ea2bc6e7976461f62",
       "version_major": 2,
       "version_minor": 0
      },
      "text/plain": [
       "VBox(children=(Label(value=' 0.00MB of 0.00MB uploaded (0.00MB deduped)\\r'), FloatProgress(value=1.0, max=1.0)…"
      ]
     },
     "metadata": {},
     "output_type": "display_data"
    },
    {
     "data": {
      "text/html": [
       "<style>\n",
       "    table.wandb td:nth-child(1) { padding: 0 10px; text-align: right }\n",
       "    .wandb-row { display: flex; flex-direction: row; flex-wrap: wrap; width: 100% }\n",
       "    .wandb-col { display: flex; flex-direction: column; flex-basis: 100%; flex: 1; padding: 10px; }\n",
       "    </style>\n",
       "<div class=\"wandb-row\"><div class=\"wandb-col\">\n",
       "<h3>Run history:</h3><br/><table class=\"wandb\"><tr><td>average.fasttext validation accuracy</td><td>▁</td></tr><tr><td>average.fasttext validation balanced acc</td><td>▁</td></tr><tr><td>average.fasttext validation balanced adjusted accuracy</td><td>▁</td></tr></table><br/></div><div class=\"wandb-col\">\n",
       "<h3>Run summary:</h3><br/><table class=\"wandb\"><tr><td>average.fasttext validation accuracy</td><td>0.75867</td></tr><tr><td>average.fasttext validation balanced acc</td><td>0.7</td></tr><tr><td>average.fasttext validation balanced adjusted accuracy</td><td>0.67267</td></tr></table>\n",
       "</div></div>\n",
       "Synced 4 W&B file(s), 0 media file(s), 0 artifact file(s) and 0 other file(s)\n",
       "<br/>Synced <strong style=\"color:#cdcd00\">worthy-disco-26</strong>: <a href=\"https://wandb.ai/awiedenroth/Oesch16_ohne_averages/runs/2cqpr1mr\" target=\"_blank\">https://wandb.ai/awiedenroth/Oesch16_ohne_averages/runs/2cqpr1mr</a><br/>\n",
       "Find logs at: <code>.\\wandb\\run-20220416_110725-2cqpr1mr\\logs</code><br/>\n"
      ],
      "text/plain": [
       "<IPython.core.display.HTML object>"
      ]
     },
     "metadata": {},
     "output_type": "display_data"
    },
    {
     "name": "stderr",
     "output_type": "stream",
     "text": [
      "wandb: wandb version 0.12.14 is available!  To upgrade, please run:\n",
      "wandb:  $ pip install wandb --upgrade\n"
     ]
    },
    {
     "data": {
      "text/html": [
       "\n",
       "                    Syncing run <strong><a href=\"https://wandb.ai/awiedenroth/Oesch16_ohne_averages/runs/2l46zj39\" target=\"_blank\">frosty-snowflake-27</a></strong> to <a href=\"https://wandb.ai/awiedenroth/Oesch16_ohne_averages\" target=\"_blank\">Weights & Biases</a> (<a href=\"https://docs.wandb.com/integrations/jupyter.html\" target=\"_blank\">docs</a>).<br/>\n",
       "\n",
       "                "
      ],
      "text/plain": [
       "<IPython.core.display.HTML object>"
      ]
     },
     "metadata": {},
     "output_type": "display_data"
    },
    {
     "data": {
      "text/html": [
       "<br/>Waiting for W&B process to finish, PID 15824... <strong style=\"color:green\">(success).</strong>"
      ],
      "text/plain": [
       "<IPython.core.display.HTML object>"
      ]
     },
     "metadata": {},
     "output_type": "display_data"
    },
    {
     "data": {
      "application/vnd.jupyter.widget-view+json": {
       "model_id": "8ee8156a029549709f7f659a9e95734c",
       "version_major": 2,
       "version_minor": 0
      },
      "text/plain": [
       "VBox(children=(Label(value=' 0.00MB of 0.00MB uploaded (0.00MB deduped)\\r'), FloatProgress(value=1.0, max=1.0)…"
      ]
     },
     "metadata": {},
     "output_type": "display_data"
    },
    {
     "data": {
      "text/html": [
       "<style>\n",
       "    table.wandb td:nth-child(1) { padding: 0 10px; text-align: right }\n",
       "    .wandb-row { display: flex; flex-direction: row; flex-wrap: wrap; width: 100% }\n",
       "    .wandb-col { display: flex; flex-direction: column; flex-basis: 100%; flex: 1; padding: 10px; }\n",
       "    </style>\n",
       "<div class=\"wandb-row\"><div class=\"wandb-col\">\n",
       "<h3>Run history:</h3><br/><table class=\"wandb\"><tr><td>average.fasttext validation accuracy</td><td>▁</td></tr><tr><td>average.fasttext validation balanced acc</td><td>▁</td></tr><tr><td>average.fasttext validation balanced adjusted accuracy</td><td>▁</td></tr></table><br/></div><div class=\"wandb-col\">\n",
       "<h3>Run summary:</h3><br/><table class=\"wandb\"><tr><td>average.fasttext validation accuracy</td><td>0.75533</td></tr><tr><td>average.fasttext validation balanced acc</td><td>0.695</td></tr><tr><td>average.fasttext validation balanced adjusted accuracy</td><td>0.66767</td></tr></table>\n",
       "</div></div>\n",
       "Synced 4 W&B file(s), 0 media file(s), 0 artifact file(s) and 0 other file(s)\n",
       "<br/>Synced <strong style=\"color:#cdcd00\">frosty-snowflake-27</strong>: <a href=\"https://wandb.ai/awiedenroth/Oesch16_ohne_averages/runs/2l46zj39\" target=\"_blank\">https://wandb.ai/awiedenroth/Oesch16_ohne_averages/runs/2l46zj39</a><br/>\n",
       "Find logs at: <code>.\\wandb\\run-20220416_110740-2l46zj39\\logs</code><br/>\n"
      ],
      "text/plain": [
       "<IPython.core.display.HTML object>"
      ]
     },
     "metadata": {},
     "output_type": "display_data"
    },
    {
     "name": "stderr",
     "output_type": "stream",
     "text": [
      "wandb: wandb version 0.12.14 is available!  To upgrade, please run:\n",
      "wandb:  $ pip install wandb --upgrade\n"
     ]
    },
    {
     "data": {
      "text/html": [
       "\n",
       "                    Syncing run <strong><a href=\"https://wandb.ai/awiedenroth/Oesch16_ohne_averages/runs/2tb405pg\" target=\"_blank\">effortless-snow-28</a></strong> to <a href=\"https://wandb.ai/awiedenroth/Oesch16_ohne_averages\" target=\"_blank\">Weights & Biases</a> (<a href=\"https://docs.wandb.com/integrations/jupyter.html\" target=\"_blank\">docs</a>).<br/>\n",
       "\n",
       "                "
      ],
      "text/plain": [
       "<IPython.core.display.HTML object>"
      ]
     },
     "metadata": {},
     "output_type": "display_data"
    },
    {
     "data": {
      "text/html": [
       "<br/>Waiting for W&B process to finish, PID 3592... <strong style=\"color:green\">(success).</strong>"
      ],
      "text/plain": [
       "<IPython.core.display.HTML object>"
      ]
     },
     "metadata": {},
     "output_type": "display_data"
    },
    {
     "data": {
      "application/vnd.jupyter.widget-view+json": {
       "model_id": "f5db4ef543384c24a45b749ce6707b03",
       "version_major": 2,
       "version_minor": 0
      },
      "text/plain": [
       "VBox(children=(Label(value=' 0.00MB of 0.00MB uploaded (0.00MB deduped)\\r'), FloatProgress(value=1.0, max=1.0)…"
      ]
     },
     "metadata": {},
     "output_type": "display_data"
    },
    {
     "data": {
      "text/html": [
       "<style>\n",
       "    table.wandb td:nth-child(1) { padding: 0 10px; text-align: right }\n",
       "    .wandb-row { display: flex; flex-direction: row; flex-wrap: wrap; width: 100% }\n",
       "    .wandb-col { display: flex; flex-direction: column; flex-basis: 100%; flex: 1; padding: 10px; }\n",
       "    </style>\n",
       "<div class=\"wandb-row\"><div class=\"wandb-col\">\n",
       "<h3>Run history:</h3><br/><table class=\"wandb\"><tr><td>average.fasttext validation accuracy</td><td>▁</td></tr><tr><td>average.fasttext validation balanced acc</td><td>▁</td></tr><tr><td>average.fasttext validation balanced adjusted accuracy</td><td>▁</td></tr></table><br/></div><div class=\"wandb-col\">\n",
       "<h3>Run summary:</h3><br/><table class=\"wandb\"><tr><td>average.fasttext validation accuracy</td><td>0.762</td></tr><tr><td>average.fasttext validation balanced acc</td><td>0.70533</td></tr><tr><td>average.fasttext validation balanced adjusted accuracy</td><td>0.67867</td></tr></table>\n",
       "</div></div>\n",
       "Synced 4 W&B file(s), 0 media file(s), 0 artifact file(s) and 0 other file(s)\n",
       "<br/>Synced <strong style=\"color:#cdcd00\">effortless-snow-28</strong>: <a href=\"https://wandb.ai/awiedenroth/Oesch16_ohne_averages/runs/2tb405pg\" target=\"_blank\">https://wandb.ai/awiedenroth/Oesch16_ohne_averages/runs/2tb405pg</a><br/>\n",
       "Find logs at: <code>.\\wandb\\run-20220416_110756-2tb405pg\\logs</code><br/>\n"
      ],
      "text/plain": [
       "<IPython.core.display.HTML object>"
      ]
     },
     "metadata": {},
     "output_type": "display_data"
    },
    {
     "name": "stderr",
     "output_type": "stream",
     "text": [
      "wandb: wandb version 0.12.14 is available!  To upgrade, please run:\n",
      "wandb:  $ pip install wandb --upgrade\n"
     ]
    },
    {
     "data": {
      "text/html": [
       "\n",
       "                    Syncing run <strong><a href=\"https://wandb.ai/awiedenroth/Oesch16_ohne_averages/runs/2tq3idbn\" target=\"_blank\">dark-energy-29</a></strong> to <a href=\"https://wandb.ai/awiedenroth/Oesch16_ohne_averages\" target=\"_blank\">Weights & Biases</a> (<a href=\"https://docs.wandb.com/integrations/jupyter.html\" target=\"_blank\">docs</a>).<br/>\n",
       "\n",
       "                "
      ],
      "text/plain": [
       "<IPython.core.display.HTML object>"
      ]
     },
     "metadata": {},
     "output_type": "display_data"
    },
    {
     "data": {
      "text/html": [
       "<br/>Waiting for W&B process to finish, PID 14436... <strong style=\"color:green\">(success).</strong>"
      ],
      "text/plain": [
       "<IPython.core.display.HTML object>"
      ]
     },
     "metadata": {},
     "output_type": "display_data"
    },
    {
     "data": {
      "application/vnd.jupyter.widget-view+json": {
       "model_id": "cbb10154f63547278e8f389f865d5c74",
       "version_major": 2,
       "version_minor": 0
      },
      "text/plain": [
       "VBox(children=(Label(value=' 0.00MB of 0.00MB uploaded (0.00MB deduped)\\r'), FloatProgress(value=1.0, max=1.0)…"
      ]
     },
     "metadata": {},
     "output_type": "display_data"
    },
    {
     "data": {
      "text/html": [
       "<style>\n",
       "    table.wandb td:nth-child(1) { padding: 0 10px; text-align: right }\n",
       "    .wandb-row { display: flex; flex-direction: row; flex-wrap: wrap; width: 100% }\n",
       "    .wandb-col { display: flex; flex-direction: column; flex-basis: 100%; flex: 1; padding: 10px; }\n",
       "    </style>\n",
       "<div class=\"wandb-row\"><div class=\"wandb-col\">\n",
       "<h3>Run history:</h3><br/><table class=\"wandb\"><tr><td>average.fasttext validation accuracy</td><td>▁</td></tr><tr><td>average.fasttext validation balanced acc</td><td>▁</td></tr><tr><td>average.fasttext validation balanced adjusted accuracy</td><td>▁</td></tr></table><br/></div><div class=\"wandb-col\">\n",
       "<h3>Run summary:</h3><br/><table class=\"wandb\"><tr><td>average.fasttext validation accuracy</td><td>0.75533</td></tr><tr><td>average.fasttext validation balanced acc</td><td>0.69433</td></tr><tr><td>average.fasttext validation balanced adjusted accuracy</td><td>0.66667</td></tr></table>\n",
       "</div></div>\n",
       "Synced 4 W&B file(s), 0 media file(s), 0 artifact file(s) and 0 other file(s)\n",
       "<br/>Synced <strong style=\"color:#cdcd00\">dark-energy-29</strong>: <a href=\"https://wandb.ai/awiedenroth/Oesch16_ohne_averages/runs/2tq3idbn\" target=\"_blank\">https://wandb.ai/awiedenroth/Oesch16_ohne_averages/runs/2tq3idbn</a><br/>\n",
       "Find logs at: <code>.\\wandb\\run-20220416_110812-2tq3idbn\\logs</code><br/>\n"
      ],
      "text/plain": [
       "<IPython.core.display.HTML object>"
      ]
     },
     "metadata": {},
     "output_type": "display_data"
    },
    {
     "name": "stderr",
     "output_type": "stream",
     "text": [
      "wandb: wandb version 0.12.14 is available!  To upgrade, please run:\n",
      "wandb:  $ pip install wandb --upgrade\n"
     ]
    },
    {
     "data": {
      "text/html": [
       "\n",
       "                    Syncing run <strong><a href=\"https://wandb.ai/awiedenroth/Oesch16_ohne_averages/runs/2tz035qk\" target=\"_blank\">balmy-moon-30</a></strong> to <a href=\"https://wandb.ai/awiedenroth/Oesch16_ohne_averages\" target=\"_blank\">Weights & Biases</a> (<a href=\"https://docs.wandb.com/integrations/jupyter.html\" target=\"_blank\">docs</a>).<br/>\n",
       "\n",
       "                "
      ],
      "text/plain": [
       "<IPython.core.display.HTML object>"
      ]
     },
     "metadata": {},
     "output_type": "display_data"
    },
    {
     "data": {
      "text/html": [
       "<br/>Waiting for W&B process to finish, PID 21804... <strong style=\"color:green\">(success).</strong>"
      ],
      "text/plain": [
       "<IPython.core.display.HTML object>"
      ]
     },
     "metadata": {},
     "output_type": "display_data"
    },
    {
     "data": {
      "application/vnd.jupyter.widget-view+json": {
       "model_id": "5825f60540ad498698d96d6f4b94ecb1",
       "version_major": 2,
       "version_minor": 0
      },
      "text/plain": [
       "VBox(children=(Label(value=' 0.00MB of 0.00MB uploaded (0.00MB deduped)\\r'), FloatProgress(value=1.0, max=1.0)…"
      ]
     },
     "metadata": {},
     "output_type": "display_data"
    },
    {
     "data": {
      "text/html": [
       "<style>\n",
       "    table.wandb td:nth-child(1) { padding: 0 10px; text-align: right }\n",
       "    .wandb-row { display: flex; flex-direction: row; flex-wrap: wrap; width: 100% }\n",
       "    .wandb-col { display: flex; flex-direction: column; flex-basis: 100%; flex: 1; padding: 10px; }\n",
       "    </style>\n",
       "<div class=\"wandb-row\"><div class=\"wandb-col\">\n",
       "<h3>Run history:</h3><br/><table class=\"wandb\"><tr><td>average.fasttext validation accuracy</td><td>▁</td></tr><tr><td>average.fasttext validation balanced acc</td><td>▁</td></tr><tr><td>average.fasttext validation balanced adjusted accuracy</td><td>▁</td></tr></table><br/></div><div class=\"wandb-col\">\n",
       "<h3>Run summary:</h3><br/><table class=\"wandb\"><tr><td>average.fasttext validation accuracy</td><td>0.75967</td></tr><tr><td>average.fasttext validation balanced acc</td><td>0.701</td></tr><tr><td>average.fasttext validation balanced adjusted accuracy</td><td>0.67367</td></tr></table>\n",
       "</div></div>\n",
       "Synced 4 W&B file(s), 0 media file(s), 0 artifact file(s) and 0 other file(s)\n",
       "<br/>Synced <strong style=\"color:#cdcd00\">balmy-moon-30</strong>: <a href=\"https://wandb.ai/awiedenroth/Oesch16_ohne_averages/runs/2tz035qk\" target=\"_blank\">https://wandb.ai/awiedenroth/Oesch16_ohne_averages/runs/2tz035qk</a><br/>\n",
       "Find logs at: <code>.\\wandb\\run-20220416_110829-2tz035qk\\logs</code><br/>\n"
      ],
      "text/plain": [
       "<IPython.core.display.HTML object>"
      ]
     },
     "metadata": {},
     "output_type": "display_data"
    },
    {
     "name": "stderr",
     "output_type": "stream",
     "text": [
      "wandb: wandb version 0.12.14 is available!  To upgrade, please run:\n",
      "wandb:  $ pip install wandb --upgrade\n"
     ]
    },
    {
     "data": {
      "text/html": [
       "\n",
       "                    Syncing run <strong><a href=\"https://wandb.ai/awiedenroth/Oesch16_ohne_averages/runs/14g1xzfh\" target=\"_blank\">icy-music-31</a></strong> to <a href=\"https://wandb.ai/awiedenroth/Oesch16_ohne_averages\" target=\"_blank\">Weights & Biases</a> (<a href=\"https://docs.wandb.com/integrations/jupyter.html\" target=\"_blank\">docs</a>).<br/>\n",
       "\n",
       "                "
      ],
      "text/plain": [
       "<IPython.core.display.HTML object>"
      ]
     },
     "metadata": {},
     "output_type": "display_data"
    },
    {
     "data": {
      "text/html": [
       "<br/>Waiting for W&B process to finish, PID 14684... <strong style=\"color:green\">(success).</strong>"
      ],
      "text/plain": [
       "<IPython.core.display.HTML object>"
      ]
     },
     "metadata": {},
     "output_type": "display_data"
    },
    {
     "data": {
      "application/vnd.jupyter.widget-view+json": {
       "model_id": "5afb872ef6ca407ca7a720f9b5870695",
       "version_major": 2,
       "version_minor": 0
      },
      "text/plain": [
       "VBox(children=(Label(value=' 0.00MB of 0.00MB uploaded (0.00MB deduped)\\r'), FloatProgress(value=1.0, max=1.0)…"
      ]
     },
     "metadata": {},
     "output_type": "display_data"
    },
    {
     "data": {
      "text/html": [
       "<style>\n",
       "    table.wandb td:nth-child(1) { padding: 0 10px; text-align: right }\n",
       "    .wandb-row { display: flex; flex-direction: row; flex-wrap: wrap; width: 100% }\n",
       "    .wandb-col { display: flex; flex-direction: column; flex-basis: 100%; flex: 1; padding: 10px; }\n",
       "    </style>\n",
       "<div class=\"wandb-row\"><div class=\"wandb-col\">\n",
       "<h3>Run history:</h3><br/><table class=\"wandb\"><tr><td>average.fasttext validation accuracy</td><td>▁</td></tr><tr><td>average.fasttext validation balanced acc</td><td>▁</td></tr><tr><td>average.fasttext validation balanced adjusted accuracy</td><td>▁</td></tr></table><br/></div><div class=\"wandb-col\">\n",
       "<h3>Run summary:</h3><br/><table class=\"wandb\"><tr><td>average.fasttext validation accuracy</td><td>0.75967</td></tr><tr><td>average.fasttext validation balanced acc</td><td>0.69933</td></tr><tr><td>average.fasttext validation balanced adjusted accuracy</td><td>0.67233</td></tr></table>\n",
       "</div></div>\n",
       "Synced 4 W&B file(s), 0 media file(s), 0 artifact file(s) and 0 other file(s)\n",
       "<br/>Synced <strong style=\"color:#cdcd00\">icy-music-31</strong>: <a href=\"https://wandb.ai/awiedenroth/Oesch16_ohne_averages/runs/14g1xzfh\" target=\"_blank\">https://wandb.ai/awiedenroth/Oesch16_ohne_averages/runs/14g1xzfh</a><br/>\n",
       "Find logs at: <code>.\\wandb\\run-20220416_110845-14g1xzfh\\logs</code><br/>\n"
      ],
      "text/plain": [
       "<IPython.core.display.HTML object>"
      ]
     },
     "metadata": {},
     "output_type": "display_data"
    },
    {
     "name": "stderr",
     "output_type": "stream",
     "text": [
      "wandb: wandb version 0.12.14 is available!  To upgrade, please run:\n",
      "wandb:  $ pip install wandb --upgrade\n"
     ]
    },
    {
     "data": {
      "text/html": [
       "\n",
       "                    Syncing run <strong><a href=\"https://wandb.ai/awiedenroth/Oesch16_ohne_averages/runs/34wmm1jx\" target=\"_blank\">legendary-voice-32</a></strong> to <a href=\"https://wandb.ai/awiedenroth/Oesch16_ohne_averages\" target=\"_blank\">Weights & Biases</a> (<a href=\"https://docs.wandb.com/integrations/jupyter.html\" target=\"_blank\">docs</a>).<br/>\n",
       "\n",
       "                "
      ],
      "text/plain": [
       "<IPython.core.display.HTML object>"
      ]
     },
     "metadata": {},
     "output_type": "display_data"
    },
    {
     "data": {
      "text/html": [
       "<br/>Waiting for W&B process to finish, PID 9640... <strong style=\"color:green\">(success).</strong>"
      ],
      "text/plain": [
       "<IPython.core.display.HTML object>"
      ]
     },
     "metadata": {},
     "output_type": "display_data"
    },
    {
     "data": {
      "application/vnd.jupyter.widget-view+json": {
       "model_id": "790f4f823ed145b59fa2f2e88cdcf696",
       "version_major": 2,
       "version_minor": 0
      },
      "text/plain": [
       "VBox(children=(Label(value=' 0.00MB of 0.00MB uploaded (0.00MB deduped)\\r'), FloatProgress(value=1.0, max=1.0)…"
      ]
     },
     "metadata": {},
     "output_type": "display_data"
    },
    {
     "data": {
      "text/html": [
       "<style>\n",
       "    table.wandb td:nth-child(1) { padding: 0 10px; text-align: right }\n",
       "    .wandb-row { display: flex; flex-direction: row; flex-wrap: wrap; width: 100% }\n",
       "    .wandb-col { display: flex; flex-direction: column; flex-basis: 100%; flex: 1; padding: 10px; }\n",
       "    </style>\n",
       "<div class=\"wandb-row\"><div class=\"wandb-col\">\n",
       "<h3>Run history:</h3><br/><table class=\"wandb\"><tr><td>average.fasttext validation accuracy</td><td>▁</td></tr><tr><td>average.fasttext validation balanced acc</td><td>▁</td></tr><tr><td>average.fasttext validation balanced adjusted accuracy</td><td>▁</td></tr></table><br/></div><div class=\"wandb-col\">\n",
       "<h3>Run summary:</h3><br/><table class=\"wandb\"><tr><td>average.fasttext validation accuracy</td><td>0.76433</td></tr><tr><td>average.fasttext validation balanced acc</td><td>0.70733</td></tr><tr><td>average.fasttext validation balanced adjusted accuracy</td><td>0.68067</td></tr></table>\n",
       "</div></div>\n",
       "Synced 4 W&B file(s), 0 media file(s), 0 artifact file(s) and 0 other file(s)\n",
       "<br/>Synced <strong style=\"color:#cdcd00\">legendary-voice-32</strong>: <a href=\"https://wandb.ai/awiedenroth/Oesch16_ohne_averages/runs/34wmm1jx\" target=\"_blank\">https://wandb.ai/awiedenroth/Oesch16_ohne_averages/runs/34wmm1jx</a><br/>\n",
       "Find logs at: <code>.\\wandb\\run-20220416_110901-34wmm1jx\\logs</code><br/>\n"
      ],
      "text/plain": [
       "<IPython.core.display.HTML object>"
      ]
     },
     "metadata": {},
     "output_type": "display_data"
    }
   ],
   "source": [
    "a = df.groupby([\"ft_model\",\"keyboard_aug\", \"remove_num_punc\", \"remove_stopwords\", \"lowercase\"], \n",
    "              as_index= False)[[\"average.fasttext validation accuracy\", \"average.fasttext validation balanced acc\", \"average.fasttext validation balanced adjusted accuracy\"\n",
    "                               ]].mean().to_dict(orient= \"index\")\n",
    "\n",
    "config = ['ft_model', 'keyboard_aug', 'remove_num_punc', 'remove_stopwords', 'lowercase']\n",
    "results = [\"average.fasttext validation accuracy\", \"average.fasttext validation balanced acc\", \"average.fasttext validation balanced adjusted accuracy\"]\n",
    "    \n",
    "\n",
    "for x,y in a.items():\n",
    "    \n",
    "    conf={}\n",
    "    metr={}\n",
    "    for k,v in y.items():\n",
    "        if k in config:\n",
    "            conf[k] = v\n",
    "        if k in results:\n",
    "            metr[k] = v\n",
    "    run = wandb.init(project=\"Oesch16_ohne_averages\", entity=\"awiedenroth\", config=conf)\n",
    "    wandb.log(metr)\n",
    "    run.finish()\n",
    "    #print(conf)\n",
    "    #print(metr)\n"
   ]
  }
 ],
 "metadata": {
  "kernelspec": {
   "display_name": "Python 3",
   "language": "python",
   "name": "python3"
  },
  "language_info": {
   "codemirror_mode": {
    "name": "ipython",
    "version": 3
   },
   "file_extension": ".py",
   "mimetype": "text/x-python",
   "name": "python",
   "nbconvert_exporter": "python",
   "pygments_lexer": "ipython3",
   "version": "3.8.5"
  }
 },
 "nbformat": 4,
 "nbformat_minor": 4
}
