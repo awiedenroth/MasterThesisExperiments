{
 "cells": [
  {
   "cell_type": "code",
   "execution_count": 69,
   "metadata": {},
   "outputs": [
    {
     "name": "stderr",
     "output_type": "stream",
     "text": [
      "wandb: Currently logged in as: awiedenroth (use `wandb login --relogin` to force relogin)\n"
     ]
    },
    {
     "data": {
      "text/plain": [
       "True"
      ]
     },
     "execution_count": 69,
     "metadata": {},
     "output_type": "execute_result"
    }
   ],
   "source": [
    "!pip install wandb -qqq\n",
    "import wandb\n",
    "wandb.login()"
   ]
  },
  {
   "cell_type": "code",
   "execution_count": 2,
   "metadata": {},
   "outputs": [],
   "source": [
    "import pandas as pd\n",
    "import numpy as np\n",
    "import nltk\n",
    "from pathlib import Path\n",
    "import dtale"
   ]
  },
  {
   "cell_type": "code",
   "execution_count": 135,
   "metadata": {},
   "outputs": [
    {
     "data": {
      "text/html": [
       "<div>\n",
       "<style scoped>\n",
       "    .dataframe tbody tr th:only-of-type {\n",
       "        vertical-align: middle;\n",
       "    }\n",
       "\n",
       "    .dataframe tbody tr th {\n",
       "        vertical-align: top;\n",
       "    }\n",
       "\n",
       "    .dataframe thead th {\n",
       "        text-align: right;\n",
       "    }\n",
       "</style>\n",
       "<table border=\"1\" class=\"dataframe\">\n",
       "  <thead>\n",
       "    <tr style=\"text-align: right;\">\n",
       "      <th></th>\n",
       "      <th>Name</th>\n",
       "      <th>ft_model</th>\n",
       "      <th>random_seed</th>\n",
       "      <th>remove_numbers</th>\n",
       "      <th>fasttext_zusatzdaten</th>\n",
       "      <th>remove_stopwords</th>\n",
       "      <th>lowercase</th>\n",
       "      <th>remove_punctuation</th>\n",
       "      <th>keyboard_aug</th>\n",
       "      <th>fasttext model average performance.fasttext validation accuracy</th>\n",
       "      <th>fasttext model average performance.fasttext validation balanced acc</th>\n",
       "      <th>fasttext model average performance.fasttext micro-f1 score</th>\n",
       "      <th>fasttext model average performance.fasttext hamming loss</th>\n",
       "      <th>fasttext model average performance.fasttext train balanced acc</th>\n",
       "      <th>fasttext model average performance.fasttext train accuracy</th>\n",
       "    </tr>\n",
       "  </thead>\n",
       "  <tbody>\n",
       "    <tr>\n",
       "      <th>0</th>\n",
       "      <td>vivid-sweep-1536</td>\n",
       "      <td>nn</td>\n",
       "      <td>44</td>\n",
       "      <td>False</td>\n",
       "      <td>False</td>\n",
       "      <td>False</td>\n",
       "      <td>False</td>\n",
       "      <td>True</td>\n",
       "      <td>False</td>\n",
       "      <td>0.836410</td>\n",
       "      <td>0.777588</td>\n",
       "      <td>0.836410</td>\n",
       "      <td>0.163590</td>\n",
       "      <td>0.932152</td>\n",
       "      <td>0.955555</td>\n",
       "    </tr>\n",
       "    <tr>\n",
       "      <th>1</th>\n",
       "      <td>deft-sweep-1536</td>\n",
       "      <td>xgboost</td>\n",
       "      <td>44</td>\n",
       "      <td>False</td>\n",
       "      <td>False</td>\n",
       "      <td>False</td>\n",
       "      <td>False</td>\n",
       "      <td>False</td>\n",
       "      <td>False</td>\n",
       "      <td>0.834362</td>\n",
       "      <td>0.737974</td>\n",
       "      <td>0.834362</td>\n",
       "      <td>0.165638</td>\n",
       "      <td>0.975928</td>\n",
       "      <td>0.986426</td>\n",
       "    </tr>\n",
       "    <tr>\n",
       "      <th>2</th>\n",
       "      <td>unique-sweep-1534</td>\n",
       "      <td>xgboost</td>\n",
       "      <td>44</td>\n",
       "      <td>False</td>\n",
       "      <td>False</td>\n",
       "      <td>True</td>\n",
       "      <td>False</td>\n",
       "      <td>False</td>\n",
       "      <td>False</td>\n",
       "      <td>0.834362</td>\n",
       "      <td>0.737974</td>\n",
       "      <td>0.834362</td>\n",
       "      <td>0.165638</td>\n",
       "      <td>0.975928</td>\n",
       "      <td>0.986426</td>\n",
       "    </tr>\n",
       "    <tr>\n",
       "      <th>3</th>\n",
       "      <td>easy-sweep-1532</td>\n",
       "      <td>xgboost</td>\n",
       "      <td>44</td>\n",
       "      <td>False</td>\n",
       "      <td>False</td>\n",
       "      <td>False</td>\n",
       "      <td>False</td>\n",
       "      <td>True</td>\n",
       "      <td>False</td>\n",
       "      <td>0.834362</td>\n",
       "      <td>0.737974</td>\n",
       "      <td>0.834362</td>\n",
       "      <td>0.165638</td>\n",
       "      <td>0.975928</td>\n",
       "      <td>0.986426</td>\n",
       "    </tr>\n",
       "    <tr>\n",
       "      <th>4</th>\n",
       "      <td>toasty-sweep-1530</td>\n",
       "      <td>xgboost</td>\n",
       "      <td>44</td>\n",
       "      <td>False</td>\n",
       "      <td>False</td>\n",
       "      <td>True</td>\n",
       "      <td>False</td>\n",
       "      <td>True</td>\n",
       "      <td>False</td>\n",
       "      <td>0.834362</td>\n",
       "      <td>0.737974</td>\n",
       "      <td>0.834362</td>\n",
       "      <td>0.165638</td>\n",
       "      <td>0.975928</td>\n",
       "      <td>0.986426</td>\n",
       "    </tr>\n",
       "    <tr>\n",
       "      <th>5</th>\n",
       "      <td>sparkling-sweep-1528</td>\n",
       "      <td>xgboost</td>\n",
       "      <td>44</td>\n",
       "      <td>True</td>\n",
       "      <td>False</td>\n",
       "      <td>False</td>\n",
       "      <td>False</td>\n",
       "      <td>False</td>\n",
       "      <td>False</td>\n",
       "      <td>0.834362</td>\n",
       "      <td>0.737974</td>\n",
       "      <td>0.834362</td>\n",
       "      <td>0.165638</td>\n",
       "      <td>0.975928</td>\n",
       "      <td>0.986426</td>\n",
       "    </tr>\n",
       "    <tr>\n",
       "      <th>6</th>\n",
       "      <td>absurd-sweep-1526</td>\n",
       "      <td>xgboost</td>\n",
       "      <td>44</td>\n",
       "      <td>True</td>\n",
       "      <td>False</td>\n",
       "      <td>True</td>\n",
       "      <td>False</td>\n",
       "      <td>False</td>\n",
       "      <td>False</td>\n",
       "      <td>0.834362</td>\n",
       "      <td>0.737974</td>\n",
       "      <td>0.834362</td>\n",
       "      <td>0.165638</td>\n",
       "      <td>0.975928</td>\n",
       "      <td>0.986426</td>\n",
       "    </tr>\n",
       "    <tr>\n",
       "      <th>7</th>\n",
       "      <td>faithful-sweep-1524</td>\n",
       "      <td>xgboost</td>\n",
       "      <td>44</td>\n",
       "      <td>True</td>\n",
       "      <td>False</td>\n",
       "      <td>False</td>\n",
       "      <td>False</td>\n",
       "      <td>True</td>\n",
       "      <td>False</td>\n",
       "      <td>0.834362</td>\n",
       "      <td>0.737974</td>\n",
       "      <td>0.834362</td>\n",
       "      <td>0.165638</td>\n",
       "      <td>0.975928</td>\n",
       "      <td>0.986426</td>\n",
       "    </tr>\n",
       "    <tr>\n",
       "      <th>8</th>\n",
       "      <td>happy-sweep-1522</td>\n",
       "      <td>xgboost</td>\n",
       "      <td>44</td>\n",
       "      <td>True</td>\n",
       "      <td>False</td>\n",
       "      <td>True</td>\n",
       "      <td>False</td>\n",
       "      <td>True</td>\n",
       "      <td>False</td>\n",
       "      <td>0.834362</td>\n",
       "      <td>0.737974</td>\n",
       "      <td>0.834362</td>\n",
       "      <td>0.165638</td>\n",
       "      <td>0.975928</td>\n",
       "      <td>0.986426</td>\n",
       "    </tr>\n",
       "    <tr>\n",
       "      <th>9</th>\n",
       "      <td>ethereal-sweep-1520</td>\n",
       "      <td>xgboost</td>\n",
       "      <td>33</td>\n",
       "      <td>False</td>\n",
       "      <td>False</td>\n",
       "      <td>False</td>\n",
       "      <td>False</td>\n",
       "      <td>False</td>\n",
       "      <td>False</td>\n",
       "      <td>0.835430</td>\n",
       "      <td>0.741739</td>\n",
       "      <td>0.835430</td>\n",
       "      <td>0.164570</td>\n",
       "      <td>0.976284</td>\n",
       "      <td>0.986426</td>\n",
       "    </tr>\n",
       "  </tbody>\n",
       "</table>\n",
       "</div>"
      ],
      "text/plain": [
       "                   Name ft_model  random_seed  remove_numbers  \\\n",
       "0      vivid-sweep-1536       nn           44           False   \n",
       "1       deft-sweep-1536  xgboost           44           False   \n",
       "2     unique-sweep-1534  xgboost           44           False   \n",
       "3       easy-sweep-1532  xgboost           44           False   \n",
       "4     toasty-sweep-1530  xgboost           44           False   \n",
       "5  sparkling-sweep-1528  xgboost           44            True   \n",
       "6     absurd-sweep-1526  xgboost           44            True   \n",
       "7   faithful-sweep-1524  xgboost           44            True   \n",
       "8      happy-sweep-1522  xgboost           44            True   \n",
       "9   ethereal-sweep-1520  xgboost           33           False   \n",
       "\n",
       "   fasttext_zusatzdaten  remove_stopwords  lowercase  remove_punctuation  \\\n",
       "0                 False             False      False                True   \n",
       "1                 False             False      False               False   \n",
       "2                 False              True      False               False   \n",
       "3                 False             False      False                True   \n",
       "4                 False              True      False                True   \n",
       "5                 False             False      False               False   \n",
       "6                 False              True      False               False   \n",
       "7                 False             False      False                True   \n",
       "8                 False              True      False                True   \n",
       "9                 False             False      False               False   \n",
       "\n",
       "   keyboard_aug  \\\n",
       "0         False   \n",
       "1         False   \n",
       "2         False   \n",
       "3         False   \n",
       "4         False   \n",
       "5         False   \n",
       "6         False   \n",
       "7         False   \n",
       "8         False   \n",
       "9         False   \n",
       "\n",
       "   fasttext model average performance.fasttext validation accuracy  \\\n",
       "0                                           0.836410                 \n",
       "1                                           0.834362                 \n",
       "2                                           0.834362                 \n",
       "3                                           0.834362                 \n",
       "4                                           0.834362                 \n",
       "5                                           0.834362                 \n",
       "6                                           0.834362                 \n",
       "7                                           0.834362                 \n",
       "8                                           0.834362                 \n",
       "9                                           0.835430                 \n",
       "\n",
       "   fasttext model average performance.fasttext validation balanced acc  \\\n",
       "0                                           0.777588                     \n",
       "1                                           0.737974                     \n",
       "2                                           0.737974                     \n",
       "3                                           0.737974                     \n",
       "4                                           0.737974                     \n",
       "5                                           0.737974                     \n",
       "6                                           0.737974                     \n",
       "7                                           0.737974                     \n",
       "8                                           0.737974                     \n",
       "9                                           0.741739                     \n",
       "\n",
       "   fasttext model average performance.fasttext micro-f1 score  \\\n",
       "0                                           0.836410            \n",
       "1                                           0.834362            \n",
       "2                                           0.834362            \n",
       "3                                           0.834362            \n",
       "4                                           0.834362            \n",
       "5                                           0.834362            \n",
       "6                                           0.834362            \n",
       "7                                           0.834362            \n",
       "8                                           0.834362            \n",
       "9                                           0.835430            \n",
       "\n",
       "   fasttext model average performance.fasttext hamming loss  \\\n",
       "0                                           0.163590          \n",
       "1                                           0.165638          \n",
       "2                                           0.165638          \n",
       "3                                           0.165638          \n",
       "4                                           0.165638          \n",
       "5                                           0.165638          \n",
       "6                                           0.165638          \n",
       "7                                           0.165638          \n",
       "8                                           0.165638          \n",
       "9                                           0.164570          \n",
       "\n",
       "   fasttext model average performance.fasttext train balanced acc  \\\n",
       "0                                           0.932152                \n",
       "1                                           0.975928                \n",
       "2                                           0.975928                \n",
       "3                                           0.975928                \n",
       "4                                           0.975928                \n",
       "5                                           0.975928                \n",
       "6                                           0.975928                \n",
       "7                                           0.975928                \n",
       "8                                           0.975928                \n",
       "9                                           0.976284                \n",
       "\n",
       "   fasttext model average performance.fasttext train accuracy  \n",
       "0                                           0.955555           \n",
       "1                                           0.986426           \n",
       "2                                           0.986426           \n",
       "3                                           0.986426           \n",
       "4                                           0.986426           \n",
       "5                                           0.986426           \n",
       "6                                           0.986426           \n",
       "7                                           0.986426           \n",
       "8                                           0.986426           \n",
       "9                                           0.986426           "
      ]
     },
     "execution_count": 135,
     "metadata": {},
     "output_type": "execute_result"
    }
   ],
   "source": [
    "df = pd.read_csv(\"./oesch8_nur.csv\",  sep = \",\")\n",
    "df.head(10)"
   ]
  },
  {
   "cell_type": "code",
   "execution_count": 57,
   "metadata": {},
   "outputs": [
    {
     "data": {
      "text/plain": [
       "ft_model                                                           2\n",
       "remove_numbers                                                     2\n",
       "fasttext_zusatzdaten                                               2\n",
       "remove_stopwords                                                   2\n",
       "lowercase                                                          2\n",
       "remove_punctuation                                                 2\n",
       "keyboard_aug                                                       2\n",
       "fasttext model average performance.fasttext validation accuracy    2\n",
       "dtype: int64"
      ]
     },
     "execution_count": 57,
     "metadata": {},
     "output_type": "execute_result"
    }
   ],
   "source": [
    "#df.groupby([\"ft_model\", \"remove_numbers\", \"fasttext_zusatzdaten\", \"remove_stopwords\", \"lowercase\", \"remove_punctuation\", \"keyboard_aug\"], as_index= False)[\"fasttext model average performance.fasttext validation accuracy\"].mean().nunique()"
   ]
  },
  {
   "cell_type": "code",
   "execution_count": 45,
   "metadata": {},
   "outputs": [
    {
     "data": {
      "text/html": [
       "<div>\n",
       "<style scoped>\n",
       "    .dataframe tbody tr th:only-of-type {\n",
       "        vertical-align: middle;\n",
       "    }\n",
       "\n",
       "    .dataframe tbody tr th {\n",
       "        vertical-align: top;\n",
       "    }\n",
       "\n",
       "    .dataframe thead th {\n",
       "        text-align: right;\n",
       "    }\n",
       "</style>\n",
       "<table border=\"1\" class=\"dataframe\">\n",
       "  <thead>\n",
       "    <tr style=\"text-align: right;\">\n",
       "      <th></th>\n",
       "      <th>Name</th>\n",
       "      <th>ft_model</th>\n",
       "      <th>fasttext_zusatzdaten</th>\n",
       "      <th>keyboard_aug</th>\n",
       "      <th>remove_stopwords</th>\n",
       "      <th>remove_punctuation</th>\n",
       "      <th>random_seed</th>\n",
       "      <th>remove_numbers</th>\n",
       "      <th>lowercase</th>\n",
       "      <th>fasttext model average performance.fasttext validation accuracy</th>\n",
       "      <th>fasttext model average performance.fasttext validation balanced acc</th>\n",
       "      <th>fasttext model average performance.fasttext micro-f1 score</th>\n",
       "      <th>fasttext model average performance.fasttext hamming loss</th>\n",
       "      <th>fasttext model average performance.fasttext train accuracy</th>\n",
       "      <th>fasttext model average performance.fasttext train balanced acc</th>\n",
       "    </tr>\n",
       "  </thead>\n",
       "  <tbody>\n",
       "    <tr>\n",
       "      <th>0</th>\n",
       "      <td>misunderstood-sweep-1536</td>\n",
       "      <td>nn</td>\n",
       "      <td>False</td>\n",
       "      <td>True</td>\n",
       "      <td>False</td>\n",
       "      <td>False</td>\n",
       "      <td>44</td>\n",
       "      <td>False</td>\n",
       "      <td>False</td>\n",
       "      <td>0.805522</td>\n",
       "      <td>0.802129</td>\n",
       "      <td>0.805522</td>\n",
       "      <td>0.194478</td>\n",
       "      <td>0.920158</td>\n",
       "      <td>0.921328</td>\n",
       "    </tr>\n",
       "    <tr>\n",
       "      <th>1</th>\n",
       "      <td>stilted-sweep-1535</td>\n",
       "      <td>nn</td>\n",
       "      <td>False</td>\n",
       "      <td>True</td>\n",
       "      <td>True</td>\n",
       "      <td>True</td>\n",
       "      <td>33</td>\n",
       "      <td>True</td>\n",
       "      <td>False</td>\n",
       "      <td>0.808095</td>\n",
       "      <td>0.805134</td>\n",
       "      <td>0.808095</td>\n",
       "      <td>0.191905</td>\n",
       "      <td>0.920398</td>\n",
       "      <td>0.922082</td>\n",
       "    </tr>\n",
       "    <tr>\n",
       "      <th>2</th>\n",
       "      <td>helpful-sweep-1535</td>\n",
       "      <td>xgboost</td>\n",
       "      <td>False</td>\n",
       "      <td>False</td>\n",
       "      <td>False</td>\n",
       "      <td>False</td>\n",
       "      <td>44</td>\n",
       "      <td>False</td>\n",
       "      <td>False</td>\n",
       "      <td>0.804548</td>\n",
       "      <td>0.793104</td>\n",
       "      <td>0.804548</td>\n",
       "      <td>0.195452</td>\n",
       "      <td>0.969303</td>\n",
       "      <td>0.970457</td>\n",
       "    </tr>\n",
       "    <tr>\n",
       "      <th>3</th>\n",
       "      <td>glamorous-sweep-1533</td>\n",
       "      <td>xgboost</td>\n",
       "      <td>False</td>\n",
       "      <td>False</td>\n",
       "      <td>True</td>\n",
       "      <td>False</td>\n",
       "      <td>44</td>\n",
       "      <td>False</td>\n",
       "      <td>False</td>\n",
       "      <td>0.804548</td>\n",
       "      <td>0.793104</td>\n",
       "      <td>0.804548</td>\n",
       "      <td>0.195452</td>\n",
       "      <td>0.969303</td>\n",
       "      <td>0.970457</td>\n",
       "    </tr>\n",
       "    <tr>\n",
       "      <th>4</th>\n",
       "      <td>lyric-sweep-1531</td>\n",
       "      <td>xgboost</td>\n",
       "      <td>False</td>\n",
       "      <td>False</td>\n",
       "      <td>False</td>\n",
       "      <td>True</td>\n",
       "      <td>44</td>\n",
       "      <td>False</td>\n",
       "      <td>False</td>\n",
       "      <td>0.804548</td>\n",
       "      <td>0.793104</td>\n",
       "      <td>0.804548</td>\n",
       "      <td>0.195452</td>\n",
       "      <td>0.969303</td>\n",
       "      <td>0.970457</td>\n",
       "    </tr>\n",
       "    <tr>\n",
       "      <th>5</th>\n",
       "      <td>apricot-sweep-1529</td>\n",
       "      <td>xgboost</td>\n",
       "      <td>False</td>\n",
       "      <td>False</td>\n",
       "      <td>True</td>\n",
       "      <td>True</td>\n",
       "      <td>44</td>\n",
       "      <td>False</td>\n",
       "      <td>False</td>\n",
       "      <td>0.804548</td>\n",
       "      <td>0.793104</td>\n",
       "      <td>0.804548</td>\n",
       "      <td>0.195452</td>\n",
       "      <td>0.969303</td>\n",
       "      <td>0.970457</td>\n",
       "    </tr>\n",
       "    <tr>\n",
       "      <th>6</th>\n",
       "      <td>usual-sweep-1527</td>\n",
       "      <td>xgboost</td>\n",
       "      <td>False</td>\n",
       "      <td>False</td>\n",
       "      <td>False</td>\n",
       "      <td>False</td>\n",
       "      <td>44</td>\n",
       "      <td>True</td>\n",
       "      <td>False</td>\n",
       "      <td>0.804548</td>\n",
       "      <td>0.793104</td>\n",
       "      <td>0.804548</td>\n",
       "      <td>0.195452</td>\n",
       "      <td>0.969303</td>\n",
       "      <td>0.970457</td>\n",
       "    </tr>\n",
       "    <tr>\n",
       "      <th>7</th>\n",
       "      <td>summer-sweep-1525</td>\n",
       "      <td>xgboost</td>\n",
       "      <td>False</td>\n",
       "      <td>False</td>\n",
       "      <td>True</td>\n",
       "      <td>False</td>\n",
       "      <td>44</td>\n",
       "      <td>True</td>\n",
       "      <td>False</td>\n",
       "      <td>0.804548</td>\n",
       "      <td>0.793104</td>\n",
       "      <td>0.804548</td>\n",
       "      <td>0.195452</td>\n",
       "      <td>0.969303</td>\n",
       "      <td>0.970457</td>\n",
       "    </tr>\n",
       "    <tr>\n",
       "      <th>8</th>\n",
       "      <td>snowy-sweep-1523</td>\n",
       "      <td>xgboost</td>\n",
       "      <td>False</td>\n",
       "      <td>False</td>\n",
       "      <td>False</td>\n",
       "      <td>True</td>\n",
       "      <td>44</td>\n",
       "      <td>True</td>\n",
       "      <td>False</td>\n",
       "      <td>0.804548</td>\n",
       "      <td>0.793104</td>\n",
       "      <td>0.804548</td>\n",
       "      <td>0.195452</td>\n",
       "      <td>0.969303</td>\n",
       "      <td>0.970457</td>\n",
       "    </tr>\n",
       "    <tr>\n",
       "      <th>9</th>\n",
       "      <td>helpful-sweep-1521</td>\n",
       "      <td>xgboost</td>\n",
       "      <td>False</td>\n",
       "      <td>False</td>\n",
       "      <td>True</td>\n",
       "      <td>True</td>\n",
       "      <td>44</td>\n",
       "      <td>True</td>\n",
       "      <td>False</td>\n",
       "      <td>0.804548</td>\n",
       "      <td>0.793104</td>\n",
       "      <td>0.804548</td>\n",
       "      <td>0.195452</td>\n",
       "      <td>0.969303</td>\n",
       "      <td>0.970457</td>\n",
       "    </tr>\n",
       "  </tbody>\n",
       "</table>\n",
       "</div>"
      ],
      "text/plain": [
       "                       Name ft_model  fasttext_zusatzdaten  keyboard_aug  \\\n",
       "0  misunderstood-sweep-1536       nn                 False          True   \n",
       "1        stilted-sweep-1535       nn                 False          True   \n",
       "2        helpful-sweep-1535  xgboost                 False         False   \n",
       "3      glamorous-sweep-1533  xgboost                 False         False   \n",
       "4          lyric-sweep-1531  xgboost                 False         False   \n",
       "5        apricot-sweep-1529  xgboost                 False         False   \n",
       "6          usual-sweep-1527  xgboost                 False         False   \n",
       "7         summer-sweep-1525  xgboost                 False         False   \n",
       "8          snowy-sweep-1523  xgboost                 False         False   \n",
       "9        helpful-sweep-1521  xgboost                 False         False   \n",
       "\n",
       "   remove_stopwords  remove_punctuation  random_seed  remove_numbers  \\\n",
       "0             False               False           44           False   \n",
       "1              True                True           33            True   \n",
       "2             False               False           44           False   \n",
       "3              True               False           44           False   \n",
       "4             False                True           44           False   \n",
       "5              True                True           44           False   \n",
       "6             False               False           44            True   \n",
       "7              True               False           44            True   \n",
       "8             False                True           44            True   \n",
       "9              True                True           44            True   \n",
       "\n",
       "   lowercase  fasttext model average performance.fasttext validation accuracy  \\\n",
       "0      False                                           0.805522                 \n",
       "1      False                                           0.808095                 \n",
       "2      False                                           0.804548                 \n",
       "3      False                                           0.804548                 \n",
       "4      False                                           0.804548                 \n",
       "5      False                                           0.804548                 \n",
       "6      False                                           0.804548                 \n",
       "7      False                                           0.804548                 \n",
       "8      False                                           0.804548                 \n",
       "9      False                                           0.804548                 \n",
       "\n",
       "   fasttext model average performance.fasttext validation balanced acc  \\\n",
       "0                                           0.802129                     \n",
       "1                                           0.805134                     \n",
       "2                                           0.793104                     \n",
       "3                                           0.793104                     \n",
       "4                                           0.793104                     \n",
       "5                                           0.793104                     \n",
       "6                                           0.793104                     \n",
       "7                                           0.793104                     \n",
       "8                                           0.793104                     \n",
       "9                                           0.793104                     \n",
       "\n",
       "   fasttext model average performance.fasttext micro-f1 score  \\\n",
       "0                                           0.805522            \n",
       "1                                           0.808095            \n",
       "2                                           0.804548            \n",
       "3                                           0.804548            \n",
       "4                                           0.804548            \n",
       "5                                           0.804548            \n",
       "6                                           0.804548            \n",
       "7                                           0.804548            \n",
       "8                                           0.804548            \n",
       "9                                           0.804548            \n",
       "\n",
       "   fasttext model average performance.fasttext hamming loss  \\\n",
       "0                                           0.194478          \n",
       "1                                           0.191905          \n",
       "2                                           0.195452          \n",
       "3                                           0.195452          \n",
       "4                                           0.195452          \n",
       "5                                           0.195452          \n",
       "6                                           0.195452          \n",
       "7                                           0.195452          \n",
       "8                                           0.195452          \n",
       "9                                           0.195452          \n",
       "\n",
       "   fasttext model average performance.fasttext train accuracy  \\\n",
       "0                                           0.920158            \n",
       "1                                           0.920398            \n",
       "2                                           0.969303            \n",
       "3                                           0.969303            \n",
       "4                                           0.969303            \n",
       "5                                           0.969303            \n",
       "6                                           0.969303            \n",
       "7                                           0.969303            \n",
       "8                                           0.969303            \n",
       "9                                           0.969303            \n",
       "\n",
       "   fasttext model average performance.fasttext train balanced acc  \n",
       "0                                           0.921328               \n",
       "1                                           0.922082               \n",
       "2                                           0.970457               \n",
       "3                                           0.970457               \n",
       "4                                           0.970457               \n",
       "5                                           0.970457               \n",
       "6                                           0.970457               \n",
       "7                                           0.970457               \n",
       "8                                           0.970457               \n",
       "9                                           0.970457               "
      ]
     },
     "execution_count": 45,
     "metadata": {},
     "output_type": "execute_result"
    }
   ],
   "source": [
    "#df = pd.read_csv(\"./oesch8_ohne.csv\",  sep = \",\")\n",
    "#df.head(10)"
   ]
  },
  {
   "cell_type": "code",
   "execution_count": 136,
   "metadata": {},
   "outputs": [],
   "source": [
    "a = df.groupby([\"ft_model\",\"keyboard_aug\", \"remove_numbers\", \"fasttext_zusatzdaten\", \"remove_stopwords\", \"lowercase\", \"remove_punctuation\"], \n",
    "              as_index= False)[[\"fasttext model average performance.fasttext validation accuracy\", \"fasttext model average performance.fasttext validation balanced acc\",\n",
    "                               \"fasttext model average performance.fasttext micro-f1 score\", \"fasttext model average performance.fasttext hamming loss\",\n",
    "                                \"fasttext model average performance.fasttext train accuracy\", \"fasttext model average performance.fasttext train balanced acc\"\n",
    "                               ]].mean().to_dict(orient= \"index\")"
   ]
  },
  {
   "cell_type": "code",
   "execution_count": 101,
   "metadata": {},
   "outputs": [
    {
     "data": {
      "text/html": [
       "\n",
       "        <iframe\n",
       "            width=\"100%\"\n",
       "            height=\"475\"\n",
       "            src=\"http://DESKTOP-MSG3N8R:40000/dtale/iframe/1\"\n",
       "            frameborder=\"0\"\n",
       "            allowfullscreen\n",
       "        ></iframe>\n",
       "        "
      ],
      "text/plain": [
       "<IPython.lib.display.IFrame at 0x25cfe40b3a0>"
      ]
     },
     "metadata": {},
     "output_type": "display_data"
    },
    {
     "data": {
      "text/plain": []
     },
     "execution_count": 101,
     "metadata": {},
     "output_type": "execute_result"
    },
    {
     "name": "stderr",
     "output_type": "stream",
     "text": [
      "c:\\users\\49151\\anaconda3\\envs\\anna_arbeit\\lib\\site-packages\\dtale\\views.py:1653: FutureWarning:\n",
      "\n",
      "The default value of regex will change from True to False in a future version.\n",
      "\n"
     ]
    }
   ],
   "source": [
    "#dtale.show(x, precision=6)"
   ]
  },
  {
   "cell_type": "code",
   "execution_count": 86,
   "metadata": {},
   "outputs": [],
   "source": [
    "#from sklearn.feature_selection import SelectKBest, chi2"
   ]
  },
  {
   "cell_type": "code",
   "execution_count": 47,
   "metadata": {},
   "outputs": [
    {
     "data": {
      "text/plain": [
       "0.804548    64\n",
       "0.803784    64\n",
       "0.801000    64\n",
       "0.808095    46\n",
       "0.805522    45\n",
       "0.801349    43\n",
       "0.801766    13\n",
       "0.807469    12\n",
       "0.805661    11\n",
       "0.800792     8\n",
       "0.805731     8\n",
       "0.807260     6\n",
       "Name: fasttext model average performance.fasttext validation accuracy, dtype: int64"
      ]
     },
     "execution_count": 47,
     "metadata": {},
     "output_type": "execute_result"
    }
   ],
   "source": [
    "#df[\"fasttext model average performance.fasttext validation accuracy\"].value_counts()"
   ]
  },
  {
   "cell_type": "code",
   "execution_count": 138,
   "metadata": {
    "collapsed": true,
    "jupyter": {
     "outputs_hidden": true
    }
   },
   "outputs": [
    {
     "name": "stdout",
     "output_type": "stream",
     "text": [
      "{0: {'ft_model': 'nn', 'keyboard_aug': False, 'remove_numbers': False, 'fasttext_zusatzdaten': False, 'remove_stopwords': False, 'lowercase': False, 'remove_punctuation': False, 'fasttext model average performance.fasttext validation accuracy': 0.8331715524493625, 'fasttext model average performance.fasttext validation balanced acc': 0.7745966069467064, 'fasttext model average performance.fasttext micro-f1 score': 0.8331715524493625, 'fasttext model average performance.fasttext hamming loss': 0.16682844755063742, 'fasttext model average performance.fasttext train accuracy': 0.9549713874395532, 'fasttext model average performance.fasttext train balanced acc': 0.9312851223493036}, 1: {'ft_model': 'nn', 'keyboard_aug': False, 'remove_numbers': False, 'fasttext_zusatzdaten': False, 'remove_stopwords': False, 'lowercase': False, 'remove_punctuation': True, 'fasttext model average performance.fasttext validation accuracy': 0.8331715524493625, 'fasttext model average performance.fasttext validation balanced acc': 0.7745966069467064, 'fasttext model average performance.fasttext micro-f1 score': 0.8331715524493625, 'fasttext model average performance.fasttext hamming loss': 0.16682844755063742, 'fasttext model average performance.fasttext train accuracy': 0.9549713874395532, 'fasttext model average performance.fasttext train balanced acc': 0.9312851223493036}, 2: {'ft_model': 'nn', 'keyboard_aug': False, 'remove_numbers': False, 'fasttext_zusatzdaten': False, 'remove_stopwords': False, 'lowercase': True, 'remove_punctuation': False, 'fasttext model average performance.fasttext validation accuracy': 0.8331715524493625, 'fasttext model average performance.fasttext validation balanced acc': 0.7745966069467064, 'fasttext model average performance.fasttext micro-f1 score': 0.8331715524493625, 'fasttext model average performance.fasttext hamming loss': 0.16682844755063742, 'fasttext model average performance.fasttext train accuracy': 0.9549713874395532, 'fasttext model average performance.fasttext train balanced acc': 0.9312851223493036}, 3: {'ft_model': 'nn', 'keyboard_aug': False, 'remove_numbers': False, 'fasttext_zusatzdaten': False, 'remove_stopwords': False, 'lowercase': True, 'remove_punctuation': True, 'fasttext model average performance.fasttext validation accuracy': 0.8331715524493625, 'fasttext model average performance.fasttext validation balanced acc': 0.7745966069467064, 'fasttext model average performance.fasttext micro-f1 score': 0.8331715524493625, 'fasttext model average performance.fasttext hamming loss': 0.16682844755063742, 'fasttext model average performance.fasttext train accuracy': 0.9548984080343653, 'fasttext model average performance.fasttext train balanced acc': 0.9311938843815596}, 4: {'ft_model': 'nn', 'keyboard_aug': False, 'remove_numbers': False, 'fasttext_zusatzdaten': False, 'remove_stopwords': True, 'lowercase': False, 'remove_punctuation': False, 'fasttext model average performance.fasttext validation accuracy': 0.8331715524493625, 'fasttext model average performance.fasttext validation balanced acc': 0.7745966069467064, 'fasttext model average performance.fasttext micro-f1 score': 0.8331715524493625, 'fasttext model average performance.fasttext hamming loss': 0.16682844755063742, 'fasttext model average performance.fasttext train accuracy': 0.9549713874395532, 'fasttext model average performance.fasttext train balanced acc': 0.9312851223493036}, 5: {'ft_model': 'nn', 'keyboard_aug': False, 'remove_numbers': False, 'fasttext_zusatzdaten': False, 'remove_stopwords': True, 'lowercase': False, 'remove_punctuation': True, 'fasttext model average performance.fasttext validation accuracy': 0.8331715524493625, 'fasttext model average performance.fasttext validation balanced acc': 0.7745966069467064, 'fasttext model average performance.fasttext micro-f1 score': 0.8331715524493625, 'fasttext model average performance.fasttext hamming loss': 0.16682844755063742, 'fasttext model average performance.fasttext train accuracy': 0.9549713874395532, 'fasttext model average performance.fasttext train balanced acc': 0.9312851223493036}, 6: {'ft_model': 'nn', 'keyboard_aug': False, 'remove_numbers': False, 'fasttext_zusatzdaten': False, 'remove_stopwords': True, 'lowercase': True, 'remove_punctuation': False, 'fasttext model average performance.fasttext validation accuracy': 0.8331715524493625, 'fasttext model average performance.fasttext validation balanced acc': 0.7745966069467064, 'fasttext model average performance.fasttext micro-f1 score': 0.8331715524493625, 'fasttext model average performance.fasttext hamming loss': 0.16682844755063742, 'fasttext model average performance.fasttext train accuracy': 0.9549713874395532, 'fasttext model average performance.fasttext train balanced acc': 0.9312851223493036}, 7: {'ft_model': 'nn', 'keyboard_aug': False, 'remove_numbers': False, 'fasttext_zusatzdaten': False, 'remove_stopwords': True, 'lowercase': True, 'remove_punctuation': True, 'fasttext model average performance.fasttext validation accuracy': 0.8331715524493625, 'fasttext model average performance.fasttext validation balanced acc': 0.7745966069467064, 'fasttext model average performance.fasttext micro-f1 score': 0.8331715524493625, 'fasttext model average performance.fasttext hamming loss': 0.16682844755063742, 'fasttext model average performance.fasttext train accuracy': 0.9548984080343653, 'fasttext model average performance.fasttext train balanced acc': 0.9311938843815596}, 8: {'ft_model': 'nn', 'keyboard_aug': False, 'remove_numbers': False, 'fasttext_zusatzdaten': True, 'remove_stopwords': False, 'lowercase': False, 'remove_punctuation': False, 'fasttext model average performance.fasttext validation accuracy': 0.8331715524493625, 'fasttext model average performance.fasttext validation balanced acc': 0.7745966069467064, 'fasttext model average performance.fasttext micro-f1 score': 0.8331715524493625, 'fasttext model average performance.fasttext hamming loss': 0.16682844755063742, 'fasttext model average performance.fasttext train accuracy': 0.9548984080343653, 'fasttext model average performance.fasttext train balanced acc': 0.9311938843815596}, 9: {'ft_model': 'nn', 'keyboard_aug': False, 'remove_numbers': False, 'fasttext_zusatzdaten': True, 'remove_stopwords': False, 'lowercase': False, 'remove_punctuation': True, 'fasttext model average performance.fasttext validation accuracy': 0.8331715524493625, 'fasttext model average performance.fasttext validation balanced acc': 0.7745966069467064, 'fasttext model average performance.fasttext micro-f1 score': 0.8331715524493625, 'fasttext model average performance.fasttext hamming loss': 0.16682844755063742, 'fasttext model average performance.fasttext train accuracy': 0.9548984080343653, 'fasttext model average performance.fasttext train balanced acc': 0.9311938843815596}, 10: {'ft_model': 'nn', 'keyboard_aug': False, 'remove_numbers': False, 'fasttext_zusatzdaten': True, 'remove_stopwords': False, 'lowercase': True, 'remove_punctuation': False, 'fasttext model average performance.fasttext validation accuracy': 0.8331715524493625, 'fasttext model average performance.fasttext validation balanced acc': 0.7745966069467064, 'fasttext model average performance.fasttext micro-f1 score': 0.8331715524493625, 'fasttext model average performance.fasttext hamming loss': 0.16682844755063742, 'fasttext model average performance.fasttext train accuracy': 0.9548984080343653, 'fasttext model average performance.fasttext train balanced acc': 0.9311938843815596}, 11: {'ft_model': 'nn', 'keyboard_aug': False, 'remove_numbers': False, 'fasttext_zusatzdaten': True, 'remove_stopwords': False, 'lowercase': True, 'remove_punctuation': True, 'fasttext model average performance.fasttext validation accuracy': 0.8331715524493625, 'fasttext model average performance.fasttext validation balanced acc': 0.7745966069467064, 'fasttext model average performance.fasttext micro-f1 score': 0.8331715524493625, 'fasttext model average performance.fasttext hamming loss': 0.16682844755063742, 'fasttext model average performance.fasttext train accuracy': 0.9548984080343653, 'fasttext model average performance.fasttext train balanced acc': 0.9311938843815596}, 12: {'ft_model': 'nn', 'keyboard_aug': False, 'remove_numbers': False, 'fasttext_zusatzdaten': True, 'remove_stopwords': True, 'lowercase': False, 'remove_punctuation': False, 'fasttext model average performance.fasttext validation accuracy': 0.8331715524493625, 'fasttext model average performance.fasttext validation balanced acc': 0.7745966069467064, 'fasttext model average performance.fasttext micro-f1 score': 0.8331715524493625, 'fasttext model average performance.fasttext hamming loss': 0.16682844755063742, 'fasttext model average performance.fasttext train accuracy': 0.9548984080343653, 'fasttext model average performance.fasttext train balanced acc': 0.9311938843815596}, 13: {'ft_model': 'nn', 'keyboard_aug': False, 'remove_numbers': False, 'fasttext_zusatzdaten': True, 'remove_stopwords': True, 'lowercase': False, 'remove_punctuation': True, 'fasttext model average performance.fasttext validation accuracy': 0.8331715524493625, 'fasttext model average performance.fasttext validation balanced acc': 0.7745966069467064, 'fasttext model average performance.fasttext micro-f1 score': 0.8331715524493625, 'fasttext model average performance.fasttext hamming loss': 0.16682844755063742, 'fasttext model average performance.fasttext train accuracy': 0.9548984080343653, 'fasttext model average performance.fasttext train balanced acc': 0.9311938843815596}, 14: {'ft_model': 'nn', 'keyboard_aug': False, 'remove_numbers': False, 'fasttext_zusatzdaten': True, 'remove_stopwords': True, 'lowercase': True, 'remove_punctuation': False, 'fasttext model average performance.fasttext validation accuracy': 0.8331715524493625, 'fasttext model average performance.fasttext validation balanced acc': 0.7745966069467064, 'fasttext model average performance.fasttext micro-f1 score': 0.8331715524493625, 'fasttext model average performance.fasttext hamming loss': 0.16682844755063742, 'fasttext model average performance.fasttext train accuracy': 0.9548984080343653, 'fasttext model average performance.fasttext train balanced acc': 0.9311938843815596}, 15: {'ft_model': 'nn', 'keyboard_aug': False, 'remove_numbers': False, 'fasttext_zusatzdaten': True, 'remove_stopwords': True, 'lowercase': True, 'remove_punctuation': True, 'fasttext model average performance.fasttext validation accuracy': 0.8331715524493625, 'fasttext model average performance.fasttext validation balanced acc': 0.7745966069467064, 'fasttext model average performance.fasttext micro-f1 score': 0.8331715524493625, 'fasttext model average performance.fasttext hamming loss': 0.16682844755063742, 'fasttext model average performance.fasttext train accuracy': 0.9548984080343653, 'fasttext model average performance.fasttext train balanced acc': 0.9311938843815596}, 16: {'ft_model': 'nn', 'keyboard_aug': False, 'remove_numbers': True, 'fasttext_zusatzdaten': False, 'remove_stopwords': False, 'lowercase': False, 'remove_punctuation': False, 'fasttext model average performance.fasttext validation accuracy': 0.8331715524493625, 'fasttext model average performance.fasttext validation balanced acc': 0.7745966069467064, 'fasttext model average performance.fasttext micro-f1 score': 0.8331715524493625, 'fasttext model average performance.fasttext hamming loss': 0.16682844755063742, 'fasttext model average performance.fasttext train accuracy': 0.9548984080343653, 'fasttext model average performance.fasttext train balanced acc': 0.9311938843815596}, 17: {'ft_model': 'nn', 'keyboard_aug': False, 'remove_numbers': True, 'fasttext_zusatzdaten': False, 'remove_stopwords': False, 'lowercase': False, 'remove_punctuation': True, 'fasttext model average performance.fasttext validation accuracy': 0.8331715524493625, 'fasttext model average performance.fasttext validation balanced acc': 0.7745966069467064, 'fasttext model average performance.fasttext micro-f1 score': 0.8331715524493625, 'fasttext model average performance.fasttext hamming loss': 0.16682844755063742, 'fasttext model average performance.fasttext train accuracy': 0.9548984080343653, 'fasttext model average performance.fasttext train balanced acc': 0.9311938843815596}, 18: {'ft_model': 'nn', 'keyboard_aug': False, 'remove_numbers': True, 'fasttext_zusatzdaten': False, 'remove_stopwords': False, 'lowercase': True, 'remove_punctuation': False, 'fasttext model average performance.fasttext validation accuracy': 0.8331715524493625, 'fasttext model average performance.fasttext validation balanced acc': 0.7745966069467064, 'fasttext model average performance.fasttext micro-f1 score': 0.8331715524493625, 'fasttext model average performance.fasttext hamming loss': 0.16682844755063742, 'fasttext model average performance.fasttext train accuracy': 0.9548984080343653, 'fasttext model average performance.fasttext train balanced acc': 0.9311938843815596}, 19: {'ft_model': 'nn', 'keyboard_aug': False, 'remove_numbers': True, 'fasttext_zusatzdaten': False, 'remove_stopwords': False, 'lowercase': True, 'remove_punctuation': True, 'fasttext model average performance.fasttext validation accuracy': 0.8331715524493625, 'fasttext model average performance.fasttext validation balanced acc': 0.7745966069467064, 'fasttext model average performance.fasttext micro-f1 score': 0.8331715524493625, 'fasttext model average performance.fasttext hamming loss': 0.16682844755063742, 'fasttext model average performance.fasttext train accuracy': 0.9549713874395532, 'fasttext model average performance.fasttext train balanced acc': 0.9312851223493036}, 20: {'ft_model': 'nn', 'keyboard_aug': False, 'remove_numbers': True, 'fasttext_zusatzdaten': False, 'remove_stopwords': True, 'lowercase': False, 'remove_punctuation': False, 'fasttext model average performance.fasttext validation accuracy': 0.8331715524493625, 'fasttext model average performance.fasttext validation balanced acc': 0.7745966069467064, 'fasttext model average performance.fasttext micro-f1 score': 0.8331715524493625, 'fasttext model average performance.fasttext hamming loss': 0.16682844755063742, 'fasttext model average performance.fasttext train accuracy': 0.9548984080343653, 'fasttext model average performance.fasttext train balanced acc': 0.9311938843815596}, 21: {'ft_model': 'nn', 'keyboard_aug': False, 'remove_numbers': True, 'fasttext_zusatzdaten': False, 'remove_stopwords': True, 'lowercase': False, 'remove_punctuation': True, 'fasttext model average performance.fasttext validation accuracy': 0.8331715524493625, 'fasttext model average performance.fasttext validation balanced acc': 0.7745966069467064, 'fasttext model average performance.fasttext micro-f1 score': 0.8331715524493625, 'fasttext model average performance.fasttext hamming loss': 0.16682844755063742, 'fasttext model average performance.fasttext train accuracy': 0.9548984080343653, 'fasttext model average performance.fasttext train balanced acc': 0.9311938843815596}, 22: {'ft_model': 'nn', 'keyboard_aug': False, 'remove_numbers': True, 'fasttext_zusatzdaten': False, 'remove_stopwords': True, 'lowercase': True, 'remove_punctuation': False, 'fasttext model average performance.fasttext validation accuracy': 0.8331715524493625, 'fasttext model average performance.fasttext validation balanced acc': 0.7745966069467064, 'fasttext model average performance.fasttext micro-f1 score': 0.8331715524493625, 'fasttext model average performance.fasttext hamming loss': 0.16682844755063742, 'fasttext model average performance.fasttext train accuracy': 0.9549713874395532, 'fasttext model average performance.fasttext train balanced acc': 0.9312851223493036}, 23: {'ft_model': 'nn', 'keyboard_aug': False, 'remove_numbers': True, 'fasttext_zusatzdaten': False, 'remove_stopwords': True, 'lowercase': True, 'remove_punctuation': True, 'fasttext model average performance.fasttext validation accuracy': 0.8331715524493625, 'fasttext model average performance.fasttext validation balanced acc': 0.7745966069467064, 'fasttext model average performance.fasttext micro-f1 score': 0.8331715524493625, 'fasttext model average performance.fasttext hamming loss': 0.16682844755063742, 'fasttext model average performance.fasttext train accuracy': 0.9549713874395532, 'fasttext model average performance.fasttext train balanced acc': 0.9312851223493036}, 24: {'ft_model': 'nn', 'keyboard_aug': False, 'remove_numbers': True, 'fasttext_zusatzdaten': True, 'remove_stopwords': False, 'lowercase': False, 'remove_punctuation': False, 'fasttext model average performance.fasttext validation accuracy': 0.8331715524493625, 'fasttext model average performance.fasttext validation balanced acc': 0.7745966069467064, 'fasttext model average performance.fasttext micro-f1 score': 0.8331715524493625, 'fasttext model average performance.fasttext hamming loss': 0.16682844755063742, 'fasttext model average performance.fasttext train accuracy': 0.9548984080343653, 'fasttext model average performance.fasttext train balanced acc': 0.9311938843815596}, 25: {'ft_model': 'nn', 'keyboard_aug': False, 'remove_numbers': True, 'fasttext_zusatzdaten': True, 'remove_stopwords': False, 'lowercase': False, 'remove_punctuation': True, 'fasttext model average performance.fasttext validation accuracy': 0.8331715524493625, 'fasttext model average performance.fasttext validation balanced acc': 0.7745966069467064, 'fasttext model average performance.fasttext micro-f1 score': 0.8331715524493625, 'fasttext model average performance.fasttext hamming loss': 0.16682844755063742, 'fasttext model average performance.fasttext train accuracy': 0.9548984080343653, 'fasttext model average performance.fasttext train balanced acc': 0.9311938843815596}, 26: {'ft_model': 'nn', 'keyboard_aug': False, 'remove_numbers': True, 'fasttext_zusatzdaten': True, 'remove_stopwords': False, 'lowercase': True, 'remove_punctuation': False, 'fasttext model average performance.fasttext validation accuracy': 0.8331715524493625, 'fasttext model average performance.fasttext validation balanced acc': 0.7745966069467064, 'fasttext model average performance.fasttext micro-f1 score': 0.8331715524493625, 'fasttext model average performance.fasttext hamming loss': 0.16682844755063742, 'fasttext model average performance.fasttext train accuracy': 0.9548984080343653, 'fasttext model average performance.fasttext train balanced acc': 0.9311938843815596}, 27: {'ft_model': 'nn', 'keyboard_aug': False, 'remove_numbers': True, 'fasttext_zusatzdaten': True, 'remove_stopwords': False, 'lowercase': True, 'remove_punctuation': True, 'fasttext model average performance.fasttext validation accuracy': 0.8331715524493625, 'fasttext model average performance.fasttext validation balanced acc': 0.7745966069467064, 'fasttext model average performance.fasttext micro-f1 score': 0.8331715524493625, 'fasttext model average performance.fasttext hamming loss': 0.16682844755063742, 'fasttext model average performance.fasttext train accuracy': 0.9548984080343653, 'fasttext model average performance.fasttext train balanced acc': 0.9311938843815596}, 28: {'ft_model': 'nn', 'keyboard_aug': False, 'remove_numbers': True, 'fasttext_zusatzdaten': True, 'remove_stopwords': True, 'lowercase': False, 'remove_punctuation': False, 'fasttext model average performance.fasttext validation accuracy': 0.8331715524493625, 'fasttext model average performance.fasttext validation balanced acc': 0.7745966069467064, 'fasttext model average performance.fasttext micro-f1 score': 0.8331715524493625, 'fasttext model average performance.fasttext hamming loss': 0.16682844755063742, 'fasttext model average performance.fasttext train accuracy': 0.9548984080343653, 'fasttext model average performance.fasttext train balanced acc': 0.9311938843815596}, 29: {'ft_model': 'nn', 'keyboard_aug': False, 'remove_numbers': True, 'fasttext_zusatzdaten': True, 'remove_stopwords': True, 'lowercase': False, 'remove_punctuation': True, 'fasttext model average performance.fasttext validation accuracy': 0.8331715524493625, 'fasttext model average performance.fasttext validation balanced acc': 0.7745966069467064, 'fasttext model average performance.fasttext micro-f1 score': 0.8331715524493625, 'fasttext model average performance.fasttext hamming loss': 0.16682844755063742, 'fasttext model average performance.fasttext train accuracy': 0.9548984080343653, 'fasttext model average performance.fasttext train balanced acc': 0.9311938843815596}, 30: {'ft_model': 'nn', 'keyboard_aug': False, 'remove_numbers': True, 'fasttext_zusatzdaten': True, 'remove_stopwords': True, 'lowercase': True, 'remove_punctuation': False, 'fasttext model average performance.fasttext validation accuracy': 0.8331715524493625, 'fasttext model average performance.fasttext validation balanced acc': 0.7745966069467064, 'fasttext model average performance.fasttext micro-f1 score': 0.8331715524493625, 'fasttext model average performance.fasttext hamming loss': 0.16682844755063742, 'fasttext model average performance.fasttext train accuracy': 0.9548984080343653, 'fasttext model average performance.fasttext train balanced acc': 0.9311938843815596}, 31: {'ft_model': 'nn', 'keyboard_aug': False, 'remove_numbers': True, 'fasttext_zusatzdaten': True, 'remove_stopwords': True, 'lowercase': True, 'remove_punctuation': True, 'fasttext model average performance.fasttext validation accuracy': 0.8331715524493625, 'fasttext model average performance.fasttext validation balanced acc': 0.7745966069467064, 'fasttext model average performance.fasttext micro-f1 score': 0.8331715524493625, 'fasttext model average performance.fasttext hamming loss': 0.16682844755063742, 'fasttext model average performance.fasttext train accuracy': 0.9548984080343653, 'fasttext model average performance.fasttext train balanced acc': 0.9311938843815596}, 32: {'ft_model': 'nn', 'keyboard_aug': True, 'remove_numbers': False, 'fasttext_zusatzdaten': False, 'remove_stopwords': False, 'lowercase': False, 'remove_punctuation': False, 'fasttext model average performance.fasttext validation accuracy': 0.8331715524493625, 'fasttext model average performance.fasttext validation balanced acc': 0.7745966069467064, 'fasttext model average performance.fasttext micro-f1 score': 0.8331715524493625, 'fasttext model average performance.fasttext hamming loss': 0.16682844755063742, 'fasttext model average performance.fasttext train accuracy': 0.9548984080343653, 'fasttext model average performance.fasttext train balanced acc': 0.9311938843815596}, 33: {'ft_model': 'nn', 'keyboard_aug': True, 'remove_numbers': False, 'fasttext_zusatzdaten': False, 'remove_stopwords': False, 'lowercase': False, 'remove_punctuation': True, 'fasttext model average performance.fasttext validation accuracy': 0.8331715524493625, 'fasttext model average performance.fasttext validation balanced acc': 0.7745966069467064, 'fasttext model average performance.fasttext micro-f1 score': 0.8331715524493625, 'fasttext model average performance.fasttext hamming loss': 0.16682844755063742, 'fasttext model average performance.fasttext train accuracy': 0.9549713874395532, 'fasttext model average performance.fasttext train balanced acc': 0.9312851223493036}, 34: {'ft_model': 'nn', 'keyboard_aug': True, 'remove_numbers': False, 'fasttext_zusatzdaten': False, 'remove_stopwords': False, 'lowercase': True, 'remove_punctuation': False, 'fasttext model average performance.fasttext validation accuracy': 0.8331715524493625, 'fasttext model average performance.fasttext validation balanced acc': 0.7745966069467064, 'fasttext model average performance.fasttext micro-f1 score': 0.8331715524493625, 'fasttext model average performance.fasttext hamming loss': 0.16682844755063742, 'fasttext model average performance.fasttext train accuracy': 0.9549713874395532, 'fasttext model average performance.fasttext train balanced acc': 0.9312851223493036}, 35: {'ft_model': 'nn', 'keyboard_aug': True, 'remove_numbers': False, 'fasttext_zusatzdaten': False, 'remove_stopwords': False, 'lowercase': True, 'remove_punctuation': True, 'fasttext model average performance.fasttext validation accuracy': 0.8331715524493625, 'fasttext model average performance.fasttext validation balanced acc': 0.7745966069467064, 'fasttext model average performance.fasttext micro-f1 score': 0.8331715524493625, 'fasttext model average performance.fasttext hamming loss': 0.16682844755063742, 'fasttext model average performance.fasttext train accuracy': 0.9549713874395532, 'fasttext model average performance.fasttext train balanced acc': 0.9312851223493036}, 36: {'ft_model': 'nn', 'keyboard_aug': True, 'remove_numbers': False, 'fasttext_zusatzdaten': False, 'remove_stopwords': True, 'lowercase': False, 'remove_punctuation': False, 'fasttext model average performance.fasttext validation accuracy': 0.8331715524493625, 'fasttext model average performance.fasttext validation balanced acc': 0.7745966069467064, 'fasttext model average performance.fasttext micro-f1 score': 0.8331715524493625, 'fasttext model average performance.fasttext hamming loss': 0.16682844755063742, 'fasttext model average performance.fasttext train accuracy': 0.9549713874395532, 'fasttext model average performance.fasttext train balanced acc': 0.9312851223493036}, 37: {'ft_model': 'nn', 'keyboard_aug': True, 'remove_numbers': False, 'fasttext_zusatzdaten': False, 'remove_stopwords': True, 'lowercase': False, 'remove_punctuation': True, 'fasttext model average performance.fasttext validation accuracy': 0.8331715524493625, 'fasttext model average performance.fasttext validation balanced acc': 0.7745966069467064, 'fasttext model average performance.fasttext micro-f1 score': 0.8331715524493625, 'fasttext model average performance.fasttext hamming loss': 0.16682844755063742, 'fasttext model average performance.fasttext train accuracy': 0.9549713874395532, 'fasttext model average performance.fasttext train balanced acc': 0.9312851223493036}, 38: {'ft_model': 'nn', 'keyboard_aug': True, 'remove_numbers': False, 'fasttext_zusatzdaten': False, 'remove_stopwords': True, 'lowercase': True, 'remove_punctuation': False, 'fasttext model average performance.fasttext validation accuracy': 0.8331715524493625, 'fasttext model average performance.fasttext validation balanced acc': 0.7745966069467064, 'fasttext model average performance.fasttext micro-f1 score': 0.8331715524493625, 'fasttext model average performance.fasttext hamming loss': 0.16682844755063742, 'fasttext model average performance.fasttext train accuracy': 0.9549713874395532, 'fasttext model average performance.fasttext train balanced acc': 0.9312851223493036}, 39: {'ft_model': 'nn', 'keyboard_aug': True, 'remove_numbers': False, 'fasttext_zusatzdaten': False, 'remove_stopwords': True, 'lowercase': True, 'remove_punctuation': True, 'fasttext model average performance.fasttext validation accuracy': 0.8331715524493625, 'fasttext model average performance.fasttext validation balanced acc': 0.7745966069467064, 'fasttext model average performance.fasttext micro-f1 score': 0.8331715524493625, 'fasttext model average performance.fasttext hamming loss': 0.16682844755063742, 'fasttext model average performance.fasttext train accuracy': 0.9549713874395532, 'fasttext model average performance.fasttext train balanced acc': 0.9312851223493036}, 40: {'ft_model': 'nn', 'keyboard_aug': True, 'remove_numbers': False, 'fasttext_zusatzdaten': True, 'remove_stopwords': False, 'lowercase': False, 'remove_punctuation': False, 'fasttext model average performance.fasttext validation accuracy': 0.8331715524493625, 'fasttext model average performance.fasttext validation balanced acc': 0.7745966069467064, 'fasttext model average performance.fasttext micro-f1 score': 0.8331715524493625, 'fasttext model average performance.fasttext hamming loss': 0.16682844755063742, 'fasttext model average performance.fasttext train accuracy': 0.9548984080343653, 'fasttext model average performance.fasttext train balanced acc': 0.9311938843815596}, 41: {'ft_model': 'nn', 'keyboard_aug': True, 'remove_numbers': False, 'fasttext_zusatzdaten': True, 'remove_stopwords': False, 'lowercase': False, 'remove_punctuation': True, 'fasttext model average performance.fasttext validation accuracy': 0.8331715524493625, 'fasttext model average performance.fasttext validation balanced acc': 0.7745966069467064, 'fasttext model average performance.fasttext micro-f1 score': 0.8331715524493625, 'fasttext model average performance.fasttext hamming loss': 0.16682844755063742, 'fasttext model average performance.fasttext train accuracy': 0.9548984080343653, 'fasttext model average performance.fasttext train balanced acc': 0.9311938843815596}, 42: {'ft_model': 'nn', 'keyboard_aug': True, 'remove_numbers': False, 'fasttext_zusatzdaten': True, 'remove_stopwords': False, 'lowercase': True, 'remove_punctuation': False, 'fasttext model average performance.fasttext validation accuracy': 0.8331715524493625, 'fasttext model average performance.fasttext validation balanced acc': 0.7745966069467064, 'fasttext model average performance.fasttext micro-f1 score': 0.8331715524493625, 'fasttext model average performance.fasttext hamming loss': 0.16682844755063742, 'fasttext model average performance.fasttext train accuracy': 0.9548984080343653, 'fasttext model average performance.fasttext train balanced acc': 0.9311938843815596}, 43: {'ft_model': 'nn', 'keyboard_aug': True, 'remove_numbers': False, 'fasttext_zusatzdaten': True, 'remove_stopwords': False, 'lowercase': True, 'remove_punctuation': True, 'fasttext model average performance.fasttext validation accuracy': 0.8331715524493625, 'fasttext model average performance.fasttext validation balanced acc': 0.7745966069467064, 'fasttext model average performance.fasttext micro-f1 score': 0.8331715524493625, 'fasttext model average performance.fasttext hamming loss': 0.16682844755063742, 'fasttext model average performance.fasttext train accuracy': 0.9548984080343653, 'fasttext model average performance.fasttext train balanced acc': 0.9311938843815596}, 44: {'ft_model': 'nn', 'keyboard_aug': True, 'remove_numbers': False, 'fasttext_zusatzdaten': True, 'remove_stopwords': True, 'lowercase': False, 'remove_punctuation': False, 'fasttext model average performance.fasttext validation accuracy': 0.8331715524493625, 'fasttext model average performance.fasttext validation balanced acc': 0.7745966069467064, 'fasttext model average performance.fasttext micro-f1 score': 0.8331715524493625, 'fasttext model average performance.fasttext hamming loss': 0.16682844755063742, 'fasttext model average performance.fasttext train accuracy': 0.9548984080343653, 'fasttext model average performance.fasttext train balanced acc': 0.9311938843815596}, 45: {'ft_model': 'nn', 'keyboard_aug': True, 'remove_numbers': False, 'fasttext_zusatzdaten': True, 'remove_stopwords': True, 'lowercase': False, 'remove_punctuation': True, 'fasttext model average performance.fasttext validation accuracy': 0.8331715524493625, 'fasttext model average performance.fasttext validation balanced acc': 0.7745966069467064, 'fasttext model average performance.fasttext micro-f1 score': 0.8331715524493625, 'fasttext model average performance.fasttext hamming loss': 0.16682844755063742, 'fasttext model average performance.fasttext train accuracy': 0.9548984080343653, 'fasttext model average performance.fasttext train balanced acc': 0.9311938843815596}, 46: {'ft_model': 'nn', 'keyboard_aug': True, 'remove_numbers': False, 'fasttext_zusatzdaten': True, 'remove_stopwords': True, 'lowercase': True, 'remove_punctuation': False, 'fasttext model average performance.fasttext validation accuracy': 0.8331715524493625, 'fasttext model average performance.fasttext validation balanced acc': 0.7745966069467064, 'fasttext model average performance.fasttext micro-f1 score': 0.8331715524493625, 'fasttext model average performance.fasttext hamming loss': 0.16682844755063742, 'fasttext model average performance.fasttext train accuracy': 0.9548984080343653, 'fasttext model average performance.fasttext train balanced acc': 0.9311938843815596}, 47: {'ft_model': 'nn', 'keyboard_aug': True, 'remove_numbers': False, 'fasttext_zusatzdaten': True, 'remove_stopwords': True, 'lowercase': True, 'remove_punctuation': True, 'fasttext model average performance.fasttext validation accuracy': 0.8331715524493625, 'fasttext model average performance.fasttext validation balanced acc': 0.7745966069467064, 'fasttext model average performance.fasttext micro-f1 score': 0.8331715524493625, 'fasttext model average performance.fasttext hamming loss': 0.16682844755063742, 'fasttext model average performance.fasttext train accuracy': 0.9548984080343653, 'fasttext model average performance.fasttext train balanced acc': 0.9311938843815596}, 48: {'ft_model': 'nn', 'keyboard_aug': True, 'remove_numbers': True, 'fasttext_zusatzdaten': False, 'remove_stopwords': False, 'lowercase': False, 'remove_punctuation': False, 'fasttext model average performance.fasttext validation accuracy': 0.8331715524493625, 'fasttext model average performance.fasttext validation balanced acc': 0.7745966069467064, 'fasttext model average performance.fasttext micro-f1 score': 0.8331715524493625, 'fasttext model average performance.fasttext hamming loss': 0.16682844755063742, 'fasttext model average performance.fasttext train accuracy': 0.9549713874395532, 'fasttext model average performance.fasttext train balanced acc': 0.9312851223493036}, 49: {'ft_model': 'nn', 'keyboard_aug': True, 'remove_numbers': True, 'fasttext_zusatzdaten': False, 'remove_stopwords': False, 'lowercase': False, 'remove_punctuation': True, 'fasttext model average performance.fasttext validation accuracy': 0.8331715524493625, 'fasttext model average performance.fasttext validation balanced acc': 0.7745966069467064, 'fasttext model average performance.fasttext micro-f1 score': 0.8331715524493625, 'fasttext model average performance.fasttext hamming loss': 0.16682844755063742, 'fasttext model average performance.fasttext train accuracy': 0.9549713874395532, 'fasttext model average performance.fasttext train balanced acc': 0.9312851223493036}, 50: {'ft_model': 'nn', 'keyboard_aug': True, 'remove_numbers': True, 'fasttext_zusatzdaten': False, 'remove_stopwords': False, 'lowercase': True, 'remove_punctuation': False, 'fasttext model average performance.fasttext validation accuracy': 0.8331715524493625, 'fasttext model average performance.fasttext validation balanced acc': 0.7745966069467064, 'fasttext model average performance.fasttext micro-f1 score': 0.8331715524493625, 'fasttext model average performance.fasttext hamming loss': 0.16682844755063742, 'fasttext model average performance.fasttext train accuracy': 0.9549713874395532, 'fasttext model average performance.fasttext train balanced acc': 0.9312851223493036}, 51: {'ft_model': 'nn', 'keyboard_aug': True, 'remove_numbers': True, 'fasttext_zusatzdaten': False, 'remove_stopwords': False, 'lowercase': True, 'remove_punctuation': True, 'fasttext model average performance.fasttext validation accuracy': 0.8331715524493625, 'fasttext model average performance.fasttext validation balanced acc': 0.7745966069467064, 'fasttext model average performance.fasttext micro-f1 score': 0.8331715524493625, 'fasttext model average performance.fasttext hamming loss': 0.1668284475506374, 'fasttext model average performance.fasttext train accuracy': 0.9549713874395532, 'fasttext model average performance.fasttext train balanced acc': 0.9312851223493036}, 52: {'ft_model': 'nn', 'keyboard_aug': True, 'remove_numbers': True, 'fasttext_zusatzdaten': False, 'remove_stopwords': True, 'lowercase': False, 'remove_punctuation': False, 'fasttext model average performance.fasttext validation accuracy': 0.8331715524493625, 'fasttext model average performance.fasttext validation balanced acc': 0.7745966069467064, 'fasttext model average performance.fasttext micro-f1 score': 0.8331715524493625, 'fasttext model average performance.fasttext hamming loss': 0.16682844755063742, 'fasttext model average performance.fasttext train accuracy': 0.9548984080343653, 'fasttext model average performance.fasttext train balanced acc': 0.9311938843815596}, 53: {'ft_model': 'nn', 'keyboard_aug': True, 'remove_numbers': True, 'fasttext_zusatzdaten': False, 'remove_stopwords': True, 'lowercase': False, 'remove_punctuation': True, 'fasttext model average performance.fasttext validation accuracy': 0.8331715524493625, 'fasttext model average performance.fasttext validation balanced acc': 0.7745966069467064, 'fasttext model average performance.fasttext micro-f1 score': 0.8331715524493625, 'fasttext model average performance.fasttext hamming loss': 0.16682844755063742, 'fasttext model average performance.fasttext train accuracy': 0.9549713874395532, 'fasttext model average performance.fasttext train balanced acc': 0.9312851223493036}, 54: {'ft_model': 'nn', 'keyboard_aug': True, 'remove_numbers': True, 'fasttext_zusatzdaten': False, 'remove_stopwords': True, 'lowercase': True, 'remove_punctuation': False, 'fasttext model average performance.fasttext validation accuracy': 0.8331715524493625, 'fasttext model average performance.fasttext validation balanced acc': 0.7745966069467064, 'fasttext model average performance.fasttext micro-f1 score': 0.8331715524493625, 'fasttext model average performance.fasttext hamming loss': 0.16682844755063742, 'fasttext model average performance.fasttext train accuracy': 0.9549713874395532, 'fasttext model average performance.fasttext train balanced acc': 0.9312851223493036}, 55: {'ft_model': 'nn', 'keyboard_aug': True, 'remove_numbers': True, 'fasttext_zusatzdaten': False, 'remove_stopwords': True, 'lowercase': True, 'remove_punctuation': True, 'fasttext model average performance.fasttext validation accuracy': 0.8331715524493625, 'fasttext model average performance.fasttext validation balanced acc': 0.7745966069467064, 'fasttext model average performance.fasttext micro-f1 score': 0.8331715524493625, 'fasttext model average performance.fasttext hamming loss': 0.16682844755063742, 'fasttext model average performance.fasttext train accuracy': 0.9549713874395532, 'fasttext model average performance.fasttext train balanced acc': 0.9312851223493036}, 56: {'ft_model': 'nn', 'keyboard_aug': True, 'remove_numbers': True, 'fasttext_zusatzdaten': True, 'remove_stopwords': False, 'lowercase': False, 'remove_punctuation': False, 'fasttext model average performance.fasttext validation accuracy': 0.8331715524493625, 'fasttext model average performance.fasttext validation balanced acc': 0.7745966069467064, 'fasttext model average performance.fasttext micro-f1 score': 0.8331715524493625, 'fasttext model average performance.fasttext hamming loss': 0.16682844755063742, 'fasttext model average performance.fasttext train accuracy': 0.9548984080343653, 'fasttext model average performance.fasttext train balanced acc': 0.9311938843815596}, 57: {'ft_model': 'nn', 'keyboard_aug': True, 'remove_numbers': True, 'fasttext_zusatzdaten': True, 'remove_stopwords': False, 'lowercase': False, 'remove_punctuation': True, 'fasttext model average performance.fasttext validation accuracy': 0.8331715524493625, 'fasttext model average performance.fasttext validation balanced acc': 0.7745966069467064, 'fasttext model average performance.fasttext micro-f1 score': 0.8331715524493625, 'fasttext model average performance.fasttext hamming loss': 0.16682844755063742, 'fasttext model average performance.fasttext train accuracy': 0.9548984080343653, 'fasttext model average performance.fasttext train balanced acc': 0.9311938843815596}, 58: {'ft_model': 'nn', 'keyboard_aug': True, 'remove_numbers': True, 'fasttext_zusatzdaten': True, 'remove_stopwords': False, 'lowercase': True, 'remove_punctuation': False, 'fasttext model average performance.fasttext validation accuracy': 0.8331715524493625, 'fasttext model average performance.fasttext validation balanced acc': 0.7745966069467064, 'fasttext model average performance.fasttext micro-f1 score': 0.8331715524493625, 'fasttext model average performance.fasttext hamming loss': 0.16682844755063742, 'fasttext model average performance.fasttext train accuracy': 0.9548984080343653, 'fasttext model average performance.fasttext train balanced acc': 0.9311938843815596}, 59: {'ft_model': 'nn', 'keyboard_aug': True, 'remove_numbers': True, 'fasttext_zusatzdaten': True, 'remove_stopwords': False, 'lowercase': True, 'remove_punctuation': True, 'fasttext model average performance.fasttext validation accuracy': 0.8331715524493625, 'fasttext model average performance.fasttext validation balanced acc': 0.7745966069467064, 'fasttext model average performance.fasttext micro-f1 score': 0.8331715524493625, 'fasttext model average performance.fasttext hamming loss': 0.16682844755063742, 'fasttext model average performance.fasttext train accuracy': 0.9548984080343653, 'fasttext model average performance.fasttext train balanced acc': 0.9311938843815596}, 60: {'ft_model': 'nn', 'keyboard_aug': True, 'remove_numbers': True, 'fasttext_zusatzdaten': True, 'remove_stopwords': True, 'lowercase': False, 'remove_punctuation': False, 'fasttext model average performance.fasttext validation accuracy': 0.8331715524493625, 'fasttext model average performance.fasttext validation balanced acc': 0.7745966069467064, 'fasttext model average performance.fasttext micro-f1 score': 0.8331715524493625, 'fasttext model average performance.fasttext hamming loss': 0.16682844755063742, 'fasttext model average performance.fasttext train accuracy': 0.9548984080343653, 'fasttext model average performance.fasttext train balanced acc': 0.9311938843815596}, 61: {'ft_model': 'nn', 'keyboard_aug': True, 'remove_numbers': True, 'fasttext_zusatzdaten': True, 'remove_stopwords': True, 'lowercase': False, 'remove_punctuation': True, 'fasttext model average performance.fasttext validation accuracy': 0.8331715524493625, 'fasttext model average performance.fasttext validation balanced acc': 0.7745966069467064, 'fasttext model average performance.fasttext micro-f1 score': 0.8331715524493625, 'fasttext model average performance.fasttext hamming loss': 0.16682844755063742, 'fasttext model average performance.fasttext train accuracy': 0.9548984080343653, 'fasttext model average performance.fasttext train balanced acc': 0.9311938843815596}, 62: {'ft_model': 'nn', 'keyboard_aug': True, 'remove_numbers': True, 'fasttext_zusatzdaten': True, 'remove_stopwords': True, 'lowercase': True, 'remove_punctuation': False, 'fasttext model average performance.fasttext validation accuracy': 0.8331715524493625, 'fasttext model average performance.fasttext validation balanced acc': 0.7745966069467064, 'fasttext model average performance.fasttext micro-f1 score': 0.8331715524493625, 'fasttext model average performance.fasttext hamming loss': 0.16682844755063742, 'fasttext model average performance.fasttext train accuracy': 0.9548984080343653, 'fasttext model average performance.fasttext train balanced acc': 0.9311938843815596}, 63: {'ft_model': 'nn', 'keyboard_aug': True, 'remove_numbers': True, 'fasttext_zusatzdaten': True, 'remove_stopwords': True, 'lowercase': True, 'remove_punctuation': True, 'fasttext model average performance.fasttext validation accuracy': 0.8331715524493625, 'fasttext model average performance.fasttext validation balanced acc': 0.7745966069467064, 'fasttext model average performance.fasttext micro-f1 score': 0.8331715524493625, 'fasttext model average performance.fasttext hamming loss': 0.16682844755063742, 'fasttext model average performance.fasttext train accuracy': 0.9548984080343653, 'fasttext model average performance.fasttext train balanced acc': 0.9311938843815596}, 64: {'ft_model': 'xgboost', 'keyboard_aug': False, 'remove_numbers': False, 'fasttext_zusatzdaten': False, 'remove_stopwords': False, 'lowercase': False, 'remove_punctuation': False, 'fasttext model average performance.fasttext validation accuracy': 0.8347990681421082, 'fasttext model average performance.fasttext validation balanced acc': 0.7402063126485866, 'fasttext model average performance.fasttext micro-f1 score': 0.8347990681421082, 'fasttext model average performance.fasttext hamming loss': 0.16520093185789164, 'fasttext model average performance.fasttext train accuracy': 0.9863892011251689, 'fasttext model average performance.fasttext train balanced acc': 0.9760174175587774}, 65: {'ft_model': 'xgboost', 'keyboard_aug': False, 'remove_numbers': False, 'fasttext_zusatzdaten': False, 'remove_stopwords': False, 'lowercase': False, 'remove_punctuation': True, 'fasttext model average performance.fasttext validation accuracy': 0.8347990681421082, 'fasttext model average performance.fasttext validation balanced acc': 0.7402063126485866, 'fasttext model average performance.fasttext micro-f1 score': 0.8347990681421082, 'fasttext model average performance.fasttext hamming loss': 0.16520093185789164, 'fasttext model average performance.fasttext train accuracy': 0.9863892011251689, 'fasttext model average performance.fasttext train balanced acc': 0.9760174175587774}, 66: {'ft_model': 'xgboost', 'keyboard_aug': False, 'remove_numbers': False, 'fasttext_zusatzdaten': False, 'remove_stopwords': False, 'lowercase': True, 'remove_punctuation': False, 'fasttext model average performance.fasttext validation accuracy': 0.8347990681421082, 'fasttext model average performance.fasttext validation balanced acc': 0.7402063126485866, 'fasttext model average performance.fasttext micro-f1 score': 0.8347990681421082, 'fasttext model average performance.fasttext hamming loss': 0.16520093185789164, 'fasttext model average performance.fasttext train accuracy': 0.9863892011251689, 'fasttext model average performance.fasttext train balanced acc': 0.9760174175587774}, 67: {'ft_model': 'xgboost', 'keyboard_aug': False, 'remove_numbers': False, 'fasttext_zusatzdaten': False, 'remove_stopwords': False, 'lowercase': True, 'remove_punctuation': True, 'fasttext model average performance.fasttext validation accuracy': 0.8347990681421082, 'fasttext model average performance.fasttext validation balanced acc': 0.7402063126485866, 'fasttext model average performance.fasttext micro-f1 score': 0.8347990681421082, 'fasttext model average performance.fasttext hamming loss': 0.16520093185789164, 'fasttext model average performance.fasttext train accuracy': 0.9863892011251689, 'fasttext model average performance.fasttext train balanced acc': 0.9760174175587774}, 68: {'ft_model': 'xgboost', 'keyboard_aug': False, 'remove_numbers': False, 'fasttext_zusatzdaten': False, 'remove_stopwords': True, 'lowercase': False, 'remove_punctuation': False, 'fasttext model average performance.fasttext validation accuracy': 0.8347990681421082, 'fasttext model average performance.fasttext validation balanced acc': 0.7402063126485866, 'fasttext model average performance.fasttext micro-f1 score': 0.8347990681421082, 'fasttext model average performance.fasttext hamming loss': 0.16520093185789164, 'fasttext model average performance.fasttext train accuracy': 0.9863892011251689, 'fasttext model average performance.fasttext train balanced acc': 0.9760174175587774}, 69: {'ft_model': 'xgboost', 'keyboard_aug': False, 'remove_numbers': False, 'fasttext_zusatzdaten': False, 'remove_stopwords': True, 'lowercase': False, 'remove_punctuation': True, 'fasttext model average performance.fasttext validation accuracy': 0.8347990681421082, 'fasttext model average performance.fasttext validation balanced acc': 0.7402063126485866, 'fasttext model average performance.fasttext micro-f1 score': 0.8347990681421082, 'fasttext model average performance.fasttext hamming loss': 0.16520093185789164, 'fasttext model average performance.fasttext train accuracy': 0.9863892011251689, 'fasttext model average performance.fasttext train balanced acc': 0.9760174175587774}, 70: {'ft_model': 'xgboost', 'keyboard_aug': False, 'remove_numbers': False, 'fasttext_zusatzdaten': False, 'remove_stopwords': True, 'lowercase': True, 'remove_punctuation': False, 'fasttext model average performance.fasttext validation accuracy': 0.8347990681421082, 'fasttext model average performance.fasttext validation balanced acc': 0.7402063126485866, 'fasttext model average performance.fasttext micro-f1 score': 0.8347990681421082, 'fasttext model average performance.fasttext hamming loss': 0.16520093185789164, 'fasttext model average performance.fasttext train accuracy': 0.9863892011251689, 'fasttext model average performance.fasttext train balanced acc': 0.9760174175587774}, 71: {'ft_model': 'xgboost', 'keyboard_aug': False, 'remove_numbers': False, 'fasttext_zusatzdaten': False, 'remove_stopwords': True, 'lowercase': True, 'remove_punctuation': True, 'fasttext model average performance.fasttext validation accuracy': 0.8347990681421082, 'fasttext model average performance.fasttext validation balanced acc': 0.7402063126485866, 'fasttext model average performance.fasttext micro-f1 score': 0.8347990681421082, 'fasttext model average performance.fasttext hamming loss': 0.16520093185789164, 'fasttext model average performance.fasttext train accuracy': 0.9863892011251689, 'fasttext model average performance.fasttext train balanced acc': 0.9760174175587774}, 72: {'ft_model': 'xgboost', 'keyboard_aug': False, 'remove_numbers': False, 'fasttext_zusatzdaten': True, 'remove_stopwords': False, 'lowercase': False, 'remove_punctuation': False, 'fasttext model average performance.fasttext validation accuracy': 0.8347990681421082, 'fasttext model average performance.fasttext validation balanced acc': 0.7402063126485866, 'fasttext model average performance.fasttext micro-f1 score': 0.8347990681421082, 'fasttext model average performance.fasttext hamming loss': 0.16520093185789164, 'fasttext model average performance.fasttext train accuracy': 0.9863892011251689, 'fasttext model average performance.fasttext train balanced acc': 0.9760174175587774}, 73: {'ft_model': 'xgboost', 'keyboard_aug': False, 'remove_numbers': False, 'fasttext_zusatzdaten': True, 'remove_stopwords': False, 'lowercase': False, 'remove_punctuation': True, 'fasttext model average performance.fasttext validation accuracy': 0.8347990681421082, 'fasttext model average performance.fasttext validation balanced acc': 0.7402063126485866, 'fasttext model average performance.fasttext micro-f1 score': 0.8347990681421082, 'fasttext model average performance.fasttext hamming loss': 0.16520093185789164, 'fasttext model average performance.fasttext train accuracy': 0.9863892011251689, 'fasttext model average performance.fasttext train balanced acc': 0.9760174175587774}, 74: {'ft_model': 'xgboost', 'keyboard_aug': False, 'remove_numbers': False, 'fasttext_zusatzdaten': True, 'remove_stopwords': False, 'lowercase': True, 'remove_punctuation': False, 'fasttext model average performance.fasttext validation accuracy': 0.8347990681421082, 'fasttext model average performance.fasttext validation balanced acc': 0.7402063126485866, 'fasttext model average performance.fasttext micro-f1 score': 0.8347990681421082, 'fasttext model average performance.fasttext hamming loss': 0.16520093185789164, 'fasttext model average performance.fasttext train accuracy': 0.9863892011251689, 'fasttext model average performance.fasttext train balanced acc': 0.9760174175587774}, 75: {'ft_model': 'xgboost', 'keyboard_aug': False, 'remove_numbers': False, 'fasttext_zusatzdaten': True, 'remove_stopwords': False, 'lowercase': True, 'remove_punctuation': True, 'fasttext model average performance.fasttext validation accuracy': 0.8347990681421082, 'fasttext model average performance.fasttext validation balanced acc': 0.7402063126485866, 'fasttext model average performance.fasttext micro-f1 score': 0.8347990681421082, 'fasttext model average performance.fasttext hamming loss': 0.16520093185789164, 'fasttext model average performance.fasttext train accuracy': 0.9863892011251689, 'fasttext model average performance.fasttext train balanced acc': 0.9760174175587774}, 76: {'ft_model': 'xgboost', 'keyboard_aug': False, 'remove_numbers': False, 'fasttext_zusatzdaten': True, 'remove_stopwords': True, 'lowercase': False, 'remove_punctuation': False, 'fasttext model average performance.fasttext validation accuracy': 0.8347990681421082, 'fasttext model average performance.fasttext validation balanced acc': 0.7402063126485866, 'fasttext model average performance.fasttext micro-f1 score': 0.8347990681421082, 'fasttext model average performance.fasttext hamming loss': 0.16520093185789164, 'fasttext model average performance.fasttext train accuracy': 0.9863892011251689, 'fasttext model average performance.fasttext train balanced acc': 0.9760174175587774}, 77: {'ft_model': 'xgboost', 'keyboard_aug': False, 'remove_numbers': False, 'fasttext_zusatzdaten': True, 'remove_stopwords': True, 'lowercase': False, 'remove_punctuation': True, 'fasttext model average performance.fasttext validation accuracy': 0.8347990681421082, 'fasttext model average performance.fasttext validation balanced acc': 0.7402063126485866, 'fasttext model average performance.fasttext micro-f1 score': 0.8347990681421082, 'fasttext model average performance.fasttext hamming loss': 0.16520093185789164, 'fasttext model average performance.fasttext train accuracy': 0.9863892011251689, 'fasttext model average performance.fasttext train balanced acc': 0.9760174175587774}, 78: {'ft_model': 'xgboost', 'keyboard_aug': False, 'remove_numbers': False, 'fasttext_zusatzdaten': True, 'remove_stopwords': True, 'lowercase': True, 'remove_punctuation': False, 'fasttext model average performance.fasttext validation accuracy': 0.8347990681421082, 'fasttext model average performance.fasttext validation balanced acc': 0.7402063126485866, 'fasttext model average performance.fasttext micro-f1 score': 0.8347990681421082, 'fasttext model average performance.fasttext hamming loss': 0.16520093185789164, 'fasttext model average performance.fasttext train accuracy': 0.9863892011251689, 'fasttext model average performance.fasttext train balanced acc': 0.9760174175587774}, 79: {'ft_model': 'xgboost', 'keyboard_aug': False, 'remove_numbers': False, 'fasttext_zusatzdaten': True, 'remove_stopwords': True, 'lowercase': True, 'remove_punctuation': True, 'fasttext model average performance.fasttext validation accuracy': 0.8347990681421082, 'fasttext model average performance.fasttext validation balanced acc': 0.7402063126485866, 'fasttext model average performance.fasttext micro-f1 score': 0.8347990681421082, 'fasttext model average performance.fasttext hamming loss': 0.16520093185789164, 'fasttext model average performance.fasttext train accuracy': 0.9863892011251689, 'fasttext model average performance.fasttext train balanced acc': 0.9760174175587774}, 80: {'ft_model': 'xgboost', 'keyboard_aug': False, 'remove_numbers': True, 'fasttext_zusatzdaten': False, 'remove_stopwords': False, 'lowercase': False, 'remove_punctuation': False, 'fasttext model average performance.fasttext validation accuracy': 0.8347990681421082, 'fasttext model average performance.fasttext validation balanced acc': 0.7402063126485866, 'fasttext model average performance.fasttext micro-f1 score': 0.8347990681421082, 'fasttext model average performance.fasttext hamming loss': 0.16520093185789164, 'fasttext model average performance.fasttext train accuracy': 0.9863892011251689, 'fasttext model average performance.fasttext train balanced acc': 0.9760174175587774}, 81: {'ft_model': 'xgboost', 'keyboard_aug': False, 'remove_numbers': True, 'fasttext_zusatzdaten': False, 'remove_stopwords': False, 'lowercase': False, 'remove_punctuation': True, 'fasttext model average performance.fasttext validation accuracy': 0.8347990681421082, 'fasttext model average performance.fasttext validation balanced acc': 0.7402063126485866, 'fasttext model average performance.fasttext micro-f1 score': 0.8347990681421082, 'fasttext model average performance.fasttext hamming loss': 0.16520093185789164, 'fasttext model average performance.fasttext train accuracy': 0.9863892011251689, 'fasttext model average performance.fasttext train balanced acc': 0.9760174175587774}, 82: {'ft_model': 'xgboost', 'keyboard_aug': False, 'remove_numbers': True, 'fasttext_zusatzdaten': False, 'remove_stopwords': False, 'lowercase': True, 'remove_punctuation': False, 'fasttext model average performance.fasttext validation accuracy': 0.8347990681421082, 'fasttext model average performance.fasttext validation balanced acc': 0.7402063126485866, 'fasttext model average performance.fasttext micro-f1 score': 0.8347990681421082, 'fasttext model average performance.fasttext hamming loss': 0.16520093185789164, 'fasttext model average performance.fasttext train accuracy': 0.9863892011251689, 'fasttext model average performance.fasttext train balanced acc': 0.9760174175587774}, 83: {'ft_model': 'xgboost', 'keyboard_aug': False, 'remove_numbers': True, 'fasttext_zusatzdaten': False, 'remove_stopwords': False, 'lowercase': True, 'remove_punctuation': True, 'fasttext model average performance.fasttext validation accuracy': 0.8347990681421082, 'fasttext model average performance.fasttext validation balanced acc': 0.7402063126485866, 'fasttext model average performance.fasttext micro-f1 score': 0.8347990681421082, 'fasttext model average performance.fasttext hamming loss': 0.16520093185789164, 'fasttext model average performance.fasttext train accuracy': 0.9863892011251689, 'fasttext model average performance.fasttext train balanced acc': 0.9760174175587774}, 84: {'ft_model': 'xgboost', 'keyboard_aug': False, 'remove_numbers': True, 'fasttext_zusatzdaten': False, 'remove_stopwords': True, 'lowercase': False, 'remove_punctuation': False, 'fasttext model average performance.fasttext validation accuracy': 0.8347990681421082, 'fasttext model average performance.fasttext validation balanced acc': 0.7402063126485866, 'fasttext model average performance.fasttext micro-f1 score': 0.8347990681421082, 'fasttext model average performance.fasttext hamming loss': 0.16520093185789164, 'fasttext model average performance.fasttext train accuracy': 0.9863892011251689, 'fasttext model average performance.fasttext train balanced acc': 0.9760174175587774}, 85: {'ft_model': 'xgboost', 'keyboard_aug': False, 'remove_numbers': True, 'fasttext_zusatzdaten': False, 'remove_stopwords': True, 'lowercase': False, 'remove_punctuation': True, 'fasttext model average performance.fasttext validation accuracy': 0.8347990681421082, 'fasttext model average performance.fasttext validation balanced acc': 0.7402063126485866, 'fasttext model average performance.fasttext micro-f1 score': 0.8347990681421082, 'fasttext model average performance.fasttext hamming loss': 0.16520093185789164, 'fasttext model average performance.fasttext train accuracy': 0.9863892011251689, 'fasttext model average performance.fasttext train balanced acc': 0.9760174175587774}, 86: {'ft_model': 'xgboost', 'keyboard_aug': False, 'remove_numbers': True, 'fasttext_zusatzdaten': False, 'remove_stopwords': True, 'lowercase': True, 'remove_punctuation': False, 'fasttext model average performance.fasttext validation accuracy': 0.8347990681421082, 'fasttext model average performance.fasttext validation balanced acc': 0.7402063126485866, 'fasttext model average performance.fasttext micro-f1 score': 0.8347990681421082, 'fasttext model average performance.fasttext hamming loss': 0.16520093185789164, 'fasttext model average performance.fasttext train accuracy': 0.9863892011251689, 'fasttext model average performance.fasttext train balanced acc': 0.9760174175587774}, 87: {'ft_model': 'xgboost', 'keyboard_aug': False, 'remove_numbers': True, 'fasttext_zusatzdaten': False, 'remove_stopwords': True, 'lowercase': True, 'remove_punctuation': True, 'fasttext model average performance.fasttext validation accuracy': 0.8347990681421082, 'fasttext model average performance.fasttext validation balanced acc': 0.7402063126485866, 'fasttext model average performance.fasttext micro-f1 score': 0.8347990681421082, 'fasttext model average performance.fasttext hamming loss': 0.16520093185789164, 'fasttext model average performance.fasttext train accuracy': 0.9863892011251689, 'fasttext model average performance.fasttext train balanced acc': 0.9760174175587774}, 88: {'ft_model': 'xgboost', 'keyboard_aug': False, 'remove_numbers': True, 'fasttext_zusatzdaten': True, 'remove_stopwords': False, 'lowercase': False, 'remove_punctuation': False, 'fasttext model average performance.fasttext validation accuracy': 0.8347990681421082, 'fasttext model average performance.fasttext validation balanced acc': 0.7402063126485866, 'fasttext model average performance.fasttext micro-f1 score': 0.8347990681421082, 'fasttext model average performance.fasttext hamming loss': 0.16520093185789164, 'fasttext model average performance.fasttext train accuracy': 0.9863892011251689, 'fasttext model average performance.fasttext train balanced acc': 0.9760174175587774}, 89: {'ft_model': 'xgboost', 'keyboard_aug': False, 'remove_numbers': True, 'fasttext_zusatzdaten': True, 'remove_stopwords': False, 'lowercase': False, 'remove_punctuation': True, 'fasttext model average performance.fasttext validation accuracy': 0.8347990681421082, 'fasttext model average performance.fasttext validation balanced acc': 0.7402063126485866, 'fasttext model average performance.fasttext micro-f1 score': 0.8347990681421082, 'fasttext model average performance.fasttext hamming loss': 0.16520093185789164, 'fasttext model average performance.fasttext train accuracy': 0.9863892011251689, 'fasttext model average performance.fasttext train balanced acc': 0.9760174175587774}, 90: {'ft_model': 'xgboost', 'keyboard_aug': False, 'remove_numbers': True, 'fasttext_zusatzdaten': True, 'remove_stopwords': False, 'lowercase': True, 'remove_punctuation': False, 'fasttext model average performance.fasttext validation accuracy': 0.8347990681421082, 'fasttext model average performance.fasttext validation balanced acc': 0.7402063126485866, 'fasttext model average performance.fasttext micro-f1 score': 0.8347990681421082, 'fasttext model average performance.fasttext hamming loss': 0.16520093185789164, 'fasttext model average performance.fasttext train accuracy': 0.9863892011251689, 'fasttext model average performance.fasttext train balanced acc': 0.9760174175587774}, 91: {'ft_model': 'xgboost', 'keyboard_aug': False, 'remove_numbers': True, 'fasttext_zusatzdaten': True, 'remove_stopwords': False, 'lowercase': True, 'remove_punctuation': True, 'fasttext model average performance.fasttext validation accuracy': 0.8347990681421082, 'fasttext model average performance.fasttext validation balanced acc': 0.7402063126485866, 'fasttext model average performance.fasttext micro-f1 score': 0.8347990681421082, 'fasttext model average performance.fasttext hamming loss': 0.16520093185789164, 'fasttext model average performance.fasttext train accuracy': 0.9863892011251689, 'fasttext model average performance.fasttext train balanced acc': 0.9760174175587774}, 92: {'ft_model': 'xgboost', 'keyboard_aug': False, 'remove_numbers': True, 'fasttext_zusatzdaten': True, 'remove_stopwords': True, 'lowercase': False, 'remove_punctuation': False, 'fasttext model average performance.fasttext validation accuracy': 0.8347990681421082, 'fasttext model average performance.fasttext validation balanced acc': 0.7402063126485866, 'fasttext model average performance.fasttext micro-f1 score': 0.8347990681421082, 'fasttext model average performance.fasttext hamming loss': 0.16520093185789164, 'fasttext model average performance.fasttext train accuracy': 0.9863892011251689, 'fasttext model average performance.fasttext train balanced acc': 0.9760174175587774}, 93: {'ft_model': 'xgboost', 'keyboard_aug': False, 'remove_numbers': True, 'fasttext_zusatzdaten': True, 'remove_stopwords': True, 'lowercase': False, 'remove_punctuation': True, 'fasttext model average performance.fasttext validation accuracy': 0.8347990681421082, 'fasttext model average performance.fasttext validation balanced acc': 0.7402063126485866, 'fasttext model average performance.fasttext micro-f1 score': 0.8347990681421082, 'fasttext model average performance.fasttext hamming loss': 0.16520093185789164, 'fasttext model average performance.fasttext train accuracy': 0.9863892011251689, 'fasttext model average performance.fasttext train balanced acc': 0.9760174175587774}, 94: {'ft_model': 'xgboost', 'keyboard_aug': False, 'remove_numbers': True, 'fasttext_zusatzdaten': True, 'remove_stopwords': True, 'lowercase': True, 'remove_punctuation': False, 'fasttext model average performance.fasttext validation accuracy': 0.8347990681421082, 'fasttext model average performance.fasttext validation balanced acc': 0.7402063126485866, 'fasttext model average performance.fasttext micro-f1 score': 0.8347990681421082, 'fasttext model average performance.fasttext hamming loss': 0.16520093185789164, 'fasttext model average performance.fasttext train accuracy': 0.9863892011251689, 'fasttext model average performance.fasttext train balanced acc': 0.9760174175587774}, 95: {'ft_model': 'xgboost', 'keyboard_aug': False, 'remove_numbers': True, 'fasttext_zusatzdaten': True, 'remove_stopwords': True, 'lowercase': True, 'remove_punctuation': True, 'fasttext model average performance.fasttext validation accuracy': 0.8347990681421082, 'fasttext model average performance.fasttext validation balanced acc': 0.7402063126485866, 'fasttext model average performance.fasttext micro-f1 score': 0.8347990681421082, 'fasttext model average performance.fasttext hamming loss': 0.16520093185789164, 'fasttext model average performance.fasttext train accuracy': 0.9863892011251689, 'fasttext model average performance.fasttext train balanced acc': 0.9760174175587774}, 96: {'ft_model': 'xgboost', 'keyboard_aug': True, 'remove_numbers': False, 'fasttext_zusatzdaten': False, 'remove_stopwords': False, 'lowercase': False, 'remove_punctuation': False, 'fasttext model average performance.fasttext validation accuracy': 0.8347990681421082, 'fasttext model average performance.fasttext validation balanced acc': 0.7402063126485866, 'fasttext model average performance.fasttext micro-f1 score': 0.8347990681421082, 'fasttext model average performance.fasttext hamming loss': 0.16520093185789164, 'fasttext model average performance.fasttext train accuracy': 0.9863892011251689, 'fasttext model average performance.fasttext train balanced acc': 0.9760174175587774}, 97: {'ft_model': 'xgboost', 'keyboard_aug': True, 'remove_numbers': False, 'fasttext_zusatzdaten': False, 'remove_stopwords': False, 'lowercase': False, 'remove_punctuation': True, 'fasttext model average performance.fasttext validation accuracy': 0.8347990681421082, 'fasttext model average performance.fasttext validation balanced acc': 0.7402063126485866, 'fasttext model average performance.fasttext micro-f1 score': 0.8347990681421082, 'fasttext model average performance.fasttext hamming loss': 0.16520093185789164, 'fasttext model average performance.fasttext train accuracy': 0.9863892011251689, 'fasttext model average performance.fasttext train balanced acc': 0.9760174175587774}, 98: {'ft_model': 'xgboost', 'keyboard_aug': True, 'remove_numbers': False, 'fasttext_zusatzdaten': False, 'remove_stopwords': False, 'lowercase': True, 'remove_punctuation': False, 'fasttext model average performance.fasttext validation accuracy': 0.8347990681421082, 'fasttext model average performance.fasttext validation balanced acc': 0.7402063126485866, 'fasttext model average performance.fasttext micro-f1 score': 0.8347990681421082, 'fasttext model average performance.fasttext hamming loss': 0.16520093185789164, 'fasttext model average performance.fasttext train accuracy': 0.9863892011251689, 'fasttext model average performance.fasttext train balanced acc': 0.9760174175587774}, 99: {'ft_model': 'xgboost', 'keyboard_aug': True, 'remove_numbers': False, 'fasttext_zusatzdaten': False, 'remove_stopwords': False, 'lowercase': True, 'remove_punctuation': True, 'fasttext model average performance.fasttext validation accuracy': 0.8347990681421082, 'fasttext model average performance.fasttext validation balanced acc': 0.7402063126485866, 'fasttext model average performance.fasttext micro-f1 score': 0.8347990681421082, 'fasttext model average performance.fasttext hamming loss': 0.16520093185789164, 'fasttext model average performance.fasttext train accuracy': 0.9863892011251689, 'fasttext model average performance.fasttext train balanced acc': 0.9760174175587774}, 100: {'ft_model': 'xgboost', 'keyboard_aug': True, 'remove_numbers': False, 'fasttext_zusatzdaten': False, 'remove_stopwords': True, 'lowercase': False, 'remove_punctuation': False, 'fasttext model average performance.fasttext validation accuracy': 0.8347990681421082, 'fasttext model average performance.fasttext validation balanced acc': 0.7402063126485866, 'fasttext model average performance.fasttext micro-f1 score': 0.8347990681421082, 'fasttext model average performance.fasttext hamming loss': 0.16520093185789164, 'fasttext model average performance.fasttext train accuracy': 0.9863892011251689, 'fasttext model average performance.fasttext train balanced acc': 0.9760174175587774}, 101: {'ft_model': 'xgboost', 'keyboard_aug': True, 'remove_numbers': False, 'fasttext_zusatzdaten': False, 'remove_stopwords': True, 'lowercase': False, 'remove_punctuation': True, 'fasttext model average performance.fasttext validation accuracy': 0.8347990681421082, 'fasttext model average performance.fasttext validation balanced acc': 0.7402063126485866, 'fasttext model average performance.fasttext micro-f1 score': 0.8347990681421082, 'fasttext model average performance.fasttext hamming loss': 0.16520093185789164, 'fasttext model average performance.fasttext train accuracy': 0.9863892011251689, 'fasttext model average performance.fasttext train balanced acc': 0.9760174175587774}, 102: {'ft_model': 'xgboost', 'keyboard_aug': True, 'remove_numbers': False, 'fasttext_zusatzdaten': False, 'remove_stopwords': True, 'lowercase': True, 'remove_punctuation': False, 'fasttext model average performance.fasttext validation accuracy': 0.8347990681421082, 'fasttext model average performance.fasttext validation balanced acc': 0.7402063126485866, 'fasttext model average performance.fasttext micro-f1 score': 0.8347990681421082, 'fasttext model average performance.fasttext hamming loss': 0.16520093185789164, 'fasttext model average performance.fasttext train accuracy': 0.9863892011251689, 'fasttext model average performance.fasttext train balanced acc': 0.9760174175587774}, 103: {'ft_model': 'xgboost', 'keyboard_aug': True, 'remove_numbers': False, 'fasttext_zusatzdaten': False, 'remove_stopwords': True, 'lowercase': True, 'remove_punctuation': True, 'fasttext model average performance.fasttext validation accuracy': 0.8347990681421082, 'fasttext model average performance.fasttext validation balanced acc': 0.7402063126485866, 'fasttext model average performance.fasttext micro-f1 score': 0.8347990681421082, 'fasttext model average performance.fasttext hamming loss': 0.16520093185789164, 'fasttext model average performance.fasttext train accuracy': 0.9863892011251689, 'fasttext model average performance.fasttext train balanced acc': 0.9760174175587774}, 104: {'ft_model': 'xgboost', 'keyboard_aug': True, 'remove_numbers': False, 'fasttext_zusatzdaten': True, 'remove_stopwords': False, 'lowercase': False, 'remove_punctuation': False, 'fasttext model average performance.fasttext validation accuracy': 0.8347990681421082, 'fasttext model average performance.fasttext validation balanced acc': 0.7402063126485866, 'fasttext model average performance.fasttext micro-f1 score': 0.8347990681421082, 'fasttext model average performance.fasttext hamming loss': 0.16520093185789164, 'fasttext model average performance.fasttext train accuracy': 0.9863892011251689, 'fasttext model average performance.fasttext train balanced acc': 0.9760174175587774}, 105: {'ft_model': 'xgboost', 'keyboard_aug': True, 'remove_numbers': False, 'fasttext_zusatzdaten': True, 'remove_stopwords': False, 'lowercase': False, 'remove_punctuation': True, 'fasttext model average performance.fasttext validation accuracy': 0.8347990681421082, 'fasttext model average performance.fasttext validation balanced acc': 0.7402063126485866, 'fasttext model average performance.fasttext micro-f1 score': 0.8347990681421082, 'fasttext model average performance.fasttext hamming loss': 0.16520093185789164, 'fasttext model average performance.fasttext train accuracy': 0.9863892011251689, 'fasttext model average performance.fasttext train balanced acc': 0.9760174175587774}, 106: {'ft_model': 'xgboost', 'keyboard_aug': True, 'remove_numbers': False, 'fasttext_zusatzdaten': True, 'remove_stopwords': False, 'lowercase': True, 'remove_punctuation': False, 'fasttext model average performance.fasttext validation accuracy': 0.8347990681421082, 'fasttext model average performance.fasttext validation balanced acc': 0.7402063126485866, 'fasttext model average performance.fasttext micro-f1 score': 0.8347990681421082, 'fasttext model average performance.fasttext hamming loss': 0.16520093185789164, 'fasttext model average performance.fasttext train accuracy': 0.9863892011251689, 'fasttext model average performance.fasttext train balanced acc': 0.9760174175587774}, 107: {'ft_model': 'xgboost', 'keyboard_aug': True, 'remove_numbers': False, 'fasttext_zusatzdaten': True, 'remove_stopwords': False, 'lowercase': True, 'remove_punctuation': True, 'fasttext model average performance.fasttext validation accuracy': 0.8347990681421082, 'fasttext model average performance.fasttext validation balanced acc': 0.7402063126485866, 'fasttext model average performance.fasttext micro-f1 score': 0.8347990681421082, 'fasttext model average performance.fasttext hamming loss': 0.16520093185789164, 'fasttext model average performance.fasttext train accuracy': 0.9863892011251689, 'fasttext model average performance.fasttext train balanced acc': 0.9760174175587774}, 108: {'ft_model': 'xgboost', 'keyboard_aug': True, 'remove_numbers': False, 'fasttext_zusatzdaten': True, 'remove_stopwords': True, 'lowercase': False, 'remove_punctuation': False, 'fasttext model average performance.fasttext validation accuracy': 0.8347990681421082, 'fasttext model average performance.fasttext validation balanced acc': 0.7402063126485866, 'fasttext model average performance.fasttext micro-f1 score': 0.8347990681421082, 'fasttext model average performance.fasttext hamming loss': 0.16520093185789164, 'fasttext model average performance.fasttext train accuracy': 0.9863892011251689, 'fasttext model average performance.fasttext train balanced acc': 0.9760174175587774}, 109: {'ft_model': 'xgboost', 'keyboard_aug': True, 'remove_numbers': False, 'fasttext_zusatzdaten': True, 'remove_stopwords': True, 'lowercase': False, 'remove_punctuation': True, 'fasttext model average performance.fasttext validation accuracy': 0.8347990681421082, 'fasttext model average performance.fasttext validation balanced acc': 0.7402063126485866, 'fasttext model average performance.fasttext micro-f1 score': 0.8347990681421082, 'fasttext model average performance.fasttext hamming loss': 0.16520093185789164, 'fasttext model average performance.fasttext train accuracy': 0.9863892011251689, 'fasttext model average performance.fasttext train balanced acc': 0.9760174175587774}, 110: {'ft_model': 'xgboost', 'keyboard_aug': True, 'remove_numbers': False, 'fasttext_zusatzdaten': True, 'remove_stopwords': True, 'lowercase': True, 'remove_punctuation': False, 'fasttext model average performance.fasttext validation accuracy': 0.8347990681421082, 'fasttext model average performance.fasttext validation balanced acc': 0.7402063126485866, 'fasttext model average performance.fasttext micro-f1 score': 0.8347990681421082, 'fasttext model average performance.fasttext hamming loss': 0.16520093185789164, 'fasttext model average performance.fasttext train accuracy': 0.9863892011251689, 'fasttext model average performance.fasttext train balanced acc': 0.9760174175587774}, 111: {'ft_model': 'xgboost', 'keyboard_aug': True, 'remove_numbers': False, 'fasttext_zusatzdaten': True, 'remove_stopwords': True, 'lowercase': True, 'remove_punctuation': True, 'fasttext model average performance.fasttext validation accuracy': 0.8347990681421082, 'fasttext model average performance.fasttext validation balanced acc': 0.7402063126485866, 'fasttext model average performance.fasttext micro-f1 score': 0.8347990681421082, 'fasttext model average performance.fasttext hamming loss': 0.16520093185789164, 'fasttext model average performance.fasttext train accuracy': 0.9863892011251689, 'fasttext model average performance.fasttext train balanced acc': 0.9760174175587774}, 112: {'ft_model': 'xgboost', 'keyboard_aug': True, 'remove_numbers': True, 'fasttext_zusatzdaten': False, 'remove_stopwords': False, 'lowercase': False, 'remove_punctuation': False, 'fasttext model average performance.fasttext validation accuracy': 0.8347990681421082, 'fasttext model average performance.fasttext validation balanced acc': 0.7402063126485866, 'fasttext model average performance.fasttext micro-f1 score': 0.8347990681421082, 'fasttext model average performance.fasttext hamming loss': 0.16520093185789164, 'fasttext model average performance.fasttext train accuracy': 0.9863892011251689, 'fasttext model average performance.fasttext train balanced acc': 0.9760174175587774}, 113: {'ft_model': 'xgboost', 'keyboard_aug': True, 'remove_numbers': True, 'fasttext_zusatzdaten': False, 'remove_stopwords': False, 'lowercase': False, 'remove_punctuation': True, 'fasttext model average performance.fasttext validation accuracy': 0.8347990681421082, 'fasttext model average performance.fasttext validation balanced acc': 0.7402063126485866, 'fasttext model average performance.fasttext micro-f1 score': 0.8347990681421082, 'fasttext model average performance.fasttext hamming loss': 0.16520093185789164, 'fasttext model average performance.fasttext train accuracy': 0.9863892011251689, 'fasttext model average performance.fasttext train balanced acc': 0.9760174175587774}, 114: {'ft_model': 'xgboost', 'keyboard_aug': True, 'remove_numbers': True, 'fasttext_zusatzdaten': False, 'remove_stopwords': False, 'lowercase': True, 'remove_punctuation': False, 'fasttext model average performance.fasttext validation accuracy': 0.8347990681421082, 'fasttext model average performance.fasttext validation balanced acc': 0.7402063126485866, 'fasttext model average performance.fasttext micro-f1 score': 0.8347990681421082, 'fasttext model average performance.fasttext hamming loss': 0.16520093185789164, 'fasttext model average performance.fasttext train accuracy': 0.9863892011251689, 'fasttext model average performance.fasttext train balanced acc': 0.9760174175587774}, 115: {'ft_model': 'xgboost', 'keyboard_aug': True, 'remove_numbers': True, 'fasttext_zusatzdaten': False, 'remove_stopwords': False, 'lowercase': True, 'remove_punctuation': True, 'fasttext model average performance.fasttext validation accuracy': 0.8347990681421082, 'fasttext model average performance.fasttext validation balanced acc': 0.7402063126485866, 'fasttext model average performance.fasttext micro-f1 score': 0.8347990681421082, 'fasttext model average performance.fasttext hamming loss': 0.16520093185789164, 'fasttext model average performance.fasttext train accuracy': 0.9863892011251689, 'fasttext model average performance.fasttext train balanced acc': 0.9760174175587774}, 116: {'ft_model': 'xgboost', 'keyboard_aug': True, 'remove_numbers': True, 'fasttext_zusatzdaten': False, 'remove_stopwords': True, 'lowercase': False, 'remove_punctuation': False, 'fasttext model average performance.fasttext validation accuracy': 0.8347990681421082, 'fasttext model average performance.fasttext validation balanced acc': 0.7402063126485866, 'fasttext model average performance.fasttext micro-f1 score': 0.8347990681421082, 'fasttext model average performance.fasttext hamming loss': 0.16520093185789161, 'fasttext model average performance.fasttext train accuracy': 0.9863892011251689, 'fasttext model average performance.fasttext train balanced acc': 0.9760174175587774}, 117: {'ft_model': 'xgboost', 'keyboard_aug': True, 'remove_numbers': True, 'fasttext_zusatzdaten': False, 'remove_stopwords': True, 'lowercase': False, 'remove_punctuation': True, 'fasttext model average performance.fasttext validation accuracy': 0.8347990681421082, 'fasttext model average performance.fasttext validation balanced acc': 0.7402063126485866, 'fasttext model average performance.fasttext micro-f1 score': 0.8347990681421082, 'fasttext model average performance.fasttext hamming loss': 0.16520093185789164, 'fasttext model average performance.fasttext train accuracy': 0.9863892011251689, 'fasttext model average performance.fasttext train balanced acc': 0.9760174175587774}, 118: {'ft_model': 'xgboost', 'keyboard_aug': True, 'remove_numbers': True, 'fasttext_zusatzdaten': False, 'remove_stopwords': True, 'lowercase': True, 'remove_punctuation': False, 'fasttext model average performance.fasttext validation accuracy': 0.8347990681421082, 'fasttext model average performance.fasttext validation balanced acc': 0.7402063126485866, 'fasttext model average performance.fasttext micro-f1 score': 0.8347990681421082, 'fasttext model average performance.fasttext hamming loss': 0.16520093185789164, 'fasttext model average performance.fasttext train accuracy': 0.9863892011251689, 'fasttext model average performance.fasttext train balanced acc': 0.9760174175587774}, 119: {'ft_model': 'xgboost', 'keyboard_aug': True, 'remove_numbers': True, 'fasttext_zusatzdaten': False, 'remove_stopwords': True, 'lowercase': True, 'remove_punctuation': True, 'fasttext model average performance.fasttext validation accuracy': 0.8347990681421082, 'fasttext model average performance.fasttext validation balanced acc': 0.7402063126485866, 'fasttext model average performance.fasttext micro-f1 score': 0.8347990681421082, 'fasttext model average performance.fasttext hamming loss': 0.16520093185789164, 'fasttext model average performance.fasttext train accuracy': 0.9863892011251689, 'fasttext model average performance.fasttext train balanced acc': 0.9760174175587774}, 120: {'ft_model': 'xgboost', 'keyboard_aug': True, 'remove_numbers': True, 'fasttext_zusatzdaten': True, 'remove_stopwords': False, 'lowercase': False, 'remove_punctuation': False, 'fasttext model average performance.fasttext validation accuracy': 0.8347990681421082, 'fasttext model average performance.fasttext validation balanced acc': 0.7402063126485866, 'fasttext model average performance.fasttext micro-f1 score': 0.8347990681421082, 'fasttext model average performance.fasttext hamming loss': 0.16520093185789164, 'fasttext model average performance.fasttext train accuracy': 0.9863892011251689, 'fasttext model average performance.fasttext train balanced acc': 0.9760174175587774}, 121: {'ft_model': 'xgboost', 'keyboard_aug': True, 'remove_numbers': True, 'fasttext_zusatzdaten': True, 'remove_stopwords': False, 'lowercase': False, 'remove_punctuation': True, 'fasttext model average performance.fasttext validation accuracy': 0.8347990681421082, 'fasttext model average performance.fasttext validation balanced acc': 0.7402063126485866, 'fasttext model average performance.fasttext micro-f1 score': 0.8347990681421082, 'fasttext model average performance.fasttext hamming loss': 0.16520093185789164, 'fasttext model average performance.fasttext train accuracy': 0.9863892011251689, 'fasttext model average performance.fasttext train balanced acc': 0.9760174175587774}, 122: {'ft_model': 'xgboost', 'keyboard_aug': True, 'remove_numbers': True, 'fasttext_zusatzdaten': True, 'remove_stopwords': False, 'lowercase': True, 'remove_punctuation': False, 'fasttext model average performance.fasttext validation accuracy': 0.8347990681421082, 'fasttext model average performance.fasttext validation balanced acc': 0.7402063126485866, 'fasttext model average performance.fasttext micro-f1 score': 0.8347990681421082, 'fasttext model average performance.fasttext hamming loss': 0.16520093185789164, 'fasttext model average performance.fasttext train accuracy': 0.9863892011251689, 'fasttext model average performance.fasttext train balanced acc': 0.9760174175587774}, 123: {'ft_model': 'xgboost', 'keyboard_aug': True, 'remove_numbers': True, 'fasttext_zusatzdaten': True, 'remove_stopwords': False, 'lowercase': True, 'remove_punctuation': True, 'fasttext model average performance.fasttext validation accuracy': 0.8347990681421082, 'fasttext model average performance.fasttext validation balanced acc': 0.7402063126485866, 'fasttext model average performance.fasttext micro-f1 score': 0.8347990681421082, 'fasttext model average performance.fasttext hamming loss': 0.16520093185789164, 'fasttext model average performance.fasttext train accuracy': 0.9863892011251689, 'fasttext model average performance.fasttext train balanced acc': 0.9760174175587774}, 124: {'ft_model': 'xgboost', 'keyboard_aug': True, 'remove_numbers': True, 'fasttext_zusatzdaten': True, 'remove_stopwords': True, 'lowercase': False, 'remove_punctuation': False, 'fasttext model average performance.fasttext validation accuracy': 0.8347990681421082, 'fasttext model average performance.fasttext validation balanced acc': 0.7402063126485866, 'fasttext model average performance.fasttext micro-f1 score': 0.8347990681421082, 'fasttext model average performance.fasttext hamming loss': 0.16520093185789164, 'fasttext model average performance.fasttext train accuracy': 0.9863892011251689, 'fasttext model average performance.fasttext train balanced acc': 0.9760174175587774}, 125: {'ft_model': 'xgboost', 'keyboard_aug': True, 'remove_numbers': True, 'fasttext_zusatzdaten': True, 'remove_stopwords': True, 'lowercase': False, 'remove_punctuation': True, 'fasttext model average performance.fasttext validation accuracy': 0.8347990681421082, 'fasttext model average performance.fasttext validation balanced acc': 0.7402063126485866, 'fasttext model average performance.fasttext micro-f1 score': 0.8347990681421082, 'fasttext model average performance.fasttext hamming loss': 0.16520093185789164, 'fasttext model average performance.fasttext train accuracy': 0.9863892011251689, 'fasttext model average performance.fasttext train balanced acc': 0.9760174175587774}, 126: {'ft_model': 'xgboost', 'keyboard_aug': True, 'remove_numbers': True, 'fasttext_zusatzdaten': True, 'remove_stopwords': True, 'lowercase': True, 'remove_punctuation': False, 'fasttext model average performance.fasttext validation accuracy': 0.8347990681421082, 'fasttext model average performance.fasttext validation balanced acc': 0.7402063126485866, 'fasttext model average performance.fasttext micro-f1 score': 0.8347990681421082, 'fasttext model average performance.fasttext hamming loss': 0.16520093185789164, 'fasttext model average performance.fasttext train accuracy': 0.9863892011251689, 'fasttext model average performance.fasttext train balanced acc': 0.9760174175587774}, 127: {'ft_model': 'xgboost', 'keyboard_aug': True, 'remove_numbers': True, 'fasttext_zusatzdaten': True, 'remove_stopwords': True, 'lowercase': True, 'remove_punctuation': True, 'fasttext model average performance.fasttext validation accuracy': 0.8347990681421082, 'fasttext model average performance.fasttext validation balanced acc': 0.7402063126485866, 'fasttext model average performance.fasttext micro-f1 score': 0.8347990681421082, 'fasttext model average performance.fasttext hamming loss': 0.16520093185789164, 'fasttext model average performance.fasttext train accuracy': 0.9863892011251689, 'fasttext model average performance.fasttext train balanced acc': 0.9760174175587774}}\n"
     ]
    }
   ],
   "source": [
    "print(a)"
   ]
  },
  {
   "cell_type": "code",
   "execution_count": null,
   "metadata": {},
   "outputs": [
    {
     "name": "stderr",
     "output_type": "stream",
     "text": [
      "wandb: wandb version 0.12.13 is available!  To upgrade, please run:\n",
      "wandb:  $ pip install wandb --upgrade\n"
     ]
    },
    {
     "data": {
      "text/html": [
       "\n",
       "                    Syncing run <strong><a href=\"https://wandb.ai/awiedenroth/Masterarbeit_Oesch8_nur/runs/1n5557n3\" target=\"_blank\">restful-wood-1</a></strong> to <a href=\"https://wandb.ai/awiedenroth/Masterarbeit_Oesch8_nur\" target=\"_blank\">Weights & Biases</a> (<a href=\"https://docs.wandb.com/integrations/jupyter.html\" target=\"_blank\">docs</a>).<br/>\n",
       "\n",
       "                "
      ],
      "text/plain": [
       "<IPython.core.display.HTML object>"
      ]
     },
     "metadata": {},
     "output_type": "display_data"
    },
    {
     "data": {
      "text/html": [
       "<br/>Waiting for W&B process to finish, PID 16328... <strong style=\"color:green\">(success).</strong>"
      ],
      "text/plain": [
       "<IPython.core.display.HTML object>"
      ]
     },
     "metadata": {},
     "output_type": "display_data"
    },
    {
     "data": {
      "application/vnd.jupyter.widget-view+json": {
       "model_id": "aa5f6b84d1ac4c86bc40346ae260d08f",
       "version_major": 2,
       "version_minor": 0
      },
      "text/plain": [
       "VBox(children=(Label(value=' 0.00MB of 0.00MB uploaded (0.00MB deduped)\\r'), FloatProgress(value=1.0, max=1.0)…"
      ]
     },
     "metadata": {},
     "output_type": "display_data"
    },
    {
     "data": {
      "text/html": [
       "<style>\n",
       "    table.wandb td:nth-child(1) { padding: 0 10px; text-align: right }\n",
       "    .wandb-row { display: flex; flex-direction: row; flex-wrap: wrap; width: 100% }\n",
       "    .wandb-col { display: flex; flex-direction: column; flex-basis: 100%; flex: 1; padding: 10px; }\n",
       "    </style>\n",
       "<div class=\"wandb-row\"><div class=\"wandb-col\">\n",
       "<h3>Run history:</h3><br/><table class=\"wandb\"><tr><td>fasttext model average performance.fasttext hamming loss</td><td>▁</td></tr><tr><td>fasttext model average performance.fasttext micro-f1 score</td><td>▁</td></tr><tr><td>fasttext model average performance.fasttext train accuracy</td><td>▁</td></tr><tr><td>fasttext model average performance.fasttext train balanced acc</td><td>▁</td></tr><tr><td>fasttext model average performance.fasttext validation accuracy</td><td>▁</td></tr><tr><td>fasttext model average performance.fasttext validation balanced acc</td><td>▁</td></tr></table><br/></div><div class=\"wandb-col\">\n",
       "<h3>Run summary:</h3><br/><table class=\"wandb\"><tr><td>fasttext model average performance.fasttext hamming loss</td><td>0.16683</td></tr><tr><td>fasttext model average performance.fasttext micro-f1 score</td><td>0.83317</td></tr><tr><td>fasttext model average performance.fasttext train accuracy</td><td>0.95497</td></tr><tr><td>fasttext model average performance.fasttext train balanced acc</td><td>0.93129</td></tr><tr><td>fasttext model average performance.fasttext validation accuracy</td><td>0.83317</td></tr><tr><td>fasttext model average performance.fasttext validation balanced acc</td><td>0.7746</td></tr></table>\n",
       "</div></div>\n",
       "Synced 4 W&B file(s), 0 media file(s), 0 artifact file(s) and 0 other file(s)\n",
       "<br/>Synced <strong style=\"color:#cdcd00\">restful-wood-1</strong>: <a href=\"https://wandb.ai/awiedenroth/Masterarbeit_Oesch8_nur/runs/1n5557n3\" target=\"_blank\">https://wandb.ai/awiedenroth/Masterarbeit_Oesch8_nur/runs/1n5557n3</a><br/>\n",
       "Find logs at: <code>.\\wandb\\run-20220407_231343-1n5557n3\\logs</code><br/>\n"
      ],
      "text/plain": [
       "<IPython.core.display.HTML object>"
      ]
     },
     "metadata": {},
     "output_type": "display_data"
    },
    {
     "name": "stderr",
     "output_type": "stream",
     "text": [
      "wandb: wandb version 0.12.13 is available!  To upgrade, please run:\n",
      "wandb:  $ pip install wandb --upgrade\n"
     ]
    },
    {
     "data": {
      "text/html": [
       "\n",
       "                    Syncing run <strong><a href=\"https://wandb.ai/awiedenroth/Masterarbeit_Oesch8_nur/runs/2ynhwb0b\" target=\"_blank\">easy-music-2</a></strong> to <a href=\"https://wandb.ai/awiedenroth/Masterarbeit_Oesch8_nur\" target=\"_blank\">Weights & Biases</a> (<a href=\"https://docs.wandb.com/integrations/jupyter.html\" target=\"_blank\">docs</a>).<br/>\n",
       "\n",
       "                "
      ],
      "text/plain": [
       "<IPython.core.display.HTML object>"
      ]
     },
     "metadata": {},
     "output_type": "display_data"
    },
    {
     "data": {
      "text/html": [
       "<br/>Waiting for W&B process to finish, PID 2400... <strong style=\"color:green\">(success).</strong>"
      ],
      "text/plain": [
       "<IPython.core.display.HTML object>"
      ]
     },
     "metadata": {},
     "output_type": "display_data"
    },
    {
     "data": {
      "application/vnd.jupyter.widget-view+json": {
       "model_id": "47d77f7404a246039b57444c17926d8c",
       "version_major": 2,
       "version_minor": 0
      },
      "text/plain": [
       "VBox(children=(Label(value=' 0.00MB of 0.00MB uploaded (0.00MB deduped)\\r'), FloatProgress(value=1.0, max=1.0)…"
      ]
     },
     "metadata": {},
     "output_type": "display_data"
    },
    {
     "data": {
      "text/html": [
       "<style>\n",
       "    table.wandb td:nth-child(1) { padding: 0 10px; text-align: right }\n",
       "    .wandb-row { display: flex; flex-direction: row; flex-wrap: wrap; width: 100% }\n",
       "    .wandb-col { display: flex; flex-direction: column; flex-basis: 100%; flex: 1; padding: 10px; }\n",
       "    </style>\n",
       "<div class=\"wandb-row\"><div class=\"wandb-col\">\n",
       "<h3>Run history:</h3><br/><table class=\"wandb\"><tr><td>fasttext model average performance.fasttext hamming loss</td><td>▁</td></tr><tr><td>fasttext model average performance.fasttext micro-f1 score</td><td>▁</td></tr><tr><td>fasttext model average performance.fasttext train accuracy</td><td>▁</td></tr><tr><td>fasttext model average performance.fasttext train balanced acc</td><td>▁</td></tr><tr><td>fasttext model average performance.fasttext validation accuracy</td><td>▁</td></tr><tr><td>fasttext model average performance.fasttext validation balanced acc</td><td>▁</td></tr></table><br/></div><div class=\"wandb-col\">\n",
       "<h3>Run summary:</h3><br/><table class=\"wandb\"><tr><td>fasttext model average performance.fasttext hamming loss</td><td>0.16683</td></tr><tr><td>fasttext model average performance.fasttext micro-f1 score</td><td>0.83317</td></tr><tr><td>fasttext model average performance.fasttext train accuracy</td><td>0.95497</td></tr><tr><td>fasttext model average performance.fasttext train balanced acc</td><td>0.93129</td></tr><tr><td>fasttext model average performance.fasttext validation accuracy</td><td>0.83317</td></tr><tr><td>fasttext model average performance.fasttext validation balanced acc</td><td>0.7746</td></tr></table>\n",
       "</div></div>\n",
       "Synced 4 W&B file(s), 0 media file(s), 0 artifact file(s) and 0 other file(s)\n",
       "<br/>Synced <strong style=\"color:#cdcd00\">easy-music-2</strong>: <a href=\"https://wandb.ai/awiedenroth/Masterarbeit_Oesch8_nur/runs/2ynhwb0b\" target=\"_blank\">https://wandb.ai/awiedenroth/Masterarbeit_Oesch8_nur/runs/2ynhwb0b</a><br/>\n",
       "Find logs at: <code>.\\wandb\\run-20220407_231400-2ynhwb0b\\logs</code><br/>\n"
      ],
      "text/plain": [
       "<IPython.core.display.HTML object>"
      ]
     },
     "metadata": {},
     "output_type": "display_data"
    },
    {
     "name": "stderr",
     "output_type": "stream",
     "text": [
      "wandb: wandb version 0.12.13 is available!  To upgrade, please run:\n",
      "wandb:  $ pip install wandb --upgrade\n"
     ]
    },
    {
     "data": {
      "text/html": [
       "\n",
       "                    Syncing run <strong><a href=\"https://wandb.ai/awiedenroth/Masterarbeit_Oesch8_nur/runs/3citg0t5\" target=\"_blank\">decent-bee-3</a></strong> to <a href=\"https://wandb.ai/awiedenroth/Masterarbeit_Oesch8_nur\" target=\"_blank\">Weights & Biases</a> (<a href=\"https://docs.wandb.com/integrations/jupyter.html\" target=\"_blank\">docs</a>).<br/>\n",
       "\n",
       "                "
      ],
      "text/plain": [
       "<IPython.core.display.HTML object>"
      ]
     },
     "metadata": {},
     "output_type": "display_data"
    },
    {
     "data": {
      "text/html": [
       "<br/>Waiting for W&B process to finish, PID 13276... <strong style=\"color:green\">(success).</strong>"
      ],
      "text/plain": [
       "<IPython.core.display.HTML object>"
      ]
     },
     "metadata": {},
     "output_type": "display_data"
    },
    {
     "data": {
      "application/vnd.jupyter.widget-view+json": {
       "model_id": "36d2a69d9eff4337af96adfa8a3631ce",
       "version_major": 2,
       "version_minor": 0
      },
      "text/plain": [
       "VBox(children=(Label(value=' 0.00MB of 0.00MB uploaded (0.00MB deduped)\\r'), FloatProgress(value=1.0, max=1.0)…"
      ]
     },
     "metadata": {},
     "output_type": "display_data"
    },
    {
     "data": {
      "text/html": [
       "<style>\n",
       "    table.wandb td:nth-child(1) { padding: 0 10px; text-align: right }\n",
       "    .wandb-row { display: flex; flex-direction: row; flex-wrap: wrap; width: 100% }\n",
       "    .wandb-col { display: flex; flex-direction: column; flex-basis: 100%; flex: 1; padding: 10px; }\n",
       "    </style>\n",
       "<div class=\"wandb-row\"><div class=\"wandb-col\">\n",
       "<h3>Run history:</h3><br/><table class=\"wandb\"><tr><td>fasttext model average performance.fasttext hamming loss</td><td>▁</td></tr><tr><td>fasttext model average performance.fasttext micro-f1 score</td><td>▁</td></tr><tr><td>fasttext model average performance.fasttext train accuracy</td><td>▁</td></tr><tr><td>fasttext model average performance.fasttext train balanced acc</td><td>▁</td></tr><tr><td>fasttext model average performance.fasttext validation accuracy</td><td>▁</td></tr><tr><td>fasttext model average performance.fasttext validation balanced acc</td><td>▁</td></tr></table><br/></div><div class=\"wandb-col\">\n",
       "<h3>Run summary:</h3><br/><table class=\"wandb\"><tr><td>fasttext model average performance.fasttext hamming loss</td><td>0.16683</td></tr><tr><td>fasttext model average performance.fasttext micro-f1 score</td><td>0.83317</td></tr><tr><td>fasttext model average performance.fasttext train accuracy</td><td>0.95497</td></tr><tr><td>fasttext model average performance.fasttext train balanced acc</td><td>0.93129</td></tr><tr><td>fasttext model average performance.fasttext validation accuracy</td><td>0.83317</td></tr><tr><td>fasttext model average performance.fasttext validation balanced acc</td><td>0.7746</td></tr></table>\n",
       "</div></div>\n",
       "Synced 4 W&B file(s), 0 media file(s), 0 artifact file(s) and 0 other file(s)\n",
       "<br/>Synced <strong style=\"color:#cdcd00\">decent-bee-3</strong>: <a href=\"https://wandb.ai/awiedenroth/Masterarbeit_Oesch8_nur/runs/3citg0t5\" target=\"_blank\">https://wandb.ai/awiedenroth/Masterarbeit_Oesch8_nur/runs/3citg0t5</a><br/>\n",
       "Find logs at: <code>.\\wandb\\run-20220407_231416-3citg0t5\\logs</code><br/>\n"
      ],
      "text/plain": [
       "<IPython.core.display.HTML object>"
      ]
     },
     "metadata": {},
     "output_type": "display_data"
    },
    {
     "name": "stderr",
     "output_type": "stream",
     "text": [
      "wandb: wandb version 0.12.13 is available!  To upgrade, please run:\n",
      "wandb:  $ pip install wandb --upgrade\n"
     ]
    },
    {
     "data": {
      "text/html": [
       "\n",
       "                    Syncing run <strong><a href=\"https://wandb.ai/awiedenroth/Masterarbeit_Oesch8_nur/runs/18p0uy2i\" target=\"_blank\">winter-water-4</a></strong> to <a href=\"https://wandb.ai/awiedenroth/Masterarbeit_Oesch8_nur\" target=\"_blank\">Weights & Biases</a> (<a href=\"https://docs.wandb.com/integrations/jupyter.html\" target=\"_blank\">docs</a>).<br/>\n",
       "\n",
       "                "
      ],
      "text/plain": [
       "<IPython.core.display.HTML object>"
      ]
     },
     "metadata": {},
     "output_type": "display_data"
    },
    {
     "data": {
      "text/html": [
       "<br/>Waiting for W&B process to finish, PID 10076... <strong style=\"color:green\">(success).</strong>"
      ],
      "text/plain": [
       "<IPython.core.display.HTML object>"
      ]
     },
     "metadata": {},
     "output_type": "display_data"
    },
    {
     "data": {
      "application/vnd.jupyter.widget-view+json": {
       "model_id": "13c70a4245fe4cd9a9994edae91bb66f",
       "version_major": 2,
       "version_minor": 0
      },
      "text/plain": [
       "VBox(children=(Label(value=' 0.00MB of 0.00MB uploaded (0.00MB deduped)\\r'), FloatProgress(value=1.0, max=1.0)…"
      ]
     },
     "metadata": {},
     "output_type": "display_data"
    },
    {
     "data": {
      "text/html": [
       "<style>\n",
       "    table.wandb td:nth-child(1) { padding: 0 10px; text-align: right }\n",
       "    .wandb-row { display: flex; flex-direction: row; flex-wrap: wrap; width: 100% }\n",
       "    .wandb-col { display: flex; flex-direction: column; flex-basis: 100%; flex: 1; padding: 10px; }\n",
       "    </style>\n",
       "<div class=\"wandb-row\"><div class=\"wandb-col\">\n",
       "<h3>Run history:</h3><br/><table class=\"wandb\"><tr><td>fasttext model average performance.fasttext hamming loss</td><td>▁</td></tr><tr><td>fasttext model average performance.fasttext micro-f1 score</td><td>▁</td></tr><tr><td>fasttext model average performance.fasttext train accuracy</td><td>▁</td></tr><tr><td>fasttext model average performance.fasttext train balanced acc</td><td>▁</td></tr><tr><td>fasttext model average performance.fasttext validation accuracy</td><td>▁</td></tr><tr><td>fasttext model average performance.fasttext validation balanced acc</td><td>▁</td></tr></table><br/></div><div class=\"wandb-col\">\n",
       "<h3>Run summary:</h3><br/><table class=\"wandb\"><tr><td>fasttext model average performance.fasttext hamming loss</td><td>0.16683</td></tr><tr><td>fasttext model average performance.fasttext micro-f1 score</td><td>0.83317</td></tr><tr><td>fasttext model average performance.fasttext train accuracy</td><td>0.9549</td></tr><tr><td>fasttext model average performance.fasttext train balanced acc</td><td>0.93119</td></tr><tr><td>fasttext model average performance.fasttext validation accuracy</td><td>0.83317</td></tr><tr><td>fasttext model average performance.fasttext validation balanced acc</td><td>0.7746</td></tr></table>\n",
       "</div></div>\n",
       "Synced 4 W&B file(s), 0 media file(s), 0 artifact file(s) and 0 other file(s)\n",
       "<br/>Synced <strong style=\"color:#cdcd00\">winter-water-4</strong>: <a href=\"https://wandb.ai/awiedenroth/Masterarbeit_Oesch8_nur/runs/18p0uy2i\" target=\"_blank\">https://wandb.ai/awiedenroth/Masterarbeit_Oesch8_nur/runs/18p0uy2i</a><br/>\n",
       "Find logs at: <code>.\\wandb\\run-20220407_231432-18p0uy2i\\logs</code><br/>\n"
      ],
      "text/plain": [
       "<IPython.core.display.HTML object>"
      ]
     },
     "metadata": {},
     "output_type": "display_data"
    },
    {
     "name": "stderr",
     "output_type": "stream",
     "text": [
      "wandb: wandb version 0.12.13 is available!  To upgrade, please run:\n",
      "wandb:  $ pip install wandb --upgrade\n"
     ]
    },
    {
     "data": {
      "text/html": [
       "\n",
       "                    Syncing run <strong><a href=\"https://wandb.ai/awiedenroth/Masterarbeit_Oesch8_nur/runs/3kstuo9v\" target=\"_blank\">super-eon-5</a></strong> to <a href=\"https://wandb.ai/awiedenroth/Masterarbeit_Oesch8_nur\" target=\"_blank\">Weights & Biases</a> (<a href=\"https://docs.wandb.com/integrations/jupyter.html\" target=\"_blank\">docs</a>).<br/>\n",
       "\n",
       "                "
      ],
      "text/plain": [
       "<IPython.core.display.HTML object>"
      ]
     },
     "metadata": {},
     "output_type": "display_data"
    },
    {
     "data": {
      "text/html": [
       "<br/>Waiting for W&B process to finish, PID 17904... <strong style=\"color:green\">(success).</strong>"
      ],
      "text/plain": [
       "<IPython.core.display.HTML object>"
      ]
     },
     "metadata": {},
     "output_type": "display_data"
    },
    {
     "data": {
      "application/vnd.jupyter.widget-view+json": {
       "model_id": "691cccbe5073429dad610f34d1c9672b",
       "version_major": 2,
       "version_minor": 0
      },
      "text/plain": [
       "VBox(children=(Label(value=' 0.00MB of 0.00MB uploaded (0.00MB deduped)\\r'), FloatProgress(value=1.0, max=1.0)…"
      ]
     },
     "metadata": {},
     "output_type": "display_data"
    },
    {
     "data": {
      "text/html": [
       "<style>\n",
       "    table.wandb td:nth-child(1) { padding: 0 10px; text-align: right }\n",
       "    .wandb-row { display: flex; flex-direction: row; flex-wrap: wrap; width: 100% }\n",
       "    .wandb-col { display: flex; flex-direction: column; flex-basis: 100%; flex: 1; padding: 10px; }\n",
       "    </style>\n",
       "<div class=\"wandb-row\"><div class=\"wandb-col\">\n",
       "<h3>Run history:</h3><br/><table class=\"wandb\"><tr><td>fasttext model average performance.fasttext hamming loss</td><td>▁</td></tr><tr><td>fasttext model average performance.fasttext micro-f1 score</td><td>▁</td></tr><tr><td>fasttext model average performance.fasttext train accuracy</td><td>▁</td></tr><tr><td>fasttext model average performance.fasttext train balanced acc</td><td>▁</td></tr><tr><td>fasttext model average performance.fasttext validation accuracy</td><td>▁</td></tr><tr><td>fasttext model average performance.fasttext validation balanced acc</td><td>▁</td></tr></table><br/></div><div class=\"wandb-col\">\n",
       "<h3>Run summary:</h3><br/><table class=\"wandb\"><tr><td>fasttext model average performance.fasttext hamming loss</td><td>0.16683</td></tr><tr><td>fasttext model average performance.fasttext micro-f1 score</td><td>0.83317</td></tr><tr><td>fasttext model average performance.fasttext train accuracy</td><td>0.95497</td></tr><tr><td>fasttext model average performance.fasttext train balanced acc</td><td>0.93129</td></tr><tr><td>fasttext model average performance.fasttext validation accuracy</td><td>0.83317</td></tr><tr><td>fasttext model average performance.fasttext validation balanced acc</td><td>0.7746</td></tr></table>\n",
       "</div></div>\n",
       "Synced 4 W&B file(s), 0 media file(s), 0 artifact file(s) and 0 other file(s)\n",
       "<br/>Synced <strong style=\"color:#cdcd00\">super-eon-5</strong>: <a href=\"https://wandb.ai/awiedenroth/Masterarbeit_Oesch8_nur/runs/3kstuo9v\" target=\"_blank\">https://wandb.ai/awiedenroth/Masterarbeit_Oesch8_nur/runs/3kstuo9v</a><br/>\n",
       "Find logs at: <code>.\\wandb\\run-20220407_231449-3kstuo9v\\logs</code><br/>\n"
      ],
      "text/plain": [
       "<IPython.core.display.HTML object>"
      ]
     },
     "metadata": {},
     "output_type": "display_data"
    },
    {
     "name": "stderr",
     "output_type": "stream",
     "text": [
      "wandb: wandb version 0.12.13 is available!  To upgrade, please run:\n",
      "wandb:  $ pip install wandb --upgrade\n"
     ]
    },
    {
     "data": {
      "text/html": [
       "\n",
       "                    Syncing run <strong><a href=\"https://wandb.ai/awiedenroth/Masterarbeit_Oesch8_nur/runs/3vg406ie\" target=\"_blank\">legendary-water-6</a></strong> to <a href=\"https://wandb.ai/awiedenroth/Masterarbeit_Oesch8_nur\" target=\"_blank\">Weights & Biases</a> (<a href=\"https://docs.wandb.com/integrations/jupyter.html\" target=\"_blank\">docs</a>).<br/>\n",
       "\n",
       "                "
      ],
      "text/plain": [
       "<IPython.core.display.HTML object>"
      ]
     },
     "metadata": {},
     "output_type": "display_data"
    },
    {
     "data": {
      "text/html": [
       "<br/>Waiting for W&B process to finish, PID 17724... <strong style=\"color:green\">(success).</strong>"
      ],
      "text/plain": [
       "<IPython.core.display.HTML object>"
      ]
     },
     "metadata": {},
     "output_type": "display_data"
    },
    {
     "data": {
      "application/vnd.jupyter.widget-view+json": {
       "model_id": "199f2ba2cf92447781b7efe2b54d9da0",
       "version_major": 2,
       "version_minor": 0
      },
      "text/plain": [
       "VBox(children=(Label(value=' 0.00MB of 0.00MB uploaded (0.00MB deduped)\\r'), FloatProgress(value=1.0, max=1.0)…"
      ]
     },
     "metadata": {},
     "output_type": "display_data"
    },
    {
     "data": {
      "text/html": [
       "<style>\n",
       "    table.wandb td:nth-child(1) { padding: 0 10px; text-align: right }\n",
       "    .wandb-row { display: flex; flex-direction: row; flex-wrap: wrap; width: 100% }\n",
       "    .wandb-col { display: flex; flex-direction: column; flex-basis: 100%; flex: 1; padding: 10px; }\n",
       "    </style>\n",
       "<div class=\"wandb-row\"><div class=\"wandb-col\">\n",
       "<h3>Run history:</h3><br/><table class=\"wandb\"><tr><td>fasttext model average performance.fasttext hamming loss</td><td>▁</td></tr><tr><td>fasttext model average performance.fasttext micro-f1 score</td><td>▁</td></tr><tr><td>fasttext model average performance.fasttext train accuracy</td><td>▁</td></tr><tr><td>fasttext model average performance.fasttext train balanced acc</td><td>▁</td></tr><tr><td>fasttext model average performance.fasttext validation accuracy</td><td>▁</td></tr><tr><td>fasttext model average performance.fasttext validation balanced acc</td><td>▁</td></tr></table><br/></div><div class=\"wandb-col\">\n",
       "<h3>Run summary:</h3><br/><table class=\"wandb\"><tr><td>fasttext model average performance.fasttext hamming loss</td><td>0.16683</td></tr><tr><td>fasttext model average performance.fasttext micro-f1 score</td><td>0.83317</td></tr><tr><td>fasttext model average performance.fasttext train accuracy</td><td>0.95497</td></tr><tr><td>fasttext model average performance.fasttext train balanced acc</td><td>0.93129</td></tr><tr><td>fasttext model average performance.fasttext validation accuracy</td><td>0.83317</td></tr><tr><td>fasttext model average performance.fasttext validation balanced acc</td><td>0.7746</td></tr></table>\n",
       "</div></div>\n",
       "Synced 4 W&B file(s), 0 media file(s), 0 artifact file(s) and 0 other file(s)\n",
       "<br/>Synced <strong style=\"color:#cdcd00\">legendary-water-6</strong>: <a href=\"https://wandb.ai/awiedenroth/Masterarbeit_Oesch8_nur/runs/3vg406ie\" target=\"_blank\">https://wandb.ai/awiedenroth/Masterarbeit_Oesch8_nur/runs/3vg406ie</a><br/>\n",
       "Find logs at: <code>.\\wandb\\run-20220407_231504-3vg406ie\\logs</code><br/>\n"
      ],
      "text/plain": [
       "<IPython.core.display.HTML object>"
      ]
     },
     "metadata": {},
     "output_type": "display_data"
    },
    {
     "name": "stderr",
     "output_type": "stream",
     "text": [
      "wandb: wandb version 0.12.13 is available!  To upgrade, please run:\n",
      "wandb:  $ pip install wandb --upgrade\n"
     ]
    },
    {
     "data": {
      "text/html": [
       "\n",
       "                    Syncing run <strong><a href=\"https://wandb.ai/awiedenroth/Masterarbeit_Oesch8_nur/runs/2daxcjm0\" target=\"_blank\">splendid-mountain-7</a></strong> to <a href=\"https://wandb.ai/awiedenroth/Masterarbeit_Oesch8_nur\" target=\"_blank\">Weights & Biases</a> (<a href=\"https://docs.wandb.com/integrations/jupyter.html\" target=\"_blank\">docs</a>).<br/>\n",
       "\n",
       "                "
      ],
      "text/plain": [
       "<IPython.core.display.HTML object>"
      ]
     },
     "metadata": {},
     "output_type": "display_data"
    },
    {
     "data": {
      "text/html": [
       "<br/>Waiting for W&B process to finish, PID 12564... <strong style=\"color:green\">(success).</strong>"
      ],
      "text/plain": [
       "<IPython.core.display.HTML object>"
      ]
     },
     "metadata": {},
     "output_type": "display_data"
    },
    {
     "data": {
      "application/vnd.jupyter.widget-view+json": {
       "model_id": "57c343011b394b92aae136bbe2dc0e55",
       "version_major": 2,
       "version_minor": 0
      },
      "text/plain": [
       "VBox(children=(Label(value=' 0.00MB of 0.00MB uploaded (0.00MB deduped)\\r'), FloatProgress(value=1.0, max=1.0)…"
      ]
     },
     "metadata": {},
     "output_type": "display_data"
    },
    {
     "data": {
      "text/html": [
       "<style>\n",
       "    table.wandb td:nth-child(1) { padding: 0 10px; text-align: right }\n",
       "    .wandb-row { display: flex; flex-direction: row; flex-wrap: wrap; width: 100% }\n",
       "    .wandb-col { display: flex; flex-direction: column; flex-basis: 100%; flex: 1; padding: 10px; }\n",
       "    </style>\n",
       "<div class=\"wandb-row\"><div class=\"wandb-col\">\n",
       "<h3>Run history:</h3><br/><table class=\"wandb\"><tr><td>fasttext model average performance.fasttext hamming loss</td><td>▁</td></tr><tr><td>fasttext model average performance.fasttext micro-f1 score</td><td>▁</td></tr><tr><td>fasttext model average performance.fasttext train accuracy</td><td>▁</td></tr><tr><td>fasttext model average performance.fasttext train balanced acc</td><td>▁</td></tr><tr><td>fasttext model average performance.fasttext validation accuracy</td><td>▁</td></tr><tr><td>fasttext model average performance.fasttext validation balanced acc</td><td>▁</td></tr></table><br/></div><div class=\"wandb-col\">\n",
       "<h3>Run summary:</h3><br/><table class=\"wandb\"><tr><td>fasttext model average performance.fasttext hamming loss</td><td>0.16683</td></tr><tr><td>fasttext model average performance.fasttext micro-f1 score</td><td>0.83317</td></tr><tr><td>fasttext model average performance.fasttext train accuracy</td><td>0.95497</td></tr><tr><td>fasttext model average performance.fasttext train balanced acc</td><td>0.93129</td></tr><tr><td>fasttext model average performance.fasttext validation accuracy</td><td>0.83317</td></tr><tr><td>fasttext model average performance.fasttext validation balanced acc</td><td>0.7746</td></tr></table>\n",
       "</div></div>\n",
       "Synced 4 W&B file(s), 0 media file(s), 0 artifact file(s) and 0 other file(s)\n",
       "<br/>Synced <strong style=\"color:#cdcd00\">splendid-mountain-7</strong>: <a href=\"https://wandb.ai/awiedenroth/Masterarbeit_Oesch8_nur/runs/2daxcjm0\" target=\"_blank\">https://wandb.ai/awiedenroth/Masterarbeit_Oesch8_nur/runs/2daxcjm0</a><br/>\n",
       "Find logs at: <code>.\\wandb\\run-20220407_231520-2daxcjm0\\logs</code><br/>\n"
      ],
      "text/plain": [
       "<IPython.core.display.HTML object>"
      ]
     },
     "metadata": {},
     "output_type": "display_data"
    },
    {
     "name": "stderr",
     "output_type": "stream",
     "text": [
      "wandb: wandb version 0.12.13 is available!  To upgrade, please run:\n",
      "wandb:  $ pip install wandb --upgrade\n"
     ]
    },
    {
     "data": {
      "text/html": [
       "\n",
       "                    Syncing run <strong><a href=\"https://wandb.ai/awiedenroth/Masterarbeit_Oesch8_nur/runs/3efqq8gu\" target=\"_blank\">solar-leaf-8</a></strong> to <a href=\"https://wandb.ai/awiedenroth/Masterarbeit_Oesch8_nur\" target=\"_blank\">Weights & Biases</a> (<a href=\"https://docs.wandb.com/integrations/jupyter.html\" target=\"_blank\">docs</a>).<br/>\n",
       "\n",
       "                "
      ],
      "text/plain": [
       "<IPython.core.display.HTML object>"
      ]
     },
     "metadata": {},
     "output_type": "display_data"
    },
    {
     "data": {
      "text/html": [
       "<br/>Waiting for W&B process to finish, PID 15148... <strong style=\"color:green\">(success).</strong>"
      ],
      "text/plain": [
       "<IPython.core.display.HTML object>"
      ]
     },
     "metadata": {},
     "output_type": "display_data"
    },
    {
     "data": {
      "application/vnd.jupyter.widget-view+json": {
       "model_id": "d9554493fb0f488c83bc7a356d52ffa7",
       "version_major": 2,
       "version_minor": 0
      },
      "text/plain": [
       "VBox(children=(Label(value=' 0.00MB of 0.00MB uploaded (0.00MB deduped)\\r'), FloatProgress(value=1.0, max=1.0)…"
      ]
     },
     "metadata": {},
     "output_type": "display_data"
    },
    {
     "data": {
      "text/html": [
       "<style>\n",
       "    table.wandb td:nth-child(1) { padding: 0 10px; text-align: right }\n",
       "    .wandb-row { display: flex; flex-direction: row; flex-wrap: wrap; width: 100% }\n",
       "    .wandb-col { display: flex; flex-direction: column; flex-basis: 100%; flex: 1; padding: 10px; }\n",
       "    </style>\n",
       "<div class=\"wandb-row\"><div class=\"wandb-col\">\n",
       "<h3>Run history:</h3><br/><table class=\"wandb\"><tr><td>fasttext model average performance.fasttext hamming loss</td><td>▁</td></tr><tr><td>fasttext model average performance.fasttext micro-f1 score</td><td>▁</td></tr><tr><td>fasttext model average performance.fasttext train accuracy</td><td>▁</td></tr><tr><td>fasttext model average performance.fasttext train balanced acc</td><td>▁</td></tr><tr><td>fasttext model average performance.fasttext validation accuracy</td><td>▁</td></tr><tr><td>fasttext model average performance.fasttext validation balanced acc</td><td>▁</td></tr></table><br/></div><div class=\"wandb-col\">\n",
       "<h3>Run summary:</h3><br/><table class=\"wandb\"><tr><td>fasttext model average performance.fasttext hamming loss</td><td>0.16683</td></tr><tr><td>fasttext model average performance.fasttext micro-f1 score</td><td>0.83317</td></tr><tr><td>fasttext model average performance.fasttext train accuracy</td><td>0.9549</td></tr><tr><td>fasttext model average performance.fasttext train balanced acc</td><td>0.93119</td></tr><tr><td>fasttext model average performance.fasttext validation accuracy</td><td>0.83317</td></tr><tr><td>fasttext model average performance.fasttext validation balanced acc</td><td>0.7746</td></tr></table>\n",
       "</div></div>\n",
       "Synced 4 W&B file(s), 0 media file(s), 0 artifact file(s) and 0 other file(s)\n",
       "<br/>Synced <strong style=\"color:#cdcd00\">solar-leaf-8</strong>: <a href=\"https://wandb.ai/awiedenroth/Masterarbeit_Oesch8_nur/runs/3efqq8gu\" target=\"_blank\">https://wandb.ai/awiedenroth/Masterarbeit_Oesch8_nur/runs/3efqq8gu</a><br/>\n",
       "Find logs at: <code>.\\wandb\\run-20220407_231536-3efqq8gu\\logs</code><br/>\n"
      ],
      "text/plain": [
       "<IPython.core.display.HTML object>"
      ]
     },
     "metadata": {},
     "output_type": "display_data"
    },
    {
     "name": "stderr",
     "output_type": "stream",
     "text": [
      "wandb: wandb version 0.12.13 is available!  To upgrade, please run:\n",
      "wandb:  $ pip install wandb --upgrade\n"
     ]
    },
    {
     "data": {
      "text/html": [
       "\n",
       "                    Syncing run <strong><a href=\"https://wandb.ai/awiedenroth/Masterarbeit_Oesch8_nur/runs/1xac98mx\" target=\"_blank\">likely-oath-9</a></strong> to <a href=\"https://wandb.ai/awiedenroth/Masterarbeit_Oesch8_nur\" target=\"_blank\">Weights & Biases</a> (<a href=\"https://docs.wandb.com/integrations/jupyter.html\" target=\"_blank\">docs</a>).<br/>\n",
       "\n",
       "                "
      ],
      "text/plain": [
       "<IPython.core.display.HTML object>"
      ]
     },
     "metadata": {},
     "output_type": "display_data"
    },
    {
     "data": {
      "text/html": [
       "<br/>Waiting for W&B process to finish, PID 11604... <strong style=\"color:green\">(success).</strong>"
      ],
      "text/plain": [
       "<IPython.core.display.HTML object>"
      ]
     },
     "metadata": {},
     "output_type": "display_data"
    },
    {
     "data": {
      "application/vnd.jupyter.widget-view+json": {
       "model_id": "807f2b02dcd746249f5b0cf25d9e52c6",
       "version_major": 2,
       "version_minor": 0
      },
      "text/plain": [
       "VBox(children=(Label(value=' 0.00MB of 0.00MB uploaded (0.00MB deduped)\\r'), FloatProgress(value=1.0, max=1.0)…"
      ]
     },
     "metadata": {},
     "output_type": "display_data"
    },
    {
     "data": {
      "text/html": [
       "<style>\n",
       "    table.wandb td:nth-child(1) { padding: 0 10px; text-align: right }\n",
       "    .wandb-row { display: flex; flex-direction: row; flex-wrap: wrap; width: 100% }\n",
       "    .wandb-col { display: flex; flex-direction: column; flex-basis: 100%; flex: 1; padding: 10px; }\n",
       "    </style>\n",
       "<div class=\"wandb-row\"><div class=\"wandb-col\">\n",
       "<h3>Run history:</h3><br/><table class=\"wandb\"><tr><td>fasttext model average performance.fasttext hamming loss</td><td>▁</td></tr><tr><td>fasttext model average performance.fasttext micro-f1 score</td><td>▁</td></tr><tr><td>fasttext model average performance.fasttext train accuracy</td><td>▁</td></tr><tr><td>fasttext model average performance.fasttext train balanced acc</td><td>▁</td></tr><tr><td>fasttext model average performance.fasttext validation accuracy</td><td>▁</td></tr><tr><td>fasttext model average performance.fasttext validation balanced acc</td><td>▁</td></tr></table><br/></div><div class=\"wandb-col\">\n",
       "<h3>Run summary:</h3><br/><table class=\"wandb\"><tr><td>fasttext model average performance.fasttext hamming loss</td><td>0.16683</td></tr><tr><td>fasttext model average performance.fasttext micro-f1 score</td><td>0.83317</td></tr><tr><td>fasttext model average performance.fasttext train accuracy</td><td>0.9549</td></tr><tr><td>fasttext model average performance.fasttext train balanced acc</td><td>0.93119</td></tr><tr><td>fasttext model average performance.fasttext validation accuracy</td><td>0.83317</td></tr><tr><td>fasttext model average performance.fasttext validation balanced acc</td><td>0.7746</td></tr></table>\n",
       "</div></div>\n",
       "Synced 4 W&B file(s), 0 media file(s), 0 artifact file(s) and 0 other file(s)\n",
       "<br/>Synced <strong style=\"color:#cdcd00\">likely-oath-9</strong>: <a href=\"https://wandb.ai/awiedenroth/Masterarbeit_Oesch8_nur/runs/1xac98mx\" target=\"_blank\">https://wandb.ai/awiedenroth/Masterarbeit_Oesch8_nur/runs/1xac98mx</a><br/>\n",
       "Find logs at: <code>.\\wandb\\run-20220407_231551-1xac98mx\\logs</code><br/>\n"
      ],
      "text/plain": [
       "<IPython.core.display.HTML object>"
      ]
     },
     "metadata": {},
     "output_type": "display_data"
    },
    {
     "name": "stderr",
     "output_type": "stream",
     "text": [
      "wandb: wandb version 0.12.13 is available!  To upgrade, please run:\n",
      "wandb:  $ pip install wandb --upgrade\n"
     ]
    },
    {
     "data": {
      "text/html": [
       "\n",
       "                    Syncing run <strong><a href=\"https://wandb.ai/awiedenroth/Masterarbeit_Oesch8_nur/runs/171s80th\" target=\"_blank\">glorious-leaf-10</a></strong> to <a href=\"https://wandb.ai/awiedenroth/Masterarbeit_Oesch8_nur\" target=\"_blank\">Weights & Biases</a> (<a href=\"https://docs.wandb.com/integrations/jupyter.html\" target=\"_blank\">docs</a>).<br/>\n",
       "\n",
       "                "
      ],
      "text/plain": [
       "<IPython.core.display.HTML object>"
      ]
     },
     "metadata": {},
     "output_type": "display_data"
    },
    {
     "data": {
      "text/html": [
       "<br/>Waiting for W&B process to finish, PID 18300... <strong style=\"color:green\">(success).</strong>"
      ],
      "text/plain": [
       "<IPython.core.display.HTML object>"
      ]
     },
     "metadata": {},
     "output_type": "display_data"
    },
    {
     "data": {
      "application/vnd.jupyter.widget-view+json": {
       "model_id": "aa4963736c264ddf82b76028fbf9bc78",
       "version_major": 2,
       "version_minor": 0
      },
      "text/plain": [
       "VBox(children=(Label(value=' 0.00MB of 0.00MB uploaded (0.00MB deduped)\\r'), FloatProgress(value=1.0, max=1.0)…"
      ]
     },
     "metadata": {},
     "output_type": "display_data"
    },
    {
     "data": {
      "text/html": [
       "<style>\n",
       "    table.wandb td:nth-child(1) { padding: 0 10px; text-align: right }\n",
       "    .wandb-row { display: flex; flex-direction: row; flex-wrap: wrap; width: 100% }\n",
       "    .wandb-col { display: flex; flex-direction: column; flex-basis: 100%; flex: 1; padding: 10px; }\n",
       "    </style>\n",
       "<div class=\"wandb-row\"><div class=\"wandb-col\">\n",
       "<h3>Run history:</h3><br/><table class=\"wandb\"><tr><td>fasttext model average performance.fasttext hamming loss</td><td>▁</td></tr><tr><td>fasttext model average performance.fasttext micro-f1 score</td><td>▁</td></tr><tr><td>fasttext model average performance.fasttext train accuracy</td><td>▁</td></tr><tr><td>fasttext model average performance.fasttext train balanced acc</td><td>▁</td></tr><tr><td>fasttext model average performance.fasttext validation accuracy</td><td>▁</td></tr><tr><td>fasttext model average performance.fasttext validation balanced acc</td><td>▁</td></tr></table><br/></div><div class=\"wandb-col\">\n",
       "<h3>Run summary:</h3><br/><table class=\"wandb\"><tr><td>fasttext model average performance.fasttext hamming loss</td><td>0.16683</td></tr><tr><td>fasttext model average performance.fasttext micro-f1 score</td><td>0.83317</td></tr><tr><td>fasttext model average performance.fasttext train accuracy</td><td>0.9549</td></tr><tr><td>fasttext model average performance.fasttext train balanced acc</td><td>0.93119</td></tr><tr><td>fasttext model average performance.fasttext validation accuracy</td><td>0.83317</td></tr><tr><td>fasttext model average performance.fasttext validation balanced acc</td><td>0.7746</td></tr></table>\n",
       "</div></div>\n",
       "Synced 4 W&B file(s), 0 media file(s), 0 artifact file(s) and 0 other file(s)\n",
       "<br/>Synced <strong style=\"color:#cdcd00\">glorious-leaf-10</strong>: <a href=\"https://wandb.ai/awiedenroth/Masterarbeit_Oesch8_nur/runs/171s80th\" target=\"_blank\">https://wandb.ai/awiedenroth/Masterarbeit_Oesch8_nur/runs/171s80th</a><br/>\n",
       "Find logs at: <code>.\\wandb\\run-20220407_231607-171s80th\\logs</code><br/>\n"
      ],
      "text/plain": [
       "<IPython.core.display.HTML object>"
      ]
     },
     "metadata": {},
     "output_type": "display_data"
    },
    {
     "name": "stderr",
     "output_type": "stream",
     "text": [
      "wandb: wandb version 0.12.13 is available!  To upgrade, please run:\n",
      "wandb:  $ pip install wandb --upgrade\n"
     ]
    },
    {
     "data": {
      "text/html": [
       "\n",
       "                    Syncing run <strong><a href=\"https://wandb.ai/awiedenroth/Masterarbeit_Oesch8_nur/runs/3nt9jvv8\" target=\"_blank\">neat-terrain-11</a></strong> to <a href=\"https://wandb.ai/awiedenroth/Masterarbeit_Oesch8_nur\" target=\"_blank\">Weights & Biases</a> (<a href=\"https://docs.wandb.com/integrations/jupyter.html\" target=\"_blank\">docs</a>).<br/>\n",
       "\n",
       "                "
      ],
      "text/plain": [
       "<IPython.core.display.HTML object>"
      ]
     },
     "metadata": {},
     "output_type": "display_data"
    },
    {
     "data": {
      "text/html": [
       "<br/>Waiting for W&B process to finish, PID 22176... <strong style=\"color:green\">(success).</strong>"
      ],
      "text/plain": [
       "<IPython.core.display.HTML object>"
      ]
     },
     "metadata": {},
     "output_type": "display_data"
    },
    {
     "data": {
      "application/vnd.jupyter.widget-view+json": {
       "model_id": "bb55fdcdeeb849d0beef326c7cffe0b8",
       "version_major": 2,
       "version_minor": 0
      },
      "text/plain": [
       "VBox(children=(Label(value=' 0.00MB of 0.00MB uploaded (0.00MB deduped)\\r'), FloatProgress(value=1.0, max=1.0)…"
      ]
     },
     "metadata": {},
     "output_type": "display_data"
    },
    {
     "data": {
      "text/html": [
       "<style>\n",
       "    table.wandb td:nth-child(1) { padding: 0 10px; text-align: right }\n",
       "    .wandb-row { display: flex; flex-direction: row; flex-wrap: wrap; width: 100% }\n",
       "    .wandb-col { display: flex; flex-direction: column; flex-basis: 100%; flex: 1; padding: 10px; }\n",
       "    </style>\n",
       "<div class=\"wandb-row\"><div class=\"wandb-col\">\n",
       "<h3>Run history:</h3><br/><table class=\"wandb\"><tr><td>fasttext model average performance.fasttext hamming loss</td><td>▁</td></tr><tr><td>fasttext model average performance.fasttext micro-f1 score</td><td>▁</td></tr><tr><td>fasttext model average performance.fasttext train accuracy</td><td>▁</td></tr><tr><td>fasttext model average performance.fasttext train balanced acc</td><td>▁</td></tr><tr><td>fasttext model average performance.fasttext validation accuracy</td><td>▁</td></tr><tr><td>fasttext model average performance.fasttext validation balanced acc</td><td>▁</td></tr></table><br/></div><div class=\"wandb-col\">\n",
       "<h3>Run summary:</h3><br/><table class=\"wandb\"><tr><td>fasttext model average performance.fasttext hamming loss</td><td>0.16683</td></tr><tr><td>fasttext model average performance.fasttext micro-f1 score</td><td>0.83317</td></tr><tr><td>fasttext model average performance.fasttext train accuracy</td><td>0.9549</td></tr><tr><td>fasttext model average performance.fasttext train balanced acc</td><td>0.93119</td></tr><tr><td>fasttext model average performance.fasttext validation accuracy</td><td>0.83317</td></tr><tr><td>fasttext model average performance.fasttext validation balanced acc</td><td>0.7746</td></tr></table>\n",
       "</div></div>\n",
       "Synced 4 W&B file(s), 0 media file(s), 0 artifact file(s) and 0 other file(s)\n",
       "<br/>Synced <strong style=\"color:#cdcd00\">neat-terrain-11</strong>: <a href=\"https://wandb.ai/awiedenroth/Masterarbeit_Oesch8_nur/runs/3nt9jvv8\" target=\"_blank\">https://wandb.ai/awiedenroth/Masterarbeit_Oesch8_nur/runs/3nt9jvv8</a><br/>\n",
       "Find logs at: <code>.\\wandb\\run-20220407_231623-3nt9jvv8\\logs</code><br/>\n"
      ],
      "text/plain": [
       "<IPython.core.display.HTML object>"
      ]
     },
     "metadata": {},
     "output_type": "display_data"
    },
    {
     "name": "stderr",
     "output_type": "stream",
     "text": [
      "wandb: wandb version 0.12.13 is available!  To upgrade, please run:\n",
      "wandb:  $ pip install wandb --upgrade\n"
     ]
    }
   ],
   "source": [
    "a = df.groupby([\"ft_model\",\"keyboard_aug\", \"remove_numbers\", \"fasttext_zusatzdaten\", \"remove_stopwords\", \"lowercase\", \"remove_punctuation\"], \n",
    "              as_index= False)[[\"fasttext model average performance.fasttext validation accuracy\", \"fasttext model average performance.fasttext validation balanced acc\",\n",
    "                               \"fasttext model average performance.fasttext micro-f1 score\", \"fasttext model average performance.fasttext hamming loss\",\n",
    "                                \"fasttext model average performance.fasttext train accuracy\", \"fasttext model average performance.fasttext train balanced acc\"]].mean().to_dict(orient= \"index\")\n",
    "\n",
    "config = ['ft_model', 'keyboard_aug', 'remove_numbers', 'fasttext_zusatzdaten', 'remove_stopwords', 'lowercase', 'remove_punctuation']\n",
    "results = ['fasttext model average performance.fasttext validation accuracy', 'fasttext model average performance.fasttext validation balanced acc', 'fasttext model average performance.fasttext micro-f1 score',\n",
    "                'fasttext model average performance.fasttext hamming loss', 'fasttext model average performance.fasttext train accuracy', 'fasttext model average performance.fasttext train balanced acc']\n",
    "    \n",
    "\n",
    "for x,y in a.items():\n",
    "    \n",
    "    conf={}\n",
    "    metr={}\n",
    "    for k,v in y.items():\n",
    "        if k in config:\n",
    "            conf[k] = v\n",
    "        if k in results:\n",
    "            metr[k] = v\n",
    "    run = wandb.init(project=\"Masterarbeit_Oesch8_nur\", entity=\"awiedenroth\", config=conf)\n",
    "    wandb.log(metr)\n",
    "    run.finish()\n",
    "    #print(conf)\n",
    "    #print(metr)\n"
   ]
  },
  {
   "cell_type": "code",
   "execution_count": 118,
   "metadata": {},
   "outputs": [
    {
     "ename": "NameError",
     "evalue": "name 'configuration' is not defined",
     "output_type": "error",
     "traceback": [
      "\u001b[1;31m---------------------------------------------------------------------------\u001b[0m",
      "\u001b[1;31mNameError\u001b[0m                                 Traceback (most recent call last)",
      "\u001b[1;32m<ipython-input-118-a96a63ddddbb>\u001b[0m in \u001b[0;36m<module>\u001b[1;34m\u001b[0m\n\u001b[0;32m      9\u001b[0m \u001b[1;32mfor\u001b[0m \u001b[0mk\u001b[0m\u001b[1;33m,\u001b[0m\u001b[0mv\u001b[0m \u001b[1;32min\u001b[0m \u001b[0ma\u001b[0m\u001b[1;33m.\u001b[0m\u001b[0mitems\u001b[0m\u001b[1;33m(\u001b[0m\u001b[1;33m)\u001b[0m\u001b[1;33m:\u001b[0m\u001b[1;33m\u001b[0m\u001b[1;33m\u001b[0m\u001b[0m\n\u001b[0;32m     10\u001b[0m \u001b[1;33m\u001b[0m\u001b[0m\n\u001b[1;32m---> 11\u001b[1;33m     \u001b[0mrun\u001b[0m \u001b[1;33m=\u001b[0m \u001b[0mwandb\u001b[0m\u001b[1;33m.\u001b[0m\u001b[0minit\u001b[0m\u001b[1;33m(\u001b[0m\u001b[0mproject\u001b[0m\u001b[1;33m=\u001b[0m\u001b[1;34m\"Masterarbeit_ft\"\u001b[0m\u001b[1;33m,\u001b[0m \u001b[0mentity\u001b[0m\u001b[1;33m=\u001b[0m\u001b[1;34m\"awiedenroth\"\u001b[0m\u001b[1;33m,\u001b[0m \u001b[0mconfig\u001b[0m\u001b[1;33m=\u001b[0m\u001b[0mconfiguration\u001b[0m\u001b[1;33m)\u001b[0m\u001b[1;33m\u001b[0m\u001b[1;33m\u001b[0m\u001b[0m\n\u001b[0m\u001b[0;32m     12\u001b[0m     \u001b[0mprint\u001b[0m\u001b[1;33m(\u001b[0m\u001b[0mv\u001b[0m\u001b[1;33m)\u001b[0m\u001b[1;33m\u001b[0m\u001b[1;33m\u001b[0m\u001b[0m\n\u001b[0;32m     13\u001b[0m     \u001b[0mwandb\u001b[0m\u001b[1;33m.\u001b[0m\u001b[0mlog\u001b[0m\u001b[1;33m(\u001b[0m\u001b[0mv\u001b[0m\u001b[1;33m)\u001b[0m\u001b[1;33m\u001b[0m\u001b[1;33m\u001b[0m\u001b[0m\n",
      "\u001b[1;31mNameError\u001b[0m: name 'configuration' is not defined"
     ]
    }
   ],
   "source": [
    "#import wandb\n",
    "#api = wandb.Api(\"5a0c9d2c04e141e969e5f63e2c722fe7737846c2\")\n",
    "\n",
    "#run = api.run(\"awiedenroth/Masterarbeit_ft/Oesch8_nur\")\n",
    "for k,v in a.items():\n",
    "    \n",
    "    run = wandb.init(project=\"Masterarbeit_ft\", entity=\"awiedenroth\", config=configuration)\n",
    "    print(v)\n",
    "    wandb.log(v)\n",
    "#run.upload_file(\"file_name.extension\")\n",
    "    run.finish()"
   ]
  },
  {
   "cell_type": "code",
   "execution_count": 134,
   "metadata": {},
   "outputs": [
    {
     "name": "stderr",
     "output_type": "stream",
     "text": [
      "wandb: wandb version 0.12.13 is available!  To upgrade, please run:\n",
      "wandb:  $ pip install wandb --upgrade\n"
     ]
    },
    {
     "data": {
      "text/html": [
       "\n",
       "                    Syncing run <strong><a href=\"https://wandb.ai/awiedenroth/Masterarbeit_ft/runs/2c1j2v9m\" target=\"_blank\">upbeat-hill-1602</a></strong> to <a href=\"https://wandb.ai/awiedenroth/Masterarbeit_ft\" target=\"_blank\">Weights & Biases</a> (<a href=\"https://docs.wandb.com/integrations/jupyter.html\" target=\"_blank\">docs</a>).<br/>\n",
       "\n",
       "                "
      ],
      "text/plain": [
       "<IPython.core.display.HTML object>"
      ]
     },
     "metadata": {},
     "output_type": "display_data"
    },
    {
     "data": {
      "text/html": [
       "<br/>Waiting for W&B process to finish, PID 5900... <strong style=\"color:green\">(success).</strong>"
      ],
      "text/plain": [
       "<IPython.core.display.HTML object>"
      ]
     },
     "metadata": {},
     "output_type": "display_data"
    },
    {
     "data": {
      "application/vnd.jupyter.widget-view+json": {
       "model_id": "2c8ed2cd6dc24ab19dd6bb88d6fbf8d9",
       "version_major": 2,
       "version_minor": 0
      },
      "text/plain": [
       "VBox(children=(Label(value=' 0.00MB of 0.00MB uploaded (0.00MB deduped)\\r'), FloatProgress(value=1.0, max=1.0)…"
      ]
     },
     "metadata": {},
     "output_type": "display_data"
    },
    {
     "data": {
      "text/html": [
       "<style>\n",
       "    table.wandb td:nth-child(1) { padding: 0 10px; text-align: right }\n",
       "    .wandb-row { display: flex; flex-direction: row; flex-wrap: wrap; width: 100% }\n",
       "    .wandb-col { display: flex; flex-direction: column; flex-basis: 100%; flex: 1; padding: 10px; }\n",
       "    </style>\n",
       "<div class=\"wandb-row\"><div class=\"wandb-col\">\n",
       "</div><div class=\"wandb-col\">\n",
       "</div></div>\n",
       "Synced 4 W&B file(s), 0 media file(s), 0 artifact file(s) and 0 other file(s)\n",
       "<br/>Synced <strong style=\"color:#cdcd00\">upbeat-hill-1602</strong>: <a href=\"https://wandb.ai/awiedenroth/Masterarbeit_ft/runs/2c1j2v9m\" target=\"_blank\">https://wandb.ai/awiedenroth/Masterarbeit_ft/runs/2c1j2v9m</a><br/>\n",
       "Find logs at: <code>.\\wandb\\run-20220407_230925-2c1j2v9m\\logs</code><br/>\n"
      ],
      "text/plain": [
       "<IPython.core.display.HTML object>"
      ]
     },
     "metadata": {},
     "output_type": "display_data"
    }
   ],
   "source": [
    "run = wandb.init(project=\"Masterarbeit_ft\", entity=\"awiedenroth\")\n",
    "run.finish()"
   ]
  }
 ],
 "metadata": {
  "kernelspec": {
   "display_name": "Python 3",
   "language": "python",
   "name": "python3"
  },
  "language_info": {
   "codemirror_mode": {
    "name": "ipython",
    "version": 3
   },
   "file_extension": ".py",
   "mimetype": "text/x-python",
   "name": "python",
   "nbconvert_exporter": "python",
   "pygments_lexer": "ipython3",
   "version": "3.8.5"
  }
 },
 "nbformat": 4,
 "nbformat_minor": 4
}
