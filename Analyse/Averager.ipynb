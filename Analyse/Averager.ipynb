{
 "cells": [
  {
   "cell_type": "code",
   "execution_count": 2,
   "metadata": {},
   "outputs": [
    {
     "name": "stderr",
     "output_type": "stream",
     "text": [
      "wandb: Currently logged in as: awiedenroth (use `wandb login --relogin` to force relogin)\n"
     ]
    },
    {
     "data": {
      "text/plain": [
       "True"
      ]
     },
     "execution_count": 2,
     "metadata": {},
     "output_type": "execute_result"
    }
   ],
   "source": [
    "!pip install wandb -qqq\n",
    "import wandb\n",
    "wandb.login()"
   ]
  },
  {
   "cell_type": "code",
   "execution_count": 3,
   "metadata": {},
   "outputs": [],
   "source": [
    "import pandas as pd\n",
    "import numpy as np\n",
    "import nltk\n",
    "from pathlib import Path\n",
    "import dtale"
   ]
  },
  {
   "cell_type": "code",
   "execution_count": 12,
   "metadata": {},
   "outputs": [
    {
     "data": {
      "text/html": [
       "<div>\n",
       "<style scoped>\n",
       "    .dataframe tbody tr th:only-of-type {\n",
       "        vertical-align: middle;\n",
       "    }\n",
       "\n",
       "    .dataframe tbody tr th {\n",
       "        vertical-align: top;\n",
       "    }\n",
       "\n",
       "    .dataframe thead th {\n",
       "        text-align: right;\n",
       "    }\n",
       "</style>\n",
       "<table border=\"1\" class=\"dataframe\">\n",
       "  <thead>\n",
       "    <tr style=\"text-align: right;\">\n",
       "      <th></th>\n",
       "      <th>Name</th>\n",
       "      <th>ft_model</th>\n",
       "      <th>lowercase</th>\n",
       "      <th>keyboard_aug</th>\n",
       "      <th>random_seed</th>\n",
       "      <th>remove_num_punc</th>\n",
       "      <th>remove_stopwords</th>\n",
       "      <th>average.fasttext validation accuracy</th>\n",
       "      <th>average.fasttext validation balanced acc</th>\n",
       "      <th>average.fasttext validation balanced adjusted accuracy</th>\n",
       "    </tr>\n",
       "  </thead>\n",
       "  <tbody>\n",
       "    <tr>\n",
       "      <th>0</th>\n",
       "      <td>major-sweep-11</td>\n",
       "      <td>nn</td>\n",
       "      <td>True</td>\n",
       "      <td>False</td>\n",
       "      <td>30</td>\n",
       "      <td>False</td>\n",
       "      <td>False</td>\n",
       "      <td>0.830441</td>\n",
       "      <td>0.769083</td>\n",
       "      <td>0.538167</td>\n",
       "    </tr>\n",
       "    <tr>\n",
       "      <th>1</th>\n",
       "      <td>ethereal-sweep-10</td>\n",
       "      <td>nn</td>\n",
       "      <td>True</td>\n",
       "      <td>False</td>\n",
       "      <td>30</td>\n",
       "      <td>True</td>\n",
       "      <td>True</td>\n",
       "      <td>0.830499</td>\n",
       "      <td>0.777903</td>\n",
       "      <td>0.555807</td>\n",
       "    </tr>\n",
       "    <tr>\n",
       "      <th>2</th>\n",
       "      <td>valiant-sweep-9</td>\n",
       "      <td>nn</td>\n",
       "      <td>True</td>\n",
       "      <td>False</td>\n",
       "      <td>20</td>\n",
       "      <td>True</td>\n",
       "      <td>False</td>\n",
       "      <td>0.836401</td>\n",
       "      <td>0.786696</td>\n",
       "      <td>0.573392</td>\n",
       "    </tr>\n",
       "    <tr>\n",
       "      <th>3</th>\n",
       "      <td>earthy-sweep-8</td>\n",
       "      <td>nn</td>\n",
       "      <td>True</td>\n",
       "      <td>False</td>\n",
       "      <td>18</td>\n",
       "      <td>True</td>\n",
       "      <td>False</td>\n",
       "      <td>0.829654</td>\n",
       "      <td>0.774911</td>\n",
       "      <td>0.549821</td>\n",
       "    </tr>\n",
       "    <tr>\n",
       "      <th>4</th>\n",
       "      <td>soft-sweep-7</td>\n",
       "      <td>nn</td>\n",
       "      <td>True</td>\n",
       "      <td>False</td>\n",
       "      <td>18</td>\n",
       "      <td>True</td>\n",
       "      <td>True</td>\n",
       "      <td>0.828664</td>\n",
       "      <td>0.773641</td>\n",
       "      <td>0.547282</td>\n",
       "    </tr>\n",
       "  </tbody>\n",
       "</table>\n",
       "</div>"
      ],
      "text/plain": [
       "                Name ft_model  lowercase  keyboard_aug  random_seed  \\\n",
       "0     major-sweep-11       nn       True         False           30   \n",
       "1  ethereal-sweep-10       nn       True         False           30   \n",
       "2    valiant-sweep-9       nn       True         False           20   \n",
       "3     earthy-sweep-8       nn       True         False           18   \n",
       "4       soft-sweep-7       nn       True         False           18   \n",
       "\n",
       "   remove_num_punc  remove_stopwords  average.fasttext validation accuracy  \\\n",
       "0            False             False                              0.830441   \n",
       "1             True              True                              0.830499   \n",
       "2             True             False                              0.836401   \n",
       "3             True             False                              0.829654   \n",
       "4             True              True                              0.828664   \n",
       "\n",
       "   average.fasttext validation balanced acc  \\\n",
       "0                                  0.769083   \n",
       "1                                  0.777903   \n",
       "2                                  0.786696   \n",
       "3                                  0.774911   \n",
       "4                                  0.773641   \n",
       "\n",
       "   average.fasttext validation balanced adjusted accuracy  \n",
       "0                                           0.538167       \n",
       "1                                           0.555807       \n",
       "2                                           0.573392       \n",
       "3                                           0.549821       \n",
       "4                                           0.547282       "
      ]
     },
     "execution_count": 12,
     "metadata": {},
     "output_type": "execute_result"
    }
   ],
   "source": [
    "df = pd.read_csv(\"./oesch_8_nur.csv\",  sep = \",\")\n",
    "df.head()"
   ]
  },
  {
   "cell_type": "code",
   "execution_count": 13,
   "metadata": {},
   "outputs": [],
   "source": [
    "a = df.groupby([\"ft_model\",\"keyboard_aug\", \"remove_num_punc\", \"remove_stopwords\", \"lowercase\"], \n",
    "              as_index= False)[[\"average.fasttext validation accuracy\", \"average.fasttext validation balanced acc\", \"average.fasttext validation balanced adjusted accuracy\"\n",
    "                               ]].mean().to_dict(orient= \"index\")"
   ]
  },
  {
   "cell_type": "code",
   "execution_count": 14,
   "metadata": {},
   "outputs": [
    {
     "name": "stdout",
     "output_type": "stream",
     "text": [
      "{0: {'average.fasttext validation accuracy': 0.8302141978903773,\n",
      "     'average.fasttext validation balanced acc': 0.7719103015437415,\n",
      "     'average.fasttext validation balanced adjusted accuracy': 0.5438206030874829,\n",
      "     'ft_model': 'nn',\n",
      "     'keyboard_aug': False,\n",
      "     'lowercase': False,\n",
      "     'remove_num_punc': False,\n",
      "     'remove_stopwords': False},\n",
      " 1: {'average.fasttext validation accuracy': 0.8315116805798226,\n",
      "     'average.fasttext validation balanced acc': 0.7745272732266931,\n",
      "     'average.fasttext validation balanced adjusted accuracy': 0.5490545464533861,\n",
      "     'ft_model': 'nn',\n",
      "     'keyboard_aug': False,\n",
      "     'lowercase': True,\n",
      "     'remove_num_punc': False,\n",
      "     'remove_stopwords': False},\n",
      " 2: {'average.fasttext validation accuracy': 0.8256099139325697,\n",
      "     'average.fasttext validation balanced acc': 0.7672926619007846,\n",
      "     'average.fasttext validation balanced adjusted accuracy': 0.5345853238015691,\n",
      "     'ft_model': 'nn',\n",
      "     'keyboard_aug': False,\n",
      "     'lowercase': False,\n",
      "     'remove_num_punc': False,\n",
      "     'remove_stopwords': True},\n",
      " 3: {'average.fasttext validation accuracy': 0.8285996246683491,\n",
      "     'average.fasttext validation balanced acc': 0.7717392983835428,\n",
      "     'average.fasttext validation balanced adjusted accuracy': 0.5434785967670854,\n",
      "     'ft_model': 'nn',\n",
      "     'keyboard_aug': False,\n",
      "     'lowercase': True,\n",
      "     'remove_num_punc': False,\n",
      "     'remove_stopwords': True},\n",
      " 4: {'average.fasttext validation accuracy': 0.8305248171876011,\n",
      "     'average.fasttext validation balanced acc': 0.7696116390861641,\n",
      "     'average.fasttext validation balanced adjusted accuracy': 0.5392232781723281,\n",
      "     'ft_model': 'nn',\n",
      "     'keyboard_aug': False,\n",
      "     'lowercase': False,\n",
      "     'remove_num_punc': True,\n",
      "     'remove_stopwords': False},\n",
      " 5: {'average.fasttext validation accuracy': 0.8334918785996246,\n",
      "     'average.fasttext validation balanced acc': 0.7808197054700866,\n",
      "     'average.fasttext validation balanced adjusted accuracy': 0.5616394109401733,\n",
      "     'ft_model': 'nn',\n",
      "     'keyboard_aug': False,\n",
      "     'lowercase': True,\n",
      "     'remove_num_punc': True,\n",
      "     'remove_stopwords': False},\n",
      " 6: {'average.fasttext validation accuracy': 0.8315246230505403,\n",
      "     'average.fasttext validation balanced acc': 0.7723995462422094,\n",
      "     'average.fasttext validation balanced adjusted accuracy': 0.5447990924844189,\n",
      "     'ft_model': 'nn',\n",
      "     'keyboard_aug': False,\n",
      "     'lowercase': False,\n",
      "     'remove_num_punc': True,\n",
      "     'remove_stopwords': True},\n",
      " 7: {'average.fasttext validation accuracy': 0.8321911602925,\n",
      "     'average.fasttext validation balanced acc': 0.7789393976145099,\n",
      "     'average.fasttext validation balanced adjusted accuracy': 0.5578787952290198,\n",
      "     'ft_model': 'nn',\n",
      "     'keyboard_aug': False,\n",
      "     'lowercase': True,\n",
      "     'remove_num_punc': True,\n",
      "     'remove_stopwords': True},\n",
      " 8: {'average.fasttext validation accuracy': 0.834485213227205,\n",
      "     'average.fasttext validation balanced acc': 0.7783041346655853,\n",
      "     'average.fasttext validation balanced adjusted accuracy': 0.5566082693311709,\n",
      "     'ft_model': 'nn',\n",
      "     'keyboard_aug': True,\n",
      "     'lowercase': False,\n",
      "     'remove_num_punc': False,\n",
      "     'remove_stopwords': False},\n",
      " 9: {'average.fasttext validation accuracy': 0.8341616514592637,\n",
      "     'average.fasttext validation balanced acc': 0.7781900556400236,\n",
      "     'average.fasttext validation balanced adjusted accuracy': 0.5563801112800474,\n",
      "     'ft_model': 'nn',\n",
      "     'keyboard_aug': True,\n",
      "     'lowercase': True,\n",
      "     'remove_num_punc': False,\n",
      "     'remove_stopwords': False},\n",
      " 10: {'average.fasttext validation accuracy': 0.8361192001553096,\n",
      "      'average.fasttext validation balanced acc': 0.7859424723012151,\n",
      "      'average.fasttext validation balanced adjusted accuracy': 0.5718849446024304,\n",
      "      'ft_model': 'nn',\n",
      "      'keyboard_aug': True,\n",
      "      'lowercase': False,\n",
      "      'remove_num_punc': False,\n",
      "      'remove_stopwords': True},\n",
      " 11: {'average.fasttext validation accuracy': 0.8338122047498867,\n",
      "      'average.fasttext validation balanced acc': 0.7792410949518597,\n",
      "      'average.fasttext validation balanced adjusted accuracy': 0.5584821899037195,\n",
      "      'ft_model': 'nn',\n",
      "      'keyboard_aug': True,\n",
      "      'lowercase': True,\n",
      "      'remove_num_punc': False,\n",
      "      'remove_stopwords': True},\n",
      " 12: {'average.fasttext validation accuracy': 0.841742703682133,\n",
      "      'average.fasttext validation balanced acc': 0.7892546824688922,\n",
      "      'average.fasttext validation balanced adjusted accuracy': 0.5785093649377845,\n",
      "      'ft_model': 'nn',\n",
      "      'keyboard_aug': True,\n",
      "      'lowercase': False,\n",
      "      'remove_num_punc': True,\n",
      "      'remove_stopwords': False},\n",
      " 13: {'average.fasttext validation accuracy': 0.8292143920274381,\n",
      "      'average.fasttext validation balanced acc': 0.7689840598292893,\n",
      "      'average.fasttext validation balanced adjusted accuracy': 0.5379681196585787,\n",
      "      'ft_model': 'nn',\n",
      "      'keyboard_aug': True,\n",
      "      'lowercase': True,\n",
      "      'remove_num_punc': True,\n",
      "      'remove_stopwords': False},\n",
      " 14: {'average.fasttext validation accuracy': 0.828573739726914,\n",
      "      'average.fasttext validation balanced acc': 0.7773047955301847,\n",
      "      'average.fasttext validation balanced adjusted accuracy': 0.5546095910603694,\n",
      "      'ft_model': 'nn',\n",
      "      'keyboard_aug': True,\n",
      "      'lowercase': False,\n",
      "      'remove_num_punc': True,\n",
      "      'remove_stopwords': True},\n",
      " 15: {'average.fasttext validation accuracy': 0.825260467223193,\n",
      "      'average.fasttext validation balanced acc': 0.7724318200365142,\n",
      "      'average.fasttext validation balanced adjusted accuracy': 0.5448636400730285,\n",
      "      'ft_model': 'nn',\n",
      "      'keyboard_aug': True,\n",
      "      'lowercase': True,\n",
      "      'remove_num_punc': True,\n",
      "      'remove_stopwords': True},\n",
      " 16: {'average.fasttext validation accuracy': 0.8384164887076944,\n",
      "      'average.fasttext validation balanced acc': 0.7456216972266622,\n",
      "      'average.fasttext validation balanced adjusted accuracy': 0.49124339445332427,\n",
      "      'ft_model': 'xgboost',\n",
      "      'keyboard_aug': False,\n",
      "      'lowercase': False,\n",
      "      'remove_num_punc': False,\n",
      "      'remove_stopwords': False},\n",
      " 17: {'average.fasttext validation accuracy': 0.8367695593088721,\n",
      "      'average.fasttext validation balanced acc': 0.7363367383216737,\n",
      "      'average.fasttext validation balanced adjusted accuracy': 0.4726734766433473,\n",
      "      'ft_model': 'xgboost',\n",
      "      'keyboard_aug': False,\n",
      "      'lowercase': True,\n",
      "      'remove_num_punc': False,\n",
      "      'remove_stopwords': False},\n",
      " 18: {'average.fasttext validation accuracy': 0.8331650812140037,\n",
      "      'average.fasttext validation balanced acc': 0.7394155653025831,\n",
      "      'average.fasttext validation balanced adjusted accuracy': 0.4788311306051662,\n",
      "      'ft_model': 'xgboost',\n",
      "      'keyboard_aug': False,\n",
      "      'lowercase': False,\n",
      "      'remove_num_punc': False,\n",
      "      'remove_stopwords': True},\n",
      " 19: {'average.fasttext validation accuracy': 0.8292402769688735,\n",
      "      'average.fasttext validation balanced acc': 0.729726385466383,\n",
      "      'average.fasttext validation balanced adjusted accuracy': 0.45945277093276626,\n",
      "      'ft_model': 'xgboost',\n",
      "      'keyboard_aug': False,\n",
      "      'lowercase': True,\n",
      "      'remove_num_punc': False,\n",
      "      'remove_stopwords': True},\n",
      " 20: {'average.fasttext validation accuracy': 0.837759658318773,\n",
      "      'average.fasttext validation balanced acc': 0.7433386719310228,\n",
      "      'average.fasttext validation balanced adjusted accuracy': 0.4866773438620456,\n",
      "      'ft_model': 'xgboost',\n",
      "      'keyboard_aug': False,\n",
      "      'lowercase': False,\n",
      "      'remove_num_punc': True,\n",
      "      'remove_stopwords': False},\n",
      " 21: {'average.fasttext validation accuracy': 0.8397366207208957,\n",
      "      'average.fasttext validation balanced acc': 0.7444322454024775,\n",
      "      'average.fasttext validation balanced adjusted accuracy': 0.48886449080495503,\n",
      "      'ft_model': 'xgboost',\n",
      "      'keyboard_aug': False,\n",
      "      'lowercase': True,\n",
      "      'remove_num_punc': True,\n",
      "      'remove_stopwords': False},\n",
      " 22: {'average.fasttext validation accuracy': 0.8417071118876592,\n",
      "      'average.fasttext validation balanced acc': 0.7470233849136619,\n",
      "      'average.fasttext validation balanced adjusted accuracy': 0.4940467698273238,\n",
      "      'ft_model': 'xgboost',\n",
      "      'keyboard_aug': False,\n",
      "      'lowercase': False,\n",
      "      'remove_num_punc': True,\n",
      "      'remove_stopwords': True},\n",
      " 23: {'average.fasttext validation accuracy': 0.8367695593088721,\n",
      "      'average.fasttext validation balanced acc': 0.7428950307897778,\n",
      "      'average.fasttext validation balanced adjusted accuracy': 0.4857900615795557,\n",
      "      'ft_model': 'xgboost',\n",
      "      'keyboard_aug': False,\n",
      "      'lowercase': True,\n",
      "      'remove_num_punc': True,\n",
      "      'remove_stopwords': True},\n",
      " 24: {'average.fasttext validation accuracy': 0.838406781854656,\n",
      "      'average.fasttext validation balanced acc': 0.7477891739749363,\n",
      "      'average.fasttext validation balanced adjusted accuracy': 0.4955783479498725,\n",
      "      'ft_model': 'xgboost',\n",
      "      'keyboard_aug': True,\n",
      "      'lowercase': False,\n",
      "      'remove_num_punc': False,\n",
      "      'remove_stopwords': False},\n",
      " 25: {'average.fasttext validation accuracy': 0.8360965508315538,\n",
      "      'average.fasttext validation balanced acc': 0.742343883144074,\n",
      "      'average.fasttext validation balanced adjusted accuracy': 0.48468776628814786,\n",
      "      'ft_model': 'xgboost',\n",
      "      'keyboard_aug': True,\n",
      "      'lowercase': True,\n",
      "      'remove_num_punc': False,\n",
      "      'remove_stopwords': False},\n",
      " 26: {'average.fasttext validation accuracy': 0.8401216592247459,\n",
      "      'average.fasttext validation balanced acc': 0.7514209871144674,\n",
      "      'average.fasttext validation balanced adjusted accuracy': 0.5028419742289346,\n",
      "      'ft_model': 'xgboost',\n",
      "      'keyboard_aug': True,\n",
      "      'lowercase': False,\n",
      "      'remove_num_punc': False,\n",
      "      'remove_stopwords': True},\n",
      " 27: {'average.fasttext validation accuracy': 0.8423833559826571,\n",
      "      'average.fasttext validation balanced acc': 0.7501615980809581,\n",
      "      'average.fasttext validation balanced adjusted accuracy': 0.5003231961619158,\n",
      "      'ft_model': 'xgboost',\n",
      "      'keyboard_aug': True,\n",
      "      'lowercase': True,\n",
      "      'remove_num_punc': False,\n",
      "      'remove_stopwords': True},\n",
      " 28: {'average.fasttext validation accuracy': 0.8371254772536078,\n",
      "      'average.fasttext validation balanced acc': 0.7488542972266338,\n",
      "      'average.fasttext validation balanced adjusted accuracy': 0.4977085944532676,\n",
      "      'ft_model': 'xgboost',\n",
      "      'keyboard_aug': True,\n",
      "      'lowercase': False,\n",
      "      'remove_num_punc': True,\n",
      "      'remove_stopwords': False},\n",
      " 29: {'average.fasttext validation accuracy': 0.8364492331586101,\n",
      "      'average.fasttext validation balanced acc': 0.7451233158475311,\n",
      "      'average.fasttext validation balanced adjusted accuracy': 0.49024663169506216,\n",
      "      'ft_model': 'xgboost',\n",
      "      'keyboard_aug': True,\n",
      "      'lowercase': True,\n",
      "      'remove_num_punc': True,\n",
      "      'remove_stopwords': False},\n",
      " 30: {'average.fasttext validation accuracy': 0.8403805086390993,\n",
      "      'average.fasttext validation balanced acc': 0.7506742969958043,\n",
      "      'average.fasttext validation balanced adjusted accuracy': 0.5013485939916085,\n",
      "      'ft_model': 'xgboost',\n",
      "      'keyboard_aug': True,\n",
      "      'lowercase': False,\n",
      "      'remove_num_punc': True,\n",
      "      'remove_stopwords': True},\n",
      " 31: {'average.fasttext validation accuracy': 0.8354720766194266,\n",
      "      'average.fasttext validation balanced acc': 0.7367142994869399,\n",
      "      'average.fasttext validation balanced adjusted accuracy': 0.47342859897387984,\n",
      "      'ft_model': 'xgboost',\n",
      "      'keyboard_aug': True,\n",
      "      'lowercase': True,\n",
      "      'remove_num_punc': True,\n",
      "      'remove_stopwords': True}}\n"
     ]
    }
   ],
   "source": [
    "import pprint\n",
    "pprint.pprint(a)"
   ]
  },
  {
   "cell_type": "code",
   "execution_count": 15,
   "metadata": {},
   "outputs": [
    {
     "name": "stderr",
     "output_type": "stream",
     "text": [
      "wandb: wandb version 0.12.14 is available!  To upgrade, please run:\n",
      "wandb:  $ pip install wandb --upgrade\n"
     ]
    },
    {
     "data": {
      "text/html": [
       "\n",
       "                    Syncing run <strong><a href=\"https://wandb.ai/awiedenroth/Oesch8_nur_averages/runs/28qhbko3\" target=\"_blank\">apricot-serenity-1</a></strong> to <a href=\"https://wandb.ai/awiedenroth/Oesch8_nur_averages\" target=\"_blank\">Weights & Biases</a> (<a href=\"https://docs.wandb.com/integrations/jupyter.html\" target=\"_blank\">docs</a>).<br/>\n",
       "\n",
       "                "
      ],
      "text/plain": [
       "<IPython.core.display.HTML object>"
      ]
     },
     "metadata": {},
     "output_type": "display_data"
    },
    {
     "data": {
      "text/html": [
       "<br/>Waiting for W&B process to finish, PID 20008... <strong style=\"color:green\">(success).</strong>"
      ],
      "text/plain": [
       "<IPython.core.display.HTML object>"
      ]
     },
     "metadata": {},
     "output_type": "display_data"
    },
    {
     "data": {
      "application/vnd.jupyter.widget-view+json": {
       "model_id": "d49a2b977a7b48ac84ccd096a04ea133",
       "version_major": 2,
       "version_minor": 0
      },
      "text/plain": [
       "VBox(children=(Label(value=' 0.00MB of 0.00MB uploaded (0.00MB deduped)\\r'), FloatProgress(value=1.0, max=1.0)…"
      ]
     },
     "metadata": {},
     "output_type": "display_data"
    },
    {
     "data": {
      "text/html": [
       "<style>\n",
       "    table.wandb td:nth-child(1) { padding: 0 10px; text-align: right }\n",
       "    .wandb-row { display: flex; flex-direction: row; flex-wrap: wrap; width: 100% }\n",
       "    .wandb-col { display: flex; flex-direction: column; flex-basis: 100%; flex: 1; padding: 10px; }\n",
       "    </style>\n",
       "<div class=\"wandb-row\"><div class=\"wandb-col\">\n",
       "<h3>Run history:</h3><br/><table class=\"wandb\"><tr><td>average.fasttext validation accuracy</td><td>▁</td></tr><tr><td>average.fasttext validation balanced acc</td><td>▁</td></tr><tr><td>average.fasttext validation balanced adjusted accuracy</td><td>▁</td></tr></table><br/></div><div class=\"wandb-col\">\n",
       "<h3>Run summary:</h3><br/><table class=\"wandb\"><tr><td>average.fasttext validation accuracy</td><td>0.83021</td></tr><tr><td>average.fasttext validation balanced acc</td><td>0.77191</td></tr><tr><td>average.fasttext validation balanced adjusted accuracy</td><td>0.54382</td></tr></table>\n",
       "</div></div>\n",
       "Synced 4 W&B file(s), 0 media file(s), 0 artifact file(s) and 0 other file(s)\n",
       "<br/>Synced <strong style=\"color:#cdcd00\">apricot-serenity-1</strong>: <a href=\"https://wandb.ai/awiedenroth/Oesch8_nur_averages/runs/28qhbko3\" target=\"_blank\">https://wandb.ai/awiedenroth/Oesch8_nur_averages/runs/28qhbko3</a><br/>\n",
       "Find logs at: <code>.\\wandb\\run-20220416_101813-28qhbko3\\logs</code><br/>\n"
      ],
      "text/plain": [
       "<IPython.core.display.HTML object>"
      ]
     },
     "metadata": {},
     "output_type": "display_data"
    },
    {
     "name": "stderr",
     "output_type": "stream",
     "text": [
      "wandb: wandb version 0.12.14 is available!  To upgrade, please run:\n",
      "wandb:  $ pip install wandb --upgrade\n"
     ]
    },
    {
     "data": {
      "text/html": [
       "\n",
       "                    Syncing run <strong><a href=\"https://wandb.ai/awiedenroth/Oesch8_nur_averages/runs/1rc7zinb\" target=\"_blank\">wandering-tree-2</a></strong> to <a href=\"https://wandb.ai/awiedenroth/Oesch8_nur_averages\" target=\"_blank\">Weights & Biases</a> (<a href=\"https://docs.wandb.com/integrations/jupyter.html\" target=\"_blank\">docs</a>).<br/>\n",
       "\n",
       "                "
      ],
      "text/plain": [
       "<IPython.core.display.HTML object>"
      ]
     },
     "metadata": {},
     "output_type": "display_data"
    },
    {
     "data": {
      "text/html": [
       "<br/>Waiting for W&B process to finish, PID 22712... <strong style=\"color:green\">(success).</strong>"
      ],
      "text/plain": [
       "<IPython.core.display.HTML object>"
      ]
     },
     "metadata": {},
     "output_type": "display_data"
    },
    {
     "data": {
      "application/vnd.jupyter.widget-view+json": {
       "model_id": "0172c700a3084842afbf289271e2829a",
       "version_major": 2,
       "version_minor": 0
      },
      "text/plain": [
       "VBox(children=(Label(value=' 0.00MB of 0.00MB uploaded (0.00MB deduped)\\r'), FloatProgress(value=1.0, max=1.0)…"
      ]
     },
     "metadata": {},
     "output_type": "display_data"
    },
    {
     "data": {
      "text/html": [
       "<style>\n",
       "    table.wandb td:nth-child(1) { padding: 0 10px; text-align: right }\n",
       "    .wandb-row { display: flex; flex-direction: row; flex-wrap: wrap; width: 100% }\n",
       "    .wandb-col { display: flex; flex-direction: column; flex-basis: 100%; flex: 1; padding: 10px; }\n",
       "    </style>\n",
       "<div class=\"wandb-row\"><div class=\"wandb-col\">\n",
       "<h3>Run history:</h3><br/><table class=\"wandb\"><tr><td>average.fasttext validation accuracy</td><td>▁</td></tr><tr><td>average.fasttext validation balanced acc</td><td>▁</td></tr><tr><td>average.fasttext validation balanced adjusted accuracy</td><td>▁</td></tr></table><br/></div><div class=\"wandb-col\">\n",
       "<h3>Run summary:</h3><br/><table class=\"wandb\"><tr><td>average.fasttext validation accuracy</td><td>0.83151</td></tr><tr><td>average.fasttext validation balanced acc</td><td>0.77453</td></tr><tr><td>average.fasttext validation balanced adjusted accuracy</td><td>0.54905</td></tr></table>\n",
       "</div></div>\n",
       "Synced 4 W&B file(s), 0 media file(s), 0 artifact file(s) and 0 other file(s)\n",
       "<br/>Synced <strong style=\"color:#cdcd00\">wandering-tree-2</strong>: <a href=\"https://wandb.ai/awiedenroth/Oesch8_nur_averages/runs/1rc7zinb\" target=\"_blank\">https://wandb.ai/awiedenroth/Oesch8_nur_averages/runs/1rc7zinb</a><br/>\n",
       "Find logs at: <code>.\\wandb\\run-20220416_101828-1rc7zinb\\logs</code><br/>\n"
      ],
      "text/plain": [
       "<IPython.core.display.HTML object>"
      ]
     },
     "metadata": {},
     "output_type": "display_data"
    },
    {
     "name": "stderr",
     "output_type": "stream",
     "text": [
      "wandb: wandb version 0.12.14 is available!  To upgrade, please run:\n",
      "wandb:  $ pip install wandb --upgrade\n"
     ]
    },
    {
     "data": {
      "text/html": [
       "\n",
       "                    Syncing run <strong><a href=\"https://wandb.ai/awiedenroth/Oesch8_nur_averages/runs/f28fk07o\" target=\"_blank\">lyric-waterfall-3</a></strong> to <a href=\"https://wandb.ai/awiedenroth/Oesch8_nur_averages\" target=\"_blank\">Weights & Biases</a> (<a href=\"https://docs.wandb.com/integrations/jupyter.html\" target=\"_blank\">docs</a>).<br/>\n",
       "\n",
       "                "
      ],
      "text/plain": [
       "<IPython.core.display.HTML object>"
      ]
     },
     "metadata": {},
     "output_type": "display_data"
    },
    {
     "data": {
      "text/html": [
       "<br/>Waiting for W&B process to finish, PID 23104... <strong style=\"color:green\">(success).</strong>"
      ],
      "text/plain": [
       "<IPython.core.display.HTML object>"
      ]
     },
     "metadata": {},
     "output_type": "display_data"
    },
    {
     "data": {
      "application/vnd.jupyter.widget-view+json": {
       "model_id": "dc7a5c0f71224a50930f961026362f26",
       "version_major": 2,
       "version_minor": 0
      },
      "text/plain": [
       "VBox(children=(Label(value=' 0.00MB of 0.00MB uploaded (0.00MB deduped)\\r'), FloatProgress(value=1.0, max=1.0)…"
      ]
     },
     "metadata": {},
     "output_type": "display_data"
    },
    {
     "data": {
      "text/html": [
       "<style>\n",
       "    table.wandb td:nth-child(1) { padding: 0 10px; text-align: right }\n",
       "    .wandb-row { display: flex; flex-direction: row; flex-wrap: wrap; width: 100% }\n",
       "    .wandb-col { display: flex; flex-direction: column; flex-basis: 100%; flex: 1; padding: 10px; }\n",
       "    </style>\n",
       "<div class=\"wandb-row\"><div class=\"wandb-col\">\n",
       "<h3>Run history:</h3><br/><table class=\"wandb\"><tr><td>average.fasttext validation accuracy</td><td>▁</td></tr><tr><td>average.fasttext validation balanced acc</td><td>▁</td></tr><tr><td>average.fasttext validation balanced adjusted accuracy</td><td>▁</td></tr></table><br/></div><div class=\"wandb-col\">\n",
       "<h3>Run summary:</h3><br/><table class=\"wandb\"><tr><td>average.fasttext validation accuracy</td><td>0.82561</td></tr><tr><td>average.fasttext validation balanced acc</td><td>0.76729</td></tr><tr><td>average.fasttext validation balanced adjusted accuracy</td><td>0.53459</td></tr></table>\n",
       "</div></div>\n",
       "Synced 4 W&B file(s), 0 media file(s), 0 artifact file(s) and 0 other file(s)\n",
       "<br/>Synced <strong style=\"color:#cdcd00\">lyric-waterfall-3</strong>: <a href=\"https://wandb.ai/awiedenroth/Oesch8_nur_averages/runs/f28fk07o\" target=\"_blank\">https://wandb.ai/awiedenroth/Oesch8_nur_averages/runs/f28fk07o</a><br/>\n",
       "Find logs at: <code>.\\wandb\\run-20220416_101844-f28fk07o\\logs</code><br/>\n"
      ],
      "text/plain": [
       "<IPython.core.display.HTML object>"
      ]
     },
     "metadata": {},
     "output_type": "display_data"
    },
    {
     "name": "stderr",
     "output_type": "stream",
     "text": [
      "wandb: wandb version 0.12.14 is available!  To upgrade, please run:\n",
      "wandb:  $ pip install wandb --upgrade\n"
     ]
    },
    {
     "data": {
      "text/html": [
       "\n",
       "                    Syncing run <strong><a href=\"https://wandb.ai/awiedenroth/Oesch8_nur_averages/runs/1gz3sfba\" target=\"_blank\">dark-haze-4</a></strong> to <a href=\"https://wandb.ai/awiedenroth/Oesch8_nur_averages\" target=\"_blank\">Weights & Biases</a> (<a href=\"https://docs.wandb.com/integrations/jupyter.html\" target=\"_blank\">docs</a>).<br/>\n",
       "\n",
       "                "
      ],
      "text/plain": [
       "<IPython.core.display.HTML object>"
      ]
     },
     "metadata": {},
     "output_type": "display_data"
    },
    {
     "data": {
      "text/html": [
       "<br/>Waiting for W&B process to finish, PID 16708... <strong style=\"color:green\">(success).</strong>"
      ],
      "text/plain": [
       "<IPython.core.display.HTML object>"
      ]
     },
     "metadata": {},
     "output_type": "display_data"
    },
    {
     "data": {
      "application/vnd.jupyter.widget-view+json": {
       "model_id": "7773a556943c42bab9bed3b7a30e7578",
       "version_major": 2,
       "version_minor": 0
      },
      "text/plain": [
       "VBox(children=(Label(value=' 0.00MB of 0.00MB uploaded (0.00MB deduped)\\r'), FloatProgress(value=1.0, max=1.0)…"
      ]
     },
     "metadata": {},
     "output_type": "display_data"
    },
    {
     "data": {
      "text/html": [
       "<style>\n",
       "    table.wandb td:nth-child(1) { padding: 0 10px; text-align: right }\n",
       "    .wandb-row { display: flex; flex-direction: row; flex-wrap: wrap; width: 100% }\n",
       "    .wandb-col { display: flex; flex-direction: column; flex-basis: 100%; flex: 1; padding: 10px; }\n",
       "    </style>\n",
       "<div class=\"wandb-row\"><div class=\"wandb-col\">\n",
       "<h3>Run history:</h3><br/><table class=\"wandb\"><tr><td>average.fasttext validation accuracy</td><td>▁</td></tr><tr><td>average.fasttext validation balanced acc</td><td>▁</td></tr><tr><td>average.fasttext validation balanced adjusted accuracy</td><td>▁</td></tr></table><br/></div><div class=\"wandb-col\">\n",
       "<h3>Run summary:</h3><br/><table class=\"wandb\"><tr><td>average.fasttext validation accuracy</td><td>0.8286</td></tr><tr><td>average.fasttext validation balanced acc</td><td>0.77174</td></tr><tr><td>average.fasttext validation balanced adjusted accuracy</td><td>0.54348</td></tr></table>\n",
       "</div></div>\n",
       "Synced 4 W&B file(s), 0 media file(s), 0 artifact file(s) and 0 other file(s)\n",
       "<br/>Synced <strong style=\"color:#cdcd00\">dark-haze-4</strong>: <a href=\"https://wandb.ai/awiedenroth/Oesch8_nur_averages/runs/1gz3sfba\" target=\"_blank\">https://wandb.ai/awiedenroth/Oesch8_nur_averages/runs/1gz3sfba</a><br/>\n",
       "Find logs at: <code>.\\wandb\\run-20220416_101859-1gz3sfba\\logs</code><br/>\n"
      ],
      "text/plain": [
       "<IPython.core.display.HTML object>"
      ]
     },
     "metadata": {},
     "output_type": "display_data"
    },
    {
     "name": "stderr",
     "output_type": "stream",
     "text": [
      "wandb: wandb version 0.12.14 is available!  To upgrade, please run:\n",
      "wandb:  $ pip install wandb --upgrade\n"
     ]
    },
    {
     "data": {
      "text/html": [
       "\n",
       "                    Syncing run <strong><a href=\"https://wandb.ai/awiedenroth/Oesch8_nur_averages/runs/hzam5rqb\" target=\"_blank\">misunderstood-frost-5</a></strong> to <a href=\"https://wandb.ai/awiedenroth/Oesch8_nur_averages\" target=\"_blank\">Weights & Biases</a> (<a href=\"https://docs.wandb.com/integrations/jupyter.html\" target=\"_blank\">docs</a>).<br/>\n",
       "\n",
       "                "
      ],
      "text/plain": [
       "<IPython.core.display.HTML object>"
      ]
     },
     "metadata": {},
     "output_type": "display_data"
    },
    {
     "data": {
      "text/html": [
       "<br/>Waiting for W&B process to finish, PID 8172... <strong style=\"color:green\">(success).</strong>"
      ],
      "text/plain": [
       "<IPython.core.display.HTML object>"
      ]
     },
     "metadata": {},
     "output_type": "display_data"
    },
    {
     "data": {
      "application/vnd.jupyter.widget-view+json": {
       "model_id": "24a1c81fafe345ee954211a41b37435e",
       "version_major": 2,
       "version_minor": 0
      },
      "text/plain": [
       "VBox(children=(Label(value=' 0.00MB of 0.00MB uploaded (0.00MB deduped)\\r'), FloatProgress(value=1.0, max=1.0)…"
      ]
     },
     "metadata": {},
     "output_type": "display_data"
    },
    {
     "data": {
      "text/html": [
       "<style>\n",
       "    table.wandb td:nth-child(1) { padding: 0 10px; text-align: right }\n",
       "    .wandb-row { display: flex; flex-direction: row; flex-wrap: wrap; width: 100% }\n",
       "    .wandb-col { display: flex; flex-direction: column; flex-basis: 100%; flex: 1; padding: 10px; }\n",
       "    </style>\n",
       "<div class=\"wandb-row\"><div class=\"wandb-col\">\n",
       "<h3>Run history:</h3><br/><table class=\"wandb\"><tr><td>average.fasttext validation accuracy</td><td>▁</td></tr><tr><td>average.fasttext validation balanced acc</td><td>▁</td></tr><tr><td>average.fasttext validation balanced adjusted accuracy</td><td>▁</td></tr></table><br/></div><div class=\"wandb-col\">\n",
       "<h3>Run summary:</h3><br/><table class=\"wandb\"><tr><td>average.fasttext validation accuracy</td><td>0.83052</td></tr><tr><td>average.fasttext validation balanced acc</td><td>0.76961</td></tr><tr><td>average.fasttext validation balanced adjusted accuracy</td><td>0.53922</td></tr></table>\n",
       "</div></div>\n",
       "Synced 4 W&B file(s), 0 media file(s), 0 artifact file(s) and 0 other file(s)\n",
       "<br/>Synced <strong style=\"color:#cdcd00\">misunderstood-frost-5</strong>: <a href=\"https://wandb.ai/awiedenroth/Oesch8_nur_averages/runs/hzam5rqb\" target=\"_blank\">https://wandb.ai/awiedenroth/Oesch8_nur_averages/runs/hzam5rqb</a><br/>\n",
       "Find logs at: <code>.\\wandb\\run-20220416_101914-hzam5rqb\\logs</code><br/>\n"
      ],
      "text/plain": [
       "<IPython.core.display.HTML object>"
      ]
     },
     "metadata": {},
     "output_type": "display_data"
    },
    {
     "name": "stderr",
     "output_type": "stream",
     "text": [
      "wandb: wandb version 0.12.14 is available!  To upgrade, please run:\n",
      "wandb:  $ pip install wandb --upgrade\n"
     ]
    },
    {
     "data": {
      "text/html": [
       "\n",
       "                    Syncing run <strong><a href=\"https://wandb.ai/awiedenroth/Oesch8_nur_averages/runs/z7ms1mtt\" target=\"_blank\">likely-cloud-6</a></strong> to <a href=\"https://wandb.ai/awiedenroth/Oesch8_nur_averages\" target=\"_blank\">Weights & Biases</a> (<a href=\"https://docs.wandb.com/integrations/jupyter.html\" target=\"_blank\">docs</a>).<br/>\n",
       "\n",
       "                "
      ],
      "text/plain": [
       "<IPython.core.display.HTML object>"
      ]
     },
     "metadata": {},
     "output_type": "display_data"
    },
    {
     "data": {
      "text/html": [
       "<br/>Waiting for W&B process to finish, PID 5308... <strong style=\"color:green\">(success).</strong>"
      ],
      "text/plain": [
       "<IPython.core.display.HTML object>"
      ]
     },
     "metadata": {},
     "output_type": "display_data"
    },
    {
     "data": {
      "application/vnd.jupyter.widget-view+json": {
       "model_id": "a95cbe84d1ee4d7fbb8cac16c6985bd3",
       "version_major": 2,
       "version_minor": 0
      },
      "text/plain": [
       "VBox(children=(Label(value=' 0.00MB of 0.00MB uploaded (0.00MB deduped)\\r'), FloatProgress(value=1.0, max=1.0)…"
      ]
     },
     "metadata": {},
     "output_type": "display_data"
    },
    {
     "data": {
      "text/html": [
       "<style>\n",
       "    table.wandb td:nth-child(1) { padding: 0 10px; text-align: right }\n",
       "    .wandb-row { display: flex; flex-direction: row; flex-wrap: wrap; width: 100% }\n",
       "    .wandb-col { display: flex; flex-direction: column; flex-basis: 100%; flex: 1; padding: 10px; }\n",
       "    </style>\n",
       "<div class=\"wandb-row\"><div class=\"wandb-col\">\n",
       "<h3>Run history:</h3><br/><table class=\"wandb\"><tr><td>average.fasttext validation accuracy</td><td>▁</td></tr><tr><td>average.fasttext validation balanced acc</td><td>▁</td></tr><tr><td>average.fasttext validation balanced adjusted accuracy</td><td>▁</td></tr></table><br/></div><div class=\"wandb-col\">\n",
       "<h3>Run summary:</h3><br/><table class=\"wandb\"><tr><td>average.fasttext validation accuracy</td><td>0.83349</td></tr><tr><td>average.fasttext validation balanced acc</td><td>0.78082</td></tr><tr><td>average.fasttext validation balanced adjusted accuracy</td><td>0.56164</td></tr></table>\n",
       "</div></div>\n",
       "Synced 4 W&B file(s), 0 media file(s), 0 artifact file(s) and 0 other file(s)\n",
       "<br/>Synced <strong style=\"color:#cdcd00\">likely-cloud-6</strong>: <a href=\"https://wandb.ai/awiedenroth/Oesch8_nur_averages/runs/z7ms1mtt\" target=\"_blank\">https://wandb.ai/awiedenroth/Oesch8_nur_averages/runs/z7ms1mtt</a><br/>\n",
       "Find logs at: <code>.\\wandb\\run-20220416_101930-z7ms1mtt\\logs</code><br/>\n"
      ],
      "text/plain": [
       "<IPython.core.display.HTML object>"
      ]
     },
     "metadata": {},
     "output_type": "display_data"
    },
    {
     "name": "stderr",
     "output_type": "stream",
     "text": [
      "wandb: wandb version 0.12.14 is available!  To upgrade, please run:\n",
      "wandb:  $ pip install wandb --upgrade\n"
     ]
    },
    {
     "data": {
      "text/html": [
       "\n",
       "                    Syncing run <strong><a href=\"https://wandb.ai/awiedenroth/Oesch8_nur_averages/runs/3o0sw619\" target=\"_blank\">flowing-darkness-7</a></strong> to <a href=\"https://wandb.ai/awiedenroth/Oesch8_nur_averages\" target=\"_blank\">Weights & Biases</a> (<a href=\"https://docs.wandb.com/integrations/jupyter.html\" target=\"_blank\">docs</a>).<br/>\n",
       "\n",
       "                "
      ],
      "text/plain": [
       "<IPython.core.display.HTML object>"
      ]
     },
     "metadata": {},
     "output_type": "display_data"
    },
    {
     "data": {
      "text/html": [
       "<br/>Waiting for W&B process to finish, PID 22500... <strong style=\"color:green\">(success).</strong>"
      ],
      "text/plain": [
       "<IPython.core.display.HTML object>"
      ]
     },
     "metadata": {},
     "output_type": "display_data"
    },
    {
     "data": {
      "application/vnd.jupyter.widget-view+json": {
       "model_id": "68e6bf73a8f34bc4bbe4cd310d09993d",
       "version_major": 2,
       "version_minor": 0
      },
      "text/plain": [
       "VBox(children=(Label(value=' 0.00MB of 0.00MB uploaded (0.00MB deduped)\\r'), FloatProgress(value=1.0, max=1.0)…"
      ]
     },
     "metadata": {},
     "output_type": "display_data"
    },
    {
     "data": {
      "text/html": [
       "<style>\n",
       "    table.wandb td:nth-child(1) { padding: 0 10px; text-align: right }\n",
       "    .wandb-row { display: flex; flex-direction: row; flex-wrap: wrap; width: 100% }\n",
       "    .wandb-col { display: flex; flex-direction: column; flex-basis: 100%; flex: 1; padding: 10px; }\n",
       "    </style>\n",
       "<div class=\"wandb-row\"><div class=\"wandb-col\">\n",
       "<h3>Run history:</h3><br/><table class=\"wandb\"><tr><td>average.fasttext validation accuracy</td><td>▁</td></tr><tr><td>average.fasttext validation balanced acc</td><td>▁</td></tr><tr><td>average.fasttext validation balanced adjusted accuracy</td><td>▁</td></tr></table><br/></div><div class=\"wandb-col\">\n",
       "<h3>Run summary:</h3><br/><table class=\"wandb\"><tr><td>average.fasttext validation accuracy</td><td>0.83152</td></tr><tr><td>average.fasttext validation balanced acc</td><td>0.7724</td></tr><tr><td>average.fasttext validation balanced adjusted accuracy</td><td>0.5448</td></tr></table>\n",
       "</div></div>\n",
       "Synced 4 W&B file(s), 0 media file(s), 0 artifact file(s) and 0 other file(s)\n",
       "<br/>Synced <strong style=\"color:#cdcd00\">flowing-darkness-7</strong>: <a href=\"https://wandb.ai/awiedenroth/Oesch8_nur_averages/runs/3o0sw619\" target=\"_blank\">https://wandb.ai/awiedenroth/Oesch8_nur_averages/runs/3o0sw619</a><br/>\n",
       "Find logs at: <code>.\\wandb\\run-20220416_101946-3o0sw619\\logs</code><br/>\n"
      ],
      "text/plain": [
       "<IPython.core.display.HTML object>"
      ]
     },
     "metadata": {},
     "output_type": "display_data"
    },
    {
     "name": "stderr",
     "output_type": "stream",
     "text": [
      "wandb: wandb version 0.12.14 is available!  To upgrade, please run:\n",
      "wandb:  $ pip install wandb --upgrade\n"
     ]
    },
    {
     "data": {
      "text/html": [
       "\n",
       "                    Syncing run <strong><a href=\"https://wandb.ai/awiedenroth/Oesch8_nur_averages/runs/2x3r1wfz\" target=\"_blank\">zesty-forest-8</a></strong> to <a href=\"https://wandb.ai/awiedenroth/Oesch8_nur_averages\" target=\"_blank\">Weights & Biases</a> (<a href=\"https://docs.wandb.com/integrations/jupyter.html\" target=\"_blank\">docs</a>).<br/>\n",
       "\n",
       "                "
      ],
      "text/plain": [
       "<IPython.core.display.HTML object>"
      ]
     },
     "metadata": {},
     "output_type": "display_data"
    },
    {
     "data": {
      "text/html": [
       "<br/>Waiting for W&B process to finish, PID 16348... <strong style=\"color:green\">(success).</strong>"
      ],
      "text/plain": [
       "<IPython.core.display.HTML object>"
      ]
     },
     "metadata": {},
     "output_type": "display_data"
    },
    {
     "data": {
      "application/vnd.jupyter.widget-view+json": {
       "model_id": "c3c37c353e3645489f7f427d642d3805",
       "version_major": 2,
       "version_minor": 0
      },
      "text/plain": [
       "VBox(children=(Label(value=' 0.00MB of 0.00MB uploaded (0.00MB deduped)\\r'), FloatProgress(value=1.0, max=1.0)…"
      ]
     },
     "metadata": {},
     "output_type": "display_data"
    },
    {
     "data": {
      "text/html": [
       "<style>\n",
       "    table.wandb td:nth-child(1) { padding: 0 10px; text-align: right }\n",
       "    .wandb-row { display: flex; flex-direction: row; flex-wrap: wrap; width: 100% }\n",
       "    .wandb-col { display: flex; flex-direction: column; flex-basis: 100%; flex: 1; padding: 10px; }\n",
       "    </style>\n",
       "<div class=\"wandb-row\"><div class=\"wandb-col\">\n",
       "<h3>Run history:</h3><br/><table class=\"wandb\"><tr><td>average.fasttext validation accuracy</td><td>▁</td></tr><tr><td>average.fasttext validation balanced acc</td><td>▁</td></tr><tr><td>average.fasttext validation balanced adjusted accuracy</td><td>▁</td></tr></table><br/></div><div class=\"wandb-col\">\n",
       "<h3>Run summary:</h3><br/><table class=\"wandb\"><tr><td>average.fasttext validation accuracy</td><td>0.83219</td></tr><tr><td>average.fasttext validation balanced acc</td><td>0.77894</td></tr><tr><td>average.fasttext validation balanced adjusted accuracy</td><td>0.55788</td></tr></table>\n",
       "</div></div>\n",
       "Synced 4 W&B file(s), 0 media file(s), 0 artifact file(s) and 0 other file(s)\n",
       "<br/>Synced <strong style=\"color:#cdcd00\">zesty-forest-8</strong>: <a href=\"https://wandb.ai/awiedenroth/Oesch8_nur_averages/runs/2x3r1wfz\" target=\"_blank\">https://wandb.ai/awiedenroth/Oesch8_nur_averages/runs/2x3r1wfz</a><br/>\n",
       "Find logs at: <code>.\\wandb\\run-20220416_102002-2x3r1wfz\\logs</code><br/>\n"
      ],
      "text/plain": [
       "<IPython.core.display.HTML object>"
      ]
     },
     "metadata": {},
     "output_type": "display_data"
    },
    {
     "name": "stderr",
     "output_type": "stream",
     "text": [
      "wandb: wandb version 0.12.14 is available!  To upgrade, please run:\n",
      "wandb:  $ pip install wandb --upgrade\n"
     ]
    },
    {
     "data": {
      "text/html": [
       "\n",
       "                    Syncing run <strong><a href=\"https://wandb.ai/awiedenroth/Oesch8_nur_averages/runs/1wi8gvym\" target=\"_blank\">lucky-snowflake-9</a></strong> to <a href=\"https://wandb.ai/awiedenroth/Oesch8_nur_averages\" target=\"_blank\">Weights & Biases</a> (<a href=\"https://docs.wandb.com/integrations/jupyter.html\" target=\"_blank\">docs</a>).<br/>\n",
       "\n",
       "                "
      ],
      "text/plain": [
       "<IPython.core.display.HTML object>"
      ]
     },
     "metadata": {},
     "output_type": "display_data"
    },
    {
     "data": {
      "text/html": [
       "<br/>Waiting for W&B process to finish, PID 5920... <strong style=\"color:green\">(success).</strong>"
      ],
      "text/plain": [
       "<IPython.core.display.HTML object>"
      ]
     },
     "metadata": {},
     "output_type": "display_data"
    },
    {
     "data": {
      "application/vnd.jupyter.widget-view+json": {
       "model_id": "c139eabac1fd46a2863d1b8e08926c1d",
       "version_major": 2,
       "version_minor": 0
      },
      "text/plain": [
       "VBox(children=(Label(value=' 0.00MB of 0.00MB uploaded (0.00MB deduped)\\r'), FloatProgress(value=1.0, max=1.0)…"
      ]
     },
     "metadata": {},
     "output_type": "display_data"
    },
    {
     "data": {
      "text/html": [
       "<style>\n",
       "    table.wandb td:nth-child(1) { padding: 0 10px; text-align: right }\n",
       "    .wandb-row { display: flex; flex-direction: row; flex-wrap: wrap; width: 100% }\n",
       "    .wandb-col { display: flex; flex-direction: column; flex-basis: 100%; flex: 1; padding: 10px; }\n",
       "    </style>\n",
       "<div class=\"wandb-row\"><div class=\"wandb-col\">\n",
       "<h3>Run history:</h3><br/><table class=\"wandb\"><tr><td>average.fasttext validation accuracy</td><td>▁</td></tr><tr><td>average.fasttext validation balanced acc</td><td>▁</td></tr><tr><td>average.fasttext validation balanced adjusted accuracy</td><td>▁</td></tr></table><br/></div><div class=\"wandb-col\">\n",
       "<h3>Run summary:</h3><br/><table class=\"wandb\"><tr><td>average.fasttext validation accuracy</td><td>0.83449</td></tr><tr><td>average.fasttext validation balanced acc</td><td>0.7783</td></tr><tr><td>average.fasttext validation balanced adjusted accuracy</td><td>0.55661</td></tr></table>\n",
       "</div></div>\n",
       "Synced 4 W&B file(s), 0 media file(s), 0 artifact file(s) and 0 other file(s)\n",
       "<br/>Synced <strong style=\"color:#cdcd00\">lucky-snowflake-9</strong>: <a href=\"https://wandb.ai/awiedenroth/Oesch8_nur_averages/runs/1wi8gvym\" target=\"_blank\">https://wandb.ai/awiedenroth/Oesch8_nur_averages/runs/1wi8gvym</a><br/>\n",
       "Find logs at: <code>.\\wandb\\run-20220416_102017-1wi8gvym\\logs</code><br/>\n"
      ],
      "text/plain": [
       "<IPython.core.display.HTML object>"
      ]
     },
     "metadata": {},
     "output_type": "display_data"
    },
    {
     "name": "stderr",
     "output_type": "stream",
     "text": [
      "wandb: wandb version 0.12.14 is available!  To upgrade, please run:\n",
      "wandb:  $ pip install wandb --upgrade\n"
     ]
    },
    {
     "data": {
      "text/html": [
       "\n",
       "                    Syncing run <strong><a href=\"https://wandb.ai/awiedenroth/Oesch8_nur_averages/runs/3iwlj3x9\" target=\"_blank\">clean-sunset-10</a></strong> to <a href=\"https://wandb.ai/awiedenroth/Oesch8_nur_averages\" target=\"_blank\">Weights & Biases</a> (<a href=\"https://docs.wandb.com/integrations/jupyter.html\" target=\"_blank\">docs</a>).<br/>\n",
       "\n",
       "                "
      ],
      "text/plain": [
       "<IPython.core.display.HTML object>"
      ]
     },
     "metadata": {},
     "output_type": "display_data"
    },
    {
     "data": {
      "text/html": [
       "<br/>Waiting for W&B process to finish, PID 23172... <strong style=\"color:green\">(success).</strong>"
      ],
      "text/plain": [
       "<IPython.core.display.HTML object>"
      ]
     },
     "metadata": {},
     "output_type": "display_data"
    },
    {
     "data": {
      "application/vnd.jupyter.widget-view+json": {
       "model_id": "459bd0fb5f5c48de89550537affce6f4",
       "version_major": 2,
       "version_minor": 0
      },
      "text/plain": [
       "VBox(children=(Label(value=' 0.00MB of 0.00MB uploaded (0.00MB deduped)\\r'), FloatProgress(value=1.0, max=1.0)…"
      ]
     },
     "metadata": {},
     "output_type": "display_data"
    },
    {
     "data": {
      "text/html": [
       "<style>\n",
       "    table.wandb td:nth-child(1) { padding: 0 10px; text-align: right }\n",
       "    .wandb-row { display: flex; flex-direction: row; flex-wrap: wrap; width: 100% }\n",
       "    .wandb-col { display: flex; flex-direction: column; flex-basis: 100%; flex: 1; padding: 10px; }\n",
       "    </style>\n",
       "<div class=\"wandb-row\"><div class=\"wandb-col\">\n",
       "<h3>Run history:</h3><br/><table class=\"wandb\"><tr><td>average.fasttext validation accuracy</td><td>▁</td></tr><tr><td>average.fasttext validation balanced acc</td><td>▁</td></tr><tr><td>average.fasttext validation balanced adjusted accuracy</td><td>▁</td></tr></table><br/></div><div class=\"wandb-col\">\n",
       "<h3>Run summary:</h3><br/><table class=\"wandb\"><tr><td>average.fasttext validation accuracy</td><td>0.83416</td></tr><tr><td>average.fasttext validation balanced acc</td><td>0.77819</td></tr><tr><td>average.fasttext validation balanced adjusted accuracy</td><td>0.55638</td></tr></table>\n",
       "</div></div>\n",
       "Synced 4 W&B file(s), 0 media file(s), 0 artifact file(s) and 0 other file(s)\n",
       "<br/>Synced <strong style=\"color:#cdcd00\">clean-sunset-10</strong>: <a href=\"https://wandb.ai/awiedenroth/Oesch8_nur_averages/runs/3iwlj3x9\" target=\"_blank\">https://wandb.ai/awiedenroth/Oesch8_nur_averages/runs/3iwlj3x9</a><br/>\n",
       "Find logs at: <code>.\\wandb\\run-20220416_102032-3iwlj3x9\\logs</code><br/>\n"
      ],
      "text/plain": [
       "<IPython.core.display.HTML object>"
      ]
     },
     "metadata": {},
     "output_type": "display_data"
    },
    {
     "name": "stderr",
     "output_type": "stream",
     "text": [
      "wandb: wandb version 0.12.14 is available!  To upgrade, please run:\n",
      "wandb:  $ pip install wandb --upgrade\n"
     ]
    },
    {
     "data": {
      "text/html": [
       "\n",
       "                    Syncing run <strong><a href=\"https://wandb.ai/awiedenroth/Oesch8_nur_averages/runs/1idz8qf7\" target=\"_blank\">snowy-lion-11</a></strong> to <a href=\"https://wandb.ai/awiedenroth/Oesch8_nur_averages\" target=\"_blank\">Weights & Biases</a> (<a href=\"https://docs.wandb.com/integrations/jupyter.html\" target=\"_blank\">docs</a>).<br/>\n",
       "\n",
       "                "
      ],
      "text/plain": [
       "<IPython.core.display.HTML object>"
      ]
     },
     "metadata": {},
     "output_type": "display_data"
    },
    {
     "data": {
      "text/html": [
       "<br/>Waiting for W&B process to finish, PID 20528... <strong style=\"color:green\">(success).</strong>"
      ],
      "text/plain": [
       "<IPython.core.display.HTML object>"
      ]
     },
     "metadata": {},
     "output_type": "display_data"
    },
    {
     "data": {
      "application/vnd.jupyter.widget-view+json": {
       "model_id": "cbdc4f16084841beac33644a7070d6ab",
       "version_major": 2,
       "version_minor": 0
      },
      "text/plain": [
       "VBox(children=(Label(value=' 0.00MB of 0.00MB uploaded (0.00MB deduped)\\r'), FloatProgress(value=1.0, max=1.0)…"
      ]
     },
     "metadata": {},
     "output_type": "display_data"
    },
    {
     "data": {
      "text/html": [
       "<style>\n",
       "    table.wandb td:nth-child(1) { padding: 0 10px; text-align: right }\n",
       "    .wandb-row { display: flex; flex-direction: row; flex-wrap: wrap; width: 100% }\n",
       "    .wandb-col { display: flex; flex-direction: column; flex-basis: 100%; flex: 1; padding: 10px; }\n",
       "    </style>\n",
       "<div class=\"wandb-row\"><div class=\"wandb-col\">\n",
       "<h3>Run history:</h3><br/><table class=\"wandb\"><tr><td>average.fasttext validation accuracy</td><td>▁</td></tr><tr><td>average.fasttext validation balanced acc</td><td>▁</td></tr><tr><td>average.fasttext validation balanced adjusted accuracy</td><td>▁</td></tr></table><br/></div><div class=\"wandb-col\">\n",
       "<h3>Run summary:</h3><br/><table class=\"wandb\"><tr><td>average.fasttext validation accuracy</td><td>0.83612</td></tr><tr><td>average.fasttext validation balanced acc</td><td>0.78594</td></tr><tr><td>average.fasttext validation balanced adjusted accuracy</td><td>0.57188</td></tr></table>\n",
       "</div></div>\n",
       "Synced 4 W&B file(s), 0 media file(s), 0 artifact file(s) and 0 other file(s)\n",
       "<br/>Synced <strong style=\"color:#cdcd00\">snowy-lion-11</strong>: <a href=\"https://wandb.ai/awiedenroth/Oesch8_nur_averages/runs/1idz8qf7\" target=\"_blank\">https://wandb.ai/awiedenroth/Oesch8_nur_averages/runs/1idz8qf7</a><br/>\n",
       "Find logs at: <code>.\\wandb\\run-20220416_102047-1idz8qf7\\logs</code><br/>\n"
      ],
      "text/plain": [
       "<IPython.core.display.HTML object>"
      ]
     },
     "metadata": {},
     "output_type": "display_data"
    },
    {
     "name": "stderr",
     "output_type": "stream",
     "text": [
      "wandb: wandb version 0.12.14 is available!  To upgrade, please run:\n",
      "wandb:  $ pip install wandb --upgrade\n"
     ]
    },
    {
     "data": {
      "text/html": [
       "\n",
       "                    Syncing run <strong><a href=\"https://wandb.ai/awiedenroth/Oesch8_nur_averages/runs/1eek2hqv\" target=\"_blank\">generous-wave-12</a></strong> to <a href=\"https://wandb.ai/awiedenroth/Oesch8_nur_averages\" target=\"_blank\">Weights & Biases</a> (<a href=\"https://docs.wandb.com/integrations/jupyter.html\" target=\"_blank\">docs</a>).<br/>\n",
       "\n",
       "                "
      ],
      "text/plain": [
       "<IPython.core.display.HTML object>"
      ]
     },
     "metadata": {},
     "output_type": "display_data"
    },
    {
     "data": {
      "text/html": [
       "<br/>Waiting for W&B process to finish, PID 20988... <strong style=\"color:green\">(success).</strong>"
      ],
      "text/plain": [
       "<IPython.core.display.HTML object>"
      ]
     },
     "metadata": {},
     "output_type": "display_data"
    },
    {
     "data": {
      "application/vnd.jupyter.widget-view+json": {
       "model_id": "c1e7fc5654e9452b80081230c2e9c1bd",
       "version_major": 2,
       "version_minor": 0
      },
      "text/plain": [
       "VBox(children=(Label(value=' 0.00MB of 0.00MB uploaded (0.00MB deduped)\\r'), FloatProgress(value=1.0, max=1.0)…"
      ]
     },
     "metadata": {},
     "output_type": "display_data"
    },
    {
     "data": {
      "text/html": [
       "<style>\n",
       "    table.wandb td:nth-child(1) { padding: 0 10px; text-align: right }\n",
       "    .wandb-row { display: flex; flex-direction: row; flex-wrap: wrap; width: 100% }\n",
       "    .wandb-col { display: flex; flex-direction: column; flex-basis: 100%; flex: 1; padding: 10px; }\n",
       "    </style>\n",
       "<div class=\"wandb-row\"><div class=\"wandb-col\">\n",
       "<h3>Run history:</h3><br/><table class=\"wandb\"><tr><td>average.fasttext validation accuracy</td><td>▁</td></tr><tr><td>average.fasttext validation balanced acc</td><td>▁</td></tr><tr><td>average.fasttext validation balanced adjusted accuracy</td><td>▁</td></tr></table><br/></div><div class=\"wandb-col\">\n",
       "<h3>Run summary:</h3><br/><table class=\"wandb\"><tr><td>average.fasttext validation accuracy</td><td>0.83381</td></tr><tr><td>average.fasttext validation balanced acc</td><td>0.77924</td></tr><tr><td>average.fasttext validation balanced adjusted accuracy</td><td>0.55848</td></tr></table>\n",
       "</div></div>\n",
       "Synced 4 W&B file(s), 0 media file(s), 0 artifact file(s) and 0 other file(s)\n",
       "<br/>Synced <strong style=\"color:#cdcd00\">generous-wave-12</strong>: <a href=\"https://wandb.ai/awiedenroth/Oesch8_nur_averages/runs/1eek2hqv\" target=\"_blank\">https://wandb.ai/awiedenroth/Oesch8_nur_averages/runs/1eek2hqv</a><br/>\n",
       "Find logs at: <code>.\\wandb\\run-20220416_102102-1eek2hqv\\logs</code><br/>\n"
      ],
      "text/plain": [
       "<IPython.core.display.HTML object>"
      ]
     },
     "metadata": {},
     "output_type": "display_data"
    },
    {
     "name": "stderr",
     "output_type": "stream",
     "text": [
      "wandb: wandb version 0.12.14 is available!  To upgrade, please run:\n",
      "wandb:  $ pip install wandb --upgrade\n"
     ]
    },
    {
     "data": {
      "text/html": [
       "\n",
       "                    Syncing run <strong><a href=\"https://wandb.ai/awiedenroth/Oesch8_nur_averages/runs/1tpb9xkp\" target=\"_blank\">breezy-pine-13</a></strong> to <a href=\"https://wandb.ai/awiedenroth/Oesch8_nur_averages\" target=\"_blank\">Weights & Biases</a> (<a href=\"https://docs.wandb.com/integrations/jupyter.html\" target=\"_blank\">docs</a>).<br/>\n",
       "\n",
       "                "
      ],
      "text/plain": [
       "<IPython.core.display.HTML object>"
      ]
     },
     "metadata": {},
     "output_type": "display_data"
    },
    {
     "data": {
      "text/html": [
       "<br/>Waiting for W&B process to finish, PID 21580... <strong style=\"color:green\">(success).</strong>"
      ],
      "text/plain": [
       "<IPython.core.display.HTML object>"
      ]
     },
     "metadata": {},
     "output_type": "display_data"
    },
    {
     "data": {
      "application/vnd.jupyter.widget-view+json": {
       "model_id": "da4833dd2295415291df3df208bae9e1",
       "version_major": 2,
       "version_minor": 0
      },
      "text/plain": [
       "VBox(children=(Label(value=' 0.00MB of 0.00MB uploaded (0.00MB deduped)\\r'), FloatProgress(value=1.0, max=1.0)…"
      ]
     },
     "metadata": {},
     "output_type": "display_data"
    },
    {
     "data": {
      "text/html": [
       "<style>\n",
       "    table.wandb td:nth-child(1) { padding: 0 10px; text-align: right }\n",
       "    .wandb-row { display: flex; flex-direction: row; flex-wrap: wrap; width: 100% }\n",
       "    .wandb-col { display: flex; flex-direction: column; flex-basis: 100%; flex: 1; padding: 10px; }\n",
       "    </style>\n",
       "<div class=\"wandb-row\"><div class=\"wandb-col\">\n",
       "<h3>Run history:</h3><br/><table class=\"wandb\"><tr><td>average.fasttext validation accuracy</td><td>▁</td></tr><tr><td>average.fasttext validation balanced acc</td><td>▁</td></tr><tr><td>average.fasttext validation balanced adjusted accuracy</td><td>▁</td></tr></table><br/></div><div class=\"wandb-col\">\n",
       "<h3>Run summary:</h3><br/><table class=\"wandb\"><tr><td>average.fasttext validation accuracy</td><td>0.84174</td></tr><tr><td>average.fasttext validation balanced acc</td><td>0.78925</td></tr><tr><td>average.fasttext validation balanced adjusted accuracy</td><td>0.57851</td></tr></table>\n",
       "</div></div>\n",
       "Synced 4 W&B file(s), 0 media file(s), 0 artifact file(s) and 0 other file(s)\n",
       "<br/>Synced <strong style=\"color:#cdcd00\">breezy-pine-13</strong>: <a href=\"https://wandb.ai/awiedenroth/Oesch8_nur_averages/runs/1tpb9xkp\" target=\"_blank\">https://wandb.ai/awiedenroth/Oesch8_nur_averages/runs/1tpb9xkp</a><br/>\n",
       "Find logs at: <code>.\\wandb\\run-20220416_102117-1tpb9xkp\\logs</code><br/>\n"
      ],
      "text/plain": [
       "<IPython.core.display.HTML object>"
      ]
     },
     "metadata": {},
     "output_type": "display_data"
    },
    {
     "name": "stderr",
     "output_type": "stream",
     "text": [
      "wandb: wandb version 0.12.14 is available!  To upgrade, please run:\n",
      "wandb:  $ pip install wandb --upgrade\n"
     ]
    },
    {
     "data": {
      "text/html": [
       "\n",
       "                    Syncing run <strong><a href=\"https://wandb.ai/awiedenroth/Oesch8_nur_averages/runs/2aykc44o\" target=\"_blank\">visionary-cherry-14</a></strong> to <a href=\"https://wandb.ai/awiedenroth/Oesch8_nur_averages\" target=\"_blank\">Weights & Biases</a> (<a href=\"https://docs.wandb.com/integrations/jupyter.html\" target=\"_blank\">docs</a>).<br/>\n",
       "\n",
       "                "
      ],
      "text/plain": [
       "<IPython.core.display.HTML object>"
      ]
     },
     "metadata": {},
     "output_type": "display_data"
    },
    {
     "data": {
      "text/html": [
       "<br/>Waiting for W&B process to finish, PID 22864... <strong style=\"color:green\">(success).</strong>"
      ],
      "text/plain": [
       "<IPython.core.display.HTML object>"
      ]
     },
     "metadata": {},
     "output_type": "display_data"
    },
    {
     "data": {
      "application/vnd.jupyter.widget-view+json": {
       "model_id": "2bca56c834a646d3b4d94425da3383b1",
       "version_major": 2,
       "version_minor": 0
      },
      "text/plain": [
       "VBox(children=(Label(value=' 0.00MB of 0.00MB uploaded (0.00MB deduped)\\r'), FloatProgress(value=1.0, max=1.0)…"
      ]
     },
     "metadata": {},
     "output_type": "display_data"
    },
    {
     "data": {
      "text/html": [
       "<style>\n",
       "    table.wandb td:nth-child(1) { padding: 0 10px; text-align: right }\n",
       "    .wandb-row { display: flex; flex-direction: row; flex-wrap: wrap; width: 100% }\n",
       "    .wandb-col { display: flex; flex-direction: column; flex-basis: 100%; flex: 1; padding: 10px; }\n",
       "    </style>\n",
       "<div class=\"wandb-row\"><div class=\"wandb-col\">\n",
       "<h3>Run history:</h3><br/><table class=\"wandb\"><tr><td>average.fasttext validation accuracy</td><td>▁</td></tr><tr><td>average.fasttext validation balanced acc</td><td>▁</td></tr><tr><td>average.fasttext validation balanced adjusted accuracy</td><td>▁</td></tr></table><br/></div><div class=\"wandb-col\">\n",
       "<h3>Run summary:</h3><br/><table class=\"wandb\"><tr><td>average.fasttext validation accuracy</td><td>0.82921</td></tr><tr><td>average.fasttext validation balanced acc</td><td>0.76898</td></tr><tr><td>average.fasttext validation balanced adjusted accuracy</td><td>0.53797</td></tr></table>\n",
       "</div></div>\n",
       "Synced 4 W&B file(s), 0 media file(s), 0 artifact file(s) and 0 other file(s)\n",
       "<br/>Synced <strong style=\"color:#cdcd00\">visionary-cherry-14</strong>: <a href=\"https://wandb.ai/awiedenroth/Oesch8_nur_averages/runs/2aykc44o\" target=\"_blank\">https://wandb.ai/awiedenroth/Oesch8_nur_averages/runs/2aykc44o</a><br/>\n",
       "Find logs at: <code>.\\wandb\\run-20220416_102132-2aykc44o\\logs</code><br/>\n"
      ],
      "text/plain": [
       "<IPython.core.display.HTML object>"
      ]
     },
     "metadata": {},
     "output_type": "display_data"
    },
    {
     "name": "stderr",
     "output_type": "stream",
     "text": [
      "wandb: wandb version 0.12.14 is available!  To upgrade, please run:\n",
      "wandb:  $ pip install wandb --upgrade\n"
     ]
    },
    {
     "data": {
      "text/html": [
       "\n",
       "                    Syncing run <strong><a href=\"https://wandb.ai/awiedenroth/Oesch8_nur_averages/runs/2w6d2jdd\" target=\"_blank\">youthful-pond-15</a></strong> to <a href=\"https://wandb.ai/awiedenroth/Oesch8_nur_averages\" target=\"_blank\">Weights & Biases</a> (<a href=\"https://docs.wandb.com/integrations/jupyter.html\" target=\"_blank\">docs</a>).<br/>\n",
       "\n",
       "                "
      ],
      "text/plain": [
       "<IPython.core.display.HTML object>"
      ]
     },
     "metadata": {},
     "output_type": "display_data"
    },
    {
     "data": {
      "text/html": [
       "<br/>Waiting for W&B process to finish, PID 22032... <strong style=\"color:green\">(success).</strong>"
      ],
      "text/plain": [
       "<IPython.core.display.HTML object>"
      ]
     },
     "metadata": {},
     "output_type": "display_data"
    },
    {
     "data": {
      "application/vnd.jupyter.widget-view+json": {
       "model_id": "bce9ea2509cf4ebfa50b76fab43e13f6",
       "version_major": 2,
       "version_minor": 0
      },
      "text/plain": [
       "VBox(children=(Label(value=' 0.00MB of 0.00MB uploaded (0.00MB deduped)\\r'), FloatProgress(value=1.0, max=1.0)…"
      ]
     },
     "metadata": {},
     "output_type": "display_data"
    },
    {
     "data": {
      "text/html": [
       "<style>\n",
       "    table.wandb td:nth-child(1) { padding: 0 10px; text-align: right }\n",
       "    .wandb-row { display: flex; flex-direction: row; flex-wrap: wrap; width: 100% }\n",
       "    .wandb-col { display: flex; flex-direction: column; flex-basis: 100%; flex: 1; padding: 10px; }\n",
       "    </style>\n",
       "<div class=\"wandb-row\"><div class=\"wandb-col\">\n",
       "<h3>Run history:</h3><br/><table class=\"wandb\"><tr><td>average.fasttext validation accuracy</td><td>▁</td></tr><tr><td>average.fasttext validation balanced acc</td><td>▁</td></tr><tr><td>average.fasttext validation balanced adjusted accuracy</td><td>▁</td></tr></table><br/></div><div class=\"wandb-col\">\n",
       "<h3>Run summary:</h3><br/><table class=\"wandb\"><tr><td>average.fasttext validation accuracy</td><td>0.82857</td></tr><tr><td>average.fasttext validation balanced acc</td><td>0.7773</td></tr><tr><td>average.fasttext validation balanced adjusted accuracy</td><td>0.55461</td></tr></table>\n",
       "</div></div>\n",
       "Synced 4 W&B file(s), 0 media file(s), 0 artifact file(s) and 0 other file(s)\n",
       "<br/>Synced <strong style=\"color:#cdcd00\">youthful-pond-15</strong>: <a href=\"https://wandb.ai/awiedenroth/Oesch8_nur_averages/runs/2w6d2jdd\" target=\"_blank\">https://wandb.ai/awiedenroth/Oesch8_nur_averages/runs/2w6d2jdd</a><br/>\n",
       "Find logs at: <code>.\\wandb\\run-20220416_102147-2w6d2jdd\\logs</code><br/>\n"
      ],
      "text/plain": [
       "<IPython.core.display.HTML object>"
      ]
     },
     "metadata": {},
     "output_type": "display_data"
    },
    {
     "name": "stderr",
     "output_type": "stream",
     "text": [
      "wandb: wandb version 0.12.14 is available!  To upgrade, please run:\n",
      "wandb:  $ pip install wandb --upgrade\n"
     ]
    },
    {
     "data": {
      "text/html": [
       "\n",
       "                    Syncing run <strong><a href=\"https://wandb.ai/awiedenroth/Oesch8_nur_averages/runs/3qemeqgm\" target=\"_blank\">restful-glade-16</a></strong> to <a href=\"https://wandb.ai/awiedenroth/Oesch8_nur_averages\" target=\"_blank\">Weights & Biases</a> (<a href=\"https://docs.wandb.com/integrations/jupyter.html\" target=\"_blank\">docs</a>).<br/>\n",
       "\n",
       "                "
      ],
      "text/plain": [
       "<IPython.core.display.HTML object>"
      ]
     },
     "metadata": {},
     "output_type": "display_data"
    },
    {
     "data": {
      "text/html": [
       "<br/>Waiting for W&B process to finish, PID 13184... <strong style=\"color:green\">(success).</strong>"
      ],
      "text/plain": [
       "<IPython.core.display.HTML object>"
      ]
     },
     "metadata": {},
     "output_type": "display_data"
    },
    {
     "data": {
      "application/vnd.jupyter.widget-view+json": {
       "model_id": "1792bd171ddf4a279a1ec73b5812dd7e",
       "version_major": 2,
       "version_minor": 0
      },
      "text/plain": [
       "VBox(children=(Label(value=' 0.00MB of 0.00MB uploaded (0.00MB deduped)\\r'), FloatProgress(value=1.0, max=1.0)…"
      ]
     },
     "metadata": {},
     "output_type": "display_data"
    },
    {
     "data": {
      "text/html": [
       "<style>\n",
       "    table.wandb td:nth-child(1) { padding: 0 10px; text-align: right }\n",
       "    .wandb-row { display: flex; flex-direction: row; flex-wrap: wrap; width: 100% }\n",
       "    .wandb-col { display: flex; flex-direction: column; flex-basis: 100%; flex: 1; padding: 10px; }\n",
       "    </style>\n",
       "<div class=\"wandb-row\"><div class=\"wandb-col\">\n",
       "<h3>Run history:</h3><br/><table class=\"wandb\"><tr><td>average.fasttext validation accuracy</td><td>▁</td></tr><tr><td>average.fasttext validation balanced acc</td><td>▁</td></tr><tr><td>average.fasttext validation balanced adjusted accuracy</td><td>▁</td></tr></table><br/></div><div class=\"wandb-col\">\n",
       "<h3>Run summary:</h3><br/><table class=\"wandb\"><tr><td>average.fasttext validation accuracy</td><td>0.82526</td></tr><tr><td>average.fasttext validation balanced acc</td><td>0.77243</td></tr><tr><td>average.fasttext validation balanced adjusted accuracy</td><td>0.54486</td></tr></table>\n",
       "</div></div>\n",
       "Synced 4 W&B file(s), 0 media file(s), 0 artifact file(s) and 0 other file(s)\n",
       "<br/>Synced <strong style=\"color:#cdcd00\">restful-glade-16</strong>: <a href=\"https://wandb.ai/awiedenroth/Oesch8_nur_averages/runs/3qemeqgm\" target=\"_blank\">https://wandb.ai/awiedenroth/Oesch8_nur_averages/runs/3qemeqgm</a><br/>\n",
       "Find logs at: <code>.\\wandb\\run-20220416_102202-3qemeqgm\\logs</code><br/>\n"
      ],
      "text/plain": [
       "<IPython.core.display.HTML object>"
      ]
     },
     "metadata": {},
     "output_type": "display_data"
    },
    {
     "name": "stderr",
     "output_type": "stream",
     "text": [
      "wandb: wandb version 0.12.14 is available!  To upgrade, please run:\n",
      "wandb:  $ pip install wandb --upgrade\n"
     ]
    },
    {
     "data": {
      "text/html": [
       "\n",
       "                    Syncing run <strong><a href=\"https://wandb.ai/awiedenroth/Oesch8_nur_averages/runs/85h7k5qg\" target=\"_blank\">dazzling-jazz-17</a></strong> to <a href=\"https://wandb.ai/awiedenroth/Oesch8_nur_averages\" target=\"_blank\">Weights & Biases</a> (<a href=\"https://docs.wandb.com/integrations/jupyter.html\" target=\"_blank\">docs</a>).<br/>\n",
       "\n",
       "                "
      ],
      "text/plain": [
       "<IPython.core.display.HTML object>"
      ]
     },
     "metadata": {},
     "output_type": "display_data"
    },
    {
     "data": {
      "text/html": [
       "<br/>Waiting for W&B process to finish, PID 4904... <strong style=\"color:green\">(success).</strong>"
      ],
      "text/plain": [
       "<IPython.core.display.HTML object>"
      ]
     },
     "metadata": {},
     "output_type": "display_data"
    },
    {
     "data": {
      "application/vnd.jupyter.widget-view+json": {
       "model_id": "e0bdb78fb01447f3bf229f7c8193e5f0",
       "version_major": 2,
       "version_minor": 0
      },
      "text/plain": [
       "VBox(children=(Label(value=' 0.00MB of 0.00MB uploaded (0.00MB deduped)\\r'), FloatProgress(value=1.0, max=1.0)…"
      ]
     },
     "metadata": {},
     "output_type": "display_data"
    },
    {
     "data": {
      "text/html": [
       "<style>\n",
       "    table.wandb td:nth-child(1) { padding: 0 10px; text-align: right }\n",
       "    .wandb-row { display: flex; flex-direction: row; flex-wrap: wrap; width: 100% }\n",
       "    .wandb-col { display: flex; flex-direction: column; flex-basis: 100%; flex: 1; padding: 10px; }\n",
       "    </style>\n",
       "<div class=\"wandb-row\"><div class=\"wandb-col\">\n",
       "<h3>Run history:</h3><br/><table class=\"wandb\"><tr><td>average.fasttext validation accuracy</td><td>▁</td></tr><tr><td>average.fasttext validation balanced acc</td><td>▁</td></tr><tr><td>average.fasttext validation balanced adjusted accuracy</td><td>▁</td></tr></table><br/></div><div class=\"wandb-col\">\n",
       "<h3>Run summary:</h3><br/><table class=\"wandb\"><tr><td>average.fasttext validation accuracy</td><td>0.83842</td></tr><tr><td>average.fasttext validation balanced acc</td><td>0.74562</td></tr><tr><td>average.fasttext validation balanced adjusted accuracy</td><td>0.49124</td></tr></table>\n",
       "</div></div>\n",
       "Synced 4 W&B file(s), 0 media file(s), 0 artifact file(s) and 0 other file(s)\n",
       "<br/>Synced <strong style=\"color:#cdcd00\">dazzling-jazz-17</strong>: <a href=\"https://wandb.ai/awiedenroth/Oesch8_nur_averages/runs/85h7k5qg\" target=\"_blank\">https://wandb.ai/awiedenroth/Oesch8_nur_averages/runs/85h7k5qg</a><br/>\n",
       "Find logs at: <code>.\\wandb\\run-20220416_102219-85h7k5qg\\logs</code><br/>\n"
      ],
      "text/plain": [
       "<IPython.core.display.HTML object>"
      ]
     },
     "metadata": {},
     "output_type": "display_data"
    },
    {
     "name": "stderr",
     "output_type": "stream",
     "text": [
      "wandb: wandb version 0.12.14 is available!  To upgrade, please run:\n",
      "wandb:  $ pip install wandb --upgrade\n"
     ]
    },
    {
     "data": {
      "text/html": [
       "\n",
       "                    Syncing run <strong><a href=\"https://wandb.ai/awiedenroth/Oesch8_nur_averages/runs/kc4ufsrs\" target=\"_blank\">rose-brook-18</a></strong> to <a href=\"https://wandb.ai/awiedenroth/Oesch8_nur_averages\" target=\"_blank\">Weights & Biases</a> (<a href=\"https://docs.wandb.com/integrations/jupyter.html\" target=\"_blank\">docs</a>).<br/>\n",
       "\n",
       "                "
      ],
      "text/plain": [
       "<IPython.core.display.HTML object>"
      ]
     },
     "metadata": {},
     "output_type": "display_data"
    },
    {
     "data": {
      "text/html": [
       "<br/>Waiting for W&B process to finish, PID 10336... <strong style=\"color:green\">(success).</strong>"
      ],
      "text/plain": [
       "<IPython.core.display.HTML object>"
      ]
     },
     "metadata": {},
     "output_type": "display_data"
    },
    {
     "data": {
      "application/vnd.jupyter.widget-view+json": {
       "model_id": "070aca6eaf284fefba6caaa378075e40",
       "version_major": 2,
       "version_minor": 0
      },
      "text/plain": [
       "VBox(children=(Label(value=' 0.00MB of 0.00MB uploaded (0.00MB deduped)\\r'), FloatProgress(value=1.0, max=1.0)…"
      ]
     },
     "metadata": {},
     "output_type": "display_data"
    },
    {
     "data": {
      "text/html": [
       "<style>\n",
       "    table.wandb td:nth-child(1) { padding: 0 10px; text-align: right }\n",
       "    .wandb-row { display: flex; flex-direction: row; flex-wrap: wrap; width: 100% }\n",
       "    .wandb-col { display: flex; flex-direction: column; flex-basis: 100%; flex: 1; padding: 10px; }\n",
       "    </style>\n",
       "<div class=\"wandb-row\"><div class=\"wandb-col\">\n",
       "<h3>Run history:</h3><br/><table class=\"wandb\"><tr><td>average.fasttext validation accuracy</td><td>▁</td></tr><tr><td>average.fasttext validation balanced acc</td><td>▁</td></tr><tr><td>average.fasttext validation balanced adjusted accuracy</td><td>▁</td></tr></table><br/></div><div class=\"wandb-col\">\n",
       "<h3>Run summary:</h3><br/><table class=\"wandb\"><tr><td>average.fasttext validation accuracy</td><td>0.83677</td></tr><tr><td>average.fasttext validation balanced acc</td><td>0.73634</td></tr><tr><td>average.fasttext validation balanced adjusted accuracy</td><td>0.47267</td></tr></table>\n",
       "</div></div>\n",
       "Synced 4 W&B file(s), 0 media file(s), 0 artifact file(s) and 0 other file(s)\n",
       "<br/>Synced <strong style=\"color:#cdcd00\">rose-brook-18</strong>: <a href=\"https://wandb.ai/awiedenroth/Oesch8_nur_averages/runs/kc4ufsrs\" target=\"_blank\">https://wandb.ai/awiedenroth/Oesch8_nur_averages/runs/kc4ufsrs</a><br/>\n",
       "Find logs at: <code>.\\wandb\\run-20220416_102235-kc4ufsrs\\logs</code><br/>\n"
      ],
      "text/plain": [
       "<IPython.core.display.HTML object>"
      ]
     },
     "metadata": {},
     "output_type": "display_data"
    },
    {
     "name": "stderr",
     "output_type": "stream",
     "text": [
      "wandb: wandb version 0.12.14 is available!  To upgrade, please run:\n",
      "wandb:  $ pip install wandb --upgrade\n"
     ]
    },
    {
     "data": {
      "text/html": [
       "\n",
       "                    Syncing run <strong><a href=\"https://wandb.ai/awiedenroth/Oesch8_nur_averages/runs/es9v33wu\" target=\"_blank\">honest-totem-19</a></strong> to <a href=\"https://wandb.ai/awiedenroth/Oesch8_nur_averages\" target=\"_blank\">Weights & Biases</a> (<a href=\"https://docs.wandb.com/integrations/jupyter.html\" target=\"_blank\">docs</a>).<br/>\n",
       "\n",
       "                "
      ],
      "text/plain": [
       "<IPython.core.display.HTML object>"
      ]
     },
     "metadata": {},
     "output_type": "display_data"
    },
    {
     "data": {
      "text/html": [
       "<br/>Waiting for W&B process to finish, PID 13472... <strong style=\"color:green\">(success).</strong>"
      ],
      "text/plain": [
       "<IPython.core.display.HTML object>"
      ]
     },
     "metadata": {},
     "output_type": "display_data"
    },
    {
     "data": {
      "application/vnd.jupyter.widget-view+json": {
       "model_id": "cd6d1fdcb23d484e9fc5f660f34d8bf2",
       "version_major": 2,
       "version_minor": 0
      },
      "text/plain": [
       "VBox(children=(Label(value=' 0.00MB of 0.00MB uploaded (0.00MB deduped)\\r'), FloatProgress(value=1.0, max=1.0)…"
      ]
     },
     "metadata": {},
     "output_type": "display_data"
    },
    {
     "data": {
      "text/html": [
       "<style>\n",
       "    table.wandb td:nth-child(1) { padding: 0 10px; text-align: right }\n",
       "    .wandb-row { display: flex; flex-direction: row; flex-wrap: wrap; width: 100% }\n",
       "    .wandb-col { display: flex; flex-direction: column; flex-basis: 100%; flex: 1; padding: 10px; }\n",
       "    </style>\n",
       "<div class=\"wandb-row\"><div class=\"wandb-col\">\n",
       "<h3>Run history:</h3><br/><table class=\"wandb\"><tr><td>average.fasttext validation accuracy</td><td>▁</td></tr><tr><td>average.fasttext validation balanced acc</td><td>▁</td></tr><tr><td>average.fasttext validation balanced adjusted accuracy</td><td>▁</td></tr></table><br/></div><div class=\"wandb-col\">\n",
       "<h3>Run summary:</h3><br/><table class=\"wandb\"><tr><td>average.fasttext validation accuracy</td><td>0.83317</td></tr><tr><td>average.fasttext validation balanced acc</td><td>0.73942</td></tr><tr><td>average.fasttext validation balanced adjusted accuracy</td><td>0.47883</td></tr></table>\n",
       "</div></div>\n",
       "Synced 4 W&B file(s), 0 media file(s), 0 artifact file(s) and 0 other file(s)\n",
       "<br/>Synced <strong style=\"color:#cdcd00\">honest-totem-19</strong>: <a href=\"https://wandb.ai/awiedenroth/Oesch8_nur_averages/runs/es9v33wu\" target=\"_blank\">https://wandb.ai/awiedenroth/Oesch8_nur_averages/runs/es9v33wu</a><br/>\n",
       "Find logs at: <code>.\\wandb\\run-20220416_102250-es9v33wu\\logs</code><br/>\n"
      ],
      "text/plain": [
       "<IPython.core.display.HTML object>"
      ]
     },
     "metadata": {},
     "output_type": "display_data"
    },
    {
     "name": "stderr",
     "output_type": "stream",
     "text": [
      "wandb: wandb version 0.12.14 is available!  To upgrade, please run:\n",
      "wandb:  $ pip install wandb --upgrade\n"
     ]
    },
    {
     "data": {
      "text/html": [
       "\n",
       "                    Syncing run <strong><a href=\"https://wandb.ai/awiedenroth/Oesch8_nur_averages/runs/1wfwhrxa\" target=\"_blank\">neat-cloud-20</a></strong> to <a href=\"https://wandb.ai/awiedenroth/Oesch8_nur_averages\" target=\"_blank\">Weights & Biases</a> (<a href=\"https://docs.wandb.com/integrations/jupyter.html\" target=\"_blank\">docs</a>).<br/>\n",
       "\n",
       "                "
      ],
      "text/plain": [
       "<IPython.core.display.HTML object>"
      ]
     },
     "metadata": {},
     "output_type": "display_data"
    },
    {
     "data": {
      "text/html": [
       "<br/>Waiting for W&B process to finish, PID 4684... <strong style=\"color:green\">(success).</strong>"
      ],
      "text/plain": [
       "<IPython.core.display.HTML object>"
      ]
     },
     "metadata": {},
     "output_type": "display_data"
    },
    {
     "data": {
      "application/vnd.jupyter.widget-view+json": {
       "model_id": "5319917a9f1b475c9b8dcf9f0623544b",
       "version_major": 2,
       "version_minor": 0
      },
      "text/plain": [
       "VBox(children=(Label(value=' 0.00MB of 0.00MB uploaded (0.00MB deduped)\\r'), FloatProgress(value=1.0, max=1.0)…"
      ]
     },
     "metadata": {},
     "output_type": "display_data"
    },
    {
     "data": {
      "text/html": [
       "<style>\n",
       "    table.wandb td:nth-child(1) { padding: 0 10px; text-align: right }\n",
       "    .wandb-row { display: flex; flex-direction: row; flex-wrap: wrap; width: 100% }\n",
       "    .wandb-col { display: flex; flex-direction: column; flex-basis: 100%; flex: 1; padding: 10px; }\n",
       "    </style>\n",
       "<div class=\"wandb-row\"><div class=\"wandb-col\">\n",
       "<h3>Run history:</h3><br/><table class=\"wandb\"><tr><td>average.fasttext validation accuracy</td><td>▁</td></tr><tr><td>average.fasttext validation balanced acc</td><td>▁</td></tr><tr><td>average.fasttext validation balanced adjusted accuracy</td><td>▁</td></tr></table><br/></div><div class=\"wandb-col\">\n",
       "<h3>Run summary:</h3><br/><table class=\"wandb\"><tr><td>average.fasttext validation accuracy</td><td>0.82924</td></tr><tr><td>average.fasttext validation balanced acc</td><td>0.72973</td></tr><tr><td>average.fasttext validation balanced adjusted accuracy</td><td>0.45945</td></tr></table>\n",
       "</div></div>\n",
       "Synced 4 W&B file(s), 0 media file(s), 0 artifact file(s) and 0 other file(s)\n",
       "<br/>Synced <strong style=\"color:#cdcd00\">neat-cloud-20</strong>: <a href=\"https://wandb.ai/awiedenroth/Oesch8_nur_averages/runs/1wfwhrxa\" target=\"_blank\">https://wandb.ai/awiedenroth/Oesch8_nur_averages/runs/1wfwhrxa</a><br/>\n",
       "Find logs at: <code>.\\wandb\\run-20220416_102305-1wfwhrxa\\logs</code><br/>\n"
      ],
      "text/plain": [
       "<IPython.core.display.HTML object>"
      ]
     },
     "metadata": {},
     "output_type": "display_data"
    },
    {
     "name": "stderr",
     "output_type": "stream",
     "text": [
      "wandb: wandb version 0.12.14 is available!  To upgrade, please run:\n",
      "wandb:  $ pip install wandb --upgrade\n"
     ]
    },
    {
     "data": {
      "text/html": [
       "\n",
       "                    Syncing run <strong><a href=\"https://wandb.ai/awiedenroth/Oesch8_nur_averages/runs/xe8cm0yp\" target=\"_blank\">dark-oath-21</a></strong> to <a href=\"https://wandb.ai/awiedenroth/Oesch8_nur_averages\" target=\"_blank\">Weights & Biases</a> (<a href=\"https://docs.wandb.com/integrations/jupyter.html\" target=\"_blank\">docs</a>).<br/>\n",
       "\n",
       "                "
      ],
      "text/plain": [
       "<IPython.core.display.HTML object>"
      ]
     },
     "metadata": {},
     "output_type": "display_data"
    },
    {
     "data": {
      "text/html": [
       "<br/>Waiting for W&B process to finish, PID 16740... <strong style=\"color:green\">(success).</strong>"
      ],
      "text/plain": [
       "<IPython.core.display.HTML object>"
      ]
     },
     "metadata": {},
     "output_type": "display_data"
    },
    {
     "data": {
      "application/vnd.jupyter.widget-view+json": {
       "model_id": "e17be02478514179b3ee19925392237a",
       "version_major": 2,
       "version_minor": 0
      },
      "text/plain": [
       "VBox(children=(Label(value=' 0.00MB of 0.00MB uploaded (0.00MB deduped)\\r'), FloatProgress(value=1.0, max=1.0)…"
      ]
     },
     "metadata": {},
     "output_type": "display_data"
    },
    {
     "data": {
      "text/html": [
       "<style>\n",
       "    table.wandb td:nth-child(1) { padding: 0 10px; text-align: right }\n",
       "    .wandb-row { display: flex; flex-direction: row; flex-wrap: wrap; width: 100% }\n",
       "    .wandb-col { display: flex; flex-direction: column; flex-basis: 100%; flex: 1; padding: 10px; }\n",
       "    </style>\n",
       "<div class=\"wandb-row\"><div class=\"wandb-col\">\n",
       "<h3>Run history:</h3><br/><table class=\"wandb\"><tr><td>average.fasttext validation accuracy</td><td>▁</td></tr><tr><td>average.fasttext validation balanced acc</td><td>▁</td></tr><tr><td>average.fasttext validation balanced adjusted accuracy</td><td>▁</td></tr></table><br/></div><div class=\"wandb-col\">\n",
       "<h3>Run summary:</h3><br/><table class=\"wandb\"><tr><td>average.fasttext validation accuracy</td><td>0.83776</td></tr><tr><td>average.fasttext validation balanced acc</td><td>0.74334</td></tr><tr><td>average.fasttext validation balanced adjusted accuracy</td><td>0.48668</td></tr></table>\n",
       "</div></div>\n",
       "Synced 4 W&B file(s), 0 media file(s), 0 artifact file(s) and 0 other file(s)\n",
       "<br/>Synced <strong style=\"color:#cdcd00\">dark-oath-21</strong>: <a href=\"https://wandb.ai/awiedenroth/Oesch8_nur_averages/runs/xe8cm0yp\" target=\"_blank\">https://wandb.ai/awiedenroth/Oesch8_nur_averages/runs/xe8cm0yp</a><br/>\n",
       "Find logs at: <code>.\\wandb\\run-20220416_102321-xe8cm0yp\\logs</code><br/>\n"
      ],
      "text/plain": [
       "<IPython.core.display.HTML object>"
      ]
     },
     "metadata": {},
     "output_type": "display_data"
    },
    {
     "name": "stderr",
     "output_type": "stream",
     "text": [
      "wandb: wandb version 0.12.14 is available!  To upgrade, please run:\n",
      "wandb:  $ pip install wandb --upgrade\n"
     ]
    },
    {
     "data": {
      "text/html": [
       "\n",
       "                    Syncing run <strong><a href=\"https://wandb.ai/awiedenroth/Oesch8_nur_averages/runs/2tbet6wg\" target=\"_blank\">winter-jazz-22</a></strong> to <a href=\"https://wandb.ai/awiedenroth/Oesch8_nur_averages\" target=\"_blank\">Weights & Biases</a> (<a href=\"https://docs.wandb.com/integrations/jupyter.html\" target=\"_blank\">docs</a>).<br/>\n",
       "\n",
       "                "
      ],
      "text/plain": [
       "<IPython.core.display.HTML object>"
      ]
     },
     "metadata": {},
     "output_type": "display_data"
    },
    {
     "data": {
      "text/html": [
       "<br/>Waiting for W&B process to finish, PID 9564... <strong style=\"color:green\">(success).</strong>"
      ],
      "text/plain": [
       "<IPython.core.display.HTML object>"
      ]
     },
     "metadata": {},
     "output_type": "display_data"
    },
    {
     "data": {
      "application/vnd.jupyter.widget-view+json": {
       "model_id": "5b99d602bd0e494aba060d20242889fc",
       "version_major": 2,
       "version_minor": 0
      },
      "text/plain": [
       "VBox(children=(Label(value=' 0.00MB of 0.00MB uploaded (0.00MB deduped)\\r'), FloatProgress(value=1.0, max=1.0)…"
      ]
     },
     "metadata": {},
     "output_type": "display_data"
    },
    {
     "data": {
      "text/html": [
       "<style>\n",
       "    table.wandb td:nth-child(1) { padding: 0 10px; text-align: right }\n",
       "    .wandb-row { display: flex; flex-direction: row; flex-wrap: wrap; width: 100% }\n",
       "    .wandb-col { display: flex; flex-direction: column; flex-basis: 100%; flex: 1; padding: 10px; }\n",
       "    </style>\n",
       "<div class=\"wandb-row\"><div class=\"wandb-col\">\n",
       "<h3>Run history:</h3><br/><table class=\"wandb\"><tr><td>average.fasttext validation accuracy</td><td>▁</td></tr><tr><td>average.fasttext validation balanced acc</td><td>▁</td></tr><tr><td>average.fasttext validation balanced adjusted accuracy</td><td>▁</td></tr></table><br/></div><div class=\"wandb-col\">\n",
       "<h3>Run summary:</h3><br/><table class=\"wandb\"><tr><td>average.fasttext validation accuracy</td><td>0.83974</td></tr><tr><td>average.fasttext validation balanced acc</td><td>0.74443</td></tr><tr><td>average.fasttext validation balanced adjusted accuracy</td><td>0.48886</td></tr></table>\n",
       "</div></div>\n",
       "Synced 4 W&B file(s), 0 media file(s), 0 artifact file(s) and 0 other file(s)\n",
       "<br/>Synced <strong style=\"color:#cdcd00\">winter-jazz-22</strong>: <a href=\"https://wandb.ai/awiedenroth/Oesch8_nur_averages/runs/2tbet6wg\" target=\"_blank\">https://wandb.ai/awiedenroth/Oesch8_nur_averages/runs/2tbet6wg</a><br/>\n",
       "Find logs at: <code>.\\wandb\\run-20220416_102337-2tbet6wg\\logs</code><br/>\n"
      ],
      "text/plain": [
       "<IPython.core.display.HTML object>"
      ]
     },
     "metadata": {},
     "output_type": "display_data"
    },
    {
     "name": "stderr",
     "output_type": "stream",
     "text": [
      "wandb: wandb version 0.12.14 is available!  To upgrade, please run:\n",
      "wandb:  $ pip install wandb --upgrade\n"
     ]
    },
    {
     "data": {
      "text/html": [
       "\n",
       "                    Syncing run <strong><a href=\"https://wandb.ai/awiedenroth/Oesch8_nur_averages/runs/20kgkqln\" target=\"_blank\">brisk-fog-23</a></strong> to <a href=\"https://wandb.ai/awiedenroth/Oesch8_nur_averages\" target=\"_blank\">Weights & Biases</a> (<a href=\"https://docs.wandb.com/integrations/jupyter.html\" target=\"_blank\">docs</a>).<br/>\n",
       "\n",
       "                "
      ],
      "text/plain": [
       "<IPython.core.display.HTML object>"
      ]
     },
     "metadata": {},
     "output_type": "display_data"
    },
    {
     "data": {
      "text/html": [
       "<br/>Waiting for W&B process to finish, PID 14148... <strong style=\"color:green\">(success).</strong>"
      ],
      "text/plain": [
       "<IPython.core.display.HTML object>"
      ]
     },
     "metadata": {},
     "output_type": "display_data"
    },
    {
     "data": {
      "application/vnd.jupyter.widget-view+json": {
       "model_id": "c92f84ade1114c2180d59da3b8c01a21",
       "version_major": 2,
       "version_minor": 0
      },
      "text/plain": [
       "VBox(children=(Label(value=' 0.00MB of 0.00MB uploaded (0.00MB deduped)\\r'), FloatProgress(value=1.0, max=1.0)…"
      ]
     },
     "metadata": {},
     "output_type": "display_data"
    },
    {
     "data": {
      "text/html": [
       "<style>\n",
       "    table.wandb td:nth-child(1) { padding: 0 10px; text-align: right }\n",
       "    .wandb-row { display: flex; flex-direction: row; flex-wrap: wrap; width: 100% }\n",
       "    .wandb-col { display: flex; flex-direction: column; flex-basis: 100%; flex: 1; padding: 10px; }\n",
       "    </style>\n",
       "<div class=\"wandb-row\"><div class=\"wandb-col\">\n",
       "<h3>Run history:</h3><br/><table class=\"wandb\"><tr><td>average.fasttext validation accuracy</td><td>▁</td></tr><tr><td>average.fasttext validation balanced acc</td><td>▁</td></tr><tr><td>average.fasttext validation balanced adjusted accuracy</td><td>▁</td></tr></table><br/></div><div class=\"wandb-col\">\n",
       "<h3>Run summary:</h3><br/><table class=\"wandb\"><tr><td>average.fasttext validation accuracy</td><td>0.84171</td></tr><tr><td>average.fasttext validation balanced acc</td><td>0.74702</td></tr><tr><td>average.fasttext validation balanced adjusted accuracy</td><td>0.49405</td></tr></table>\n",
       "</div></div>\n",
       "Synced 4 W&B file(s), 0 media file(s), 0 artifact file(s) and 0 other file(s)\n",
       "<br/>Synced <strong style=\"color:#cdcd00\">brisk-fog-23</strong>: <a href=\"https://wandb.ai/awiedenroth/Oesch8_nur_averages/runs/20kgkqln\" target=\"_blank\">https://wandb.ai/awiedenroth/Oesch8_nur_averages/runs/20kgkqln</a><br/>\n",
       "Find logs at: <code>.\\wandb\\run-20220416_102353-20kgkqln\\logs</code><br/>\n"
      ],
      "text/plain": [
       "<IPython.core.display.HTML object>"
      ]
     },
     "metadata": {},
     "output_type": "display_data"
    },
    {
     "name": "stderr",
     "output_type": "stream",
     "text": [
      "wandb: wandb version 0.12.14 is available!  To upgrade, please run:\n",
      "wandb:  $ pip install wandb --upgrade\n"
     ]
    },
    {
     "data": {
      "text/html": [
       "\n",
       "                    Syncing run <strong><a href=\"https://wandb.ai/awiedenroth/Oesch8_nur_averages/runs/117ldxrw\" target=\"_blank\">electric-glade-24</a></strong> to <a href=\"https://wandb.ai/awiedenroth/Oesch8_nur_averages\" target=\"_blank\">Weights & Biases</a> (<a href=\"https://docs.wandb.com/integrations/jupyter.html\" target=\"_blank\">docs</a>).<br/>\n",
       "\n",
       "                "
      ],
      "text/plain": [
       "<IPython.core.display.HTML object>"
      ]
     },
     "metadata": {},
     "output_type": "display_data"
    },
    {
     "data": {
      "text/html": [
       "<br/>Waiting for W&B process to finish, PID 23480... <strong style=\"color:green\">(success).</strong>"
      ],
      "text/plain": [
       "<IPython.core.display.HTML object>"
      ]
     },
     "metadata": {},
     "output_type": "display_data"
    },
    {
     "data": {
      "application/vnd.jupyter.widget-view+json": {
       "model_id": "30e8390b73064248b308d26cba67a620",
       "version_major": 2,
       "version_minor": 0
      },
      "text/plain": [
       "VBox(children=(Label(value=' 0.00MB of 0.00MB uploaded (0.00MB deduped)\\r'), FloatProgress(value=1.0, max=1.0)…"
      ]
     },
     "metadata": {},
     "output_type": "display_data"
    },
    {
     "data": {
      "text/html": [
       "<style>\n",
       "    table.wandb td:nth-child(1) { padding: 0 10px; text-align: right }\n",
       "    .wandb-row { display: flex; flex-direction: row; flex-wrap: wrap; width: 100% }\n",
       "    .wandb-col { display: flex; flex-direction: column; flex-basis: 100%; flex: 1; padding: 10px; }\n",
       "    </style>\n",
       "<div class=\"wandb-row\"><div class=\"wandb-col\">\n",
       "<h3>Run history:</h3><br/><table class=\"wandb\"><tr><td>average.fasttext validation accuracy</td><td>▁</td></tr><tr><td>average.fasttext validation balanced acc</td><td>▁</td></tr><tr><td>average.fasttext validation balanced adjusted accuracy</td><td>▁</td></tr></table><br/></div><div class=\"wandb-col\">\n",
       "<h3>Run summary:</h3><br/><table class=\"wandb\"><tr><td>average.fasttext validation accuracy</td><td>0.83677</td></tr><tr><td>average.fasttext validation balanced acc</td><td>0.7429</td></tr><tr><td>average.fasttext validation balanced adjusted accuracy</td><td>0.48579</td></tr></table>\n",
       "</div></div>\n",
       "Synced 4 W&B file(s), 0 media file(s), 0 artifact file(s) and 0 other file(s)\n",
       "<br/>Synced <strong style=\"color:#cdcd00\">electric-glade-24</strong>: <a href=\"https://wandb.ai/awiedenroth/Oesch8_nur_averages/runs/117ldxrw\" target=\"_blank\">https://wandb.ai/awiedenroth/Oesch8_nur_averages/runs/117ldxrw</a><br/>\n",
       "Find logs at: <code>.\\wandb\\run-20220416_102409-117ldxrw\\logs</code><br/>\n"
      ],
      "text/plain": [
       "<IPython.core.display.HTML object>"
      ]
     },
     "metadata": {},
     "output_type": "display_data"
    },
    {
     "name": "stderr",
     "output_type": "stream",
     "text": [
      "wandb: wandb version 0.12.14 is available!  To upgrade, please run:\n",
      "wandb:  $ pip install wandb --upgrade\n"
     ]
    },
    {
     "data": {
      "text/html": [
       "\n",
       "                    Syncing run <strong><a href=\"https://wandb.ai/awiedenroth/Oesch8_nur_averages/runs/8o0645qi\" target=\"_blank\">stellar-tree-25</a></strong> to <a href=\"https://wandb.ai/awiedenroth/Oesch8_nur_averages\" target=\"_blank\">Weights & Biases</a> (<a href=\"https://docs.wandb.com/integrations/jupyter.html\" target=\"_blank\">docs</a>).<br/>\n",
       "\n",
       "                "
      ],
      "text/plain": [
       "<IPython.core.display.HTML object>"
      ]
     },
     "metadata": {},
     "output_type": "display_data"
    },
    {
     "data": {
      "text/html": [
       "<br/>Waiting for W&B process to finish, PID 3676... <strong style=\"color:green\">(success).</strong>"
      ],
      "text/plain": [
       "<IPython.core.display.HTML object>"
      ]
     },
     "metadata": {},
     "output_type": "display_data"
    },
    {
     "data": {
      "application/vnd.jupyter.widget-view+json": {
       "model_id": "dc2795e5dfcd474e9bb2f8ddc8fdd528",
       "version_major": 2,
       "version_minor": 0
      },
      "text/plain": [
       "VBox(children=(Label(value=' 0.00MB of 0.00MB uploaded (0.00MB deduped)\\r'), FloatProgress(value=1.0, max=1.0)…"
      ]
     },
     "metadata": {},
     "output_type": "display_data"
    },
    {
     "data": {
      "text/html": [
       "<style>\n",
       "    table.wandb td:nth-child(1) { padding: 0 10px; text-align: right }\n",
       "    .wandb-row { display: flex; flex-direction: row; flex-wrap: wrap; width: 100% }\n",
       "    .wandb-col { display: flex; flex-direction: column; flex-basis: 100%; flex: 1; padding: 10px; }\n",
       "    </style>\n",
       "<div class=\"wandb-row\"><div class=\"wandb-col\">\n",
       "<h3>Run history:</h3><br/><table class=\"wandb\"><tr><td>average.fasttext validation accuracy</td><td>▁</td></tr><tr><td>average.fasttext validation balanced acc</td><td>▁</td></tr><tr><td>average.fasttext validation balanced adjusted accuracy</td><td>▁</td></tr></table><br/></div><div class=\"wandb-col\">\n",
       "<h3>Run summary:</h3><br/><table class=\"wandb\"><tr><td>average.fasttext validation accuracy</td><td>0.83841</td></tr><tr><td>average.fasttext validation balanced acc</td><td>0.74779</td></tr><tr><td>average.fasttext validation balanced adjusted accuracy</td><td>0.49558</td></tr></table>\n",
       "</div></div>\n",
       "Synced 4 W&B file(s), 0 media file(s), 0 artifact file(s) and 0 other file(s)\n",
       "<br/>Synced <strong style=\"color:#cdcd00\">stellar-tree-25</strong>: <a href=\"https://wandb.ai/awiedenroth/Oesch8_nur_averages/runs/8o0645qi\" target=\"_blank\">https://wandb.ai/awiedenroth/Oesch8_nur_averages/runs/8o0645qi</a><br/>\n",
       "Find logs at: <code>.\\wandb\\run-20220416_102425-8o0645qi\\logs</code><br/>\n"
      ],
      "text/plain": [
       "<IPython.core.display.HTML object>"
      ]
     },
     "metadata": {},
     "output_type": "display_data"
    },
    {
     "name": "stderr",
     "output_type": "stream",
     "text": [
      "wandb: wandb version 0.12.14 is available!  To upgrade, please run:\n",
      "wandb:  $ pip install wandb --upgrade\n"
     ]
    },
    {
     "data": {
      "text/html": [
       "\n",
       "                    Syncing run <strong><a href=\"https://wandb.ai/awiedenroth/Oesch8_nur_averages/runs/3ey1aaa8\" target=\"_blank\">splendid-shadow-26</a></strong> to <a href=\"https://wandb.ai/awiedenroth/Oesch8_nur_averages\" target=\"_blank\">Weights & Biases</a> (<a href=\"https://docs.wandb.com/integrations/jupyter.html\" target=\"_blank\">docs</a>).<br/>\n",
       "\n",
       "                "
      ],
      "text/plain": [
       "<IPython.core.display.HTML object>"
      ]
     },
     "metadata": {},
     "output_type": "display_data"
    },
    {
     "data": {
      "text/html": [
       "<br/>Waiting for W&B process to finish, PID 8596... <strong style=\"color:green\">(success).</strong>"
      ],
      "text/plain": [
       "<IPython.core.display.HTML object>"
      ]
     },
     "metadata": {},
     "output_type": "display_data"
    },
    {
     "data": {
      "application/vnd.jupyter.widget-view+json": {
       "model_id": "6e5d6afa0b9f443fbeb27f4590392b07",
       "version_major": 2,
       "version_minor": 0
      },
      "text/plain": [
       "VBox(children=(Label(value=' 0.00MB of 0.00MB uploaded (0.00MB deduped)\\r'), FloatProgress(value=1.0, max=1.0)…"
      ]
     },
     "metadata": {},
     "output_type": "display_data"
    },
    {
     "data": {
      "text/html": [
       "<style>\n",
       "    table.wandb td:nth-child(1) { padding: 0 10px; text-align: right }\n",
       "    .wandb-row { display: flex; flex-direction: row; flex-wrap: wrap; width: 100% }\n",
       "    .wandb-col { display: flex; flex-direction: column; flex-basis: 100%; flex: 1; padding: 10px; }\n",
       "    </style>\n",
       "<div class=\"wandb-row\"><div class=\"wandb-col\">\n",
       "<h3>Run history:</h3><br/><table class=\"wandb\"><tr><td>average.fasttext validation accuracy</td><td>▁</td></tr><tr><td>average.fasttext validation balanced acc</td><td>▁</td></tr><tr><td>average.fasttext validation balanced adjusted accuracy</td><td>▁</td></tr></table><br/></div><div class=\"wandb-col\">\n",
       "<h3>Run summary:</h3><br/><table class=\"wandb\"><tr><td>average.fasttext validation accuracy</td><td>0.8361</td></tr><tr><td>average.fasttext validation balanced acc</td><td>0.74234</td></tr><tr><td>average.fasttext validation balanced adjusted accuracy</td><td>0.48469</td></tr></table>\n",
       "</div></div>\n",
       "Synced 4 W&B file(s), 0 media file(s), 0 artifact file(s) and 0 other file(s)\n",
       "<br/>Synced <strong style=\"color:#cdcd00\">splendid-shadow-26</strong>: <a href=\"https://wandb.ai/awiedenroth/Oesch8_nur_averages/runs/3ey1aaa8\" target=\"_blank\">https://wandb.ai/awiedenroth/Oesch8_nur_averages/runs/3ey1aaa8</a><br/>\n",
       "Find logs at: <code>.\\wandb\\run-20220416_102440-3ey1aaa8\\logs</code><br/>\n"
      ],
      "text/plain": [
       "<IPython.core.display.HTML object>"
      ]
     },
     "metadata": {},
     "output_type": "display_data"
    },
    {
     "name": "stderr",
     "output_type": "stream",
     "text": [
      "wandb: wandb version 0.12.14 is available!  To upgrade, please run:\n",
      "wandb:  $ pip install wandb --upgrade\n"
     ]
    },
    {
     "data": {
      "text/html": [
       "\n",
       "                    Syncing run <strong><a href=\"https://wandb.ai/awiedenroth/Oesch8_nur_averages/runs/1xiu8qwd\" target=\"_blank\">wobbly-brook-27</a></strong> to <a href=\"https://wandb.ai/awiedenroth/Oesch8_nur_averages\" target=\"_blank\">Weights & Biases</a> (<a href=\"https://docs.wandb.com/integrations/jupyter.html\" target=\"_blank\">docs</a>).<br/>\n",
       "\n",
       "                "
      ],
      "text/plain": [
       "<IPython.core.display.HTML object>"
      ]
     },
     "metadata": {},
     "output_type": "display_data"
    },
    {
     "data": {
      "text/html": [
       "<br/>Waiting for W&B process to finish, PID 17344... <strong style=\"color:green\">(success).</strong>"
      ],
      "text/plain": [
       "<IPython.core.display.HTML object>"
      ]
     },
     "metadata": {},
     "output_type": "display_data"
    },
    {
     "data": {
      "application/vnd.jupyter.widget-view+json": {
       "model_id": "15b886e66c6a4dadb289180765ea5112",
       "version_major": 2,
       "version_minor": 0
      },
      "text/plain": [
       "VBox(children=(Label(value=' 0.00MB of 0.00MB uploaded (0.00MB deduped)\\r'), FloatProgress(value=1.0, max=1.0)…"
      ]
     },
     "metadata": {},
     "output_type": "display_data"
    },
    {
     "data": {
      "text/html": [
       "<style>\n",
       "    table.wandb td:nth-child(1) { padding: 0 10px; text-align: right }\n",
       "    .wandb-row { display: flex; flex-direction: row; flex-wrap: wrap; width: 100% }\n",
       "    .wandb-col { display: flex; flex-direction: column; flex-basis: 100%; flex: 1; padding: 10px; }\n",
       "    </style>\n",
       "<div class=\"wandb-row\"><div class=\"wandb-col\">\n",
       "<h3>Run history:</h3><br/><table class=\"wandb\"><tr><td>average.fasttext validation accuracy</td><td>▁</td></tr><tr><td>average.fasttext validation balanced acc</td><td>▁</td></tr><tr><td>average.fasttext validation balanced adjusted accuracy</td><td>▁</td></tr></table><br/></div><div class=\"wandb-col\">\n",
       "<h3>Run summary:</h3><br/><table class=\"wandb\"><tr><td>average.fasttext validation accuracy</td><td>0.84012</td></tr><tr><td>average.fasttext validation balanced acc</td><td>0.75142</td></tr><tr><td>average.fasttext validation balanced adjusted accuracy</td><td>0.50284</td></tr></table>\n",
       "</div></div>\n",
       "Synced 4 W&B file(s), 0 media file(s), 0 artifact file(s) and 0 other file(s)\n",
       "<br/>Synced <strong style=\"color:#cdcd00\">wobbly-brook-27</strong>: <a href=\"https://wandb.ai/awiedenroth/Oesch8_nur_averages/runs/1xiu8qwd\" target=\"_blank\">https://wandb.ai/awiedenroth/Oesch8_nur_averages/runs/1xiu8qwd</a><br/>\n",
       "Find logs at: <code>.\\wandb\\run-20220416_102456-1xiu8qwd\\logs</code><br/>\n"
      ],
      "text/plain": [
       "<IPython.core.display.HTML object>"
      ]
     },
     "metadata": {},
     "output_type": "display_data"
    },
    {
     "name": "stderr",
     "output_type": "stream",
     "text": [
      "wandb: wandb version 0.12.14 is available!  To upgrade, please run:\n",
      "wandb:  $ pip install wandb --upgrade\n"
     ]
    },
    {
     "data": {
      "text/html": [
       "\n",
       "                    Syncing run <strong><a href=\"https://wandb.ai/awiedenroth/Oesch8_nur_averages/runs/2qm6bvb1\" target=\"_blank\">rosy-frost-28</a></strong> to <a href=\"https://wandb.ai/awiedenroth/Oesch8_nur_averages\" target=\"_blank\">Weights & Biases</a> (<a href=\"https://docs.wandb.com/integrations/jupyter.html\" target=\"_blank\">docs</a>).<br/>\n",
       "\n",
       "                "
      ],
      "text/plain": [
       "<IPython.core.display.HTML object>"
      ]
     },
     "metadata": {},
     "output_type": "display_data"
    },
    {
     "data": {
      "text/html": [
       "<br/>Waiting for W&B process to finish, PID 11636... <strong style=\"color:green\">(success).</strong>"
      ],
      "text/plain": [
       "<IPython.core.display.HTML object>"
      ]
     },
     "metadata": {},
     "output_type": "display_data"
    },
    {
     "data": {
      "application/vnd.jupyter.widget-view+json": {
       "model_id": "0b75b993723248679464e284d71e119f",
       "version_major": 2,
       "version_minor": 0
      },
      "text/plain": [
       "VBox(children=(Label(value=' 0.00MB of 0.00MB uploaded (0.00MB deduped)\\r'), FloatProgress(value=1.0, max=1.0)…"
      ]
     },
     "metadata": {},
     "output_type": "display_data"
    },
    {
     "data": {
      "text/html": [
       "<style>\n",
       "    table.wandb td:nth-child(1) { padding: 0 10px; text-align: right }\n",
       "    .wandb-row { display: flex; flex-direction: row; flex-wrap: wrap; width: 100% }\n",
       "    .wandb-col { display: flex; flex-direction: column; flex-basis: 100%; flex: 1; padding: 10px; }\n",
       "    </style>\n",
       "<div class=\"wandb-row\"><div class=\"wandb-col\">\n",
       "<h3>Run history:</h3><br/><table class=\"wandb\"><tr><td>average.fasttext validation accuracy</td><td>▁</td></tr><tr><td>average.fasttext validation balanced acc</td><td>▁</td></tr><tr><td>average.fasttext validation balanced adjusted accuracy</td><td>▁</td></tr></table><br/></div><div class=\"wandb-col\">\n",
       "<h3>Run summary:</h3><br/><table class=\"wandb\"><tr><td>average.fasttext validation accuracy</td><td>0.84238</td></tr><tr><td>average.fasttext validation balanced acc</td><td>0.75016</td></tr><tr><td>average.fasttext validation balanced adjusted accuracy</td><td>0.50032</td></tr></table>\n",
       "</div></div>\n",
       "Synced 4 W&B file(s), 0 media file(s), 0 artifact file(s) and 0 other file(s)\n",
       "<br/>Synced <strong style=\"color:#cdcd00\">rosy-frost-28</strong>: <a href=\"https://wandb.ai/awiedenroth/Oesch8_nur_averages/runs/2qm6bvb1\" target=\"_blank\">https://wandb.ai/awiedenroth/Oesch8_nur_averages/runs/2qm6bvb1</a><br/>\n",
       "Find logs at: <code>.\\wandb\\run-20220416_102512-2qm6bvb1\\logs</code><br/>\n"
      ],
      "text/plain": [
       "<IPython.core.display.HTML object>"
      ]
     },
     "metadata": {},
     "output_type": "display_data"
    },
    {
     "name": "stderr",
     "output_type": "stream",
     "text": [
      "wandb: wandb version 0.12.14 is available!  To upgrade, please run:\n",
      "wandb:  $ pip install wandb --upgrade\n"
     ]
    },
    {
     "data": {
      "text/html": [
       "\n",
       "                    Syncing run <strong><a href=\"https://wandb.ai/awiedenroth/Oesch8_nur_averages/runs/9n97xfxp\" target=\"_blank\">trim-leaf-29</a></strong> to <a href=\"https://wandb.ai/awiedenroth/Oesch8_nur_averages\" target=\"_blank\">Weights & Biases</a> (<a href=\"https://docs.wandb.com/integrations/jupyter.html\" target=\"_blank\">docs</a>).<br/>\n",
       "\n",
       "                "
      ],
      "text/plain": [
       "<IPython.core.display.HTML object>"
      ]
     },
     "metadata": {},
     "output_type": "display_data"
    },
    {
     "data": {
      "text/html": [
       "<br/>Waiting for W&B process to finish, PID 22204... <strong style=\"color:green\">(success).</strong>"
      ],
      "text/plain": [
       "<IPython.core.display.HTML object>"
      ]
     },
     "metadata": {},
     "output_type": "display_data"
    },
    {
     "data": {
      "application/vnd.jupyter.widget-view+json": {
       "model_id": "5b9f05960be843b195d318ffd7dafe5a",
       "version_major": 2,
       "version_minor": 0
      },
      "text/plain": [
       "VBox(children=(Label(value=' 0.00MB of 0.00MB uploaded (0.00MB deduped)\\r'), FloatProgress(value=1.0, max=1.0)…"
      ]
     },
     "metadata": {},
     "output_type": "display_data"
    },
    {
     "data": {
      "text/html": [
       "<style>\n",
       "    table.wandb td:nth-child(1) { padding: 0 10px; text-align: right }\n",
       "    .wandb-row { display: flex; flex-direction: row; flex-wrap: wrap; width: 100% }\n",
       "    .wandb-col { display: flex; flex-direction: column; flex-basis: 100%; flex: 1; padding: 10px; }\n",
       "    </style>\n",
       "<div class=\"wandb-row\"><div class=\"wandb-col\">\n",
       "<h3>Run history:</h3><br/><table class=\"wandb\"><tr><td>average.fasttext validation accuracy</td><td>▁</td></tr><tr><td>average.fasttext validation balanced acc</td><td>▁</td></tr><tr><td>average.fasttext validation balanced adjusted accuracy</td><td>▁</td></tr></table><br/></div><div class=\"wandb-col\">\n",
       "<h3>Run summary:</h3><br/><table class=\"wandb\"><tr><td>average.fasttext validation accuracy</td><td>0.83713</td></tr><tr><td>average.fasttext validation balanced acc</td><td>0.74885</td></tr><tr><td>average.fasttext validation balanced adjusted accuracy</td><td>0.49771</td></tr></table>\n",
       "</div></div>\n",
       "Synced 4 W&B file(s), 0 media file(s), 0 artifact file(s) and 0 other file(s)\n",
       "<br/>Synced <strong style=\"color:#cdcd00\">trim-leaf-29</strong>: <a href=\"https://wandb.ai/awiedenroth/Oesch8_nur_averages/runs/9n97xfxp\" target=\"_blank\">https://wandb.ai/awiedenroth/Oesch8_nur_averages/runs/9n97xfxp</a><br/>\n",
       "Find logs at: <code>.\\wandb\\run-20220416_102527-9n97xfxp\\logs</code><br/>\n"
      ],
      "text/plain": [
       "<IPython.core.display.HTML object>"
      ]
     },
     "metadata": {},
     "output_type": "display_data"
    },
    {
     "name": "stderr",
     "output_type": "stream",
     "text": [
      "wandb: wandb version 0.12.14 is available!  To upgrade, please run:\n",
      "wandb:  $ pip install wandb --upgrade\n"
     ]
    },
    {
     "data": {
      "text/html": [
       "\n",
       "                    Syncing run <strong><a href=\"https://wandb.ai/awiedenroth/Oesch8_nur_averages/runs/254y27wb\" target=\"_blank\">toasty-star-30</a></strong> to <a href=\"https://wandb.ai/awiedenroth/Oesch8_nur_averages\" target=\"_blank\">Weights & Biases</a> (<a href=\"https://docs.wandb.com/integrations/jupyter.html\" target=\"_blank\">docs</a>).<br/>\n",
       "\n",
       "                "
      ],
      "text/plain": [
       "<IPython.core.display.HTML object>"
      ]
     },
     "metadata": {},
     "output_type": "display_data"
    },
    {
     "data": {
      "text/html": [
       "<br/>Waiting for W&B process to finish, PID 22024... <strong style=\"color:green\">(success).</strong>"
      ],
      "text/plain": [
       "<IPython.core.display.HTML object>"
      ]
     },
     "metadata": {},
     "output_type": "display_data"
    },
    {
     "data": {
      "application/vnd.jupyter.widget-view+json": {
       "model_id": "e73357c1ebf5420f843dfad27fba2e29",
       "version_major": 2,
       "version_minor": 0
      },
      "text/plain": [
       "VBox(children=(Label(value=' 0.00MB of 0.00MB uploaded (0.00MB deduped)\\r'), FloatProgress(value=1.0, max=1.0)…"
      ]
     },
     "metadata": {},
     "output_type": "display_data"
    },
    {
     "data": {
      "text/html": [
       "<style>\n",
       "    table.wandb td:nth-child(1) { padding: 0 10px; text-align: right }\n",
       "    .wandb-row { display: flex; flex-direction: row; flex-wrap: wrap; width: 100% }\n",
       "    .wandb-col { display: flex; flex-direction: column; flex-basis: 100%; flex: 1; padding: 10px; }\n",
       "    </style>\n",
       "<div class=\"wandb-row\"><div class=\"wandb-col\">\n",
       "<h3>Run history:</h3><br/><table class=\"wandb\"><tr><td>average.fasttext validation accuracy</td><td>▁</td></tr><tr><td>average.fasttext validation balanced acc</td><td>▁</td></tr><tr><td>average.fasttext validation balanced adjusted accuracy</td><td>▁</td></tr></table><br/></div><div class=\"wandb-col\">\n",
       "<h3>Run summary:</h3><br/><table class=\"wandb\"><tr><td>average.fasttext validation accuracy</td><td>0.83645</td></tr><tr><td>average.fasttext validation balanced acc</td><td>0.74512</td></tr><tr><td>average.fasttext validation balanced adjusted accuracy</td><td>0.49025</td></tr></table>\n",
       "</div></div>\n",
       "Synced 4 W&B file(s), 0 media file(s), 0 artifact file(s) and 0 other file(s)\n",
       "<br/>Synced <strong style=\"color:#cdcd00\">toasty-star-30</strong>: <a href=\"https://wandb.ai/awiedenroth/Oesch8_nur_averages/runs/254y27wb\" target=\"_blank\">https://wandb.ai/awiedenroth/Oesch8_nur_averages/runs/254y27wb</a><br/>\n",
       "Find logs at: <code>.\\wandb\\run-20220416_102542-254y27wb\\logs</code><br/>\n"
      ],
      "text/plain": [
       "<IPython.core.display.HTML object>"
      ]
     },
     "metadata": {},
     "output_type": "display_data"
    },
    {
     "name": "stderr",
     "output_type": "stream",
     "text": [
      "wandb: wandb version 0.12.14 is available!  To upgrade, please run:\n",
      "wandb:  $ pip install wandb --upgrade\n"
     ]
    },
    {
     "data": {
      "text/html": [
       "\n",
       "                    Syncing run <strong><a href=\"https://wandb.ai/awiedenroth/Oesch8_nur_averages/runs/1v414x8t\" target=\"_blank\">dainty-firebrand-31</a></strong> to <a href=\"https://wandb.ai/awiedenroth/Oesch8_nur_averages\" target=\"_blank\">Weights & Biases</a> (<a href=\"https://docs.wandb.com/integrations/jupyter.html\" target=\"_blank\">docs</a>).<br/>\n",
       "\n",
       "                "
      ],
      "text/plain": [
       "<IPython.core.display.HTML object>"
      ]
     },
     "metadata": {},
     "output_type": "display_data"
    },
    {
     "data": {
      "text/html": [
       "<br/>Waiting for W&B process to finish, PID 21668... <strong style=\"color:green\">(success).</strong>"
      ],
      "text/plain": [
       "<IPython.core.display.HTML object>"
      ]
     },
     "metadata": {},
     "output_type": "display_data"
    },
    {
     "data": {
      "application/vnd.jupyter.widget-view+json": {
       "model_id": "93a3a447297149b6917e1c12b3a055ae",
       "version_major": 2,
       "version_minor": 0
      },
      "text/plain": [
       "VBox(children=(Label(value=' 0.00MB of 0.00MB uploaded (0.00MB deduped)\\r'), FloatProgress(value=1.0, max=1.0)…"
      ]
     },
     "metadata": {},
     "output_type": "display_data"
    },
    {
     "data": {
      "text/html": [
       "<style>\n",
       "    table.wandb td:nth-child(1) { padding: 0 10px; text-align: right }\n",
       "    .wandb-row { display: flex; flex-direction: row; flex-wrap: wrap; width: 100% }\n",
       "    .wandb-col { display: flex; flex-direction: column; flex-basis: 100%; flex: 1; padding: 10px; }\n",
       "    </style>\n",
       "<div class=\"wandb-row\"><div class=\"wandb-col\">\n",
       "<h3>Run history:</h3><br/><table class=\"wandb\"><tr><td>average.fasttext validation accuracy</td><td>▁</td></tr><tr><td>average.fasttext validation balanced acc</td><td>▁</td></tr><tr><td>average.fasttext validation balanced adjusted accuracy</td><td>▁</td></tr></table><br/></div><div class=\"wandb-col\">\n",
       "<h3>Run summary:</h3><br/><table class=\"wandb\"><tr><td>average.fasttext validation accuracy</td><td>0.84038</td></tr><tr><td>average.fasttext validation balanced acc</td><td>0.75067</td></tr><tr><td>average.fasttext validation balanced adjusted accuracy</td><td>0.50135</td></tr></table>\n",
       "</div></div>\n",
       "Synced 4 W&B file(s), 0 media file(s), 0 artifact file(s) and 0 other file(s)\n",
       "<br/>Synced <strong style=\"color:#cdcd00\">dainty-firebrand-31</strong>: <a href=\"https://wandb.ai/awiedenroth/Oesch8_nur_averages/runs/1v414x8t\" target=\"_blank\">https://wandb.ai/awiedenroth/Oesch8_nur_averages/runs/1v414x8t</a><br/>\n",
       "Find logs at: <code>.\\wandb\\run-20220416_102557-1v414x8t\\logs</code><br/>\n"
      ],
      "text/plain": [
       "<IPython.core.display.HTML object>"
      ]
     },
     "metadata": {},
     "output_type": "display_data"
    },
    {
     "name": "stderr",
     "output_type": "stream",
     "text": [
      "wandb: wandb version 0.12.14 is available!  To upgrade, please run:\n",
      "wandb:  $ pip install wandb --upgrade\n"
     ]
    },
    {
     "data": {
      "text/html": [
       "\n",
       "                    Syncing run <strong><a href=\"https://wandb.ai/awiedenroth/Oesch8_nur_averages/runs/ilvffbdm\" target=\"_blank\">dauntless-plant-32</a></strong> to <a href=\"https://wandb.ai/awiedenroth/Oesch8_nur_averages\" target=\"_blank\">Weights & Biases</a> (<a href=\"https://docs.wandb.com/integrations/jupyter.html\" target=\"_blank\">docs</a>).<br/>\n",
       "\n",
       "                "
      ],
      "text/plain": [
       "<IPython.core.display.HTML object>"
      ]
     },
     "metadata": {},
     "output_type": "display_data"
    },
    {
     "data": {
      "text/html": [
       "<br/>Waiting for W&B process to finish, PID 16800... <strong style=\"color:green\">(success).</strong>"
      ],
      "text/plain": [
       "<IPython.core.display.HTML object>"
      ]
     },
     "metadata": {},
     "output_type": "display_data"
    },
    {
     "data": {
      "application/vnd.jupyter.widget-view+json": {
       "model_id": "cc6119329ce0444887a8a1832b41f677",
       "version_major": 2,
       "version_minor": 0
      },
      "text/plain": [
       "VBox(children=(Label(value=' 0.00MB of 0.00MB uploaded (0.00MB deduped)\\r'), FloatProgress(value=1.0, max=1.0)…"
      ]
     },
     "metadata": {},
     "output_type": "display_data"
    },
    {
     "data": {
      "text/html": [
       "<style>\n",
       "    table.wandb td:nth-child(1) { padding: 0 10px; text-align: right }\n",
       "    .wandb-row { display: flex; flex-direction: row; flex-wrap: wrap; width: 100% }\n",
       "    .wandb-col { display: flex; flex-direction: column; flex-basis: 100%; flex: 1; padding: 10px; }\n",
       "    </style>\n",
       "<div class=\"wandb-row\"><div class=\"wandb-col\">\n",
       "<h3>Run history:</h3><br/><table class=\"wandb\"><tr><td>average.fasttext validation accuracy</td><td>▁</td></tr><tr><td>average.fasttext validation balanced acc</td><td>▁</td></tr><tr><td>average.fasttext validation balanced adjusted accuracy</td><td>▁</td></tr></table><br/></div><div class=\"wandb-col\">\n",
       "<h3>Run summary:</h3><br/><table class=\"wandb\"><tr><td>average.fasttext validation accuracy</td><td>0.83547</td></tr><tr><td>average.fasttext validation balanced acc</td><td>0.73671</td></tr><tr><td>average.fasttext validation balanced adjusted accuracy</td><td>0.47343</td></tr></table>\n",
       "</div></div>\n",
       "Synced 4 W&B file(s), 0 media file(s), 0 artifact file(s) and 0 other file(s)\n",
       "<br/>Synced <strong style=\"color:#cdcd00\">dauntless-plant-32</strong>: <a href=\"https://wandb.ai/awiedenroth/Oesch8_nur_averages/runs/ilvffbdm\" target=\"_blank\">https://wandb.ai/awiedenroth/Oesch8_nur_averages/runs/ilvffbdm</a><br/>\n",
       "Find logs at: <code>.\\wandb\\run-20220416_102612-ilvffbdm\\logs</code><br/>\n"
      ],
      "text/plain": [
       "<IPython.core.display.HTML object>"
      ]
     },
     "metadata": {},
     "output_type": "display_data"
    }
   ],
   "source": [
    "a = df.groupby([\"ft_model\",\"keyboard_aug\", \"remove_num_punc\", \"remove_stopwords\", \"lowercase\"], \n",
    "              as_index= False)[[\"average.fasttext validation accuracy\", \"average.fasttext validation balanced acc\", \"average.fasttext validation balanced adjusted accuracy\"\n",
    "                               ]].mean().to_dict(orient= \"index\")\n",
    "\n",
    "config = ['ft_model', 'keyboard_aug', 'remove_num_punc', 'remove_stopwords', 'lowercase']\n",
    "results = [\"average.fasttext validation accuracy\", \"average.fasttext validation balanced acc\", \"average.fasttext validation balanced adjusted accuracy\"]\n",
    "    \n",
    "\n",
    "for x,y in a.items():\n",
    "    \n",
    "    conf={}\n",
    "    metr={}\n",
    "    for k,v in y.items():\n",
    "        if k in config:\n",
    "            conf[k] = v\n",
    "        if k in results:\n",
    "            metr[k] = v\n",
    "    run = wandb.init(project=\"Oesch8_nur_averages\", entity=\"awiedenroth\", config=conf)\n",
    "    wandb.log(metr)\n",
    "    run.finish()\n",
    "    #print(conf)\n",
    "    #print(metr)\n"
   ]
  }
 ],
 "metadata": {
  "kernelspec": {
   "display_name": "Python 3",
   "language": "python",
   "name": "python3"
  },
  "language_info": {
   "codemirror_mode": {
    "name": "ipython",
    "version": 3
   },
   "file_extension": ".py",
   "mimetype": "text/x-python",
   "name": "python",
   "nbconvert_exporter": "python",
   "pygments_lexer": "ipython3",
   "version": "3.8.5"
  }
 },
 "nbformat": 4,
 "nbformat_minor": 4
}
