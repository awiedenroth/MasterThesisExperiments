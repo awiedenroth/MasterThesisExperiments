{
 "cells": [
  {
   "cell_type": "code",
   "execution_count": 2,
   "metadata": {},
   "outputs": [
    {
     "name": "stderr",
     "output_type": "stream",
     "text": [
      "wandb: Currently logged in as: awiedenroth (use `wandb login --relogin` to force relogin)\n"
     ]
    },
    {
     "data": {
      "text/plain": [
       "True"
      ]
     },
     "execution_count": 2,
     "metadata": {},
     "output_type": "execute_result"
    }
   ],
   "source": [
    "!pip install wandb -qqq\n",
    "import wandb\n",
    "wandb.login()"
   ]
  },
  {
   "cell_type": "code",
   "execution_count": 1,
   "metadata": {},
   "outputs": [],
   "source": [
    "import pandas as pd\n",
    "import numpy as np\n",
    "import nltk\n",
    "from pathlib import Path\n",
    "import dtale"
   ]
  },
  {
   "cell_type": "code",
   "execution_count": 3,
   "metadata": {},
   "outputs": [
    {
     "data": {
      "text/html": [
       "<div>\n",
       "<style scoped>\n",
       "    .dataframe tbody tr th:only-of-type {\n",
       "        vertical-align: middle;\n",
       "    }\n",
       "\n",
       "    .dataframe tbody tr th {\n",
       "        vertical-align: top;\n",
       "    }\n",
       "\n",
       "    .dataframe thead th {\n",
       "        text-align: right;\n",
       "    }\n",
       "</style>\n",
       "<table border=\"1\" class=\"dataframe\">\n",
       "  <thead>\n",
       "    <tr style=\"text-align: right;\">\n",
       "      <th></th>\n",
       "      <th>Name</th>\n",
       "      <th>random_seed</th>\n",
       "      <th>meta_model</th>\n",
       "      <th>meta_zusatzdaten</th>\n",
       "      <th>oesch</th>\n",
       "      <th>selbstständige</th>\n",
       "      <th>average.meta validation accuracy</th>\n",
       "      <th>average.meta validation balanced acc</th>\n",
       "      <th>average.meta validation balanced adjusted accuracy</th>\n",
       "    </tr>\n",
       "  </thead>\n",
       "  <tbody>\n",
       "    <tr>\n",
       "      <th>0</th>\n",
       "      <td>wild-sweep-39</td>\n",
       "      <td>44</td>\n",
       "      <td>linear</td>\n",
       "      <td>False</td>\n",
       "      <td>oesch8</td>\n",
       "      <td>ohne</td>\n",
       "      <td>0.555</td>\n",
       "      <td>0.550</td>\n",
       "      <td>0.460</td>\n",
       "    </tr>\n",
       "    <tr>\n",
       "      <th>1</th>\n",
       "      <td>stellar-sweep-38</td>\n",
       "      <td>33</td>\n",
       "      <td>linear</td>\n",
       "      <td>False</td>\n",
       "      <td>oesch8</td>\n",
       "      <td>nur</td>\n",
       "      <td>0.786</td>\n",
       "      <td>0.687</td>\n",
       "      <td>0.375</td>\n",
       "    </tr>\n",
       "    <tr>\n",
       "      <th>2</th>\n",
       "      <td>upbeat-sweep-37</td>\n",
       "      <td>33</td>\n",
       "      <td>linear</td>\n",
       "      <td>False</td>\n",
       "      <td>oesch8</td>\n",
       "      <td>ohne</td>\n",
       "      <td>0.554</td>\n",
       "      <td>0.549</td>\n",
       "      <td>0.459</td>\n",
       "    </tr>\n",
       "    <tr>\n",
       "      <th>3</th>\n",
       "      <td>comfy-sweep-34</td>\n",
       "      <td>44</td>\n",
       "      <td>linear</td>\n",
       "      <td>False</td>\n",
       "      <td>oesch16</td>\n",
       "      <td>ohne</td>\n",
       "      <td>0.424</td>\n",
       "      <td>0.320</td>\n",
       "      <td>0.258</td>\n",
       "    </tr>\n",
       "    <tr>\n",
       "      <th>4</th>\n",
       "      <td>jolly-sweep-35</td>\n",
       "      <td>44</td>\n",
       "      <td>linear</td>\n",
       "      <td>False</td>\n",
       "      <td>oesch16</td>\n",
       "      <td>nur</td>\n",
       "      <td>0.788</td>\n",
       "      <td>0.689</td>\n",
       "      <td>0.582</td>\n",
       "    </tr>\n",
       "  </tbody>\n",
       "</table>\n",
       "</div>"
      ],
      "text/plain": [
       "               Name  random_seed meta_model  meta_zusatzdaten    oesch  \\\n",
       "0     wild-sweep-39           44     linear             False   oesch8   \n",
       "1  stellar-sweep-38           33     linear             False   oesch8   \n",
       "2   upbeat-sweep-37           33     linear             False   oesch8   \n",
       "3    comfy-sweep-34           44     linear             False  oesch16   \n",
       "4    jolly-sweep-35           44     linear             False  oesch16   \n",
       "\n",
       "  selbstständige  average.meta validation accuracy  \\\n",
       "0           ohne                             0.555   \n",
       "1            nur                             0.786   \n",
       "2           ohne                             0.554   \n",
       "3           ohne                             0.424   \n",
       "4            nur                             0.788   \n",
       "\n",
       "   average.meta validation balanced acc  \\\n",
       "0                                 0.550   \n",
       "1                                 0.687   \n",
       "2                                 0.549   \n",
       "3                                 0.320   \n",
       "4                                 0.689   \n",
       "\n",
       "   average.meta validation balanced adjusted accuracy  \n",
       "0                                              0.460   \n",
       "1                                              0.375   \n",
       "2                                              0.459   \n",
       "3                                              0.258   \n",
       "4                                              0.582   "
      ]
     },
     "execution_count": 3,
     "metadata": {},
     "output_type": "execute_result"
    }
   ],
   "source": [
    "df = pd.read_csv(\"./meta.csv\",  sep = \",\")\n",
    "df.head()"
   ]
  },
  {
   "cell_type": "code",
   "execution_count": 4,
   "metadata": {},
   "outputs": [],
   "source": [
    "a = df.groupby([\"meta_model\",\"meta_zusatzdaten\", \"oesch\", \"selbstständige\"], \n",
    "              as_index= False)[[\"average.meta validation accuracy\", \"average.meta validation balanced acc\", \"average.meta validation balanced adjusted accuracy\"\n",
    "                               ]].mean().to_dict(orient= \"index\")"
   ]
  },
  {
   "cell_type": "code",
   "execution_count": 5,
   "metadata": {},
   "outputs": [
    {
     "name": "stdout",
     "output_type": "stream",
     "text": [
      "{0: {'average.meta validation accuracy': 0.7850591470911796,\n",
      "     'average.meta validation balanced acc': 0.678077491191376,\n",
      "     'average.meta validation balanced adjusted accuracy': 0.5683945856786784,\n",
      "     'meta_model': 'linear',\n",
      "     'meta_zusatzdaten': False,\n",
      "     'oesch': 'oesch16',\n",
      "     'selbstständige': 'nur'},\n",
      " 1: {'average.meta validation accuracy': 0.42533333333333334,\n",
      "     'average.meta validation balanced acc': 0.3213333333333333,\n",
      "     'average.meta validation balanced adjusted accuracy': 0.25966666666666666,\n",
      "     'meta_model': 'linear',\n",
      "     'meta_zusatzdaten': False,\n",
      "     'oesch': 'oesch16',\n",
      "     'selbstständige': 'ohne'},\n",
      " 2: {'average.meta validation accuracy': 0.7850753251795767,\n",
      "     'average.meta validation balanced acc': 0.6841426262480943,\n",
      "     'average.meta validation balanced adjusted accuracy': 0.3686185858295219,\n",
      "     'meta_model': 'linear',\n",
      "     'meta_zusatzdaten': False,\n",
      "     'oesch': 'oesch8',\n",
      "     'selbstständige': 'nur'},\n",
      " 3: {'average.meta validation accuracy': 0.5544290673436553,\n",
      "     'average.meta validation balanced acc': 0.5493082716204633,\n",
      "     'average.meta validation balanced adjusted accuracy': 0.4592365926112225,\n",
      "     'meta_model': 'linear',\n",
      "     'meta_zusatzdaten': False,\n",
      "     'oesch': 'oesch8',\n",
      "     'selbstständige': 'ohne'},\n",
      " 4: {'average.meta validation accuracy': 0.7881245065683039,\n",
      "     'average.meta validation balanced acc': 0.7023174900127297,\n",
      "     'average.meta validation balanced adjusted accuracy': 0.6009191936079551,\n",
      "     'meta_model': 'linear',\n",
      "     'meta_zusatzdaten': True,\n",
      "     'oesch': 'oesch16',\n",
      "     'selbstständige': 'nur'},\n",
      " 5: {'average.meta validation accuracy': 0.42166666666666663,\n",
      "     'average.meta validation balanced acc': 0.3193333333333333,\n",
      "     'average.meta validation balanced adjusted accuracy': 0.25733333333333336,\n",
      "     'meta_model': 'linear',\n",
      "     'meta_zusatzdaten': True,\n",
      "     'oesch': 'oesch16',\n",
      "     'selbstständige': 'ohne'},\n",
      " 6: {'average.meta validation accuracy': 0.783,\n",
      "     'average.meta validation balanced acc': 0.6816666666666668,\n",
      "     'average.meta validation balanced adjusted accuracy': 0.36366666666666664,\n",
      "     'meta_model': 'linear',\n",
      "     'meta_zusatzdaten': True,\n",
      "     'oesch': 'oesch8',\n",
      "     'selbstständige': 'nur'},\n",
      " 7: {'average.meta validation accuracy': 0.5494877247420562,\n",
      "     'average.meta validation balanced acc': 0.5464078552040806,\n",
      "     'average.meta validation balanced adjusted accuracy': 0.4555560929115634,\n",
      "     'meta_model': 'linear',\n",
      "     'meta_zusatzdaten': True,\n",
      "     'oesch': 'oesch8',\n",
      "     'selbstständige': 'ohne'},\n",
      " 8: {'average.meta validation accuracy': 0.783,\n",
      "     'average.meta validation balanced acc': 0.7156666666666666,\n",
      "     'average.meta validation balanced adjusted accuracy': 0.6183333333333334,\n",
      "     'meta_model': 'nn',\n",
      "     'meta_zusatzdaten': False,\n",
      "     'oesch': 'oesch16',\n",
      "     'selbstständige': 'nur'},\n",
      " 9: {'average.meta validation accuracy': 0.4756666666666667,\n",
      "     'average.meta validation balanced acc': 0.37966666666666665,\n",
      "     'average.meta validation balanced adjusted accuracy': 0.3233333333333333,\n",
      "     'meta_model': 'nn',\n",
      "     'meta_zusatzdaten': False,\n",
      "     'oesch': 'oesch16',\n",
      "     'selbstständige': 'ohne'},\n",
      " 10: {'average.meta validation accuracy': 0.7833921568627451,\n",
      "      'average.meta validation balanced acc': 0.7053204440759689,\n",
      "      'average.meta validation balanced adjusted accuracy': 0.4106408881519379,\n",
      "      'meta_model': 'nn',\n",
      "      'meta_zusatzdaten': False,\n",
      "      'oesch': 'oesch8',\n",
      "      'selbstständige': 'nur'},\n",
      " 11: {'average.meta validation accuracy': 0.5928385822211769,\n",
      "      'average.meta validation balanced acc': 0.5909148101622765,\n",
      "      'average.meta validation balanced adjusted accuracy': 0.5089644388613985,\n",
      "      'meta_model': 'nn',\n",
      "      'meta_zusatzdaten': False,\n",
      "      'oesch': 'oesch8',\n",
      "      'selbstständige': 'ohne'},\n",
      " 12: {'average.meta validation accuracy': 0.7930133307448392,\n",
      "      'average.meta validation balanced acc': 0.7904504744003474,\n",
      "      'average.meta validation balanced adjusted accuracy': 0.7184244046755035,\n",
      "      'meta_model': 'nn',\n",
      "      'meta_zusatzdaten': True,\n",
      "      'oesch': 'oesch16',\n",
      "      'selbstständige': 'nur'},\n",
      " 13: {'average.meta validation accuracy': 0.479288076012168,\n",
      "      'average.meta validation balanced acc': 0.3871331591765091,\n",
      "      'average.meta validation balanced adjusted accuracy': 0.3314179918289191,\n",
      "      'meta_model': 'nn',\n",
      "      'meta_zusatzdaten': True,\n",
      "      'oesch': 'oesch16',\n",
      "      'selbstständige': 'ohne'},\n",
      " 14: {'average.meta validation accuracy': 0.8013333333333333,\n",
      "      'average.meta validation balanced acc': 0.727,\n",
      "      'average.meta validation balanced adjusted accuracy': 0.45366666666666666,\n",
      "      'meta_model': 'nn',\n",
      "      'meta_zusatzdaten': True,\n",
      "      'oesch': 'oesch8',\n",
      "      'selbstständige': 'nur'},\n",
      " 15: {'average.meta validation accuracy': 0.5943333333333333,\n",
      "      'average.meta validation balanced acc': 0.596,\n",
      "      'average.meta validation balanced adjusted accuracy': 0.515,\n",
      "      'meta_model': 'nn',\n",
      "      'meta_zusatzdaten': True,\n",
      "      'oesch': 'oesch8',\n",
      "      'selbstständige': 'ohne'},\n",
      " 16: {'average.meta validation accuracy': 0.8046301688992429,\n",
      "      'average.meta validation balanced acc': 0.8277184414540102,\n",
      "      'average.meta validation balanced adjusted accuracy': 0.7682609444123676,\n",
      "      'meta_model': 'xgboost',\n",
      "      'meta_zusatzdaten': False,\n",
      "      'oesch': 'oesch16',\n",
      "      'selbstständige': 'nur'},\n",
      " 17: {'average.meta validation accuracy': 0.5047868940888995,\n",
      "      'average.meta validation balanced acc': 0.4336516196020234,\n",
      "      'average.meta validation balanced adjusted accuracy': 0.38216540320220743,\n",
      "      'meta_model': 'xgboost',\n",
      "      'meta_zusatzdaten': False,\n",
      "      'oesch': 'oesch16',\n",
      "      'selbstständige': 'ohne'},\n",
      " 18: {'average.meta validation accuracy': 0.8092279816216917,\n",
      "      'average.meta validation balanced acc': 0.745170928597153,\n",
      "      'average.meta validation balanced adjusted accuracy': 0.49034185719430606,\n",
      "      'meta_model': 'xgboost',\n",
      "      'meta_zusatzdaten': False,\n",
      "      'oesch': 'oesch8',\n",
      "      'selbstständige': 'nur'},\n",
      " 19: {'average.meta validation accuracy': 0.6166559717693425,\n",
      "      'average.meta validation balanced acc': 0.6159074848395356,\n",
      "      'average.meta validation balanced adjusted accuracy': 0.5390889818074428,\n",
      "      'meta_model': 'xgboost',\n",
      "      'meta_zusatzdaten': False,\n",
      "      'oesch': 'oesch8',\n",
      "      'selbstständige': 'ohne'},\n",
      " 20: {'average.meta validation accuracy': 0.8252512133566299,\n",
      "      'average.meta validation balanced acc': 0.856147851806324,\n",
      "      'average.meta validation balanced adjusted accuracy': 0.806863802408432,\n",
      "      'meta_model': 'xgboost',\n",
      "      'meta_zusatzdaten': True,\n",
      "      'oesch': 'oesch16',\n",
      "      'selbstständige': 'nur'},\n",
      " 21: {'average.meta validation accuracy': 0.5113220012588684,\n",
      "      'average.meta validation balanced acc': 0.4393051772050038,\n",
      "      'average.meta validation balanced adjusted accuracy': 0.38809049634485265,\n",
      "      'meta_model': 'xgboost',\n",
      "      'meta_zusatzdaten': True,\n",
      "      'oesch': 'oesch16',\n",
      "      'selbstständige': 'ohne'},\n",
      " 22: {'average.meta validation accuracy': 0.829230570115835,\n",
      "      'average.meta validation balanced acc': 0.7742288747614908,\n",
      "      'average.meta validation balanced adjusted accuracy': 0.5484577495229815,\n",
      "      'meta_model': 'xgboost',\n",
      "      'meta_zusatzdaten': True,\n",
      "      'oesch': 'oesch8',\n",
      "      'selbstständige': 'nur'},\n",
      " 23: {'average.meta validation accuracy': 0.6233308843147636,\n",
      "      'average.meta validation balanced acc': 0.6229389353829099,\n",
      "      'average.meta validation balanced adjusted accuracy': 0.5473933891261585,\n",
      "      'meta_model': 'xgboost',\n",
      "      'meta_zusatzdaten': True,\n",
      "      'oesch': 'oesch8',\n",
      "      'selbstständige': 'ohne'}}\n"
     ]
    }
   ],
   "source": [
    "import pprint\n",
    "pprint.pprint(a)"
   ]
  },
  {
   "cell_type": "code",
   "execution_count": 6,
   "metadata": {},
   "outputs": [
    {
     "name": "stderr",
     "output_type": "stream",
     "text": [
      "wandb: wandb version 0.12.14 is available!  To upgrade, please run:\n",
      "wandb:  $ pip install wandb --upgrade\n"
     ]
    },
    {
     "data": {
      "text/html": [
       "\n",
       "                    Syncing run <strong><a href=\"https://wandb.ai/awiedenroth/meta_averages/runs/1z8pfp8t\" target=\"_blank\">sparkling-vortex-1</a></strong> to <a href=\"https://wandb.ai/awiedenroth/meta_averages\" target=\"_blank\">Weights & Biases</a> (<a href=\"https://docs.wandb.com/integrations/jupyter.html\" target=\"_blank\">docs</a>).<br/>\n",
       "\n",
       "                "
      ],
      "text/plain": [
       "<IPython.core.display.HTML object>"
      ]
     },
     "metadata": {},
     "output_type": "display_data"
    },
    {
     "data": {
      "text/html": [
       "<br/>Waiting for W&B process to finish, PID 15648... <strong style=\"color:green\">(success).</strong>"
      ],
      "text/plain": [
       "<IPython.core.display.HTML object>"
      ]
     },
     "metadata": {},
     "output_type": "display_data"
    },
    {
     "data": {
      "application/vnd.jupyter.widget-view+json": {
       "model_id": "fd95f9976f374953b295afe288e2d8cf",
       "version_major": 2,
       "version_minor": 0
      },
      "text/plain": [
       "VBox(children=(Label(value=' 0.00MB of 0.00MB uploaded (0.00MB deduped)\\r'), FloatProgress(value=1.0, max=1.0)…"
      ]
     },
     "metadata": {},
     "output_type": "display_data"
    },
    {
     "data": {
      "text/html": [
       "<style>\n",
       "    table.wandb td:nth-child(1) { padding: 0 10px; text-align: right }\n",
       "    .wandb-row { display: flex; flex-direction: row; flex-wrap: wrap; width: 100% }\n",
       "    .wandb-col { display: flex; flex-direction: column; flex-basis: 100%; flex: 1; padding: 10px; }\n",
       "    </style>\n",
       "<div class=\"wandb-row\"><div class=\"wandb-col\">\n",
       "<h3>Run history:</h3><br/><table class=\"wandb\"><tr><td>average.meta validation accuracy</td><td>▁</td></tr><tr><td>average.meta validation balanced acc</td><td>▁</td></tr><tr><td>average.meta validation balanced adjusted accuracy</td><td>▁</td></tr></table><br/></div><div class=\"wandb-col\">\n",
       "<h3>Run summary:</h3><br/><table class=\"wandb\"><tr><td>average.meta validation accuracy</td><td>0.78506</td></tr><tr><td>average.meta validation balanced acc</td><td>0.67808</td></tr><tr><td>average.meta validation balanced adjusted accuracy</td><td>0.56839</td></tr></table>\n",
       "</div></div>\n",
       "Synced 4 W&B file(s), 0 media file(s), 0 artifact file(s) and 0 other file(s)\n",
       "<br/>Synced <strong style=\"color:#cdcd00\">sparkling-vortex-1</strong>: <a href=\"https://wandb.ai/awiedenroth/meta_averages/runs/1z8pfp8t\" target=\"_blank\">https://wandb.ai/awiedenroth/meta_averages/runs/1z8pfp8t</a><br/>\n",
       "Find logs at: <code>.\\wandb\\run-20220417_144217-1z8pfp8t\\logs</code><br/>\n"
      ],
      "text/plain": [
       "<IPython.core.display.HTML object>"
      ]
     },
     "metadata": {},
     "output_type": "display_data"
    },
    {
     "name": "stderr",
     "output_type": "stream",
     "text": [
      "wandb: wandb version 0.12.14 is available!  To upgrade, please run:\n",
      "wandb:  $ pip install wandb --upgrade\n"
     ]
    },
    {
     "data": {
      "text/html": [
       "\n",
       "                    Syncing run <strong><a href=\"https://wandb.ai/awiedenroth/meta_averages/runs/2ea7k618\" target=\"_blank\">legendary-dew-2</a></strong> to <a href=\"https://wandb.ai/awiedenroth/meta_averages\" target=\"_blank\">Weights & Biases</a> (<a href=\"https://docs.wandb.com/integrations/jupyter.html\" target=\"_blank\">docs</a>).<br/>\n",
       "\n",
       "                "
      ],
      "text/plain": [
       "<IPython.core.display.HTML object>"
      ]
     },
     "metadata": {},
     "output_type": "display_data"
    },
    {
     "data": {
      "text/html": [
       "<br/>Waiting for W&B process to finish, PID 4400... <strong style=\"color:green\">(success).</strong>"
      ],
      "text/plain": [
       "<IPython.core.display.HTML object>"
      ]
     },
     "metadata": {},
     "output_type": "display_data"
    },
    {
     "data": {
      "application/vnd.jupyter.widget-view+json": {
       "model_id": "cf81330c6deb49509a04a130898bf215",
       "version_major": 2,
       "version_minor": 0
      },
      "text/plain": [
       "VBox(children=(Label(value=' 0.00MB of 0.00MB uploaded (0.00MB deduped)\\r'), FloatProgress(value=1.0, max=1.0)…"
      ]
     },
     "metadata": {},
     "output_type": "display_data"
    },
    {
     "data": {
      "text/html": [
       "<style>\n",
       "    table.wandb td:nth-child(1) { padding: 0 10px; text-align: right }\n",
       "    .wandb-row { display: flex; flex-direction: row; flex-wrap: wrap; width: 100% }\n",
       "    .wandb-col { display: flex; flex-direction: column; flex-basis: 100%; flex: 1; padding: 10px; }\n",
       "    </style>\n",
       "<div class=\"wandb-row\"><div class=\"wandb-col\">\n",
       "<h3>Run history:</h3><br/><table class=\"wandb\"><tr><td>average.meta validation accuracy</td><td>▁</td></tr><tr><td>average.meta validation balanced acc</td><td>▁</td></tr><tr><td>average.meta validation balanced adjusted accuracy</td><td>▁</td></tr></table><br/></div><div class=\"wandb-col\">\n",
       "<h3>Run summary:</h3><br/><table class=\"wandb\"><tr><td>average.meta validation accuracy</td><td>0.42533</td></tr><tr><td>average.meta validation balanced acc</td><td>0.32133</td></tr><tr><td>average.meta validation balanced adjusted accuracy</td><td>0.25967</td></tr></table>\n",
       "</div></div>\n",
       "Synced 4 W&B file(s), 0 media file(s), 0 artifact file(s) and 0 other file(s)\n",
       "<br/>Synced <strong style=\"color:#cdcd00\">legendary-dew-2</strong>: <a href=\"https://wandb.ai/awiedenroth/meta_averages/runs/2ea7k618\" target=\"_blank\">https://wandb.ai/awiedenroth/meta_averages/runs/2ea7k618</a><br/>\n",
       "Find logs at: <code>.\\wandb\\run-20220417_144234-2ea7k618\\logs</code><br/>\n"
      ],
      "text/plain": [
       "<IPython.core.display.HTML object>"
      ]
     },
     "metadata": {},
     "output_type": "display_data"
    },
    {
     "name": "stderr",
     "output_type": "stream",
     "text": [
      "wandb: wandb version 0.12.14 is available!  To upgrade, please run:\n",
      "wandb:  $ pip install wandb --upgrade\n"
     ]
    },
    {
     "data": {
      "text/html": [
       "\n",
       "                    Syncing run <strong><a href=\"https://wandb.ai/awiedenroth/meta_averages/runs/2bgs4eth\" target=\"_blank\">sweet-glade-3</a></strong> to <a href=\"https://wandb.ai/awiedenroth/meta_averages\" target=\"_blank\">Weights & Biases</a> (<a href=\"https://docs.wandb.com/integrations/jupyter.html\" target=\"_blank\">docs</a>).<br/>\n",
       "\n",
       "                "
      ],
      "text/plain": [
       "<IPython.core.display.HTML object>"
      ]
     },
     "metadata": {},
     "output_type": "display_data"
    },
    {
     "data": {
      "text/html": [
       "<br/>Waiting for W&B process to finish, PID 17860... <strong style=\"color:green\">(success).</strong>"
      ],
      "text/plain": [
       "<IPython.core.display.HTML object>"
      ]
     },
     "metadata": {},
     "output_type": "display_data"
    },
    {
     "data": {
      "application/vnd.jupyter.widget-view+json": {
       "model_id": "f7d03668e9a14c66b867fbd0f6035501",
       "version_major": 2,
       "version_minor": 0
      },
      "text/plain": [
       "VBox(children=(Label(value=' 0.00MB of 0.00MB uploaded (0.00MB deduped)\\r'), FloatProgress(value=1.0, max=1.0)…"
      ]
     },
     "metadata": {},
     "output_type": "display_data"
    },
    {
     "data": {
      "text/html": [
       "<style>\n",
       "    table.wandb td:nth-child(1) { padding: 0 10px; text-align: right }\n",
       "    .wandb-row { display: flex; flex-direction: row; flex-wrap: wrap; width: 100% }\n",
       "    .wandb-col { display: flex; flex-direction: column; flex-basis: 100%; flex: 1; padding: 10px; }\n",
       "    </style>\n",
       "<div class=\"wandb-row\"><div class=\"wandb-col\">\n",
       "<h3>Run history:</h3><br/><table class=\"wandb\"><tr><td>average.meta validation accuracy</td><td>▁</td></tr><tr><td>average.meta validation balanced acc</td><td>▁</td></tr><tr><td>average.meta validation balanced adjusted accuracy</td><td>▁</td></tr></table><br/></div><div class=\"wandb-col\">\n",
       "<h3>Run summary:</h3><br/><table class=\"wandb\"><tr><td>average.meta validation accuracy</td><td>0.78508</td></tr><tr><td>average.meta validation balanced acc</td><td>0.68414</td></tr><tr><td>average.meta validation balanced adjusted accuracy</td><td>0.36862</td></tr></table>\n",
       "</div></div>\n",
       "Synced 4 W&B file(s), 0 media file(s), 0 artifact file(s) and 0 other file(s)\n",
       "<br/>Synced <strong style=\"color:#cdcd00\">sweet-glade-3</strong>: <a href=\"https://wandb.ai/awiedenroth/meta_averages/runs/2bgs4eth\" target=\"_blank\">https://wandb.ai/awiedenroth/meta_averages/runs/2bgs4eth</a><br/>\n",
       "Find logs at: <code>.\\wandb\\run-20220417_144250-2bgs4eth\\logs</code><br/>\n"
      ],
      "text/plain": [
       "<IPython.core.display.HTML object>"
      ]
     },
     "metadata": {},
     "output_type": "display_data"
    },
    {
     "name": "stderr",
     "output_type": "stream",
     "text": [
      "wandb: wandb version 0.12.14 is available!  To upgrade, please run:\n",
      "wandb:  $ pip install wandb --upgrade\n"
     ]
    },
    {
     "data": {
      "text/html": [
       "\n",
       "                    Syncing run <strong><a href=\"https://wandb.ai/awiedenroth/meta_averages/runs/gfr3gbrc\" target=\"_blank\">cerulean-water-4</a></strong> to <a href=\"https://wandb.ai/awiedenroth/meta_averages\" target=\"_blank\">Weights & Biases</a> (<a href=\"https://docs.wandb.com/integrations/jupyter.html\" target=\"_blank\">docs</a>).<br/>\n",
       "\n",
       "                "
      ],
      "text/plain": [
       "<IPython.core.display.HTML object>"
      ]
     },
     "metadata": {},
     "output_type": "display_data"
    },
    {
     "data": {
      "text/html": [
       "<br/>Waiting for W&B process to finish, PID 6968... <strong style=\"color:green\">(success).</strong>"
      ],
      "text/plain": [
       "<IPython.core.display.HTML object>"
      ]
     },
     "metadata": {},
     "output_type": "display_data"
    },
    {
     "data": {
      "application/vnd.jupyter.widget-view+json": {
       "model_id": "6ae21c09ffb24d47aeb8e8db69b71a68",
       "version_major": 2,
       "version_minor": 0
      },
      "text/plain": [
       "VBox(children=(Label(value=' 0.00MB of 0.00MB uploaded (0.00MB deduped)\\r'), FloatProgress(value=1.0, max=1.0)…"
      ]
     },
     "metadata": {},
     "output_type": "display_data"
    },
    {
     "data": {
      "text/html": [
       "<style>\n",
       "    table.wandb td:nth-child(1) { padding: 0 10px; text-align: right }\n",
       "    .wandb-row { display: flex; flex-direction: row; flex-wrap: wrap; width: 100% }\n",
       "    .wandb-col { display: flex; flex-direction: column; flex-basis: 100%; flex: 1; padding: 10px; }\n",
       "    </style>\n",
       "<div class=\"wandb-row\"><div class=\"wandb-col\">\n",
       "<h3>Run history:</h3><br/><table class=\"wandb\"><tr><td>average.meta validation accuracy</td><td>▁</td></tr><tr><td>average.meta validation balanced acc</td><td>▁</td></tr><tr><td>average.meta validation balanced adjusted accuracy</td><td>▁</td></tr></table><br/></div><div class=\"wandb-col\">\n",
       "<h3>Run summary:</h3><br/><table class=\"wandb\"><tr><td>average.meta validation accuracy</td><td>0.55443</td></tr><tr><td>average.meta validation balanced acc</td><td>0.54931</td></tr><tr><td>average.meta validation balanced adjusted accuracy</td><td>0.45924</td></tr></table>\n",
       "</div></div>\n",
       "Synced 4 W&B file(s), 0 media file(s), 0 artifact file(s) and 0 other file(s)\n",
       "<br/>Synced <strong style=\"color:#cdcd00\">cerulean-water-4</strong>: <a href=\"https://wandb.ai/awiedenroth/meta_averages/runs/gfr3gbrc\" target=\"_blank\">https://wandb.ai/awiedenroth/meta_averages/runs/gfr3gbrc</a><br/>\n",
       "Find logs at: <code>.\\wandb\\run-20220417_144305-gfr3gbrc\\logs</code><br/>\n"
      ],
      "text/plain": [
       "<IPython.core.display.HTML object>"
      ]
     },
     "metadata": {},
     "output_type": "display_data"
    },
    {
     "name": "stderr",
     "output_type": "stream",
     "text": [
      "wandb: wandb version 0.12.14 is available!  To upgrade, please run:\n",
      "wandb:  $ pip install wandb --upgrade\n"
     ]
    },
    {
     "data": {
      "text/html": [
       "\n",
       "                    Syncing run <strong><a href=\"https://wandb.ai/awiedenroth/meta_averages/runs/3urgdgm1\" target=\"_blank\">restful-universe-5</a></strong> to <a href=\"https://wandb.ai/awiedenroth/meta_averages\" target=\"_blank\">Weights & Biases</a> (<a href=\"https://docs.wandb.com/integrations/jupyter.html\" target=\"_blank\">docs</a>).<br/>\n",
       "\n",
       "                "
      ],
      "text/plain": [
       "<IPython.core.display.HTML object>"
      ]
     },
     "metadata": {},
     "output_type": "display_data"
    },
    {
     "data": {
      "text/html": [
       "<br/>Waiting for W&B process to finish, PID 440... <strong style=\"color:green\">(success).</strong>"
      ],
      "text/plain": [
       "<IPython.core.display.HTML object>"
      ]
     },
     "metadata": {},
     "output_type": "display_data"
    },
    {
     "data": {
      "application/vnd.jupyter.widget-view+json": {
       "model_id": "d8b920ef5ba94b048517bda80261ab7e",
       "version_major": 2,
       "version_minor": 0
      },
      "text/plain": [
       "VBox(children=(Label(value=' 0.00MB of 0.00MB uploaded (0.00MB deduped)\\r'), FloatProgress(value=1.0, max=1.0)…"
      ]
     },
     "metadata": {},
     "output_type": "display_data"
    },
    {
     "data": {
      "text/html": [
       "<style>\n",
       "    table.wandb td:nth-child(1) { padding: 0 10px; text-align: right }\n",
       "    .wandb-row { display: flex; flex-direction: row; flex-wrap: wrap; width: 100% }\n",
       "    .wandb-col { display: flex; flex-direction: column; flex-basis: 100%; flex: 1; padding: 10px; }\n",
       "    </style>\n",
       "<div class=\"wandb-row\"><div class=\"wandb-col\">\n",
       "<h3>Run history:</h3><br/><table class=\"wandb\"><tr><td>average.meta validation accuracy</td><td>▁</td></tr><tr><td>average.meta validation balanced acc</td><td>▁</td></tr><tr><td>average.meta validation balanced adjusted accuracy</td><td>▁</td></tr></table><br/></div><div class=\"wandb-col\">\n",
       "<h3>Run summary:</h3><br/><table class=\"wandb\"><tr><td>average.meta validation accuracy</td><td>0.78812</td></tr><tr><td>average.meta validation balanced acc</td><td>0.70232</td></tr><tr><td>average.meta validation balanced adjusted accuracy</td><td>0.60092</td></tr></table>\n",
       "</div></div>\n",
       "Synced 4 W&B file(s), 0 media file(s), 0 artifact file(s) and 0 other file(s)\n",
       "<br/>Synced <strong style=\"color:#cdcd00\">restful-universe-5</strong>: <a href=\"https://wandb.ai/awiedenroth/meta_averages/runs/3urgdgm1\" target=\"_blank\">https://wandb.ai/awiedenroth/meta_averages/runs/3urgdgm1</a><br/>\n",
       "Find logs at: <code>.\\wandb\\run-20220417_144321-3urgdgm1\\logs</code><br/>\n"
      ],
      "text/plain": [
       "<IPython.core.display.HTML object>"
      ]
     },
     "metadata": {},
     "output_type": "display_data"
    },
    {
     "name": "stderr",
     "output_type": "stream",
     "text": [
      "wandb: wandb version 0.12.14 is available!  To upgrade, please run:\n",
      "wandb:  $ pip install wandb --upgrade\n"
     ]
    },
    {
     "data": {
      "text/html": [
       "\n",
       "                    Syncing run <strong><a href=\"https://wandb.ai/awiedenroth/meta_averages/runs/3trz891c\" target=\"_blank\">absurd-puddle-6</a></strong> to <a href=\"https://wandb.ai/awiedenroth/meta_averages\" target=\"_blank\">Weights & Biases</a> (<a href=\"https://docs.wandb.com/integrations/jupyter.html\" target=\"_blank\">docs</a>).<br/>\n",
       "\n",
       "                "
      ],
      "text/plain": [
       "<IPython.core.display.HTML object>"
      ]
     },
     "metadata": {},
     "output_type": "display_data"
    },
    {
     "data": {
      "text/html": [
       "<br/>Waiting for W&B process to finish, PID 17244... <strong style=\"color:green\">(success).</strong>"
      ],
      "text/plain": [
       "<IPython.core.display.HTML object>"
      ]
     },
     "metadata": {},
     "output_type": "display_data"
    },
    {
     "data": {
      "application/vnd.jupyter.widget-view+json": {
       "model_id": "3f85cdbf421c453f9f3fae5ff161e2d8",
       "version_major": 2,
       "version_minor": 0
      },
      "text/plain": [
       "VBox(children=(Label(value=' 0.00MB of 0.00MB uploaded (0.00MB deduped)\\r'), FloatProgress(value=1.0, max=1.0)…"
      ]
     },
     "metadata": {},
     "output_type": "display_data"
    },
    {
     "data": {
      "text/html": [
       "<style>\n",
       "    table.wandb td:nth-child(1) { padding: 0 10px; text-align: right }\n",
       "    .wandb-row { display: flex; flex-direction: row; flex-wrap: wrap; width: 100% }\n",
       "    .wandb-col { display: flex; flex-direction: column; flex-basis: 100%; flex: 1; padding: 10px; }\n",
       "    </style>\n",
       "<div class=\"wandb-row\"><div class=\"wandb-col\">\n",
       "<h3>Run history:</h3><br/><table class=\"wandb\"><tr><td>average.meta validation accuracy</td><td>▁</td></tr><tr><td>average.meta validation balanced acc</td><td>▁</td></tr><tr><td>average.meta validation balanced adjusted accuracy</td><td>▁</td></tr></table><br/></div><div class=\"wandb-col\">\n",
       "<h3>Run summary:</h3><br/><table class=\"wandb\"><tr><td>average.meta validation accuracy</td><td>0.42167</td></tr><tr><td>average.meta validation balanced acc</td><td>0.31933</td></tr><tr><td>average.meta validation balanced adjusted accuracy</td><td>0.25733</td></tr></table>\n",
       "</div></div>\n",
       "Synced 4 W&B file(s), 0 media file(s), 0 artifact file(s) and 0 other file(s)\n",
       "<br/>Synced <strong style=\"color:#cdcd00\">absurd-puddle-6</strong>: <a href=\"https://wandb.ai/awiedenroth/meta_averages/runs/3trz891c\" target=\"_blank\">https://wandb.ai/awiedenroth/meta_averages/runs/3trz891c</a><br/>\n",
       "Find logs at: <code>.\\wandb\\run-20220417_144336-3trz891c\\logs</code><br/>\n"
      ],
      "text/plain": [
       "<IPython.core.display.HTML object>"
      ]
     },
     "metadata": {},
     "output_type": "display_data"
    },
    {
     "name": "stderr",
     "output_type": "stream",
     "text": [
      "wandb: wandb version 0.12.14 is available!  To upgrade, please run:\n",
      "wandb:  $ pip install wandb --upgrade\n"
     ]
    },
    {
     "data": {
      "text/html": [
       "\n",
       "                    Syncing run <strong><a href=\"https://wandb.ai/awiedenroth/meta_averages/runs/2f9vveoh\" target=\"_blank\">effortless-resonance-7</a></strong> to <a href=\"https://wandb.ai/awiedenroth/meta_averages\" target=\"_blank\">Weights & Biases</a> (<a href=\"https://docs.wandb.com/integrations/jupyter.html\" target=\"_blank\">docs</a>).<br/>\n",
       "\n",
       "                "
      ],
      "text/plain": [
       "<IPython.core.display.HTML object>"
      ]
     },
     "metadata": {},
     "output_type": "display_data"
    },
    {
     "data": {
      "text/html": [
       "<br/>Waiting for W&B process to finish, PID 23084... <strong style=\"color:green\">(success).</strong>"
      ],
      "text/plain": [
       "<IPython.core.display.HTML object>"
      ]
     },
     "metadata": {},
     "output_type": "display_data"
    },
    {
     "data": {
      "application/vnd.jupyter.widget-view+json": {
       "model_id": "a3d1299717b3434bb471923913cfe3e6",
       "version_major": 2,
       "version_minor": 0
      },
      "text/plain": [
       "VBox(children=(Label(value=' 0.00MB of 0.00MB uploaded (0.00MB deduped)\\r'), FloatProgress(value=1.0, max=1.0)…"
      ]
     },
     "metadata": {},
     "output_type": "display_data"
    },
    {
     "data": {
      "text/html": [
       "<style>\n",
       "    table.wandb td:nth-child(1) { padding: 0 10px; text-align: right }\n",
       "    .wandb-row { display: flex; flex-direction: row; flex-wrap: wrap; width: 100% }\n",
       "    .wandb-col { display: flex; flex-direction: column; flex-basis: 100%; flex: 1; padding: 10px; }\n",
       "    </style>\n",
       "<div class=\"wandb-row\"><div class=\"wandb-col\">\n",
       "<h3>Run history:</h3><br/><table class=\"wandb\"><tr><td>average.meta validation accuracy</td><td>▁</td></tr><tr><td>average.meta validation balanced acc</td><td>▁</td></tr><tr><td>average.meta validation balanced adjusted accuracy</td><td>▁</td></tr></table><br/></div><div class=\"wandb-col\">\n",
       "<h3>Run summary:</h3><br/><table class=\"wandb\"><tr><td>average.meta validation accuracy</td><td>0.783</td></tr><tr><td>average.meta validation balanced acc</td><td>0.68167</td></tr><tr><td>average.meta validation balanced adjusted accuracy</td><td>0.36367</td></tr></table>\n",
       "</div></div>\n",
       "Synced 4 W&B file(s), 0 media file(s), 0 artifact file(s) and 0 other file(s)\n",
       "<br/>Synced <strong style=\"color:#cdcd00\">effortless-resonance-7</strong>: <a href=\"https://wandb.ai/awiedenroth/meta_averages/runs/2f9vveoh\" target=\"_blank\">https://wandb.ai/awiedenroth/meta_averages/runs/2f9vveoh</a><br/>\n",
       "Find logs at: <code>.\\wandb\\run-20220417_144352-2f9vveoh\\logs</code><br/>\n"
      ],
      "text/plain": [
       "<IPython.core.display.HTML object>"
      ]
     },
     "metadata": {},
     "output_type": "display_data"
    },
    {
     "name": "stderr",
     "output_type": "stream",
     "text": [
      "wandb: wandb version 0.12.14 is available!  To upgrade, please run:\n",
      "wandb:  $ pip install wandb --upgrade\n"
     ]
    },
    {
     "data": {
      "text/html": [
       "\n",
       "                    Syncing run <strong><a href=\"https://wandb.ai/awiedenroth/meta_averages/runs/2dym31se\" target=\"_blank\">spring-microwave-8</a></strong> to <a href=\"https://wandb.ai/awiedenroth/meta_averages\" target=\"_blank\">Weights & Biases</a> (<a href=\"https://docs.wandb.com/integrations/jupyter.html\" target=\"_blank\">docs</a>).<br/>\n",
       "\n",
       "                "
      ],
      "text/plain": [
       "<IPython.core.display.HTML object>"
      ]
     },
     "metadata": {},
     "output_type": "display_data"
    },
    {
     "data": {
      "text/html": [
       "<br/>Waiting for W&B process to finish, PID 5472... <strong style=\"color:green\">(success).</strong>"
      ],
      "text/plain": [
       "<IPython.core.display.HTML object>"
      ]
     },
     "metadata": {},
     "output_type": "display_data"
    },
    {
     "data": {
      "application/vnd.jupyter.widget-view+json": {
       "model_id": "34cb758d543448be9491f2e5337d2282",
       "version_major": 2,
       "version_minor": 0
      },
      "text/plain": [
       "VBox(children=(Label(value=' 0.00MB of 0.00MB uploaded (0.00MB deduped)\\r'), FloatProgress(value=1.0, max=1.0)…"
      ]
     },
     "metadata": {},
     "output_type": "display_data"
    },
    {
     "data": {
      "text/html": [
       "<style>\n",
       "    table.wandb td:nth-child(1) { padding: 0 10px; text-align: right }\n",
       "    .wandb-row { display: flex; flex-direction: row; flex-wrap: wrap; width: 100% }\n",
       "    .wandb-col { display: flex; flex-direction: column; flex-basis: 100%; flex: 1; padding: 10px; }\n",
       "    </style>\n",
       "<div class=\"wandb-row\"><div class=\"wandb-col\">\n",
       "<h3>Run history:</h3><br/><table class=\"wandb\"><tr><td>average.meta validation accuracy</td><td>▁</td></tr><tr><td>average.meta validation balanced acc</td><td>▁</td></tr><tr><td>average.meta validation balanced adjusted accuracy</td><td>▁</td></tr></table><br/></div><div class=\"wandb-col\">\n",
       "<h3>Run summary:</h3><br/><table class=\"wandb\"><tr><td>average.meta validation accuracy</td><td>0.54949</td></tr><tr><td>average.meta validation balanced acc</td><td>0.54641</td></tr><tr><td>average.meta validation balanced adjusted accuracy</td><td>0.45556</td></tr></table>\n",
       "</div></div>\n",
       "Synced 4 W&B file(s), 0 media file(s), 0 artifact file(s) and 0 other file(s)\n",
       "<br/>Synced <strong style=\"color:#cdcd00\">spring-microwave-8</strong>: <a href=\"https://wandb.ai/awiedenroth/meta_averages/runs/2dym31se\" target=\"_blank\">https://wandb.ai/awiedenroth/meta_averages/runs/2dym31se</a><br/>\n",
       "Find logs at: <code>.\\wandb\\run-20220417_144408-2dym31se\\logs</code><br/>\n"
      ],
      "text/plain": [
       "<IPython.core.display.HTML object>"
      ]
     },
     "metadata": {},
     "output_type": "display_data"
    },
    {
     "name": "stderr",
     "output_type": "stream",
     "text": [
      "wandb: wandb version 0.12.14 is available!  To upgrade, please run:\n",
      "wandb:  $ pip install wandb --upgrade\n"
     ]
    },
    {
     "data": {
      "text/html": [
       "\n",
       "                    Syncing run <strong><a href=\"https://wandb.ai/awiedenroth/meta_averages/runs/20tfus4t\" target=\"_blank\">lilac-night-9</a></strong> to <a href=\"https://wandb.ai/awiedenroth/meta_averages\" target=\"_blank\">Weights & Biases</a> (<a href=\"https://docs.wandb.com/integrations/jupyter.html\" target=\"_blank\">docs</a>).<br/>\n",
       "\n",
       "                "
      ],
      "text/plain": [
       "<IPython.core.display.HTML object>"
      ]
     },
     "metadata": {},
     "output_type": "display_data"
    },
    {
     "data": {
      "text/html": [
       "<br/>Waiting for W&B process to finish, PID 17092... <strong style=\"color:green\">(success).</strong>"
      ],
      "text/plain": [
       "<IPython.core.display.HTML object>"
      ]
     },
     "metadata": {},
     "output_type": "display_data"
    },
    {
     "data": {
      "application/vnd.jupyter.widget-view+json": {
       "model_id": "791ff9153d97444782455e4226542ccc",
       "version_major": 2,
       "version_minor": 0
      },
      "text/plain": [
       "VBox(children=(Label(value=' 0.00MB of 0.00MB uploaded (0.00MB deduped)\\r'), FloatProgress(value=1.0, max=1.0)…"
      ]
     },
     "metadata": {},
     "output_type": "display_data"
    },
    {
     "data": {
      "text/html": [
       "<style>\n",
       "    table.wandb td:nth-child(1) { padding: 0 10px; text-align: right }\n",
       "    .wandb-row { display: flex; flex-direction: row; flex-wrap: wrap; width: 100% }\n",
       "    .wandb-col { display: flex; flex-direction: column; flex-basis: 100%; flex: 1; padding: 10px; }\n",
       "    </style>\n",
       "<div class=\"wandb-row\"><div class=\"wandb-col\">\n",
       "<h3>Run history:</h3><br/><table class=\"wandb\"><tr><td>average.meta validation accuracy</td><td>▁</td></tr><tr><td>average.meta validation balanced acc</td><td>▁</td></tr><tr><td>average.meta validation balanced adjusted accuracy</td><td>▁</td></tr></table><br/></div><div class=\"wandb-col\">\n",
       "<h3>Run summary:</h3><br/><table class=\"wandb\"><tr><td>average.meta validation accuracy</td><td>0.783</td></tr><tr><td>average.meta validation balanced acc</td><td>0.71567</td></tr><tr><td>average.meta validation balanced adjusted accuracy</td><td>0.61833</td></tr></table>\n",
       "</div></div>\n",
       "Synced 4 W&B file(s), 0 media file(s), 0 artifact file(s) and 0 other file(s)\n",
       "<br/>Synced <strong style=\"color:#cdcd00\">lilac-night-9</strong>: <a href=\"https://wandb.ai/awiedenroth/meta_averages/runs/20tfus4t\" target=\"_blank\">https://wandb.ai/awiedenroth/meta_averages/runs/20tfus4t</a><br/>\n",
       "Find logs at: <code>.\\wandb\\run-20220417_144423-20tfus4t\\logs</code><br/>\n"
      ],
      "text/plain": [
       "<IPython.core.display.HTML object>"
      ]
     },
     "metadata": {},
     "output_type": "display_data"
    },
    {
     "name": "stderr",
     "output_type": "stream",
     "text": [
      "wandb: wandb version 0.12.14 is available!  To upgrade, please run:\n",
      "wandb:  $ pip install wandb --upgrade\n"
     ]
    },
    {
     "data": {
      "text/html": [
       "\n",
       "                    Syncing run <strong><a href=\"https://wandb.ai/awiedenroth/meta_averages/runs/170etixi\" target=\"_blank\">cerulean-spaceship-10</a></strong> to <a href=\"https://wandb.ai/awiedenroth/meta_averages\" target=\"_blank\">Weights & Biases</a> (<a href=\"https://docs.wandb.com/integrations/jupyter.html\" target=\"_blank\">docs</a>).<br/>\n",
       "\n",
       "                "
      ],
      "text/plain": [
       "<IPython.core.display.HTML object>"
      ]
     },
     "metadata": {},
     "output_type": "display_data"
    },
    {
     "data": {
      "text/html": [
       "<br/>Waiting for W&B process to finish, PID 2444... <strong style=\"color:green\">(success).</strong>"
      ],
      "text/plain": [
       "<IPython.core.display.HTML object>"
      ]
     },
     "metadata": {},
     "output_type": "display_data"
    },
    {
     "data": {
      "application/vnd.jupyter.widget-view+json": {
       "model_id": "f8609e192b9d4674975d78149d6dc4dc",
       "version_major": 2,
       "version_minor": 0
      },
      "text/plain": [
       "VBox(children=(Label(value=' 0.00MB of 0.00MB uploaded (0.00MB deduped)\\r'), FloatProgress(value=1.0, max=1.0)…"
      ]
     },
     "metadata": {},
     "output_type": "display_data"
    },
    {
     "data": {
      "text/html": [
       "<style>\n",
       "    table.wandb td:nth-child(1) { padding: 0 10px; text-align: right }\n",
       "    .wandb-row { display: flex; flex-direction: row; flex-wrap: wrap; width: 100% }\n",
       "    .wandb-col { display: flex; flex-direction: column; flex-basis: 100%; flex: 1; padding: 10px; }\n",
       "    </style>\n",
       "<div class=\"wandb-row\"><div class=\"wandb-col\">\n",
       "<h3>Run history:</h3><br/><table class=\"wandb\"><tr><td>average.meta validation accuracy</td><td>▁</td></tr><tr><td>average.meta validation balanced acc</td><td>▁</td></tr><tr><td>average.meta validation balanced adjusted accuracy</td><td>▁</td></tr></table><br/></div><div class=\"wandb-col\">\n",
       "<h3>Run summary:</h3><br/><table class=\"wandb\"><tr><td>average.meta validation accuracy</td><td>0.47567</td></tr><tr><td>average.meta validation balanced acc</td><td>0.37967</td></tr><tr><td>average.meta validation balanced adjusted accuracy</td><td>0.32333</td></tr></table>\n",
       "</div></div>\n",
       "Synced 4 W&B file(s), 0 media file(s), 0 artifact file(s) and 0 other file(s)\n",
       "<br/>Synced <strong style=\"color:#cdcd00\">cerulean-spaceship-10</strong>: <a href=\"https://wandb.ai/awiedenroth/meta_averages/runs/170etixi\" target=\"_blank\">https://wandb.ai/awiedenroth/meta_averages/runs/170etixi</a><br/>\n",
       "Find logs at: <code>.\\wandb\\run-20220417_144438-170etixi\\logs</code><br/>\n"
      ],
      "text/plain": [
       "<IPython.core.display.HTML object>"
      ]
     },
     "metadata": {},
     "output_type": "display_data"
    },
    {
     "name": "stderr",
     "output_type": "stream",
     "text": [
      "wandb: wandb version 0.12.14 is available!  To upgrade, please run:\n",
      "wandb:  $ pip install wandb --upgrade\n"
     ]
    },
    {
     "data": {
      "text/html": [
       "\n",
       "                    Syncing run <strong><a href=\"https://wandb.ai/awiedenroth/meta_averages/runs/29tjgnot\" target=\"_blank\">glorious-sun-11</a></strong> to <a href=\"https://wandb.ai/awiedenroth/meta_averages\" target=\"_blank\">Weights & Biases</a> (<a href=\"https://docs.wandb.com/integrations/jupyter.html\" target=\"_blank\">docs</a>).<br/>\n",
       "\n",
       "                "
      ],
      "text/plain": [
       "<IPython.core.display.HTML object>"
      ]
     },
     "metadata": {},
     "output_type": "display_data"
    },
    {
     "data": {
      "text/html": [
       "<br/>Waiting for W&B process to finish, PID 13956... <strong style=\"color:green\">(success).</strong>"
      ],
      "text/plain": [
       "<IPython.core.display.HTML object>"
      ]
     },
     "metadata": {},
     "output_type": "display_data"
    },
    {
     "data": {
      "application/vnd.jupyter.widget-view+json": {
       "model_id": "0e962a94b38f42cb80ca30ba401b3ac4",
       "version_major": 2,
       "version_minor": 0
      },
      "text/plain": [
       "VBox(children=(Label(value=' 0.00MB of 0.00MB uploaded (0.00MB deduped)\\r'), FloatProgress(value=1.0, max=1.0)…"
      ]
     },
     "metadata": {},
     "output_type": "display_data"
    },
    {
     "data": {
      "text/html": [
       "<style>\n",
       "    table.wandb td:nth-child(1) { padding: 0 10px; text-align: right }\n",
       "    .wandb-row { display: flex; flex-direction: row; flex-wrap: wrap; width: 100% }\n",
       "    .wandb-col { display: flex; flex-direction: column; flex-basis: 100%; flex: 1; padding: 10px; }\n",
       "    </style>\n",
       "<div class=\"wandb-row\"><div class=\"wandb-col\">\n",
       "<h3>Run history:</h3><br/><table class=\"wandb\"><tr><td>average.meta validation accuracy</td><td>▁</td></tr><tr><td>average.meta validation balanced acc</td><td>▁</td></tr><tr><td>average.meta validation balanced adjusted accuracy</td><td>▁</td></tr></table><br/></div><div class=\"wandb-col\">\n",
       "<h3>Run summary:</h3><br/><table class=\"wandb\"><tr><td>average.meta validation accuracy</td><td>0.78339</td></tr><tr><td>average.meta validation balanced acc</td><td>0.70532</td></tr><tr><td>average.meta validation balanced adjusted accuracy</td><td>0.41064</td></tr></table>\n",
       "</div></div>\n",
       "Synced 4 W&B file(s), 0 media file(s), 0 artifact file(s) and 0 other file(s)\n",
       "<br/>Synced <strong style=\"color:#cdcd00\">glorious-sun-11</strong>: <a href=\"https://wandb.ai/awiedenroth/meta_averages/runs/29tjgnot\" target=\"_blank\">https://wandb.ai/awiedenroth/meta_averages/runs/29tjgnot</a><br/>\n",
       "Find logs at: <code>.\\wandb\\run-20220417_144453-29tjgnot\\logs</code><br/>\n"
      ],
      "text/plain": [
       "<IPython.core.display.HTML object>"
      ]
     },
     "metadata": {},
     "output_type": "display_data"
    },
    {
     "name": "stderr",
     "output_type": "stream",
     "text": [
      "wandb: wandb version 0.12.14 is available!  To upgrade, please run:\n",
      "wandb:  $ pip install wandb --upgrade\n"
     ]
    },
    {
     "data": {
      "text/html": [
       "\n",
       "                    Syncing run <strong><a href=\"https://wandb.ai/awiedenroth/meta_averages/runs/375x797e\" target=\"_blank\">sleek-paper-12</a></strong> to <a href=\"https://wandb.ai/awiedenroth/meta_averages\" target=\"_blank\">Weights & Biases</a> (<a href=\"https://docs.wandb.com/integrations/jupyter.html\" target=\"_blank\">docs</a>).<br/>\n",
       "\n",
       "                "
      ],
      "text/plain": [
       "<IPython.core.display.HTML object>"
      ]
     },
     "metadata": {},
     "output_type": "display_data"
    },
    {
     "data": {
      "text/html": [
       "<br/>Waiting for W&B process to finish, PID 14920... <strong style=\"color:green\">(success).</strong>"
      ],
      "text/plain": [
       "<IPython.core.display.HTML object>"
      ]
     },
     "metadata": {},
     "output_type": "display_data"
    },
    {
     "data": {
      "application/vnd.jupyter.widget-view+json": {
       "model_id": "32e3dfb05d0d4abc84ada862fc7a87f5",
       "version_major": 2,
       "version_minor": 0
      },
      "text/plain": [
       "VBox(children=(Label(value=' 0.00MB of 0.00MB uploaded (0.00MB deduped)\\r'), FloatProgress(value=1.0, max=1.0)…"
      ]
     },
     "metadata": {},
     "output_type": "display_data"
    },
    {
     "data": {
      "text/html": [
       "<style>\n",
       "    table.wandb td:nth-child(1) { padding: 0 10px; text-align: right }\n",
       "    .wandb-row { display: flex; flex-direction: row; flex-wrap: wrap; width: 100% }\n",
       "    .wandb-col { display: flex; flex-direction: column; flex-basis: 100%; flex: 1; padding: 10px; }\n",
       "    </style>\n",
       "<div class=\"wandb-row\"><div class=\"wandb-col\">\n",
       "<h3>Run history:</h3><br/><table class=\"wandb\"><tr><td>average.meta validation accuracy</td><td>▁</td></tr><tr><td>average.meta validation balanced acc</td><td>▁</td></tr><tr><td>average.meta validation balanced adjusted accuracy</td><td>▁</td></tr></table><br/></div><div class=\"wandb-col\">\n",
       "<h3>Run summary:</h3><br/><table class=\"wandb\"><tr><td>average.meta validation accuracy</td><td>0.59284</td></tr><tr><td>average.meta validation balanced acc</td><td>0.59091</td></tr><tr><td>average.meta validation balanced adjusted accuracy</td><td>0.50896</td></tr></table>\n",
       "</div></div>\n",
       "Synced 4 W&B file(s), 0 media file(s), 0 artifact file(s) and 0 other file(s)\n",
       "<br/>Synced <strong style=\"color:#cdcd00\">sleek-paper-12</strong>: <a href=\"https://wandb.ai/awiedenroth/meta_averages/runs/375x797e\" target=\"_blank\">https://wandb.ai/awiedenroth/meta_averages/runs/375x797e</a><br/>\n",
       "Find logs at: <code>.\\wandb\\run-20220417_144508-375x797e\\logs</code><br/>\n"
      ],
      "text/plain": [
       "<IPython.core.display.HTML object>"
      ]
     },
     "metadata": {},
     "output_type": "display_data"
    },
    {
     "name": "stderr",
     "output_type": "stream",
     "text": [
      "wandb: wandb version 0.12.14 is available!  To upgrade, please run:\n",
      "wandb:  $ pip install wandb --upgrade\n"
     ]
    },
    {
     "data": {
      "text/html": [
       "\n",
       "                    Syncing run <strong><a href=\"https://wandb.ai/awiedenroth/meta_averages/runs/2qbd0bkm\" target=\"_blank\">lively-pond-13</a></strong> to <a href=\"https://wandb.ai/awiedenroth/meta_averages\" target=\"_blank\">Weights & Biases</a> (<a href=\"https://docs.wandb.com/integrations/jupyter.html\" target=\"_blank\">docs</a>).<br/>\n",
       "\n",
       "                "
      ],
      "text/plain": [
       "<IPython.core.display.HTML object>"
      ]
     },
     "metadata": {},
     "output_type": "display_data"
    },
    {
     "data": {
      "text/html": [
       "<br/>Waiting for W&B process to finish, PID 15384... <strong style=\"color:green\">(success).</strong>"
      ],
      "text/plain": [
       "<IPython.core.display.HTML object>"
      ]
     },
     "metadata": {},
     "output_type": "display_data"
    },
    {
     "data": {
      "application/vnd.jupyter.widget-view+json": {
       "model_id": "5cdd1c5c0b614f1cb093c76c4c484893",
       "version_major": 2,
       "version_minor": 0
      },
      "text/plain": [
       "VBox(children=(Label(value=' 0.00MB of 0.00MB uploaded (0.00MB deduped)\\r'), FloatProgress(value=1.0, max=1.0)…"
      ]
     },
     "metadata": {},
     "output_type": "display_data"
    },
    {
     "data": {
      "text/html": [
       "<style>\n",
       "    table.wandb td:nth-child(1) { padding: 0 10px; text-align: right }\n",
       "    .wandb-row { display: flex; flex-direction: row; flex-wrap: wrap; width: 100% }\n",
       "    .wandb-col { display: flex; flex-direction: column; flex-basis: 100%; flex: 1; padding: 10px; }\n",
       "    </style>\n",
       "<div class=\"wandb-row\"><div class=\"wandb-col\">\n",
       "<h3>Run history:</h3><br/><table class=\"wandb\"><tr><td>average.meta validation accuracy</td><td>▁</td></tr><tr><td>average.meta validation balanced acc</td><td>▁</td></tr><tr><td>average.meta validation balanced adjusted accuracy</td><td>▁</td></tr></table><br/></div><div class=\"wandb-col\">\n",
       "<h3>Run summary:</h3><br/><table class=\"wandb\"><tr><td>average.meta validation accuracy</td><td>0.79301</td></tr><tr><td>average.meta validation balanced acc</td><td>0.79045</td></tr><tr><td>average.meta validation balanced adjusted accuracy</td><td>0.71842</td></tr></table>\n",
       "</div></div>\n",
       "Synced 4 W&B file(s), 0 media file(s), 0 artifact file(s) and 0 other file(s)\n",
       "<br/>Synced <strong style=\"color:#cdcd00\">lively-pond-13</strong>: <a href=\"https://wandb.ai/awiedenroth/meta_averages/runs/2qbd0bkm\" target=\"_blank\">https://wandb.ai/awiedenroth/meta_averages/runs/2qbd0bkm</a><br/>\n",
       "Find logs at: <code>.\\wandb\\run-20220417_144524-2qbd0bkm\\logs</code><br/>\n"
      ],
      "text/plain": [
       "<IPython.core.display.HTML object>"
      ]
     },
     "metadata": {},
     "output_type": "display_data"
    },
    {
     "name": "stderr",
     "output_type": "stream",
     "text": [
      "wandb: wandb version 0.12.14 is available!  To upgrade, please run:\n",
      "wandb:  $ pip install wandb --upgrade\n"
     ]
    },
    {
     "data": {
      "text/html": [
       "\n",
       "                    Syncing run <strong><a href=\"https://wandb.ai/awiedenroth/meta_averages/runs/24tq1g4g\" target=\"_blank\">firm-breeze-14</a></strong> to <a href=\"https://wandb.ai/awiedenroth/meta_averages\" target=\"_blank\">Weights & Biases</a> (<a href=\"https://docs.wandb.com/integrations/jupyter.html\" target=\"_blank\">docs</a>).<br/>\n",
       "\n",
       "                "
      ],
      "text/plain": [
       "<IPython.core.display.HTML object>"
      ]
     },
     "metadata": {},
     "output_type": "display_data"
    },
    {
     "data": {
      "text/html": [
       "<br/>Waiting for W&B process to finish, PID 16792... <strong style=\"color:green\">(success).</strong>"
      ],
      "text/plain": [
       "<IPython.core.display.HTML object>"
      ]
     },
     "metadata": {},
     "output_type": "display_data"
    },
    {
     "data": {
      "application/vnd.jupyter.widget-view+json": {
       "model_id": "6a8e812a6cf24052a33c56b54cade439",
       "version_major": 2,
       "version_minor": 0
      },
      "text/plain": [
       "VBox(children=(Label(value=' 0.00MB of 0.00MB uploaded (0.00MB deduped)\\r'), FloatProgress(value=1.0, max=1.0)…"
      ]
     },
     "metadata": {},
     "output_type": "display_data"
    },
    {
     "data": {
      "text/html": [
       "<style>\n",
       "    table.wandb td:nth-child(1) { padding: 0 10px; text-align: right }\n",
       "    .wandb-row { display: flex; flex-direction: row; flex-wrap: wrap; width: 100% }\n",
       "    .wandb-col { display: flex; flex-direction: column; flex-basis: 100%; flex: 1; padding: 10px; }\n",
       "    </style>\n",
       "<div class=\"wandb-row\"><div class=\"wandb-col\">\n",
       "<h3>Run history:</h3><br/><table class=\"wandb\"><tr><td>average.meta validation accuracy</td><td>▁</td></tr><tr><td>average.meta validation balanced acc</td><td>▁</td></tr><tr><td>average.meta validation balanced adjusted accuracy</td><td>▁</td></tr></table><br/></div><div class=\"wandb-col\">\n",
       "<h3>Run summary:</h3><br/><table class=\"wandb\"><tr><td>average.meta validation accuracy</td><td>0.47929</td></tr><tr><td>average.meta validation balanced acc</td><td>0.38713</td></tr><tr><td>average.meta validation balanced adjusted accuracy</td><td>0.33142</td></tr></table>\n",
       "</div></div>\n",
       "Synced 4 W&B file(s), 0 media file(s), 0 artifact file(s) and 0 other file(s)\n",
       "<br/>Synced <strong style=\"color:#cdcd00\">firm-breeze-14</strong>: <a href=\"https://wandb.ai/awiedenroth/meta_averages/runs/24tq1g4g\" target=\"_blank\">https://wandb.ai/awiedenroth/meta_averages/runs/24tq1g4g</a><br/>\n",
       "Find logs at: <code>.\\wandb\\run-20220417_144540-24tq1g4g\\logs</code><br/>\n"
      ],
      "text/plain": [
       "<IPython.core.display.HTML object>"
      ]
     },
     "metadata": {},
     "output_type": "display_data"
    },
    {
     "name": "stderr",
     "output_type": "stream",
     "text": [
      "wandb: wandb version 0.12.14 is available!  To upgrade, please run:\n",
      "wandb:  $ pip install wandb --upgrade\n"
     ]
    },
    {
     "data": {
      "text/html": [
       "\n",
       "                    Syncing run <strong><a href=\"https://wandb.ai/awiedenroth/meta_averages/runs/3fe7i2x1\" target=\"_blank\">morning-tree-15</a></strong> to <a href=\"https://wandb.ai/awiedenroth/meta_averages\" target=\"_blank\">Weights & Biases</a> (<a href=\"https://docs.wandb.com/integrations/jupyter.html\" target=\"_blank\">docs</a>).<br/>\n",
       "\n",
       "                "
      ],
      "text/plain": [
       "<IPython.core.display.HTML object>"
      ]
     },
     "metadata": {},
     "output_type": "display_data"
    },
    {
     "data": {
      "text/html": [
       "<br/>Waiting for W&B process to finish, PID 19988... <strong style=\"color:green\">(success).</strong>"
      ],
      "text/plain": [
       "<IPython.core.display.HTML object>"
      ]
     },
     "metadata": {},
     "output_type": "display_data"
    },
    {
     "data": {
      "application/vnd.jupyter.widget-view+json": {
       "model_id": "27a4cdc336c44af0b82861a013b6a3ae",
       "version_major": 2,
       "version_minor": 0
      },
      "text/plain": [
       "VBox(children=(Label(value=' 0.00MB of 0.00MB uploaded (0.00MB deduped)\\r'), FloatProgress(value=1.0, max=1.0)…"
      ]
     },
     "metadata": {},
     "output_type": "display_data"
    },
    {
     "data": {
      "text/html": [
       "<style>\n",
       "    table.wandb td:nth-child(1) { padding: 0 10px; text-align: right }\n",
       "    .wandb-row { display: flex; flex-direction: row; flex-wrap: wrap; width: 100% }\n",
       "    .wandb-col { display: flex; flex-direction: column; flex-basis: 100%; flex: 1; padding: 10px; }\n",
       "    </style>\n",
       "<div class=\"wandb-row\"><div class=\"wandb-col\">\n",
       "<h3>Run history:</h3><br/><table class=\"wandb\"><tr><td>average.meta validation accuracy</td><td>▁</td></tr><tr><td>average.meta validation balanced acc</td><td>▁</td></tr><tr><td>average.meta validation balanced adjusted accuracy</td><td>▁</td></tr></table><br/></div><div class=\"wandb-col\">\n",
       "<h3>Run summary:</h3><br/><table class=\"wandb\"><tr><td>average.meta validation accuracy</td><td>0.80133</td></tr><tr><td>average.meta validation balanced acc</td><td>0.727</td></tr><tr><td>average.meta validation balanced adjusted accuracy</td><td>0.45367</td></tr></table>\n",
       "</div></div>\n",
       "Synced 4 W&B file(s), 0 media file(s), 0 artifact file(s) and 0 other file(s)\n",
       "<br/>Synced <strong style=\"color:#cdcd00\">morning-tree-15</strong>: <a href=\"https://wandb.ai/awiedenroth/meta_averages/runs/3fe7i2x1\" target=\"_blank\">https://wandb.ai/awiedenroth/meta_averages/runs/3fe7i2x1</a><br/>\n",
       "Find logs at: <code>.\\wandb\\run-20220417_144556-3fe7i2x1\\logs</code><br/>\n"
      ],
      "text/plain": [
       "<IPython.core.display.HTML object>"
      ]
     },
     "metadata": {},
     "output_type": "display_data"
    },
    {
     "name": "stderr",
     "output_type": "stream",
     "text": [
      "wandb: wandb version 0.12.14 is available!  To upgrade, please run:\n",
      "wandb:  $ pip install wandb --upgrade\n"
     ]
    },
    {
     "data": {
      "text/html": [
       "\n",
       "                    Syncing run <strong><a href=\"https://wandb.ai/awiedenroth/meta_averages/runs/1hsrok9y\" target=\"_blank\">unique-butterfly-16</a></strong> to <a href=\"https://wandb.ai/awiedenroth/meta_averages\" target=\"_blank\">Weights & Biases</a> (<a href=\"https://docs.wandb.com/integrations/jupyter.html\" target=\"_blank\">docs</a>).<br/>\n",
       "\n",
       "                "
      ],
      "text/plain": [
       "<IPython.core.display.HTML object>"
      ]
     },
     "metadata": {},
     "output_type": "display_data"
    },
    {
     "data": {
      "text/html": [
       "<br/>Waiting for W&B process to finish, PID 14624... <strong style=\"color:green\">(success).</strong>"
      ],
      "text/plain": [
       "<IPython.core.display.HTML object>"
      ]
     },
     "metadata": {},
     "output_type": "display_data"
    },
    {
     "data": {
      "application/vnd.jupyter.widget-view+json": {
       "model_id": "401271d9cb284cd0805238ed1726d111",
       "version_major": 2,
       "version_minor": 0
      },
      "text/plain": [
       "VBox(children=(Label(value=' 0.00MB of 0.00MB uploaded (0.00MB deduped)\\r'), FloatProgress(value=1.0, max=1.0)…"
      ]
     },
     "metadata": {},
     "output_type": "display_data"
    },
    {
     "data": {
      "text/html": [
       "<style>\n",
       "    table.wandb td:nth-child(1) { padding: 0 10px; text-align: right }\n",
       "    .wandb-row { display: flex; flex-direction: row; flex-wrap: wrap; width: 100% }\n",
       "    .wandb-col { display: flex; flex-direction: column; flex-basis: 100%; flex: 1; padding: 10px; }\n",
       "    </style>\n",
       "<div class=\"wandb-row\"><div class=\"wandb-col\">\n",
       "<h3>Run history:</h3><br/><table class=\"wandb\"><tr><td>average.meta validation accuracy</td><td>▁</td></tr><tr><td>average.meta validation balanced acc</td><td>▁</td></tr><tr><td>average.meta validation balanced adjusted accuracy</td><td>▁</td></tr></table><br/></div><div class=\"wandb-col\">\n",
       "<h3>Run summary:</h3><br/><table class=\"wandb\"><tr><td>average.meta validation accuracy</td><td>0.59433</td></tr><tr><td>average.meta validation balanced acc</td><td>0.596</td></tr><tr><td>average.meta validation balanced adjusted accuracy</td><td>0.515</td></tr></table>\n",
       "</div></div>\n",
       "Synced 4 W&B file(s), 0 media file(s), 0 artifact file(s) and 0 other file(s)\n",
       "<br/>Synced <strong style=\"color:#cdcd00\">unique-butterfly-16</strong>: <a href=\"https://wandb.ai/awiedenroth/meta_averages/runs/1hsrok9y\" target=\"_blank\">https://wandb.ai/awiedenroth/meta_averages/runs/1hsrok9y</a><br/>\n",
       "Find logs at: <code>.\\wandb\\run-20220417_144611-1hsrok9y\\logs</code><br/>\n"
      ],
      "text/plain": [
       "<IPython.core.display.HTML object>"
      ]
     },
     "metadata": {},
     "output_type": "display_data"
    },
    {
     "name": "stderr",
     "output_type": "stream",
     "text": [
      "wandb: wandb version 0.12.14 is available!  To upgrade, please run:\n",
      "wandb:  $ pip install wandb --upgrade\n"
     ]
    },
    {
     "data": {
      "text/html": [
       "\n",
       "                    Syncing run <strong><a href=\"https://wandb.ai/awiedenroth/meta_averages/runs/2g0yddwn\" target=\"_blank\">revived-cosmos-17</a></strong> to <a href=\"https://wandb.ai/awiedenroth/meta_averages\" target=\"_blank\">Weights & Biases</a> (<a href=\"https://docs.wandb.com/integrations/jupyter.html\" target=\"_blank\">docs</a>).<br/>\n",
       "\n",
       "                "
      ],
      "text/plain": [
       "<IPython.core.display.HTML object>"
      ]
     },
     "metadata": {},
     "output_type": "display_data"
    },
    {
     "data": {
      "text/html": [
       "<br/>Waiting for W&B process to finish, PID 22164... <strong style=\"color:green\">(success).</strong>"
      ],
      "text/plain": [
       "<IPython.core.display.HTML object>"
      ]
     },
     "metadata": {},
     "output_type": "display_data"
    },
    {
     "data": {
      "application/vnd.jupyter.widget-view+json": {
       "model_id": "6f62a8a1778243928610129686951f5d",
       "version_major": 2,
       "version_minor": 0
      },
      "text/plain": [
       "VBox(children=(Label(value=' 0.00MB of 0.00MB uploaded (0.00MB deduped)\\r'), FloatProgress(value=1.0, max=1.0)…"
      ]
     },
     "metadata": {},
     "output_type": "display_data"
    },
    {
     "data": {
      "text/html": [
       "<style>\n",
       "    table.wandb td:nth-child(1) { padding: 0 10px; text-align: right }\n",
       "    .wandb-row { display: flex; flex-direction: row; flex-wrap: wrap; width: 100% }\n",
       "    .wandb-col { display: flex; flex-direction: column; flex-basis: 100%; flex: 1; padding: 10px; }\n",
       "    </style>\n",
       "<div class=\"wandb-row\"><div class=\"wandb-col\">\n",
       "<h3>Run history:</h3><br/><table class=\"wandb\"><tr><td>average.meta validation accuracy</td><td>▁</td></tr><tr><td>average.meta validation balanced acc</td><td>▁</td></tr><tr><td>average.meta validation balanced adjusted accuracy</td><td>▁</td></tr></table><br/></div><div class=\"wandb-col\">\n",
       "<h3>Run summary:</h3><br/><table class=\"wandb\"><tr><td>average.meta validation accuracy</td><td>0.80463</td></tr><tr><td>average.meta validation balanced acc</td><td>0.82772</td></tr><tr><td>average.meta validation balanced adjusted accuracy</td><td>0.76826</td></tr></table>\n",
       "</div></div>\n",
       "Synced 4 W&B file(s), 0 media file(s), 0 artifact file(s) and 0 other file(s)\n",
       "<br/>Synced <strong style=\"color:#cdcd00\">revived-cosmos-17</strong>: <a href=\"https://wandb.ai/awiedenroth/meta_averages/runs/2g0yddwn\" target=\"_blank\">https://wandb.ai/awiedenroth/meta_averages/runs/2g0yddwn</a><br/>\n",
       "Find logs at: <code>.\\wandb\\run-20220417_144626-2g0yddwn\\logs</code><br/>\n"
      ],
      "text/plain": [
       "<IPython.core.display.HTML object>"
      ]
     },
     "metadata": {},
     "output_type": "display_data"
    },
    {
     "name": "stderr",
     "output_type": "stream",
     "text": [
      "wandb: wandb version 0.12.14 is available!  To upgrade, please run:\n",
      "wandb:  $ pip install wandb --upgrade\n"
     ]
    },
    {
     "data": {
      "text/html": [
       "\n",
       "                    Syncing run <strong><a href=\"https://wandb.ai/awiedenroth/meta_averages/runs/70x7w58e\" target=\"_blank\">efficient-surf-18</a></strong> to <a href=\"https://wandb.ai/awiedenroth/meta_averages\" target=\"_blank\">Weights & Biases</a> (<a href=\"https://docs.wandb.com/integrations/jupyter.html\" target=\"_blank\">docs</a>).<br/>\n",
       "\n",
       "                "
      ],
      "text/plain": [
       "<IPython.core.display.HTML object>"
      ]
     },
     "metadata": {},
     "output_type": "display_data"
    },
    {
     "data": {
      "text/html": [
       "<br/>Waiting for W&B process to finish, PID 2852... <strong style=\"color:green\">(success).</strong>"
      ],
      "text/plain": [
       "<IPython.core.display.HTML object>"
      ]
     },
     "metadata": {},
     "output_type": "display_data"
    },
    {
     "data": {
      "application/vnd.jupyter.widget-view+json": {
       "model_id": "c21907ecfac8464e8c923fd873ae1c2a",
       "version_major": 2,
       "version_minor": 0
      },
      "text/plain": [
       "VBox(children=(Label(value=' 0.00MB of 0.00MB uploaded (0.00MB deduped)\\r'), FloatProgress(value=1.0, max=1.0)…"
      ]
     },
     "metadata": {},
     "output_type": "display_data"
    },
    {
     "data": {
      "text/html": [
       "<style>\n",
       "    table.wandb td:nth-child(1) { padding: 0 10px; text-align: right }\n",
       "    .wandb-row { display: flex; flex-direction: row; flex-wrap: wrap; width: 100% }\n",
       "    .wandb-col { display: flex; flex-direction: column; flex-basis: 100%; flex: 1; padding: 10px; }\n",
       "    </style>\n",
       "<div class=\"wandb-row\"><div class=\"wandb-col\">\n",
       "<h3>Run history:</h3><br/><table class=\"wandb\"><tr><td>average.meta validation accuracy</td><td>▁</td></tr><tr><td>average.meta validation balanced acc</td><td>▁</td></tr><tr><td>average.meta validation balanced adjusted accuracy</td><td>▁</td></tr></table><br/></div><div class=\"wandb-col\">\n",
       "<h3>Run summary:</h3><br/><table class=\"wandb\"><tr><td>average.meta validation accuracy</td><td>0.50479</td></tr><tr><td>average.meta validation balanced acc</td><td>0.43365</td></tr><tr><td>average.meta validation balanced adjusted accuracy</td><td>0.38217</td></tr></table>\n",
       "</div></div>\n",
       "Synced 4 W&B file(s), 0 media file(s), 0 artifact file(s) and 0 other file(s)\n",
       "<br/>Synced <strong style=\"color:#cdcd00\">efficient-surf-18</strong>: <a href=\"https://wandb.ai/awiedenroth/meta_averages/runs/70x7w58e\" target=\"_blank\">https://wandb.ai/awiedenroth/meta_averages/runs/70x7w58e</a><br/>\n",
       "Find logs at: <code>.\\wandb\\run-20220417_144642-70x7w58e\\logs</code><br/>\n"
      ],
      "text/plain": [
       "<IPython.core.display.HTML object>"
      ]
     },
     "metadata": {},
     "output_type": "display_data"
    },
    {
     "name": "stderr",
     "output_type": "stream",
     "text": [
      "wandb: wandb version 0.12.14 is available!  To upgrade, please run:\n",
      "wandb:  $ pip install wandb --upgrade\n"
     ]
    },
    {
     "data": {
      "text/html": [
       "\n",
       "                    Syncing run <strong><a href=\"https://wandb.ai/awiedenroth/meta_averages/runs/si631n7h\" target=\"_blank\">genial-leaf-19</a></strong> to <a href=\"https://wandb.ai/awiedenroth/meta_averages\" target=\"_blank\">Weights & Biases</a> (<a href=\"https://docs.wandb.com/integrations/jupyter.html\" target=\"_blank\">docs</a>).<br/>\n",
       "\n",
       "                "
      ],
      "text/plain": [
       "<IPython.core.display.HTML object>"
      ]
     },
     "metadata": {},
     "output_type": "display_data"
    },
    {
     "data": {
      "text/html": [
       "<br/>Waiting for W&B process to finish, PID 18016... <strong style=\"color:green\">(success).</strong>"
      ],
      "text/plain": [
       "<IPython.core.display.HTML object>"
      ]
     },
     "metadata": {},
     "output_type": "display_data"
    },
    {
     "data": {
      "application/vnd.jupyter.widget-view+json": {
       "model_id": "27fff4e53c664e5cbcc61b8fa61558b4",
       "version_major": 2,
       "version_minor": 0
      },
      "text/plain": [
       "VBox(children=(Label(value=' 0.00MB of 0.00MB uploaded (0.00MB deduped)\\r'), FloatProgress(value=1.0, max=1.0)…"
      ]
     },
     "metadata": {},
     "output_type": "display_data"
    },
    {
     "data": {
      "text/html": [
       "<style>\n",
       "    table.wandb td:nth-child(1) { padding: 0 10px; text-align: right }\n",
       "    .wandb-row { display: flex; flex-direction: row; flex-wrap: wrap; width: 100% }\n",
       "    .wandb-col { display: flex; flex-direction: column; flex-basis: 100%; flex: 1; padding: 10px; }\n",
       "    </style>\n",
       "<div class=\"wandb-row\"><div class=\"wandb-col\">\n",
       "<h3>Run history:</h3><br/><table class=\"wandb\"><tr><td>average.meta validation accuracy</td><td>▁</td></tr><tr><td>average.meta validation balanced acc</td><td>▁</td></tr><tr><td>average.meta validation balanced adjusted accuracy</td><td>▁</td></tr></table><br/></div><div class=\"wandb-col\">\n",
       "<h3>Run summary:</h3><br/><table class=\"wandb\"><tr><td>average.meta validation accuracy</td><td>0.80923</td></tr><tr><td>average.meta validation balanced acc</td><td>0.74517</td></tr><tr><td>average.meta validation balanced adjusted accuracy</td><td>0.49034</td></tr></table>\n",
       "</div></div>\n",
       "Synced 4 W&B file(s), 0 media file(s), 0 artifact file(s) and 0 other file(s)\n",
       "<br/>Synced <strong style=\"color:#cdcd00\">genial-leaf-19</strong>: <a href=\"https://wandb.ai/awiedenroth/meta_averages/runs/si631n7h\" target=\"_blank\">https://wandb.ai/awiedenroth/meta_averages/runs/si631n7h</a><br/>\n",
       "Find logs at: <code>.\\wandb\\run-20220417_144657-si631n7h\\logs</code><br/>\n"
      ],
      "text/plain": [
       "<IPython.core.display.HTML object>"
      ]
     },
     "metadata": {},
     "output_type": "display_data"
    },
    {
     "name": "stderr",
     "output_type": "stream",
     "text": [
      "wandb: wandb version 0.12.14 is available!  To upgrade, please run:\n",
      "wandb:  $ pip install wandb --upgrade\n"
     ]
    },
    {
     "data": {
      "text/html": [
       "\n",
       "                    Syncing run <strong><a href=\"https://wandb.ai/awiedenroth/meta_averages/runs/cxp95qsn\" target=\"_blank\">stoic-pyramid-20</a></strong> to <a href=\"https://wandb.ai/awiedenroth/meta_averages\" target=\"_blank\">Weights & Biases</a> (<a href=\"https://docs.wandb.com/integrations/jupyter.html\" target=\"_blank\">docs</a>).<br/>\n",
       "\n",
       "                "
      ],
      "text/plain": [
       "<IPython.core.display.HTML object>"
      ]
     },
     "metadata": {},
     "output_type": "display_data"
    },
    {
     "data": {
      "text/html": [
       "<br/>Waiting for W&B process to finish, PID 17572... <strong style=\"color:green\">(success).</strong>"
      ],
      "text/plain": [
       "<IPython.core.display.HTML object>"
      ]
     },
     "metadata": {},
     "output_type": "display_data"
    },
    {
     "data": {
      "application/vnd.jupyter.widget-view+json": {
       "model_id": "12185122d6ba417cac0a4010eeea0e98",
       "version_major": 2,
       "version_minor": 0
      },
      "text/plain": [
       "VBox(children=(Label(value=' 0.00MB of 0.00MB uploaded (0.00MB deduped)\\r'), FloatProgress(value=1.0, max=1.0)…"
      ]
     },
     "metadata": {},
     "output_type": "display_data"
    },
    {
     "data": {
      "text/html": [
       "<style>\n",
       "    table.wandb td:nth-child(1) { padding: 0 10px; text-align: right }\n",
       "    .wandb-row { display: flex; flex-direction: row; flex-wrap: wrap; width: 100% }\n",
       "    .wandb-col { display: flex; flex-direction: column; flex-basis: 100%; flex: 1; padding: 10px; }\n",
       "    </style>\n",
       "<div class=\"wandb-row\"><div class=\"wandb-col\">\n",
       "<h3>Run history:</h3><br/><table class=\"wandb\"><tr><td>average.meta validation accuracy</td><td>▁</td></tr><tr><td>average.meta validation balanced acc</td><td>▁</td></tr><tr><td>average.meta validation balanced adjusted accuracy</td><td>▁</td></tr></table><br/></div><div class=\"wandb-col\">\n",
       "<h3>Run summary:</h3><br/><table class=\"wandb\"><tr><td>average.meta validation accuracy</td><td>0.61666</td></tr><tr><td>average.meta validation balanced acc</td><td>0.61591</td></tr><tr><td>average.meta validation balanced adjusted accuracy</td><td>0.53909</td></tr></table>\n",
       "</div></div>\n",
       "Synced 4 W&B file(s), 0 media file(s), 0 artifact file(s) and 0 other file(s)\n",
       "<br/>Synced <strong style=\"color:#cdcd00\">stoic-pyramid-20</strong>: <a href=\"https://wandb.ai/awiedenroth/meta_averages/runs/cxp95qsn\" target=\"_blank\">https://wandb.ai/awiedenroth/meta_averages/runs/cxp95qsn</a><br/>\n",
       "Find logs at: <code>.\\wandb\\run-20220417_144712-cxp95qsn\\logs</code><br/>\n"
      ],
      "text/plain": [
       "<IPython.core.display.HTML object>"
      ]
     },
     "metadata": {},
     "output_type": "display_data"
    },
    {
     "name": "stderr",
     "output_type": "stream",
     "text": [
      "wandb: wandb version 0.12.14 is available!  To upgrade, please run:\n",
      "wandb:  $ pip install wandb --upgrade\n"
     ]
    },
    {
     "data": {
      "text/html": [
       "\n",
       "                    Syncing run <strong><a href=\"https://wandb.ai/awiedenroth/meta_averages/runs/zrqwvw32\" target=\"_blank\">crisp-sea-21</a></strong> to <a href=\"https://wandb.ai/awiedenroth/meta_averages\" target=\"_blank\">Weights & Biases</a> (<a href=\"https://docs.wandb.com/integrations/jupyter.html\" target=\"_blank\">docs</a>).<br/>\n",
       "\n",
       "                "
      ],
      "text/plain": [
       "<IPython.core.display.HTML object>"
      ]
     },
     "metadata": {},
     "output_type": "display_data"
    },
    {
     "data": {
      "text/html": [
       "<br/>Waiting for W&B process to finish, PID 6436... <strong style=\"color:green\">(success).</strong>"
      ],
      "text/plain": [
       "<IPython.core.display.HTML object>"
      ]
     },
     "metadata": {},
     "output_type": "display_data"
    },
    {
     "data": {
      "application/vnd.jupyter.widget-view+json": {
       "model_id": "ba582cf54ea0491693680697df090d11",
       "version_major": 2,
       "version_minor": 0
      },
      "text/plain": [
       "VBox(children=(Label(value=' 0.00MB of 0.00MB uploaded (0.00MB deduped)\\r'), FloatProgress(value=1.0, max=1.0)…"
      ]
     },
     "metadata": {},
     "output_type": "display_data"
    },
    {
     "data": {
      "text/html": [
       "<style>\n",
       "    table.wandb td:nth-child(1) { padding: 0 10px; text-align: right }\n",
       "    .wandb-row { display: flex; flex-direction: row; flex-wrap: wrap; width: 100% }\n",
       "    .wandb-col { display: flex; flex-direction: column; flex-basis: 100%; flex: 1; padding: 10px; }\n",
       "    </style>\n",
       "<div class=\"wandb-row\"><div class=\"wandb-col\">\n",
       "<h3>Run history:</h3><br/><table class=\"wandb\"><tr><td>average.meta validation accuracy</td><td>▁</td></tr><tr><td>average.meta validation balanced acc</td><td>▁</td></tr><tr><td>average.meta validation balanced adjusted accuracy</td><td>▁</td></tr></table><br/></div><div class=\"wandb-col\">\n",
       "<h3>Run summary:</h3><br/><table class=\"wandb\"><tr><td>average.meta validation accuracy</td><td>0.82525</td></tr><tr><td>average.meta validation balanced acc</td><td>0.85615</td></tr><tr><td>average.meta validation balanced adjusted accuracy</td><td>0.80686</td></tr></table>\n",
       "</div></div>\n",
       "Synced 4 W&B file(s), 0 media file(s), 0 artifact file(s) and 0 other file(s)\n",
       "<br/>Synced <strong style=\"color:#cdcd00\">crisp-sea-21</strong>: <a href=\"https://wandb.ai/awiedenroth/meta_averages/runs/zrqwvw32\" target=\"_blank\">https://wandb.ai/awiedenroth/meta_averages/runs/zrqwvw32</a><br/>\n",
       "Find logs at: <code>.\\wandb\\run-20220417_144728-zrqwvw32\\logs</code><br/>\n"
      ],
      "text/plain": [
       "<IPython.core.display.HTML object>"
      ]
     },
     "metadata": {},
     "output_type": "display_data"
    },
    {
     "name": "stderr",
     "output_type": "stream",
     "text": [
      "wandb: wandb version 0.12.14 is available!  To upgrade, please run:\n",
      "wandb:  $ pip install wandb --upgrade\n"
     ]
    },
    {
     "data": {
      "text/html": [
       "\n",
       "                    Syncing run <strong><a href=\"https://wandb.ai/awiedenroth/meta_averages/runs/2swany51\" target=\"_blank\">scarlet-spaceship-22</a></strong> to <a href=\"https://wandb.ai/awiedenroth/meta_averages\" target=\"_blank\">Weights & Biases</a> (<a href=\"https://docs.wandb.com/integrations/jupyter.html\" target=\"_blank\">docs</a>).<br/>\n",
       "\n",
       "                "
      ],
      "text/plain": [
       "<IPython.core.display.HTML object>"
      ]
     },
     "metadata": {},
     "output_type": "display_data"
    },
    {
     "data": {
      "text/html": [
       "<br/>Waiting for W&B process to finish, PID 8268... <strong style=\"color:green\">(success).</strong>"
      ],
      "text/plain": [
       "<IPython.core.display.HTML object>"
      ]
     },
     "metadata": {},
     "output_type": "display_data"
    },
    {
     "data": {
      "application/vnd.jupyter.widget-view+json": {
       "model_id": "fbe7ac5eb2a34bf4a1821a674c2d5b72",
       "version_major": 2,
       "version_minor": 0
      },
      "text/plain": [
       "VBox(children=(Label(value=' 0.00MB of 0.00MB uploaded (0.00MB deduped)\\r'), FloatProgress(value=1.0, max=1.0)…"
      ]
     },
     "metadata": {},
     "output_type": "display_data"
    },
    {
     "data": {
      "text/html": [
       "<style>\n",
       "    table.wandb td:nth-child(1) { padding: 0 10px; text-align: right }\n",
       "    .wandb-row { display: flex; flex-direction: row; flex-wrap: wrap; width: 100% }\n",
       "    .wandb-col { display: flex; flex-direction: column; flex-basis: 100%; flex: 1; padding: 10px; }\n",
       "    </style>\n",
       "<div class=\"wandb-row\"><div class=\"wandb-col\">\n",
       "<h3>Run history:</h3><br/><table class=\"wandb\"><tr><td>average.meta validation accuracy</td><td>▁</td></tr><tr><td>average.meta validation balanced acc</td><td>▁</td></tr><tr><td>average.meta validation balanced adjusted accuracy</td><td>▁</td></tr></table><br/></div><div class=\"wandb-col\">\n",
       "<h3>Run summary:</h3><br/><table class=\"wandb\"><tr><td>average.meta validation accuracy</td><td>0.51132</td></tr><tr><td>average.meta validation balanced acc</td><td>0.43931</td></tr><tr><td>average.meta validation balanced adjusted accuracy</td><td>0.38809</td></tr></table>\n",
       "</div></div>\n",
       "Synced 4 W&B file(s), 0 media file(s), 0 artifact file(s) and 0 other file(s)\n",
       "<br/>Synced <strong style=\"color:#cdcd00\">scarlet-spaceship-22</strong>: <a href=\"https://wandb.ai/awiedenroth/meta_averages/runs/2swany51\" target=\"_blank\">https://wandb.ai/awiedenroth/meta_averages/runs/2swany51</a><br/>\n",
       "Find logs at: <code>.\\wandb\\run-20220417_144744-2swany51\\logs</code><br/>\n"
      ],
      "text/plain": [
       "<IPython.core.display.HTML object>"
      ]
     },
     "metadata": {},
     "output_type": "display_data"
    },
    {
     "name": "stderr",
     "output_type": "stream",
     "text": [
      "wandb: wandb version 0.12.14 is available!  To upgrade, please run:\n",
      "wandb:  $ pip install wandb --upgrade\n"
     ]
    },
    {
     "data": {
      "text/html": [
       "\n",
       "                    Syncing run <strong><a href=\"https://wandb.ai/awiedenroth/meta_averages/runs/hmvyp4i7\" target=\"_blank\">ancient-sea-23</a></strong> to <a href=\"https://wandb.ai/awiedenroth/meta_averages\" target=\"_blank\">Weights & Biases</a> (<a href=\"https://docs.wandb.com/integrations/jupyter.html\" target=\"_blank\">docs</a>).<br/>\n",
       "\n",
       "                "
      ],
      "text/plain": [
       "<IPython.core.display.HTML object>"
      ]
     },
     "metadata": {},
     "output_type": "display_data"
    },
    {
     "data": {
      "text/html": [
       "<br/>Waiting for W&B process to finish, PID 16768... <strong style=\"color:green\">(success).</strong>"
      ],
      "text/plain": [
       "<IPython.core.display.HTML object>"
      ]
     },
     "metadata": {},
     "output_type": "display_data"
    },
    {
     "data": {
      "application/vnd.jupyter.widget-view+json": {
       "model_id": "1725bd4ac4264640a332fabab5827143",
       "version_major": 2,
       "version_minor": 0
      },
      "text/plain": [
       "VBox(children=(Label(value=' 0.00MB of 0.00MB uploaded (0.00MB deduped)\\r'), FloatProgress(value=1.0, max=1.0)…"
      ]
     },
     "metadata": {},
     "output_type": "display_data"
    },
    {
     "data": {
      "text/html": [
       "<style>\n",
       "    table.wandb td:nth-child(1) { padding: 0 10px; text-align: right }\n",
       "    .wandb-row { display: flex; flex-direction: row; flex-wrap: wrap; width: 100% }\n",
       "    .wandb-col { display: flex; flex-direction: column; flex-basis: 100%; flex: 1; padding: 10px; }\n",
       "    </style>\n",
       "<div class=\"wandb-row\"><div class=\"wandb-col\">\n",
       "<h3>Run history:</h3><br/><table class=\"wandb\"><tr><td>average.meta validation accuracy</td><td>▁</td></tr><tr><td>average.meta validation balanced acc</td><td>▁</td></tr><tr><td>average.meta validation balanced adjusted accuracy</td><td>▁</td></tr></table><br/></div><div class=\"wandb-col\">\n",
       "<h3>Run summary:</h3><br/><table class=\"wandb\"><tr><td>average.meta validation accuracy</td><td>0.82923</td></tr><tr><td>average.meta validation balanced acc</td><td>0.77423</td></tr><tr><td>average.meta validation balanced adjusted accuracy</td><td>0.54846</td></tr></table>\n",
       "</div></div>\n",
       "Synced 4 W&B file(s), 0 media file(s), 0 artifact file(s) and 0 other file(s)\n",
       "<br/>Synced <strong style=\"color:#cdcd00\">ancient-sea-23</strong>: <a href=\"https://wandb.ai/awiedenroth/meta_averages/runs/hmvyp4i7\" target=\"_blank\">https://wandb.ai/awiedenroth/meta_averages/runs/hmvyp4i7</a><br/>\n",
       "Find logs at: <code>.\\wandb\\run-20220417_144800-hmvyp4i7\\logs</code><br/>\n"
      ],
      "text/plain": [
       "<IPython.core.display.HTML object>"
      ]
     },
     "metadata": {},
     "output_type": "display_data"
    },
    {
     "name": "stderr",
     "output_type": "stream",
     "text": [
      "wandb: wandb version 0.12.14 is available!  To upgrade, please run:\n",
      "wandb:  $ pip install wandb --upgrade\n"
     ]
    },
    {
     "data": {
      "text/html": [
       "\n",
       "                    Syncing run <strong><a href=\"https://wandb.ai/awiedenroth/meta_averages/runs/d1wi72kf\" target=\"_blank\">sparkling-pond-24</a></strong> to <a href=\"https://wandb.ai/awiedenroth/meta_averages\" target=\"_blank\">Weights & Biases</a> (<a href=\"https://docs.wandb.com/integrations/jupyter.html\" target=\"_blank\">docs</a>).<br/>\n",
       "\n",
       "                "
      ],
      "text/plain": [
       "<IPython.core.display.HTML object>"
      ]
     },
     "metadata": {},
     "output_type": "display_data"
    },
    {
     "data": {
      "text/html": [
       "<br/>Waiting for W&B process to finish, PID 568... <strong style=\"color:green\">(success).</strong>"
      ],
      "text/plain": [
       "<IPython.core.display.HTML object>"
      ]
     },
     "metadata": {},
     "output_type": "display_data"
    },
    {
     "data": {
      "application/vnd.jupyter.widget-view+json": {
       "model_id": "991cdfaa5bd747c98d111d95966e306f",
       "version_major": 2,
       "version_minor": 0
      },
      "text/plain": [
       "VBox(children=(Label(value=' 0.00MB of 0.00MB uploaded (0.00MB deduped)\\r'), FloatProgress(value=1.0, max=1.0)…"
      ]
     },
     "metadata": {},
     "output_type": "display_data"
    },
    {
     "data": {
      "text/html": [
       "<style>\n",
       "    table.wandb td:nth-child(1) { padding: 0 10px; text-align: right }\n",
       "    .wandb-row { display: flex; flex-direction: row; flex-wrap: wrap; width: 100% }\n",
       "    .wandb-col { display: flex; flex-direction: column; flex-basis: 100%; flex: 1; padding: 10px; }\n",
       "    </style>\n",
       "<div class=\"wandb-row\"><div class=\"wandb-col\">\n",
       "<h3>Run history:</h3><br/><table class=\"wandb\"><tr><td>average.meta validation accuracy</td><td>▁</td></tr><tr><td>average.meta validation balanced acc</td><td>▁</td></tr><tr><td>average.meta validation balanced adjusted accuracy</td><td>▁</td></tr></table><br/></div><div class=\"wandb-col\">\n",
       "<h3>Run summary:</h3><br/><table class=\"wandb\"><tr><td>average.meta validation accuracy</td><td>0.62333</td></tr><tr><td>average.meta validation balanced acc</td><td>0.62294</td></tr><tr><td>average.meta validation balanced adjusted accuracy</td><td>0.54739</td></tr></table>\n",
       "</div></div>\n",
       "Synced 4 W&B file(s), 0 media file(s), 0 artifact file(s) and 0 other file(s)\n",
       "<br/>Synced <strong style=\"color:#cdcd00\">sparkling-pond-24</strong>: <a href=\"https://wandb.ai/awiedenroth/meta_averages/runs/d1wi72kf\" target=\"_blank\">https://wandb.ai/awiedenroth/meta_averages/runs/d1wi72kf</a><br/>\n",
       "Find logs at: <code>.\\wandb\\run-20220417_144815-d1wi72kf\\logs</code><br/>\n"
      ],
      "text/plain": [
       "<IPython.core.display.HTML object>"
      ]
     },
     "metadata": {},
     "output_type": "display_data"
    }
   ],
   "source": [
    "a = df.groupby([\"meta_model\",\"meta_zusatzdaten\", \"oesch\", \"selbstständige\"], \n",
    "              as_index= False)[[\"average.meta validation accuracy\", \"average.meta validation balanced acc\", \"average.meta validation balanced adjusted accuracy\"\n",
    "                               ]].mean().to_dict(orient= \"index\")\n",
    "\n",
    "config = [\"meta_model\",\"meta_zusatzdaten\", \"oesch\", \"selbstständige\"]\n",
    "results = [\"average.meta validation accuracy\", \"average.meta validation balanced acc\", \"average.meta validation balanced adjusted accuracy\"]\n",
    "    \n",
    "\n",
    "for x,y in a.items():\n",
    "    \n",
    "    conf={}\n",
    "    metr={}\n",
    "    for k,v in y.items():\n",
    "        if k in config:\n",
    "            conf[k] = v\n",
    "        if k in results:\n",
    "            metr[k] = v\n",
    "    run = wandb.init(project=\"meta_averages\", entity=\"awiedenroth\", config=conf)\n",
    "    wandb.log(metr)\n",
    "    run.finish()\n",
    "    #print(conf)\n",
    "    #print(metr)\n"
   ]
  }
 ],
 "metadata": {
  "kernelspec": {
   "display_name": "Python 3",
   "language": "python",
   "name": "python3"
  },
  "language_info": {
   "codemirror_mode": {
    "name": "ipython",
    "version": 3
   },
   "file_extension": ".py",
   "mimetype": "text/x-python",
   "name": "python",
   "nbconvert_exporter": "python",
   "pygments_lexer": "ipython3",
   "version": "3.8.5"
  }
 },
 "nbformat": 4,
 "nbformat_minor": 4
}
